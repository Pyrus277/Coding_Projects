{
 "cells": [
  {
   "cell_type": "markdown",
   "id": "d4c96ed1-7bb6-4470-bb30-d7ea002ae8c7",
   "metadata": {},
   "source": [
    "test\n",
    "Perry Fox 2023-12-13  \n",
    "https://platform.stratascratch.com/data-projects/insights-city-supply-and-demand-data\n",
    "# Project - Insights from City Supply and Demand Data\n",
    "  \n",
    "## Data Description\n",
    "`datasets/` contains a single CSV file of rideshare data with the following seven columns:  \n",
    "- `Date` - date in format dd-mm-yy   \n",
    "- `Time (Local)` - hour of day 0-23  \n",
    "- `Eyeballs` - Number of users who opened the Uber app  \n",
    "- `Zeroes` - Number of users who did not see any car  \n",
    "- `Requests` - Number of users who requested a car  \n",
    "- `Completed Trips` - Number of users who completed a trip  \n",
    "- `Unique Drivers` - Number of drivers who logged in\n",
    "\n",
    "## Objective\n",
    "Using the data files:\n",
    "\n",
    "- [text](#anchor)"
   ]
  },
  {
   "cell_type": "markdown",
   "id": "ebce147c-6bd9-4673-a95e-8c83ed843123",
   "metadata": {},
   "source": [
    "---"
   ]
  },
  {
   "cell_type": "markdown",
   "id": "dc0294e7-f1a2-4038-8f2a-9e8613e3b754",
   "metadata": {},
   "source": [
    "### Import and examine the data:"
   ]
  },
  {
   "cell_type": "code",
   "execution_count": 1,
   "id": "3f8a848b-e280-4370-a4f9-e7a7cde4c994",
   "metadata": {},
   "outputs": [],
   "source": [
    "import pandas as pd\n",
    "import numpy as np\n",
    "import matplotlib.pyplot as plt\n",
    "import seaborn as sns"
   ]
  },
  {
   "cell_type": "code",
   "execution_count": 2,
   "id": "d20d4c59-5468-4aa6-b091-26c907d1e517",
   "metadata": {},
   "outputs": [
    {
     "data": {
      "text/html": [
       "<div>\n",
       "<style scoped>\n",
       "    .dataframe tbody tr th:only-of-type {\n",
       "        vertical-align: middle;\n",
       "    }\n",
       "\n",
       "    .dataframe tbody tr th {\n",
       "        vertical-align: top;\n",
       "    }\n",
       "\n",
       "    .dataframe thead th {\n",
       "        text-align: right;\n",
       "    }\n",
       "</style>\n",
       "<table border=\"1\" class=\"dataframe\">\n",
       "  <thead>\n",
       "    <tr style=\"text-align: right;\">\n",
       "      <th></th>\n",
       "      <th>Date</th>\n",
       "      <th>Time (Local)</th>\n",
       "      <th>Eyeballs</th>\n",
       "      <th>Zeroes</th>\n",
       "      <th>Completed Trips</th>\n",
       "      <th>Requests</th>\n",
       "      <th>Unique Drivers</th>\n",
       "    </tr>\n",
       "  </thead>\n",
       "  <tbody>\n",
       "    <tr>\n",
       "      <th>0</th>\n",
       "      <td>10-Sep-12</td>\n",
       "      <td>7</td>\n",
       "      <td>5</td>\n",
       "      <td>0</td>\n",
       "      <td>2</td>\n",
       "      <td>2</td>\n",
       "      <td>9</td>\n",
       "    </tr>\n",
       "    <tr>\n",
       "      <th>1</th>\n",
       "      <td>NaN</td>\n",
       "      <td>8</td>\n",
       "      <td>6</td>\n",
       "      <td>0</td>\n",
       "      <td>2</td>\n",
       "      <td>2</td>\n",
       "      <td>14</td>\n",
       "    </tr>\n",
       "    <tr>\n",
       "      <th>2</th>\n",
       "      <td>NaN</td>\n",
       "      <td>9</td>\n",
       "      <td>8</td>\n",
       "      <td>3</td>\n",
       "      <td>0</td>\n",
       "      <td>0</td>\n",
       "      <td>14</td>\n",
       "    </tr>\n",
       "    <tr>\n",
       "      <th>3</th>\n",
       "      <td>NaN</td>\n",
       "      <td>10</td>\n",
       "      <td>9</td>\n",
       "      <td>2</td>\n",
       "      <td>0</td>\n",
       "      <td>1</td>\n",
       "      <td>14</td>\n",
       "    </tr>\n",
       "    <tr>\n",
       "      <th>4</th>\n",
       "      <td>NaN</td>\n",
       "      <td>11</td>\n",
       "      <td>11</td>\n",
       "      <td>1</td>\n",
       "      <td>4</td>\n",
       "      <td>4</td>\n",
       "      <td>11</td>\n",
       "    </tr>\n",
       "    <tr>\n",
       "      <th>5</th>\n",
       "      <td>NaN</td>\n",
       "      <td>12</td>\n",
       "      <td>12</td>\n",
       "      <td>0</td>\n",
       "      <td>2</td>\n",
       "      <td>2</td>\n",
       "      <td>11</td>\n",
       "    </tr>\n",
       "    <tr>\n",
       "      <th>6</th>\n",
       "      <td>NaN</td>\n",
       "      <td>13</td>\n",
       "      <td>9</td>\n",
       "      <td>1</td>\n",
       "      <td>0</td>\n",
       "      <td>0</td>\n",
       "      <td>9</td>\n",
       "    </tr>\n",
       "    <tr>\n",
       "      <th>7</th>\n",
       "      <td>NaN</td>\n",
       "      <td>14</td>\n",
       "      <td>12</td>\n",
       "      <td>1</td>\n",
       "      <td>0</td>\n",
       "      <td>0</td>\n",
       "      <td>9</td>\n",
       "    </tr>\n",
       "    <tr>\n",
       "      <th>8</th>\n",
       "      <td>NaN</td>\n",
       "      <td>15</td>\n",
       "      <td>11</td>\n",
       "      <td>2</td>\n",
       "      <td>1</td>\n",
       "      <td>2</td>\n",
       "      <td>7</td>\n",
       "    </tr>\n",
       "    <tr>\n",
       "      <th>9</th>\n",
       "      <td>NaN</td>\n",
       "      <td>16</td>\n",
       "      <td>11</td>\n",
       "      <td>2</td>\n",
       "      <td>3</td>\n",
       "      <td>4</td>\n",
       "      <td>6</td>\n",
       "    </tr>\n",
       "    <tr>\n",
       "      <th>10</th>\n",
       "      <td>NaN</td>\n",
       "      <td>17</td>\n",
       "      <td>12</td>\n",
       "      <td>2</td>\n",
       "      <td>3</td>\n",
       "      <td>4</td>\n",
       "      <td>4</td>\n",
       "    </tr>\n",
       "    <tr>\n",
       "      <th>11</th>\n",
       "      <td>NaN</td>\n",
       "      <td>18</td>\n",
       "      <td>11</td>\n",
       "      <td>1</td>\n",
       "      <td>3</td>\n",
       "      <td>4</td>\n",
       "      <td>7</td>\n",
       "    </tr>\n",
       "    <tr>\n",
       "      <th>12</th>\n",
       "      <td>NaN</td>\n",
       "      <td>19</td>\n",
       "      <td>13</td>\n",
       "      <td>2</td>\n",
       "      <td>2</td>\n",
       "      <td>3</td>\n",
       "      <td>7</td>\n",
       "    </tr>\n",
       "    <tr>\n",
       "      <th>13</th>\n",
       "      <td>NaN</td>\n",
       "      <td>20</td>\n",
       "      <td>11</td>\n",
       "      <td>1</td>\n",
       "      <td>0</td>\n",
       "      <td>0</td>\n",
       "      <td>5</td>\n",
       "    </tr>\n",
       "    <tr>\n",
       "      <th>14</th>\n",
       "      <td>NaN</td>\n",
       "      <td>21</td>\n",
       "      <td>11</td>\n",
       "      <td>0</td>\n",
       "      <td>1</td>\n",
       "      <td>1</td>\n",
       "      <td>3</td>\n",
       "    </tr>\n",
       "    <tr>\n",
       "      <th>15</th>\n",
       "      <td>NaN</td>\n",
       "      <td>22</td>\n",
       "      <td>16</td>\n",
       "      <td>3</td>\n",
       "      <td>0</td>\n",
       "      <td>2</td>\n",
       "      <td>4</td>\n",
       "    </tr>\n",
       "    <tr>\n",
       "      <th>16</th>\n",
       "      <td>NaN</td>\n",
       "      <td>23</td>\n",
       "      <td>21</td>\n",
       "      <td>5</td>\n",
       "      <td>3</td>\n",
       "      <td>3</td>\n",
       "      <td>4</td>\n",
       "    </tr>\n",
       "    <tr>\n",
       "      <th>17</th>\n",
       "      <td>11-Sep-12</td>\n",
       "      <td>0</td>\n",
       "      <td>9</td>\n",
       "      <td>3</td>\n",
       "      <td>1</td>\n",
       "      <td>1</td>\n",
       "      <td>3</td>\n",
       "    </tr>\n",
       "    <tr>\n",
       "      <th>18</th>\n",
       "      <td>NaN</td>\n",
       "      <td>1</td>\n",
       "      <td>3</td>\n",
       "      <td>2</td>\n",
       "      <td>0</td>\n",
       "      <td>1</td>\n",
       "      <td>3</td>\n",
       "    </tr>\n",
       "    <tr>\n",
       "      <th>19</th>\n",
       "      <td>NaN</td>\n",
       "      <td>2</td>\n",
       "      <td>1</td>\n",
       "      <td>1</td>\n",
       "      <td>0</td>\n",
       "      <td>0</td>\n",
       "      <td>1</td>\n",
       "    </tr>\n",
       "  </tbody>\n",
       "</table>\n",
       "</div>"
      ],
      "text/plain": [
       "         Date  Time (Local)  Eyeballs   Zeroes   Completed Trips   Requests   \\\n",
       "0   10-Sep-12             7          5        0                 2          2   \n",
       "1         NaN             8          6        0                 2          2   \n",
       "2         NaN             9          8        3                 0          0   \n",
       "3         NaN            10          9        2                 0          1   \n",
       "4         NaN            11         11        1                 4          4   \n",
       "5         NaN            12         12        0                 2          2   \n",
       "6         NaN            13          9        1                 0          0   \n",
       "7         NaN            14         12        1                 0          0   \n",
       "8         NaN            15         11        2                 1          2   \n",
       "9         NaN            16         11        2                 3          4   \n",
       "10        NaN            17         12        2                 3          4   \n",
       "11        NaN            18         11        1                 3          4   \n",
       "12        NaN            19         13        2                 2          3   \n",
       "13        NaN            20         11        1                 0          0   \n",
       "14        NaN            21         11        0                 1          1   \n",
       "15        NaN            22         16        3                 0          2   \n",
       "16        NaN            23         21        5                 3          3   \n",
       "17  11-Sep-12             0          9        3                 1          1   \n",
       "18        NaN             1          3        2                 0          1   \n",
       "19        NaN             2          1        1                 0          0   \n",
       "\n",
       "    Unique Drivers  \n",
       "0                9  \n",
       "1               14  \n",
       "2               14  \n",
       "3               14  \n",
       "4               11  \n",
       "5               11  \n",
       "6                9  \n",
       "7                9  \n",
       "8                7  \n",
       "9                6  \n",
       "10               4  \n",
       "11               7  \n",
       "12               7  \n",
       "13               5  \n",
       "14               3  \n",
       "15               4  \n",
       "16               4  \n",
       "17               3  \n",
       "18               3  \n",
       "19               1  "
      ]
     },
     "execution_count": 2,
     "metadata": {},
     "output_type": "execute_result"
    }
   ],
   "source": [
    "# What are we working with?\n",
    "activity_df = pd.read_csv('datasets/dataset_1.csv')\n",
    "activity_df.head(20)"
   ]
  },
  {
   "cell_type": "code",
   "execution_count": 3,
   "id": "77b54dec-9f85-4fa4-89a4-6efdeb93ff63",
   "metadata": {},
   "outputs": [
    {
     "name": "stdout",
     "output_type": "stream",
     "text": [
      "<class 'pandas.core.frame.DataFrame'>\n",
      "RangeIndex: 336 entries, 0 to 335\n",
      "Data columns (total 7 columns):\n",
      " #   Column            Non-Null Count  Dtype \n",
      "---  ------            --------------  ----- \n",
      " 0   Date              15 non-null     object\n",
      " 1   Time (Local)      336 non-null    int64 \n",
      " 2   Eyeballs          336 non-null    int64 \n",
      " 3   Zeroes            336 non-null    int64 \n",
      " 4   Completed Trips   336 non-null    int64 \n",
      " 5   Requests          336 non-null    int64 \n",
      " 6   Unique Drivers    336 non-null    int64 \n",
      "dtypes: int64(6), object(1)\n",
      "memory usage: 18.5+ KB\n"
     ]
    }
   ],
   "source": [
    "activity_df.info()"
   ]
  },
  {
   "cell_type": "markdown",
   "id": "03a7e745-ec96-47a1-9364-318530720988",
   "metadata": {},
   "source": [
    "It looks like only the first row for a given day contains a value in the `Date` column. There are no other nulls that we have to deal with.  \n",
    "We'll forward fill the date, adjust the formatting, and set it as the index for easier datetime operations.  \n",
    "(Note for following cell: '%b' = Month's abbreviated name.) "
   ]
  },
  {
   "cell_type": "code",
   "execution_count": 4,
   "id": "738a5b58-8c09-4b6b-939e-dbb535540c1b",
   "metadata": {},
   "outputs": [
    {
     "data": {
      "text/html": [
       "<div>\n",
       "<style scoped>\n",
       "    .dataframe tbody tr th:only-of-type {\n",
       "        vertical-align: middle;\n",
       "    }\n",
       "\n",
       "    .dataframe tbody tr th {\n",
       "        vertical-align: top;\n",
       "    }\n",
       "\n",
       "    .dataframe thead th {\n",
       "        text-align: right;\n",
       "    }\n",
       "</style>\n",
       "<table border=\"1\" class=\"dataframe\">\n",
       "  <thead>\n",
       "    <tr style=\"text-align: right;\">\n",
       "      <th></th>\n",
       "      <th>Time(Local)</th>\n",
       "      <th>Eyeballs</th>\n",
       "      <th>Zeroes</th>\n",
       "      <th>CompletedTrips</th>\n",
       "      <th>Requests</th>\n",
       "      <th>UniqueDrivers</th>\n",
       "    </tr>\n",
       "    <tr>\n",
       "      <th>Date</th>\n",
       "      <th></th>\n",
       "      <th></th>\n",
       "      <th></th>\n",
       "      <th></th>\n",
       "      <th></th>\n",
       "      <th></th>\n",
       "    </tr>\n",
       "  </thead>\n",
       "  <tbody>\n",
       "    <tr>\n",
       "      <th>2012-09-10</th>\n",
       "      <td>7</td>\n",
       "      <td>5</td>\n",
       "      <td>0</td>\n",
       "      <td>2</td>\n",
       "      <td>2</td>\n",
       "      <td>9</td>\n",
       "    </tr>\n",
       "    <tr>\n",
       "      <th>2012-09-10</th>\n",
       "      <td>8</td>\n",
       "      <td>6</td>\n",
       "      <td>0</td>\n",
       "      <td>2</td>\n",
       "      <td>2</td>\n",
       "      <td>14</td>\n",
       "    </tr>\n",
       "    <tr>\n",
       "      <th>2012-09-10</th>\n",
       "      <td>9</td>\n",
       "      <td>8</td>\n",
       "      <td>3</td>\n",
       "      <td>0</td>\n",
       "      <td>0</td>\n",
       "      <td>14</td>\n",
       "    </tr>\n",
       "    <tr>\n",
       "      <th>2012-09-10</th>\n",
       "      <td>10</td>\n",
       "      <td>9</td>\n",
       "      <td>2</td>\n",
       "      <td>0</td>\n",
       "      <td>1</td>\n",
       "      <td>14</td>\n",
       "    </tr>\n",
       "    <tr>\n",
       "      <th>2012-09-10</th>\n",
       "      <td>11</td>\n",
       "      <td>11</td>\n",
       "      <td>1</td>\n",
       "      <td>4</td>\n",
       "      <td>4</td>\n",
       "      <td>11</td>\n",
       "    </tr>\n",
       "  </tbody>\n",
       "</table>\n",
       "</div>"
      ],
      "text/plain": [
       "            Time(Local)  Eyeballs  Zeroes  CompletedTrips  Requests  \\\n",
       "Date                                                                  \n",
       "2012-09-10            7         5       0               2         2   \n",
       "2012-09-10            8         6       0               2         2   \n",
       "2012-09-10            9         8       3               0         0   \n",
       "2012-09-10           10         9       2               0         1   \n",
       "2012-09-10           11        11       1               4         4   \n",
       "\n",
       "            UniqueDrivers  \n",
       "Date                       \n",
       "2012-09-10              9  \n",
       "2012-09-10             14  \n",
       "2012-09-10             14  \n",
       "2012-09-10             14  \n",
       "2012-09-10             11  "
      ]
     },
     "execution_count": 4,
     "metadata": {},
     "output_type": "execute_result"
    }
   ],
   "source": [
    "# forward fill the empty date rows\n",
    "activity_df = activity_df.ffill()\n",
    "# adjust date formatting, set as the index:\n",
    "activity_df['Date'] = pd.to_datetime(activity_df['Date'], format='%d-%b-%y')\n",
    "activity_df.set_index('Date', inplace=True)\n",
    "# get rid of column header whitespace\n",
    "activity_df.columns = activity_df.columns.str.replace(' ', '')\n",
    "activity_df.head()"
   ]
  },
  {
   "cell_type": "markdown",
   "id": "955f76ad-d557-45a4-92d0-f14a4ecf7cbc",
   "metadata": {},
   "source": [
    "Rock and roll. Now that that's set up, what else is going on with this data?"
   ]
  },
  {
   "cell_type": "code",
   "execution_count": 5,
   "id": "197036ff-736b-42dc-b309-088b14f988ae",
   "metadata": {},
   "outputs": [
    {
     "name": "stdout",
     "output_type": "stream",
     "text": [
      "Date Range 2012-09-10 00:00:00 to 2012-09-24 00:00:00.\n"
     ]
    }
   ],
   "source": [
    "print(f'Date Range {activity_df.index.min()} to {activity_df.index.max()}.')"
   ]
  },
  {
   "cell_type": "code",
   "execution_count": 6,
   "id": "3cf146c3-b4b0-4fd0-9258-97d93819b2c6",
   "metadata": {},
   "outputs": [
    {
     "data": {
      "text/html": [
       "<div>\n",
       "<style scoped>\n",
       "    .dataframe tbody tr th:only-of-type {\n",
       "        vertical-align: middle;\n",
       "    }\n",
       "\n",
       "    .dataframe tbody tr th {\n",
       "        vertical-align: top;\n",
       "    }\n",
       "\n",
       "    .dataframe thead th {\n",
       "        text-align: right;\n",
       "    }\n",
       "</style>\n",
       "<table border=\"1\" class=\"dataframe\">\n",
       "  <thead>\n",
       "    <tr style=\"text-align: right;\">\n",
       "      <th></th>\n",
       "      <th>Time(Local)</th>\n",
       "      <th>Eyeballs</th>\n",
       "      <th>Zeroes</th>\n",
       "      <th>CompletedTrips</th>\n",
       "      <th>Requests</th>\n",
       "      <th>UniqueDrivers</th>\n",
       "    </tr>\n",
       "  </thead>\n",
       "  <tbody>\n",
       "    <tr>\n",
       "      <th>count</th>\n",
       "      <td>336.00000</td>\n",
       "      <td>336.000000</td>\n",
       "      <td>336.000000</td>\n",
       "      <td>336.000000</td>\n",
       "      <td>336.000000</td>\n",
       "      <td>336.000000</td>\n",
       "    </tr>\n",
       "    <tr>\n",
       "      <th>mean</th>\n",
       "      <td>11.50000</td>\n",
       "      <td>19.901786</td>\n",
       "      <td>4.252976</td>\n",
       "      <td>4.062500</td>\n",
       "      <td>5.529762</td>\n",
       "      <td>7.895833</td>\n",
       "    </tr>\n",
       "    <tr>\n",
       "      <th>std</th>\n",
       "      <td>6.93251</td>\n",
       "      <td>16.902862</td>\n",
       "      <td>5.795391</td>\n",
       "      <td>5.672581</td>\n",
       "      <td>7.399416</td>\n",
       "      <td>5.884296</td>\n",
       "    </tr>\n",
       "    <tr>\n",
       "      <th>min</th>\n",
       "      <td>0.00000</td>\n",
       "      <td>0.000000</td>\n",
       "      <td>0.000000</td>\n",
       "      <td>0.000000</td>\n",
       "      <td>0.000000</td>\n",
       "      <td>0.000000</td>\n",
       "    </tr>\n",
       "    <tr>\n",
       "      <th>25%</th>\n",
       "      <td>5.75000</td>\n",
       "      <td>9.000000</td>\n",
       "      <td>1.000000</td>\n",
       "      <td>0.000000</td>\n",
       "      <td>1.000000</td>\n",
       "      <td>3.000000</td>\n",
       "    </tr>\n",
       "    <tr>\n",
       "      <th>50%</th>\n",
       "      <td>11.50000</td>\n",
       "      <td>17.000000</td>\n",
       "      <td>3.000000</td>\n",
       "      <td>2.000000</td>\n",
       "      <td>3.000000</td>\n",
       "      <td>8.000000</td>\n",
       "    </tr>\n",
       "    <tr>\n",
       "      <th>75%</th>\n",
       "      <td>17.25000</td>\n",
       "      <td>25.000000</td>\n",
       "      <td>5.000000</td>\n",
       "      <td>5.000000</td>\n",
       "      <td>6.250000</td>\n",
       "      <td>11.000000</td>\n",
       "    </tr>\n",
       "    <tr>\n",
       "      <th>max</th>\n",
       "      <td>23.00000</td>\n",
       "      <td>99.000000</td>\n",
       "      <td>59.000000</td>\n",
       "      <td>36.000000</td>\n",
       "      <td>46.000000</td>\n",
       "      <td>30.000000</td>\n",
       "    </tr>\n",
       "  </tbody>\n",
       "</table>\n",
       "</div>"
      ],
      "text/plain": [
       "       Time(Local)    Eyeballs      Zeroes  CompletedTrips    Requests  \\\n",
       "count    336.00000  336.000000  336.000000      336.000000  336.000000   \n",
       "mean      11.50000   19.901786    4.252976        4.062500    5.529762   \n",
       "std        6.93251   16.902862    5.795391        5.672581    7.399416   \n",
       "min        0.00000    0.000000    0.000000        0.000000    0.000000   \n",
       "25%        5.75000    9.000000    1.000000        0.000000    1.000000   \n",
       "50%       11.50000   17.000000    3.000000        2.000000    3.000000   \n",
       "75%       17.25000   25.000000    5.000000        5.000000    6.250000   \n",
       "max       23.00000   99.000000   59.000000       36.000000   46.000000   \n",
       "\n",
       "       UniqueDrivers  \n",
       "count     336.000000  \n",
       "mean        7.895833  \n",
       "std         5.884296  \n",
       "min         0.000000  \n",
       "25%         3.000000  \n",
       "50%         8.000000  \n",
       "75%        11.000000  \n",
       "max        30.000000  "
      ]
     },
     "execution_count": 6,
     "metadata": {},
     "output_type": "execute_result"
    }
   ],
   "source": [
    "activity_df.describe()"
   ]
  },
  {
   "cell_type": "markdown",
   "id": "49629d0e-096c-4103-bb02-62608d74fc89",
   "metadata": {},
   "source": [
    "We're dealing with a time period of 15 days, and those numeric distributions above are good to be aware of.  \n",
    "I noticed above that the first day starts on its 7th hour, and the second on 0, so I'm curious..."
   ]
  },
  {
   "cell_type": "code",
   "execution_count": 7,
   "id": "19bbe3d5-3758-498f-b940-b2793e05b41c",
   "metadata": {},
   "outputs": [
    {
     "data": {
      "text/plain": [
       "Date\n",
       "10    17\n",
       "11    24\n",
       "12    24\n",
       "13    24\n",
       "14    24\n",
       "15    24\n",
       "16    24\n",
       "17    24\n",
       "18    24\n",
       "19    24\n",
       "20    24\n",
       "21    24\n",
       "22    24\n",
       "23    24\n",
       "24     7\n",
       "Name: Time(Local), dtype: int64"
      ]
     },
     "execution_count": 7,
     "metadata": {},
     "output_type": "execute_result"
    }
   ],
   "source": [
    "# count records by date number\n",
    "activity_df.groupby(activity_df.index.day).count()['Time(Local)']"
   ]
  },
  {
   "cell_type": "markdown",
   "id": "5a20bc31-4722-4c4e-a302-8d05e4942469",
   "metadata": {},
   "source": [
    "Ok, so the first and last days on record are partial."
   ]
  },
  {
   "cell_type": "markdown",
   "id": "e5695621-5e49-48ea-a859-249ab0dda0d2",
   "metadata": {},
   "source": [
    "---"
   ]
  },
  {
   "cell_type": "markdown",
   "id": "b47fef95-d19d-49db-a0e2-ba75584f9c21",
   "metadata": {},
   "source": [
    "### Data Analysis \n",
    "#### 1. Which date had the most completed trips during the two week period?"
   ]
  },
  {
   "cell_type": "code",
   "execution_count": 8,
   "id": "1827fd8e-a035-42b3-8e6f-b7bf7187941e",
   "metadata": {},
   "outputs": [
    {
     "data": {
      "text/plain": [
       "Date\n",
       "2012-09-22    248\n",
       "2012-09-15    199\n",
       "2012-09-21    190\n",
       "2012-09-23    111\n",
       "2012-09-14    108\n",
       "Name: CompletedTrips, dtype: int64"
      ]
     },
     "execution_count": 8,
     "metadata": {},
     "output_type": "execute_result"
    }
   ],
   "source": [
    "# get the top five for added context:\n",
    "activity_df.groupby('Date').sum() \\\n",
    " .CompletedTrips.sort_values(ascending=False).head()"
   ]
  },
  {
   "cell_type": "markdown",
   "id": "bbaeb68c-6e11-41fb-95f2-0915d35d4ec5",
   "metadata": {},
   "source": [
    "September 22nd, 2012 had the most completed trips with 248. "
   ]
  },
  {
   "cell_type": "markdown",
   "id": "3866a490-5f4c-4a55-b4de-fdabd622bab4",
   "metadata": {},
   "source": [
    "---"
   ]
  },
  {
   "cell_type": "markdown",
   "id": "6d413315-30b7-4db6-90d1-5d6ca3d55567",
   "metadata": {},
   "source": [
    "#### 2. What was the highest number of completed trips within a 24 hour period?\n",
    "Approach: use the Time(Local) field to turn the Date index into a timestamp, which will then make it easy to do a 24h rolling sum."
   ]
  },
  {
   "cell_type": "code",
   "execution_count": 9,
   "id": "c7ad5671-d4c9-4f60-91b0-cd5bb150249f",
   "metadata": {},
   "outputs": [],
   "source": [
    "# add the hour part to the datetime index (and we'll just keep it like this.)\n",
    "activity_df.index = \\\n",
    "    activity_df.index + pd.to_timedelta(activity_df['Time(Local)'], unit='h')"
   ]
  },
  {
   "cell_type": "code",
   "execution_count": 10,
   "id": "dcbcacbd-45c6-4a47-b77e-8ecc332fb2bb",
   "metadata": {},
   "outputs": [
    {
     "data": {
      "text/html": [
       "<div>\n",
       "<style scoped>\n",
       "    .dataframe tbody tr th:only-of-type {\n",
       "        vertical-align: middle;\n",
       "    }\n",
       "\n",
       "    .dataframe tbody tr th {\n",
       "        vertical-align: top;\n",
       "    }\n",
       "\n",
       "    .dataframe thead th {\n",
       "        text-align: right;\n",
       "    }\n",
       "</style>\n",
       "<table border=\"1\" class=\"dataframe\">\n",
       "  <thead>\n",
       "    <tr style=\"text-align: right;\">\n",
       "      <th></th>\n",
       "      <th>Time(Local)</th>\n",
       "      <th>Eyeballs</th>\n",
       "      <th>Zeroes</th>\n",
       "      <th>CompletedTrips</th>\n",
       "      <th>Requests</th>\n",
       "      <th>UniqueDrivers</th>\n",
       "    </tr>\n",
       "  </thead>\n",
       "  <tbody>\n",
       "    <tr>\n",
       "      <th>2012-09-10 07:00:00</th>\n",
       "      <td>7</td>\n",
       "      <td>5</td>\n",
       "      <td>0</td>\n",
       "      <td>2</td>\n",
       "      <td>2</td>\n",
       "      <td>9</td>\n",
       "    </tr>\n",
       "    <tr>\n",
       "      <th>2012-09-10 08:00:00</th>\n",
       "      <td>8</td>\n",
       "      <td>6</td>\n",
       "      <td>0</td>\n",
       "      <td>2</td>\n",
       "      <td>2</td>\n",
       "      <td>14</td>\n",
       "    </tr>\n",
       "  </tbody>\n",
       "</table>\n",
       "</div>"
      ],
      "text/plain": [
       "                     Time(Local)  Eyeballs  Zeroes  CompletedTrips  Requests  \\\n",
       "2012-09-10 07:00:00            7         5       0               2         2   \n",
       "2012-09-10 08:00:00            8         6       0               2         2   \n",
       "\n",
       "                     UniqueDrivers  \n",
       "2012-09-10 07:00:00              9  \n",
       "2012-09-10 08:00:00             14  "
      ]
     },
     "execution_count": 10,
     "metadata": {},
     "output_type": "execute_result"
    }
   ],
   "source": [
    "# sanity check\n",
    "activity_df.head(2)"
   ]
  },
  {
   "cell_type": "code",
   "execution_count": 11,
   "id": "2d90bd38-66d7-42bf-a7bd-cc55cfb60bfe",
   "metadata": {},
   "outputs": [
    {
     "data": {
      "text/plain": [
       "2012-09-22 16:00:00    278.0\n",
       "2012-09-22 15:00:00    274.0\n",
       "2012-09-22 19:00:00    261.0\n",
       "2012-09-22 14:00:00    260.0\n",
       "2012-09-22 17:00:00    260.0\n",
       "Name: CompletedTrips, dtype: float64"
      ]
     },
     "execution_count": 11,
     "metadata": {},
     "output_type": "execute_result"
    }
   ],
   "source": [
    "# again, get the top 5 for context\n",
    "activity_df['CompletedTrips'].rolling(window='24H').sum() \\\n",
    "    .nlargest(5)"
   ]
  },
  {
   "cell_type": "markdown",
   "id": "7ad05ac5-b5c4-421d-bae2-e9e260e65e8a",
   "metadata": {},
   "source": [
    "Here we can see of all the 24 hour periods, the one ending at 4pm on September 22nd had the highest number of completed trips at 278. "
   ]
  },
  {
   "cell_type": "markdown",
   "id": "6d6b4b84-2751-4c8f-ab34-39d606a416fa",
   "metadata": {},
   "source": [
    "---"
   ]
  },
  {
   "cell_type": "markdown",
   "id": "7f9d5f92-2eae-46a0-9b36-bb37499e9b5f",
   "metadata": {},
   "source": [
    "#### 3. Which hour of the day had the most requests during the two week period?"
   ]
  },
  {
   "cell_type": "code",
   "execution_count": 12,
   "id": "414ec589-3a04-4d92-bc7b-613ab03ce375",
   "metadata": {},
   "outputs": [
    {
     "data": {
      "text/plain": [
       "Time(Local)\n",
       "23    184\n",
       "22    174\n",
       "19    156\n",
       "0     142\n",
       "18    119\n",
       "Name: Requests, dtype: int64"
      ]
     },
     "execution_count": 12,
     "metadata": {},
     "output_type": "execute_result"
    }
   ],
   "source": [
    "activity_df.groupby('Time(Local)') \\\n",
    "    ['Requests'].sum().nlargest(5)"
   ]
  },
  {
   "cell_type": "markdown",
   "id": "2f1cab87-6c1c-4fcc-94b3-e68271315c94",
   "metadata": {},
   "source": [
    "11pm had the most requests during this period. That makes sense."
   ]
  },
  {
   "cell_type": "markdown",
   "id": "b1f710dc-3d0a-49b9-926b-a0afdf0055c2",
   "metadata": {},
   "source": [
    "#### What percentages of all zeroes during the two week period occurred on weekend (Friday at 5 pm to Sunday at 3 am)? Tip: The local time value is the start of the hour (e.g. 15 is the hour from 3:00pm - 4:00pm)"
   ]
  },
  {
   "cell_type": "markdown",
   "id": "97768660-a47f-4a38-967b-98429dc2aaff",
   "metadata": {},
   "source": [
    "friday Time(Local) 3 to sunday Time(local) 3"
   ]
  },
  {
   "cell_type": "code",
   "execution_count": 13,
   "id": "c0c7ce5c-1215-4443-a8f2-658b60a3e8ab",
   "metadata": {},
   "outputs": [],
   "source": [
    "# Create a boolean mask that isolates the weekends\n",
    "#     index.dayofweek returns an int, where monday == 0 \n",
    "weekend_mask = (\n",
    "    ((activity_df.index.dayofweek == 4) & (activity_df['Time(Local)'] >= 17)) |\n",
    "    (activity_df.index.dayofweek == 5) |\n",
    "    ((activity_df.index.dayofweek == 6) & (activity_df['Time(Local)'] < 3))\n",
    ")"
   ]
  },
  {
   "cell_type": "code",
   "execution_count": 14,
   "id": "1114619b-ebff-42df-9d02-b7caf8c247d4",
   "metadata": {},
   "outputs": [
    {
     "data": {
      "text/plain": [
       "0.4486"
      ]
     },
     "execution_count": 14,
     "metadata": {},
     "output_type": "execute_result"
    }
   ],
   "source": [
    "round( activity_df[weekend_mask].Zeroes.sum() / activity_df.Zeroes.sum(), 4)"
   ]
  },
  {
   "cell_type": "markdown",
   "id": "74a94067-9e40-47f5-92d3-bb396ce568d5",
   "metadata": {},
   "source": [
    "44.86% of all zeroes occur on the weekend hours."
   ]
  },
  {
   "cell_type": "markdown",
   "id": "675afaea-95f6-4066-b18b-df2e56e6ace8",
   "metadata": {},
   "source": [
    "---"
   ]
  },
  {
   "cell_type": "markdown",
   "id": "7008874e-7a16-48fb-8fc8-f958e36a25f3",
   "metadata": {},
   "source": [
    "#### 5. What is the weighted average ratio of completed trips per driver during the two week period? Tip: \"Weighted average\" means your answer should account for the total trip volume in each hour to determine the most accurate number in whole period."
   ]
  },
  {
   "cell_type": "markdown",
   "id": "0e6304fd-dfda-43f5-bd4a-7905a9cb2e76",
   "metadata": {},
   "source": [
    "We are looking for a single number: 0.828...  \n",
    "The regular average is 0.474..."
   ]
  },
  {
   "cell_type": "code",
   "execution_count": 15,
   "id": "06d2b978-f786-4adc-813f-db079b4430d3",
   "metadata": {},
   "outputs": [
    {
     "data": {
      "text/plain": [
       "0.47433978769378704"
      ]
     },
     "execution_count": 15,
     "metadata": {},
     "output_type": "execute_result"
    }
   ],
   "source": [
    "# Here's the non-weighted mean as kind of an intermediate sanity check.\n",
    "#     A 0 in only the UniqueDrivers column will result in an inf when doing the mean calc.\n",
    "#     A 0 in both CompletedTrips and UniqueDrivers will result in a Null, so we deal with these\n",
    "(activity_df.CompletedTrips/activity_df.UniqueDrivers)\\\n",
    "    .replace([np.inf, -np.inf], np.nan).dropna().mean()"
   ]
  },
  {
   "cell_type": "code",
   "execution_count": 16,
   "id": "e5fa5979-4780-4ab8-a6e4-6ff4480f7142",
   "metadata": {},
   "outputs": [],
   "source": [
    "# put the ratio in the original df\n",
    "activity_df['driver_complete_trip_ratio'] = \\\n",
    "    (activity_df.CompletedTrips/activity_df.UniqueDrivers)"
   ]
  },
  {
   "cell_type": "code",
   "execution_count": 17,
   "id": "53a89813-4450-489d-bf10-cd5828c5e0c5",
   "metadata": {},
   "outputs": [],
   "source": [
    "# get rid of nonzero unique driver rows to avoid nans and infs\n",
    "activity_df_uds = activity_df[activity_df['UniqueDrivers'] > 0]"
   ]
  },
  {
   "cell_type": "code",
   "execution_count": 18,
   "id": "bcad274a-3366-41a1-9f79-7eac1c614a11",
   "metadata": {},
   "outputs": [
    {
     "data": {
      "text/plain": [
       "0.8282775715092395"
      ]
     },
     "execution_count": 18,
     "metadata": {},
     "output_type": "execute_result"
    }
   ],
   "source": [
    "# use numpy to easily apply the weights\n",
    "np.average(activity_df_uds['driver_complete_trip_ratio'], \n",
    "           weights=activity_df_uds['CompletedTrips'])"
   ]
  },
  {
   "cell_type": "markdown",
   "id": "ceeb1443-f964-4c28-9218-d136288b8628",
   "metadata": {},
   "source": [
    "The weighted average ratio of completed trips in this period is 0.828"
   ]
  },
  {
   "cell_type": "code",
   "execution_count": 19,
   "id": "0ef91383-8b7e-4a57-812e-6b1cfa919708",
   "metadata": {},
   "outputs": [],
   "source": [
    "# refresh the activity dataframe\n",
    "activity_df.drop('driver_complete_trip_ratio', axis=1, inplace=True)"
   ]
  },
  {
   "cell_type": "markdown",
   "id": "796cddec-c51c-4f47-b410-4bf6c6fafc99",
   "metadata": {},
   "source": [
    "---"
   ]
  },
  {
   "cell_type": "markdown",
   "id": "0ade7a5f-4180-48da-93df-d994ed46121f",
   "metadata": {},
   "source": [
    "#### 6. In drafting a driver schedule in terms of 8 hours shifts, when are the busiest 8 consecutive hours over the two week period in terms of unique requests? A new shift starts in every 8 hours. Assume that a driver will work same shift each day."
   ]
  },
  {
   "cell_type": "code",
   "execution_count": 21,
   "id": "c0d79d9a-ea2d-44b0-a45f-3bb36fd32585",
   "metadata": {},
   "outputs": [
    {
     "data": {
      "text/html": [
       "<div>\n",
       "<style scoped>\n",
       "    .dataframe tbody tr th:only-of-type {\n",
       "        vertical-align: middle;\n",
       "    }\n",
       "\n",
       "    .dataframe tbody tr th {\n",
       "        vertical-align: top;\n",
       "    }\n",
       "\n",
       "    .dataframe thead th {\n",
       "        text-align: right;\n",
       "    }\n",
       "</style>\n",
       "<table border=\"1\" class=\"dataframe\">\n",
       "  <thead>\n",
       "    <tr style=\"text-align: right;\">\n",
       "      <th></th>\n",
       "      <th>Time(Local)</th>\n",
       "      <th>Eyeballs</th>\n",
       "      <th>Zeroes</th>\n",
       "      <th>CompletedTrips</th>\n",
       "      <th>Requests</th>\n",
       "      <th>UniqueDrivers</th>\n",
       "    </tr>\n",
       "  </thead>\n",
       "  <tbody>\n",
       "    <tr>\n",
       "      <th>2012-09-10 07:00:00</th>\n",
       "      <td>7</td>\n",
       "      <td>5</td>\n",
       "      <td>0</td>\n",
       "      <td>2</td>\n",
       "      <td>2</td>\n",
       "      <td>9</td>\n",
       "    </tr>\n",
       "    <tr>\n",
       "      <th>2012-09-10 08:00:00</th>\n",
       "      <td>8</td>\n",
       "      <td>6</td>\n",
       "      <td>0</td>\n",
       "      <td>2</td>\n",
       "      <td>2</td>\n",
       "      <td>14</td>\n",
       "    </tr>\n",
       "    <tr>\n",
       "      <th>2012-09-10 09:00:00</th>\n",
       "      <td>9</td>\n",
       "      <td>8</td>\n",
       "      <td>3</td>\n",
       "      <td>0</td>\n",
       "      <td>0</td>\n",
       "      <td>14</td>\n",
       "    </tr>\n",
       "    <tr>\n",
       "      <th>2012-09-10 10:00:00</th>\n",
       "      <td>10</td>\n",
       "      <td>9</td>\n",
       "      <td>2</td>\n",
       "      <td>0</td>\n",
       "      <td>1</td>\n",
       "      <td>14</td>\n",
       "    </tr>\n",
       "    <tr>\n",
       "      <th>2012-09-10 11:00:00</th>\n",
       "      <td>11</td>\n",
       "      <td>11</td>\n",
       "      <td>1</td>\n",
       "      <td>4</td>\n",
       "      <td>4</td>\n",
       "      <td>11</td>\n",
       "    </tr>\n",
       "  </tbody>\n",
       "</table>\n",
       "</div>"
      ],
      "text/plain": [
       "                     Time(Local)  Eyeballs  Zeroes  CompletedTrips  Requests  \\\n",
       "2012-09-10 07:00:00            7         5       0               2         2   \n",
       "2012-09-10 08:00:00            8         6       0               2         2   \n",
       "2012-09-10 09:00:00            9         8       3               0         0   \n",
       "2012-09-10 10:00:00           10         9       2               0         1   \n",
       "2012-09-10 11:00:00           11        11       1               4         4   \n",
       "\n",
       "                     UniqueDrivers  \n",
       "2012-09-10 07:00:00              9  \n",
       "2012-09-10 08:00:00             14  \n",
       "2012-09-10 09:00:00             14  \n",
       "2012-09-10 10:00:00             14  \n",
       "2012-09-10 11:00:00             11  "
      ]
     },
     "execution_count": 21,
     "metadata": {},
     "output_type": "execute_result"
    }
   ],
   "source": [
    "activity_df.head()"
   ]
  },
  {
   "cell_type": "code",
   "execution_count": 22,
   "id": "b4dabbfd-b94d-421c-9aec-ba0dd342d326",
   "metadata": {},
   "outputs": [
    {
     "data": {
      "text/html": [
       "<div>\n",
       "<style scoped>\n",
       "    .dataframe tbody tr th:only-of-type {\n",
       "        vertical-align: middle;\n",
       "    }\n",
       "\n",
       "    .dataframe tbody tr th {\n",
       "        vertical-align: top;\n",
       "    }\n",
       "\n",
       "    .dataframe thead th {\n",
       "        text-align: right;\n",
       "    }\n",
       "</style>\n",
       "<table border=\"1\" class=\"dataframe\">\n",
       "  <thead>\n",
       "    <tr style=\"text-align: right;\">\n",
       "      <th></th>\n",
       "      <th>Time(Local)</th>\n",
       "      <th>Eyeballs</th>\n",
       "      <th>Zeroes</th>\n",
       "      <th>CompletedTrips</th>\n",
       "      <th>Requests</th>\n",
       "      <th>UniqueDrivers</th>\n",
       "    </tr>\n",
       "  </thead>\n",
       "  <tbody>\n",
       "    <tr>\n",
       "      <th>2012-09-21 16:00:00</th>\n",
       "      <td>156</td>\n",
       "      <td>515</td>\n",
       "      <td>88</td>\n",
       "      <td>153</td>\n",
       "      <td>192</td>\n",
       "      <td>198</td>\n",
       "    </tr>\n",
       "  </tbody>\n",
       "</table>\n",
       "</div>"
      ],
      "text/plain": [
       "                     Time(Local)  Eyeballs  Zeroes  CompletedTrips  Requests  \\\n",
       "2012-09-21 16:00:00          156       515      88             153       192   \n",
       "\n",
       "                     UniqueDrivers  \n",
       "2012-09-21 16:00:00            198  "
      ]
     },
     "execution_count": 22,
     "metadata": {},
     "output_type": "execute_result"
    }
   ],
   "source": [
    "shift_df = activity_df.resample('8H').sum()\n",
    "shift_df.nlargest(1, 'Requests')"
   ]
  },
  {
   "cell_type": "markdown",
   "id": "e8d2bdec-2225-4827-a185-a774e3c76db2",
   "metadata": {},
   "source": [
    "The 8 hour period starting at 4pm on September 21st was the busiest time in terms of unique requests. "
   ]
  },
  {
   "cell_type": "markdown",
   "id": "b4778699-0f11-4f1f-8518-097d4ac682ed",
   "metadata": {},
   "source": [
    "The 8 hour shift beginning at 4pm on Sep 9th was the busiest in terms of requests."
   ]
  },
  {
   "cell_type": "markdown",
   "id": "b143e0b2-876e-404d-a96f-87daa2c5680a",
   "metadata": {},
   "source": [
    "---"
   ]
  },
  {
   "cell_type": "markdown",
   "id": "336306c3-9476-45b9-abfb-4d34ec1f7eee",
   "metadata": {},
   "source": [
    "#### 7. True or False: Driver supply always increases when demand increases during the two week period. Tip: Visualize the data to confirm your answer if needed."
   ]
  },
  {
   "cell_type": "code",
   "execution_count": 23,
   "id": "dba9da03-eb8e-4cfa-bd5f-e8bec2ae0d4b",
   "metadata": {},
   "outputs": [
    {
     "data": {
      "text/html": [
       "<div>\n",
       "<style scoped>\n",
       "    .dataframe tbody tr th:only-of-type {\n",
       "        vertical-align: middle;\n",
       "    }\n",
       "\n",
       "    .dataframe tbody tr th {\n",
       "        vertical-align: top;\n",
       "    }\n",
       "\n",
       "    .dataframe thead th {\n",
       "        text-align: right;\n",
       "    }\n",
       "</style>\n",
       "<table border=\"1\" class=\"dataframe\">\n",
       "  <thead>\n",
       "    <tr style=\"text-align: right;\">\n",
       "      <th></th>\n",
       "      <th>Time(Local)</th>\n",
       "      <th>Eyeballs</th>\n",
       "      <th>Zeroes</th>\n",
       "      <th>CompletedTrips</th>\n",
       "      <th>Requests</th>\n",
       "      <th>UniqueDrivers</th>\n",
       "    </tr>\n",
       "  </thead>\n",
       "  <tbody>\n",
       "    <tr>\n",
       "      <th>2012-09-10 07:00:00</th>\n",
       "      <td>7</td>\n",
       "      <td>5</td>\n",
       "      <td>0</td>\n",
       "      <td>2</td>\n",
       "      <td>2</td>\n",
       "      <td>9</td>\n",
       "    </tr>\n",
       "    <tr>\n",
       "      <th>2012-09-10 08:00:00</th>\n",
       "      <td>8</td>\n",
       "      <td>6</td>\n",
       "      <td>0</td>\n",
       "      <td>2</td>\n",
       "      <td>2</td>\n",
       "      <td>14</td>\n",
       "    </tr>\n",
       "    <tr>\n",
       "      <th>2012-09-10 09:00:00</th>\n",
       "      <td>9</td>\n",
       "      <td>8</td>\n",
       "      <td>3</td>\n",
       "      <td>0</td>\n",
       "      <td>0</td>\n",
       "      <td>14</td>\n",
       "    </tr>\n",
       "  </tbody>\n",
       "</table>\n",
       "</div>"
      ],
      "text/plain": [
       "                     Time(Local)  Eyeballs  Zeroes  CompletedTrips  Requests  \\\n",
       "2012-09-10 07:00:00            7         5       0               2         2   \n",
       "2012-09-10 08:00:00            8         6       0               2         2   \n",
       "2012-09-10 09:00:00            9         8       3               0         0   \n",
       "\n",
       "                     UniqueDrivers  \n",
       "2012-09-10 07:00:00              9  \n",
       "2012-09-10 08:00:00             14  \n",
       "2012-09-10 09:00:00             14  "
      ]
     },
     "execution_count": 23,
     "metadata": {},
     "output_type": "execute_result"
    }
   ],
   "source": [
    "activity_df.head(3)"
   ]
  },
  {
   "cell_type": "markdown",
   "id": "3e8eae02-4625-4e30-b841-5b699e9566ae",
   "metadata": {},
   "source": [
    "First, let's see what kind of correlation coefficient on the relationship between requests and unique drivers available:"
   ]
  },
  {
   "cell_type": "code",
   "execution_count": 24,
   "id": "a31aee93-b06b-4eac-9c71-e89167d0500c",
   "metadata": {},
   "outputs": [
    {
     "name": "stdout",
     "output_type": "stream",
     "text": [
      "Correlation Coefficient: 0.6883\n"
     ]
    }
   ],
   "source": [
    "corr_coef = \\\n",
    "    activity_df['Requests'].corr(activity_df['UniqueDrivers'])\n",
    "print(f'Correlation Coefficient: {round(corr_coef,4)}')"
   ]
  },
  {
   "cell_type": "markdown",
   "id": "23729e12-4386-49c3-ac24-bcd6e3dd5d45",
   "metadata": {},
   "source": [
    "Okay, that's not nothing. There is a relationship here. Lets visualize it now:"
   ]
  },
  {
   "cell_type": "code",
   "execution_count": 25,
   "id": "15064c35-2861-4093-bf22-1d34cfa7fee9",
   "metadata": {},
   "outputs": [
    {
     "data": {
      "image/png": "[encoded data removed]",
      "text/plain": [
       "<Figure size 720x432 with 1 Axes>"
      ]
     },
     "metadata": {
      "needs_background": "light"
     },
     "output_type": "display_data"
    }
   ],
   "source": [
    "plt.figure(figsize=(10,6))\n",
    "sns.scatterplot(x='Requests', y='UniqueDrivers', data=activity_df)\n",
    "plt.title('Scatter Plot of Requests vs UniqueDrivers')\n",
    "plt.xlabel('Requests')\n",
    "plt.ylabel('UniqueDrivers')\n",
    "plt.show()"
   ]
  },
  {
   "cell_type": "code",
   "execution_count": 26,
   "id": "ff1dc30e-aa58-4106-b6d3-67726135d875",
   "metadata": {},
   "outputs": [
    {
     "data": {
      "image/png": "[encoded data removed]",
      "text/plain": [
       "<Figure size 720x432 with 1 Axes>"
      ]
     },
     "metadata": {
      "needs_background": "light"
     },
     "output_type": "display_data"
    }
   ],
   "source": [
    "plt.figure(figsize=(10,6))\n",
    "sns.lineplot(data=activity_df[['Requests', 'UniqueDrivers']])\n",
    "plt.title('Driver Requests and Driver Supply Over Time')\n",
    "plt.show()"
   ]
  },
  {
   "cell_type": "markdown",
   "id": "711ad3f3-17d4-4f81-8937-f2cec2061081",
   "metadata": {},
   "source": [
    "Based on the correlation coefficient and the scatterplot, requests and drivers generally move together. Looking at the lineplot, we can see drivers generally anticipate the busy times since upticks of the orange dotted line usually precedes the those of the blue lines. \n",
    "It also seems that on the weekdays supply outweighs demand, and then on the weekends depicted, supply falls short during the peak hours. "
   ]
  },
  {
   "cell_type": "markdown",
   "id": "977e3b37-82a2-46dd-bc50-5290602ebd8f",
   "metadata": {},
   "source": [
    "---"
   ]
  },
  {
   "cell_type": "markdown",
   "id": "fa2ed8a2-bcc9-40da-b93d-91974a60567e",
   "metadata": {},
   "source": [
    "#### 8. In which 72 hour period is the ratio of Zeroes to Eyeballs the highest?"
   ]
  },
  {
   "cell_type": "code",
   "execution_count": null,
   "id": "fb445112-04e3-47e8-9d50-748b128c09c3",
   "metadata": {},
   "outputs": [],
   "source": [
    "# do a rolling sum again, but for for a 72 hr period"
   ]
  },
  {
   "cell_type": "code",
   "execution_count": null,
   "id": "998ee055-edbb-42d0-93b2-f57c6f3b4058",
   "metadata": {},
   "outputs": [],
   "source": []
  },
  {
   "cell_type": "code",
   "execution_count": null,
   "id": "4e58dc7b-d0fe-4a80-8e36-a55483ef806e",
   "metadata": {},
   "outputs": [],
   "source": []
  },
  {
   "cell_type": "code",
   "execution_count": null,
   "id": "c62d701b-d4b7-44ba-b2ea-9b8fd486ae85",
   "metadata": {},
   "outputs": [],
   "source": [
    "three_day_df = activity_df.resample('3D').sum()\n",
    "three_day_df['zero_to_eye_ratio'] = three_day_df.Zeroes / three_day_df.Eyeballs\n",
    "three_day_df.sort_values('zero_to_eye_ratio', ascending=False).head(1)"
   ]
  },
  {
   "cell_type": "markdown",
   "id": "92af3687-ca58-4c98-a80d-881a23788ab0",
   "metadata": {},
   "source": [
    "#### 9. If you could add 5 drivers to any single hour of every day during the two week period, which hour should you add them to? Hint: Consider both rider eyeballs and driver supply when choosing"
   ]
  },
  {
   "cell_type": "code",
   "execution_count": null,
   "id": "6d977ea4-c81a-4392-9f61-1b310dca7d40",
   "metadata": {},
   "outputs": [],
   "source": []
  },
  {
   "cell_type": "markdown",
   "id": "0c4f6042-0d9e-4915-9f4e-0d36b00848ff",
   "metadata": {},
   "source": [
    "#### 10. True or False: There is exactly two weeks of data in this analysis"
   ]
  },
  {
   "cell_type": "code",
   "execution_count": null,
   "id": "e8372fa8-d56a-40e5-ab41-2305b61db498",
   "metadata": {},
   "outputs": [],
   "source": []
  },
  {
   "cell_type": "markdown",
   "id": "e3d42075-913d-4558-b149-58ba524677b0",
   "metadata": {},
   "source": [
    "#### 11. Looking at the data from all two weeks, which time might make the most sense to consider a true \"end day\" instead of midnight? (i.e when are supply and demand at both their natural minimums) Tip: Visualize the data to confirm your answer if needed."
   ]
  },
  {
   "cell_type": "code",
   "execution_count": null,
   "id": "beb10872-78aa-4bc2-8b73-f94e935af73b",
   "metadata": {},
   "outputs": [],
   "source": []
  },
  {
   "cell_type": "markdown",
   "id": "51b77d04-1a02-4d5e-8cf1-3693c326a7b2",
   "metadata": {},
   "source": [
    "---"
   ]
  }
 ],
 "metadata": {
  "kernelspec": {
   "display_name": "Python 3 (ipykernel)",
   "language": "python",
   "name": "python3"
  },
  "language_info": {
   "codemirror_mode": {
    "name": "ipython",
    "version": 3
   },
   "file_extension": ".py",
   "mimetype": "text/x-python",
   "name": "python",
   "nbconvert_exporter": "python",
   "pygments_lexer": "ipython3",
   "version": "3.9.12"
  }
 },
 "nbformat": 4,
 "nbformat_minor": 5
}

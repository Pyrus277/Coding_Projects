{
 "cells": [
  {
   "cell_type": "markdown",
   "id": "4fcf6468-a8e6-41b4-8976-0fa987fddf8c",
   "metadata": {},
   "source": [
    "Perry Fox 5/29/23\n",
    "\n",
    "# Demographic Data Analyzer\n",
    "\"In this challenge you must analyze demographic data using Pandas. You are given a dataset of demographic data that was extracted from the 1994 Census database.\"\n",
    "\n",
    "This notebook was created first and then adapted to the replit python file for unit testing and submission:\n",
    "https://replit.com/@Pyrus277/boilerplate-demographic-data-analyzer\n"
   ]
  },
  {
   "cell_type": "markdown",
   "id": "fdbb55c8-8c8e-4a7d-ae73-36146876fd14",
   "metadata": {},
   "source": [
    "---"
   ]
  },
  {
   "cell_type": "markdown",
   "id": "44388b1a-a021-4f78-af14-25571c376073",
   "metadata": {},
   "source": [
    "## 0. Imports and first-look at the dataset"
   ]
  },
  {
   "cell_type": "code",
   "execution_count": 1,
   "id": "2eb0b468-0a28-4b35-b5e1-ffaa10dfcfb9",
   "metadata": {},
   "outputs": [],
   "source": [
    "import pandas as pd"
   ]
  },
  {
   "cell_type": "code",
   "execution_count": 2,
   "id": "4fdb9373-503b-4cde-af1a-eb68263905d1",
   "metadata": {},
   "outputs": [
    {
     "data": {
      "text/html": [
       "<div>\n",
       "<style scoped>\n",
       "    .dataframe tbody tr th:only-of-type {\n",
       "        vertical-align: middle;\n",
       "    }\n",
       "\n",
       "    .dataframe tbody tr th {\n",
       "        vertical-align: top;\n",
       "    }\n",
       "\n",
       "    .dataframe thead th {\n",
       "        text-align: right;\n",
       "    }\n",
       "</style>\n",
       "<table border=\"1\" class=\"dataframe\">\n",
       "  <thead>\n",
       "    <tr style=\"text-align: right;\">\n",
       "      <th></th>\n",
       "      <th>age</th>\n",
       "      <th>workclass</th>\n",
       "      <th>fnlwgt</th>\n",
       "      <th>education</th>\n",
       "      <th>education-num</th>\n",
       "      <th>marital-status</th>\n",
       "      <th>occupation</th>\n",
       "      <th>relationship</th>\n",
       "      <th>race</th>\n",
       "      <th>sex</th>\n",
       "      <th>capital-gain</th>\n",
       "      <th>capital-loss</th>\n",
       "      <th>hours-per-week</th>\n",
       "      <th>native-country</th>\n",
       "      <th>salary</th>\n",
       "    </tr>\n",
       "  </thead>\n",
       "  <tbody>\n",
       "    <tr>\n",
       "      <th>0</th>\n",
       "      <td>39</td>\n",
       "      <td>State-gov</td>\n",
       "      <td>77516</td>\n",
       "      <td>Bachelors</td>\n",
       "      <td>13</td>\n",
       "      <td>Never-married</td>\n",
       "      <td>Adm-clerical</td>\n",
       "      <td>Not-in-family</td>\n",
       "      <td>White</td>\n",
       "      <td>Male</td>\n",
       "      <td>2174</td>\n",
       "      <td>0</td>\n",
       "      <td>40</td>\n",
       "      <td>United-States</td>\n",
       "      <td>&lt;=50K</td>\n",
       "    </tr>\n",
       "    <tr>\n",
       "      <th>1</th>\n",
       "      <td>50</td>\n",
       "      <td>Self-emp-not-inc</td>\n",
       "      <td>83311</td>\n",
       "      <td>Bachelors</td>\n",
       "      <td>13</td>\n",
       "      <td>Married-civ-spouse</td>\n",
       "      <td>Exec-managerial</td>\n",
       "      <td>Husband</td>\n",
       "      <td>White</td>\n",
       "      <td>Male</td>\n",
       "      <td>0</td>\n",
       "      <td>0</td>\n",
       "      <td>13</td>\n",
       "      <td>United-States</td>\n",
       "      <td>&lt;=50K</td>\n",
       "    </tr>\n",
       "    <tr>\n",
       "      <th>2</th>\n",
       "      <td>38</td>\n",
       "      <td>Private</td>\n",
       "      <td>215646</td>\n",
       "      <td>HS-grad</td>\n",
       "      <td>9</td>\n",
       "      <td>Divorced</td>\n",
       "      <td>Handlers-cleaners</td>\n",
       "      <td>Not-in-family</td>\n",
       "      <td>White</td>\n",
       "      <td>Male</td>\n",
       "      <td>0</td>\n",
       "      <td>0</td>\n",
       "      <td>40</td>\n",
       "      <td>United-States</td>\n",
       "      <td>&lt;=50K</td>\n",
       "    </tr>\n",
       "    <tr>\n",
       "      <th>3</th>\n",
       "      <td>53</td>\n",
       "      <td>Private</td>\n",
       "      <td>234721</td>\n",
       "      <td>11th</td>\n",
       "      <td>7</td>\n",
       "      <td>Married-civ-spouse</td>\n",
       "      <td>Handlers-cleaners</td>\n",
       "      <td>Husband</td>\n",
       "      <td>Black</td>\n",
       "      <td>Male</td>\n",
       "      <td>0</td>\n",
       "      <td>0</td>\n",
       "      <td>40</td>\n",
       "      <td>United-States</td>\n",
       "      <td>&lt;=50K</td>\n",
       "    </tr>\n",
       "    <tr>\n",
       "      <th>4</th>\n",
       "      <td>28</td>\n",
       "      <td>Private</td>\n",
       "      <td>338409</td>\n",
       "      <td>Bachelors</td>\n",
       "      <td>13</td>\n",
       "      <td>Married-civ-spouse</td>\n",
       "      <td>Prof-specialty</td>\n",
       "      <td>Wife</td>\n",
       "      <td>Black</td>\n",
       "      <td>Female</td>\n",
       "      <td>0</td>\n",
       "      <td>0</td>\n",
       "      <td>40</td>\n",
       "      <td>Cuba</td>\n",
       "      <td>&lt;=50K</td>\n",
       "    </tr>\n",
       "  </tbody>\n",
       "</table>\n",
       "</div>"
      ],
      "text/plain": [
       "   age         workclass  fnlwgt  education  education-num  \\\n",
       "0   39         State-gov   77516  Bachelors             13   \n",
       "1   50  Self-emp-not-inc   83311  Bachelors             13   \n",
       "2   38           Private  215646    HS-grad              9   \n",
       "3   53           Private  234721       11th              7   \n",
       "4   28           Private  338409  Bachelors             13   \n",
       "\n",
       "       marital-status         occupation   relationship   race     sex  \\\n",
       "0       Never-married       Adm-clerical  Not-in-family  White    Male   \n",
       "1  Married-civ-spouse    Exec-managerial        Husband  White    Male   \n",
       "2            Divorced  Handlers-cleaners  Not-in-family  White    Male   \n",
       "3  Married-civ-spouse  Handlers-cleaners        Husband  Black    Male   \n",
       "4  Married-civ-spouse     Prof-specialty           Wife  Black  Female   \n",
       "\n",
       "   capital-gain  capital-loss  hours-per-week native-country salary  \n",
       "0          2174             0              40  United-States  <=50K  \n",
       "1             0             0              13  United-States  <=50K  \n",
       "2             0             0              40  United-States  <=50K  \n",
       "3             0             0              40  United-States  <=50K  \n",
       "4             0             0              40           Cuba  <=50K  "
      ]
     },
     "execution_count": 2,
     "metadata": {},
     "output_type": "execute_result"
    }
   ],
   "source": [
    "df = pd.read_csv('adult_data.csv')\n",
    "df.head()"
   ]
  },
  {
   "cell_type": "code",
   "execution_count": 3,
   "id": "181b9b66-31fd-4e30-a302-a482cc1b72c1",
   "metadata": {},
   "outputs": [
    {
     "name": "stdout",
     "output_type": "stream",
     "text": [
      "<class 'pandas.core.frame.DataFrame'>\n",
      "RangeIndex: 32561 entries, 0 to 32560\n",
      "Data columns (total 15 columns):\n",
      " #   Column          Non-Null Count  Dtype \n",
      "---  ------          --------------  ----- \n",
      " 0   age             32561 non-null  int64 \n",
      " 1   workclass       32561 non-null  object\n",
      " 2   fnlwgt          32561 non-null  int64 \n",
      " 3   education       32561 non-null  object\n",
      " 4   education-num   32561 non-null  int64 \n",
      " 5   marital-status  32561 non-null  object\n",
      " 6   occupation      32561 non-null  object\n",
      " 7   relationship    32561 non-null  object\n",
      " 8   race            32561 non-null  object\n",
      " 9   sex             32561 non-null  object\n",
      " 10  capital-gain    32561 non-null  int64 \n",
      " 11  capital-loss    32561 non-null  int64 \n",
      " 12  hours-per-week  32561 non-null  int64 \n",
      " 13  native-country  32561 non-null  object\n",
      " 14  salary          32561 non-null  object\n",
      "dtypes: int64(6), object(9)\n",
      "memory usage: 3.7+ MB\n"
     ]
    }
   ],
   "source": [
    "df.info()"
   ]
  },
  {
   "cell_type": "code",
   "execution_count": 4,
   "id": "78e26566-d954-4047-a416-6d1a27c0bac2",
   "metadata": {},
   "outputs": [],
   "source": [
    "## Questions"
   ]
  },
  {
   "cell_type": "markdown",
   "id": "2bdfa115-3982-4d1c-9651-fa0fbdc94754",
   "metadata": {},
   "source": [
    "### 1. How many people of each race are represented in this dataset?\n",
    "Return a Pandas series with race names as the index labels"
   ]
  },
  {
   "cell_type": "code",
   "execution_count": 182,
   "id": "c83b368b-7fcb-41b7-abd9-e10d0eb8bd79",
   "metadata": {},
   "outputs": [
    {
     "data": {
      "text/plain": [
       "race\n",
       "White                 27816\n",
       "Black                  3124\n",
       "Asian-Pac-Islander     1039\n",
       "Amer-Indian-Eskimo      311\n",
       "Other                   271\n",
       "Name: race, dtype: int64"
      ]
     },
     "execution_count": 182,
     "metadata": {},
     "output_type": "execute_result"
    }
   ],
   "source": [
    "df.groupby(['race'])['race'].count().sort_values(ascending=False)"
   ]
  },
  {
   "cell_type": "markdown",
   "id": "8cc6bb8f-b647-4c5a-a8ad-bc621b321167",
   "metadata": {},
   "source": [
    "### 2. What is the average age of men?"
   ]
  },
  {
   "cell_type": "code",
   "execution_count": 186,
   "id": "1c794284-cb1c-4195-9f8a-7e847bbbead2",
   "metadata": {},
   "outputs": [
    {
     "data": {
      "text/plain": [
       "39.4"
      ]
     },
     "execution_count": 186,
     "metadata": {},
     "output_type": "execute_result"
    }
   ],
   "source": [
    "df.loc[\n",
    "    df.sex == 'Male',\n",
    "    ['age']\n",
    "].mean().round(decimals=1)[0]"
   ]
  },
  {
   "cell_type": "markdown",
   "id": "e841b1c0-ec9b-4f7d-8731-7c485e17e88b",
   "metadata": {},
   "source": [
    "### 3. What is the percentage of people who have a Bachelor's degree?"
   ]
  },
  {
   "cell_type": "code",
   "execution_count": 7,
   "id": "614c2e5b-4eb6-4db8-842c-9bbb14479634",
   "metadata": {},
   "outputs": [],
   "source": [
    "percentage_bachelors = round(\n",
    "    (df.education.value_counts().Bachelors / df.education.count() * 100)\n",
    ", 1)"
   ]
  },
  {
   "cell_type": "code",
   "execution_count": 8,
   "id": "6ef7b8fe-74db-4593-ada7-ea054ca06411",
   "metadata": {},
   "outputs": [
    {
     "data": {
      "text/plain": [
       "16.4"
      ]
     },
     "execution_count": 8,
     "metadata": {},
     "output_type": "execute_result"
    }
   ],
   "source": [
    "percentage_bachelors"
   ]
  },
  {
   "cell_type": "markdown",
   "id": "7449b1c1-3314-4fd5-b914-1391568b492e",
   "metadata": {},
   "source": [
    "### 4. What percentage of people with advanced education (Bachelors, Masters, or Doctorate) make more than 50k?"
   ]
  },
  {
   "cell_type": "code",
   "execution_count": 22,
   "id": "f397f6a7-403a-45c8-89be-6abeb058f7f4",
   "metadata": {},
   "outputs": [
    {
     "data": {
      "text/html": [
       "<div>\n",
       "<style scoped>\n",
       "    .dataframe tbody tr th:only-of-type {\n",
       "        vertical-align: middle;\n",
       "    }\n",
       "\n",
       "    .dataframe tbody tr th {\n",
       "        vertical-align: top;\n",
       "    }\n",
       "\n",
       "    .dataframe thead th {\n",
       "        text-align: right;\n",
       "    }\n",
       "</style>\n",
       "<table border=\"1\" class=\"dataframe\">\n",
       "  <thead>\n",
       "    <tr style=\"text-align: right;\">\n",
       "      <th></th>\n",
       "      <th>age</th>\n",
       "      <th>workclass</th>\n",
       "      <th>fnlwgt</th>\n",
       "      <th>education</th>\n",
       "      <th>education-num</th>\n",
       "      <th>marital-status</th>\n",
       "      <th>occupation</th>\n",
       "      <th>relationship</th>\n",
       "      <th>race</th>\n",
       "      <th>sex</th>\n",
       "      <th>capital-gain</th>\n",
       "      <th>capital-loss</th>\n",
       "      <th>hours-per-week</th>\n",
       "      <th>native-country</th>\n",
       "      <th>salary</th>\n",
       "    </tr>\n",
       "  </thead>\n",
       "  <tbody>\n",
       "    <tr>\n",
       "      <th>0</th>\n",
       "      <td>39</td>\n",
       "      <td>State-gov</td>\n",
       "      <td>77516</td>\n",
       "      <td>Bachelors</td>\n",
       "      <td>13</td>\n",
       "      <td>Never-married</td>\n",
       "      <td>Adm-clerical</td>\n",
       "      <td>Not-in-family</td>\n",
       "      <td>White</td>\n",
       "      <td>Male</td>\n",
       "      <td>2174</td>\n",
       "      <td>0</td>\n",
       "      <td>40</td>\n",
       "      <td>United-States</td>\n",
       "      <td>&lt;=50K</td>\n",
       "    </tr>\n",
       "    <tr>\n",
       "      <th>1</th>\n",
       "      <td>50</td>\n",
       "      <td>Self-emp-not-inc</td>\n",
       "      <td>83311</td>\n",
       "      <td>Bachelors</td>\n",
       "      <td>13</td>\n",
       "      <td>Married-civ-spouse</td>\n",
       "      <td>Exec-managerial</td>\n",
       "      <td>Husband</td>\n",
       "      <td>White</td>\n",
       "      <td>Male</td>\n",
       "      <td>0</td>\n",
       "      <td>0</td>\n",
       "      <td>13</td>\n",
       "      <td>United-States</td>\n",
       "      <td>&lt;=50K</td>\n",
       "    </tr>\n",
       "    <tr>\n",
       "      <th>4</th>\n",
       "      <td>28</td>\n",
       "      <td>Private</td>\n",
       "      <td>338409</td>\n",
       "      <td>Bachelors</td>\n",
       "      <td>13</td>\n",
       "      <td>Married-civ-spouse</td>\n",
       "      <td>Prof-specialty</td>\n",
       "      <td>Wife</td>\n",
       "      <td>Black</td>\n",
       "      <td>Female</td>\n",
       "      <td>0</td>\n",
       "      <td>0</td>\n",
       "      <td>40</td>\n",
       "      <td>Cuba</td>\n",
       "      <td>&lt;=50K</td>\n",
       "    </tr>\n",
       "    <tr>\n",
       "      <th>5</th>\n",
       "      <td>37</td>\n",
       "      <td>Private</td>\n",
       "      <td>284582</td>\n",
       "      <td>Masters</td>\n",
       "      <td>14</td>\n",
       "      <td>Married-civ-spouse</td>\n",
       "      <td>Exec-managerial</td>\n",
       "      <td>Wife</td>\n",
       "      <td>White</td>\n",
       "      <td>Female</td>\n",
       "      <td>0</td>\n",
       "      <td>0</td>\n",
       "      <td>40</td>\n",
       "      <td>United-States</td>\n",
       "      <td>&lt;=50K</td>\n",
       "    </tr>\n",
       "    <tr>\n",
       "      <th>8</th>\n",
       "      <td>31</td>\n",
       "      <td>Private</td>\n",
       "      <td>45781</td>\n",
       "      <td>Masters</td>\n",
       "      <td>14</td>\n",
       "      <td>Never-married</td>\n",
       "      <td>Prof-specialty</td>\n",
       "      <td>Not-in-family</td>\n",
       "      <td>White</td>\n",
       "      <td>Female</td>\n",
       "      <td>14084</td>\n",
       "      <td>0</td>\n",
       "      <td>50</td>\n",
       "      <td>United-States</td>\n",
       "      <td>&gt;50K</td>\n",
       "    </tr>\n",
       "  </tbody>\n",
       "</table>\n",
       "</div>"
      ],
      "text/plain": [
       "   age         workclass  fnlwgt  education  education-num  \\\n",
       "0   39         State-gov   77516  Bachelors             13   \n",
       "1   50  Self-emp-not-inc   83311  Bachelors             13   \n",
       "4   28           Private  338409  Bachelors             13   \n",
       "5   37           Private  284582    Masters             14   \n",
       "8   31           Private   45781    Masters             14   \n",
       "\n",
       "       marital-status       occupation   relationship   race     sex  \\\n",
       "0       Never-married     Adm-clerical  Not-in-family  White    Male   \n",
       "1  Married-civ-spouse  Exec-managerial        Husband  White    Male   \n",
       "4  Married-civ-spouse   Prof-specialty           Wife  Black  Female   \n",
       "5  Married-civ-spouse  Exec-managerial           Wife  White  Female   \n",
       "8       Never-married   Prof-specialty  Not-in-family  White  Female   \n",
       "\n",
       "   capital-gain  capital-loss  hours-per-week native-country salary  \n",
       "0          2174             0              40  United-States  <=50K  \n",
       "1             0             0              13  United-States  <=50K  \n",
       "4             0             0              40           Cuba  <=50K  \n",
       "5             0             0              40  United-States  <=50K  \n",
       "8         14084             0              50  United-States   >50K  "
      ]
     },
     "execution_count": 22,
     "metadata": {},
     "output_type": "execute_result"
    }
   ],
   "source": [
    "advanced_edu = df.loc[\n",
    "    df.education.isin(['Bachelors', 'Masters', 'Doctorate'])\n",
    "]\n",
    "advanced_edu.head(5)"
   ]
  },
  {
   "cell_type": "code",
   "execution_count": 95,
   "id": "261e8560-6478-4e53-bc4d-3c318293768c",
   "metadata": {},
   "outputs": [],
   "source": [
    "adv_edu_over50k = advanced_edu.loc[advanced_edu.salary == '>50K'].shape[0]\n",
    "\n",
    "higher_education_rich = round(\n",
    "    (adv_edu_over50k / advanced_edu.shape[0] * 100)\n",
    ", 1)"
   ]
  },
  {
   "cell_type": "code",
   "execution_count": 96,
   "id": "b32ef0c6-4ce9-4129-a5ce-13b82108b951",
   "metadata": {},
   "outputs": [
    {
     "data": {
      "text/plain": [
       "46.5"
      ]
     },
     "execution_count": 96,
     "metadata": {},
     "output_type": "execute_result"
    }
   ],
   "source": [
    "higher_education_rich"
   ]
  },
  {
   "cell_type": "markdown",
   "id": "00ebf2c6-f0d7-4809-85f2-11582c591296",
   "metadata": {},
   "source": [
    "### 5. What percentage of people without advanced education make more than 50K?"
   ]
  },
  {
   "cell_type": "code",
   "execution_count": 21,
   "id": "5a646089-4b3f-4c91-9cfe-2bce4d875c74",
   "metadata": {
    "tags": []
   },
   "outputs": [
    {
     "data": {
      "text/html": [
       "<div>\n",
       "<style scoped>\n",
       "    .dataframe tbody tr th:only-of-type {\n",
       "        vertical-align: middle;\n",
       "    }\n",
       "\n",
       "    .dataframe tbody tr th {\n",
       "        vertical-align: top;\n",
       "    }\n",
       "\n",
       "    .dataframe thead th {\n",
       "        text-align: right;\n",
       "    }\n",
       "</style>\n",
       "<table border=\"1\" class=\"dataframe\">\n",
       "  <thead>\n",
       "    <tr style=\"text-align: right;\">\n",
       "      <th></th>\n",
       "      <th>age</th>\n",
       "      <th>workclass</th>\n",
       "      <th>fnlwgt</th>\n",
       "      <th>education</th>\n",
       "      <th>education-num</th>\n",
       "      <th>marital-status</th>\n",
       "      <th>occupation</th>\n",
       "      <th>relationship</th>\n",
       "      <th>race</th>\n",
       "      <th>sex</th>\n",
       "      <th>capital-gain</th>\n",
       "      <th>capital-loss</th>\n",
       "      <th>hours-per-week</th>\n",
       "      <th>native-country</th>\n",
       "      <th>salary</th>\n",
       "    </tr>\n",
       "  </thead>\n",
       "  <tbody>\n",
       "    <tr>\n",
       "      <th>2</th>\n",
       "      <td>38</td>\n",
       "      <td>Private</td>\n",
       "      <td>215646</td>\n",
       "      <td>HS-grad</td>\n",
       "      <td>9</td>\n",
       "      <td>Divorced</td>\n",
       "      <td>Handlers-cleaners</td>\n",
       "      <td>Not-in-family</td>\n",
       "      <td>White</td>\n",
       "      <td>Male</td>\n",
       "      <td>0</td>\n",
       "      <td>0</td>\n",
       "      <td>40</td>\n",
       "      <td>United-States</td>\n",
       "      <td>&lt;=50K</td>\n",
       "    </tr>\n",
       "    <tr>\n",
       "      <th>3</th>\n",
       "      <td>53</td>\n",
       "      <td>Private</td>\n",
       "      <td>234721</td>\n",
       "      <td>11th</td>\n",
       "      <td>7</td>\n",
       "      <td>Married-civ-spouse</td>\n",
       "      <td>Handlers-cleaners</td>\n",
       "      <td>Husband</td>\n",
       "      <td>Black</td>\n",
       "      <td>Male</td>\n",
       "      <td>0</td>\n",
       "      <td>0</td>\n",
       "      <td>40</td>\n",
       "      <td>United-States</td>\n",
       "      <td>&lt;=50K</td>\n",
       "    </tr>\n",
       "    <tr>\n",
       "      <th>6</th>\n",
       "      <td>49</td>\n",
       "      <td>Private</td>\n",
       "      <td>160187</td>\n",
       "      <td>9th</td>\n",
       "      <td>5</td>\n",
       "      <td>Married-spouse-absent</td>\n",
       "      <td>Other-service</td>\n",
       "      <td>Not-in-family</td>\n",
       "      <td>Black</td>\n",
       "      <td>Female</td>\n",
       "      <td>0</td>\n",
       "      <td>0</td>\n",
       "      <td>16</td>\n",
       "      <td>Jamaica</td>\n",
       "      <td>&lt;=50K</td>\n",
       "    </tr>\n",
       "    <tr>\n",
       "      <th>7</th>\n",
       "      <td>52</td>\n",
       "      <td>Self-emp-not-inc</td>\n",
       "      <td>209642</td>\n",
       "      <td>HS-grad</td>\n",
       "      <td>9</td>\n",
       "      <td>Married-civ-spouse</td>\n",
       "      <td>Exec-managerial</td>\n",
       "      <td>Husband</td>\n",
       "      <td>White</td>\n",
       "      <td>Male</td>\n",
       "      <td>0</td>\n",
       "      <td>0</td>\n",
       "      <td>45</td>\n",
       "      <td>United-States</td>\n",
       "      <td>&gt;50K</td>\n",
       "    </tr>\n",
       "    <tr>\n",
       "      <th>10</th>\n",
       "      <td>37</td>\n",
       "      <td>Private</td>\n",
       "      <td>280464</td>\n",
       "      <td>Some-college</td>\n",
       "      <td>10</td>\n",
       "      <td>Married-civ-spouse</td>\n",
       "      <td>Exec-managerial</td>\n",
       "      <td>Husband</td>\n",
       "      <td>Black</td>\n",
       "      <td>Male</td>\n",
       "      <td>0</td>\n",
       "      <td>0</td>\n",
       "      <td>80</td>\n",
       "      <td>United-States</td>\n",
       "      <td>&gt;50K</td>\n",
       "    </tr>\n",
       "  </tbody>\n",
       "</table>\n",
       "</div>"
      ],
      "text/plain": [
       "    age         workclass  fnlwgt     education  education-num  \\\n",
       "2    38           Private  215646       HS-grad              9   \n",
       "3    53           Private  234721          11th              7   \n",
       "6    49           Private  160187           9th              5   \n",
       "7    52  Self-emp-not-inc  209642       HS-grad              9   \n",
       "10   37           Private  280464  Some-college             10   \n",
       "\n",
       "           marital-status         occupation   relationship   race     sex  \\\n",
       "2                Divorced  Handlers-cleaners  Not-in-family  White    Male   \n",
       "3      Married-civ-spouse  Handlers-cleaners        Husband  Black    Male   \n",
       "6   Married-spouse-absent      Other-service  Not-in-family  Black  Female   \n",
       "7      Married-civ-spouse    Exec-managerial        Husband  White    Male   \n",
       "10     Married-civ-spouse    Exec-managerial        Husband  Black    Male   \n",
       "\n",
       "    capital-gain  capital-loss  hours-per-week native-country salary  \n",
       "2              0             0              40  United-States  <=50K  \n",
       "3              0             0              40  United-States  <=50K  \n",
       "6              0             0              16        Jamaica  <=50K  \n",
       "7              0             0              45  United-States   >50K  \n",
       "10             0             0              80  United-States   >50K  "
      ]
     },
     "execution_count": 21,
     "metadata": {},
     "output_type": "execute_result"
    }
   ],
   "source": [
    "low_edu = df.loc[\n",
    "    ~df.education.isin(['Bachelors', 'Masters', 'Doctorate'])\n",
    "]\n",
    "low_edu.head(5)"
   ]
  },
  {
   "cell_type": "code",
   "execution_count": 97,
   "id": "2be85c83-db5f-4c9b-92ee-defcb25e7e31",
   "metadata": {},
   "outputs": [],
   "source": [
    "low_edu_over50k = low_edu.loc[low_edu.salary == '>50K'].shape[0]\n",
    "\n",
    "low_edu_rich = round(\n",
    "    (low_edu_over50k / low_edu.shape[0] * 100)\n",
    ", 1)"
   ]
  },
  {
   "cell_type": "code",
   "execution_count": 98,
   "id": "fd05c6d7-d8dc-4d13-9a46-968b56b37128",
   "metadata": {},
   "outputs": [
    {
     "data": {
      "text/plain": [
       "17.4"
      ]
     },
     "execution_count": 98,
     "metadata": {},
     "output_type": "execute_result"
    }
   ],
   "source": [
    "low_edu_rich"
   ]
  },
  {
   "cell_type": "markdown",
   "id": "67c6a7c7-015e-4d14-8976-11972d7fc20b",
   "metadata": {},
   "source": [
    "### 6. What is the minimum number of hours a person works per week?"
   ]
  },
  {
   "cell_type": "code",
   "execution_count": 41,
   "id": "d2dc78c8-6de2-4622-acce-0be51583e6ce",
   "metadata": {},
   "outputs": [
    {
     "data": {
      "text/plain": [
       "1"
      ]
     },
     "execution_count": 41,
     "metadata": {},
     "output_type": "execute_result"
    }
   ],
   "source": [
    "min_hrs = df['hours-per-week'].min()\n",
    "min_hrs"
   ]
  },
  {
   "cell_type": "markdown",
   "id": "9564c580-abeb-4181-a6d2-9a6e17de817d",
   "metadata": {},
   "source": [
    "answer: 1"
   ]
  },
  {
   "cell_type": "markdown",
   "id": "e77eb7cd-127c-4b29-8eeb-f8dd86272d7d",
   "metadata": {},
   "source": [
    "### 7. What percentage of the people who work the minimum number of hours per week have a salary of more than 50k?"
   ]
  },
  {
   "cell_type": "code",
   "execution_count": 86,
   "id": "8ce32048-bab4-471c-96ae-037ad4e9b0b4",
   "metadata": {
    "tags": []
   },
   "outputs": [],
   "source": [
    "df_min_work = df.loc[df['hours-per-week'] == min_hrs]\n",
    "\n",
    "df_min_work50k = df_min_work.loc[df_min_work.salary == '>50K']\n",
    "\n",
    "prct_min_work_sal50 = round(\n",
    "    (df_min_work50k.shape[0] / df_min_work.shape[0]) * 100\n",
    ", 0)"
   ]
  },
  {
   "cell_type": "code",
   "execution_count": 88,
   "id": "c4dcbfce-e4ce-43c6-aec3-532a68b2e24f",
   "metadata": {},
   "outputs": [
    {
     "data": {
      "text/plain": [
       "10.0"
      ]
     },
     "execution_count": 88,
     "metadata": {},
     "output_type": "execute_result"
    }
   ],
   "source": [
    "prct_min_work_sal50"
   ]
  },
  {
   "cell_type": "markdown",
   "id": "b473a977-61cc-44ca-b862-25ac3727e758",
   "metadata": {},
   "source": [
    "answer: 10"
   ]
  },
  {
   "cell_type": "markdown",
   "id": "190e540e-01fc-4e18-ae01-7b2f6655f2fc",
   "metadata": {},
   "source": [
    "### 8. What country has the highest percentage of people that earn >50k..."
   ]
  },
  {
   "cell_type": "code",
   "execution_count": 116,
   "id": "863e2712-3503-4a03-af22-8c9a95fe4d0c",
   "metadata": {
    "tags": []
   },
   "outputs": [],
   "source": [
    "# High earner count by country\n",
    "rich = df.loc[df.salary == '>50K']\n",
    "high_earner_ct = rich.groupby(['native-country']).salary.count() # this works"
   ]
  },
  {
   "cell_type": "code",
   "execution_count": 118,
   "id": "16aa5b36-8194-4625-8f53-60cc27729b43",
   "metadata": {
    "tags": []
   },
   "outputs": [],
   "source": [
    "# Total count by country  \n",
    "total_ct = df.groupby(['native-country']).salary.count() "
   ]
  },
  {
   "cell_type": "code",
   "execution_count": 129,
   "id": "14e3a52f-b210-4937-876e-caaaa72b0dc1",
   "metadata": {},
   "outputs": [
    {
     "data": {
      "text/plain": [
       "'Iran'"
      ]
     },
     "execution_count": 129,
     "metadata": {},
     "output_type": "execute_result"
    }
   ],
   "source": [
    "# series with percentagaes\n",
    "percentages = high_earner_ct / total_ct\n",
    "# Sort descending and grab the first index--the info we're looking for:\n",
    "percentages.sort_values(ascending=False).index[0]"
   ]
  },
  {
   "cell_type": "markdown",
   "id": "7c0ee4b8-8c7d-4f3b-9278-ca18460c9172",
   "metadata": {},
   "source": [
    "answer: 'Iran'"
   ]
  },
  {
   "cell_type": "markdown",
   "id": "2b663e6a-7388-4524-adbf-4faa43feacc4",
   "metadata": {},
   "source": [
    "#### ...And what is that percentage?"
   ]
  },
  {
   "cell_type": "code",
   "execution_count": 133,
   "id": "09b2e71c-25cc-47fb-bed9-065064d390ed",
   "metadata": {},
   "outputs": [
    {
     "data": {
      "text/plain": [
       "41.9"
      ]
     },
     "execution_count": 133,
     "metadata": {},
     "output_type": "execute_result"
    }
   ],
   "source": [
    "round(percentages.sort_values(ascending=False)[0] * 100, 1)"
   ]
  },
  {
   "cell_type": "markdown",
   "id": "0b578db2-f80b-4fe2-a966-5f9f6526d7dc",
   "metadata": {},
   "source": [
    "answer: 41.9"
   ]
  },
  {
   "cell_type": "markdown",
   "id": "0373c1fe-148d-4b7e-a39d-7c0fc0968186",
   "metadata": {},
   "source": [
    "### 9. Identify the most popular occupation for those who earn >50k in India."
   ]
  },
  {
   "cell_type": "code",
   "execution_count": 200,
   "id": "e96f9e35-8b74-481c-9f40-ee44e2c371c8",
   "metadata": {},
   "outputs": [],
   "source": [
    "high_earn_india = df.loc[\n",
    "    (df['native-country']== 'India') & (df.salary== '>50K')\n",
    "    ,['occupation']\n",
    "]\n",
    "high_earn_india = \\\n",
    "    high_earn_india.groupby('occupation').occupation.count().sort_values(ascending=False)\n",
    "# did the groupby+count combo because value counts were returning the index strings in an annoying format"
   ]
  },
  {
   "cell_type": "code",
   "execution_count": 201,
   "id": "66158073-a4a0-418d-aca6-256117c9bfbf",
   "metadata": {},
   "outputs": [
    {
     "data": {
      "text/plain": [
       "'Prof-specialty'"
      ]
     },
     "execution_count": 201,
     "metadata": {},
     "output_type": "execute_result"
    }
   ],
   "source": [
    "high_earn_india.index[0]"
   ]
  },
  {
   "cell_type": "markdown",
   "id": "0128b3f8-1f19-47eb-959a-3d1fda03af9d",
   "metadata": {},
   "source": [
    "answer: 'Prof-speciality'"
   ]
  }
 ],
 "metadata": {
  "kernelspec": {
   "display_name": "Python 3 (ipykernel)",
   "language": "python",
   "name": "python3"
  },
  "language_info": {
   "codemirror_mode": {
    "name": "ipython",
    "version": 3
   },
   "file_extension": ".py",
   "mimetype": "text/x-python",
   "name": "python",
   "nbconvert_exporter": "python",
   "pygments_lexer": "ipython3",
   "version": "3.9.12"
  }
 },
 "nbformat": 4,
 "nbformat_minor": 5
}

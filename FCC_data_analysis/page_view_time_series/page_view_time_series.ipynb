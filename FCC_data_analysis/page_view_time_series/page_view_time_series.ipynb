{
 "cells": [
  {
   "cell_type": "markdown",
   "id": "c4bc78f1-aac9-4bb2-8f75-3d8d6ce46464",
   "metadata": {
    "tags": []
   },
   "source": [
    "Perry Fox 6/20/23\n",
    "\n",
    "# Page View Time Series Visualizer\n",
    "\"For this project you will visualize time series data using a line chart, bar chart, and box plots. You will use Pandas, Matplotlib, and Seaborn to visualize a dataset containing the number of page views each day on the freeCodeCamp.org forum from 2016-05-09 to 2019-12-03. The data visualizations will help you understand the patterns in visits and identify yearly and monthly growth.\"\n",
    "\n",
    "This notebook was created first and then adapted to the replit python file for unit testing and submission:\n",
    "https://replit.com/@Pyrus277/boilerplate-page-view-time-series-visualizer"
   ]
  },
  {
   "cell_type": "markdown",
   "id": "4c4ee3ee-5840-45c2-a89a-1fd6631f13cf",
   "metadata": {},
   "source": [
    "### Data description: \n",
    "- Rows: Dates  \n",
    "- Cols: Page views  "
   ]
  },
  {
   "cell_type": "code",
   "execution_count": 1,
   "id": "403b3343-154b-4267-a888-efab5fedc84b",
   "metadata": {},
   "outputs": [],
   "source": [
    "import matplotlib.pyplot as plt\n",
    "import matplotlib.dates as mdates\n",
    "import datetime\n",
    "import pandas as pd\n",
    "import seaborn as sns\n",
    "# from pandas.plotting import register_matplotlib_converters\n",
    "# register_matplotlib_converters()"
   ]
  },
  {
   "cell_type": "code",
   "execution_count": 2,
   "id": "9af04f9f-c62d-4f2c-baf6-2d5d9bf84bdb",
   "metadata": {},
   "outputs": [],
   "source": [
    "df = pd.read_csv('fcc-forum-pageviews.csv', index_col='date')"
   ]
  },
  {
   "cell_type": "markdown",
   "id": "cf943ac4-8e6f-401e-9a4f-b1a1ba34b1b7",
   "metadata": {},
   "source": [
    "#### A look at the data and removal of page view date outliers"
   ]
  },
  {
   "cell_type": "code",
   "execution_count": 3,
   "id": "84266bf8-5471-4589-842c-8f15ca8a16a0",
   "metadata": {},
   "outputs": [
    {
     "data": {
      "text/html": [
       "<div>\n",
       "<style scoped>\n",
       "    .dataframe tbody tr th:only-of-type {\n",
       "        vertical-align: middle;\n",
       "    }\n",
       "\n",
       "    .dataframe tbody tr th {\n",
       "        vertical-align: top;\n",
       "    }\n",
       "\n",
       "    .dataframe thead th {\n",
       "        text-align: right;\n",
       "    }\n",
       "</style>\n",
       "<table border=\"1\" class=\"dataframe\">\n",
       "  <thead>\n",
       "    <tr style=\"text-align: right;\">\n",
       "      <th></th>\n",
       "      <th>value</th>\n",
       "    </tr>\n",
       "    <tr>\n",
       "      <th>date</th>\n",
       "      <th></th>\n",
       "    </tr>\n",
       "  </thead>\n",
       "  <tbody>\n",
       "    <tr>\n",
       "      <th>2016-05-09</th>\n",
       "      <td>1201</td>\n",
       "    </tr>\n",
       "    <tr>\n",
       "      <th>2016-05-10</th>\n",
       "      <td>2329</td>\n",
       "    </tr>\n",
       "    <tr>\n",
       "      <th>2016-05-11</th>\n",
       "      <td>1716</td>\n",
       "    </tr>\n",
       "    <tr>\n",
       "      <th>2016-05-12</th>\n",
       "      <td>10539</td>\n",
       "    </tr>\n",
       "    <tr>\n",
       "      <th>2016-05-13</th>\n",
       "      <td>6933</td>\n",
       "    </tr>\n",
       "  </tbody>\n",
       "</table>\n",
       "</div>"
      ],
      "text/plain": [
       "            value\n",
       "date             \n",
       "2016-05-09   1201\n",
       "2016-05-10   2329\n",
       "2016-05-11   1716\n",
       "2016-05-12  10539\n",
       "2016-05-13   6933"
      ]
     },
     "execution_count": 3,
     "metadata": {},
     "output_type": "execute_result"
    }
   ],
   "source": [
    "df.head()"
   ]
  },
  {
   "cell_type": "code",
   "execution_count": 4,
   "id": "b5e36040-124a-448d-bfa9-14668c8e35ed",
   "metadata": {},
   "outputs": [
    {
     "data": {
      "text/plain": [
       "value    0\n",
       "dtype: int64"
      ]
     },
     "execution_count": 4,
     "metadata": {},
     "output_type": "execute_result"
    }
   ],
   "source": [
    "df.isnull().sum()"
   ]
  },
  {
   "cell_type": "code",
   "execution_count": 5,
   "id": "ca921ea1-1fbd-4d6c-af11-e361f8dc14bd",
   "metadata": {},
   "outputs": [
    {
     "name": "stdout",
     "output_type": "stream",
     "text": [
      "<class 'pandas.core.frame.DataFrame'>\n",
      "Index: 1304 entries, 2016-05-09 to 2019-12-03\n",
      "Data columns (total 1 columns):\n",
      " #   Column  Non-Null Count  Dtype\n",
      "---  ------  --------------  -----\n",
      " 0   value   1304 non-null   int64\n",
      "dtypes: int64(1)\n",
      "memory usage: 20.4+ KB\n"
     ]
    }
   ],
   "source": [
    "df.info()"
   ]
  },
  {
   "cell_type": "code",
   "execution_count": 6,
   "id": "ccb1f1fc-34fc-4d88-9cbf-f3682245d986",
   "metadata": {},
   "outputs": [
    {
     "data": {
      "text/html": [
       "<div>\n",
       "<style scoped>\n",
       "    .dataframe tbody tr th:only-of-type {\n",
       "        vertical-align: middle;\n",
       "    }\n",
       "\n",
       "    .dataframe tbody tr th {\n",
       "        vertical-align: top;\n",
       "    }\n",
       "\n",
       "    .dataframe thead th {\n",
       "        text-align: right;\n",
       "    }\n",
       "</style>\n",
       "<table border=\"1\" class=\"dataframe\">\n",
       "  <thead>\n",
       "    <tr style=\"text-align: right;\">\n",
       "      <th></th>\n",
       "      <th>count</th>\n",
       "      <th>mean</th>\n",
       "      <th>std</th>\n",
       "      <th>min</th>\n",
       "      <th>25%</th>\n",
       "      <th>50%</th>\n",
       "      <th>75%</th>\n",
       "      <th>max</th>\n",
       "    </tr>\n",
       "  </thead>\n",
       "  <tbody>\n",
       "    <tr>\n",
       "      <th>value</th>\n",
       "      <td>1304</td>\n",
       "      <td>67220.7</td>\n",
       "      <td>59339.6</td>\n",
       "      <td>1201</td>\n",
       "      <td>35757.8</td>\n",
       "      <td>57197.5</td>\n",
       "      <td>83883</td>\n",
       "      <td>1.17366e+06</td>\n",
       "    </tr>\n",
       "  </tbody>\n",
       "</table>\n",
       "</div>"
      ],
      "text/plain": [
       "      count     mean      std   min      25%      50%    75%          max\n",
       "value  1304  67220.7  59339.6  1201  35757.8  57197.5  83883  1.17366e+06"
      ]
     },
     "execution_count": 6,
     "metadata": {},
     "output_type": "execute_result"
    }
   ],
   "source": [
    "df.describe().apply(lambda s: s.apply(lambda x: format(x, 'g'))).T"
   ]
  },
  {
   "cell_type": "code",
   "execution_count": 7,
   "id": "af0280d1-4bf3-4167-9f0e-781f67a6f56a",
   "metadata": {},
   "outputs": [
    {
     "data": {
      "text/plain": [
       "(1304,)"
      ]
     },
     "execution_count": 7,
     "metadata": {},
     "output_type": "execute_result"
    }
   ],
   "source": [
    "# check if duplicates. If none, row count should be 1304\n",
    "df.reset_index().duplicated().shape"
   ]
  },
  {
   "cell_type": "code",
   "execution_count": 8,
   "id": "6690f328-3b88-46a8-b16e-902d32d8d894",
   "metadata": {},
   "outputs": [],
   "source": [
    "# remove > 2.5 percentile outliers \n",
    "df = df[(df['value'] > df['value'].quantile(0.025)) &\n",
    "(df['value'] < df['value'].quantile(0.975))]"
   ]
  },
  {
   "cell_type": "code",
   "execution_count": 9,
   "id": "a55116df-1ca8-4d1b-bf6d-964a0df205cf",
   "metadata": {},
   "outputs": [
    {
     "data": {
      "text/plain": [
       "(1238, 1)"
      ]
     },
     "execution_count": 9,
     "metadata": {},
     "output_type": "execute_result"
    }
   ],
   "source": [
    "df.shape"
   ]
  },
  {
   "cell_type": "markdown",
   "id": "abe776a6-3b36-476a-a344-169ac935a799",
   "metadata": {},
   "source": [
    "#### Create a line plot "
   ]
  },
  {
   "cell_type": "code",
   "execution_count": 10,
   "id": "9a0779a3-a599-4ba9-b01d-e7bb88baac7e",
   "metadata": {},
   "outputs": [
    {
     "data": {
      "image/png": "[encoded data removed]",
      "text/plain": [
       "<Figure size 1080x360 with 1 Axes>"
      ]
     },
     "metadata": {
      "needs_background": "light"
     },
     "output_type": "display_data"
    }
   ],
   "source": [
    "df_line = df.copy()\n",
    "# convert the df index to datetime format so mdates can work to divvy it up.\n",
    "df_line.index = pd.to_datetime(df_line.index)\n",
    "\n",
    "fig, ax = plt.subplots(figsize=(15,5))\n",
    "\n",
    "ax.plot(df_line, 'r', linewidth=.70)\n",
    "\n",
    "ax.xaxis.set_major_locator(mdates.MonthLocator(bymonth=[1, 7]))\n",
    "ax.xaxis.set_major_formatter(mdates.DateFormatter('%Y-%m'))\n",
    "\n",
    "ax.set_title(\"Daily freeCodeCamp Forum Page Views 5/2016-12/2019\")\n",
    "ax.set_xlabel('Date')\n",
    "ax.set_ylabel('Page Views')\n",
    "plt.show()"
   ]
  },
  {
   "cell_type": "markdown",
   "id": "31b5665a-35f8-400f-b980-0ad061ea3841",
   "metadata": {},
   "source": [
    "#### Create a bar plot \n",
    "- Show avg daily page views for each month grouped by year. \n",
    "- Legend should show month labels and have a title of Months\n",
    "- x-axis label = 'Years', y-axis label = 'Average'"
   ]
  },
  {
   "cell_type": "code",
   "execution_count": 11,
   "id": "15b4172f-8436-40a8-ba29-f055b839677c",
   "metadata": {},
   "outputs": [],
   "source": [
    "df_bar = df.copy()\n",
    "df_bar.index = pd.to_datetime(df_bar.index)"
   ]
  },
  {
   "cell_type": "code",
   "execution_count": 12,
   "id": "f68a54cb-25c3-4eb7-a4d0-f38c5f211216",
   "metadata": {},
   "outputs": [],
   "source": [
    "df_bar.reset_index(inplace=True)\n",
    "df_bar['month'] = df_bar.date.dt.month_name()\n",
    "df_bar['year'] = df_bar.date.dt.year"
   ]
  },
  {
   "cell_type": "code",
   "execution_count": 15,
   "id": "337a5d22-2993-4aec-9ce7-8983eea88dd5",
   "metadata": {},
   "outputs": [
    {
     "data": {
      "text/html": [
       "<div>\n",
       "<style scoped>\n",
       "    .dataframe tbody tr th:only-of-type {\n",
       "        vertical-align: middle;\n",
       "    }\n",
       "\n",
       "    .dataframe tbody tr th {\n",
       "        vertical-align: top;\n",
       "    }\n",
       "\n",
       "    .dataframe thead th {\n",
       "        text-align: right;\n",
       "    }\n",
       "</style>\n",
       "<table border=\"1\" class=\"dataframe\">\n",
       "  <thead>\n",
       "    <tr style=\"text-align: right;\">\n",
       "      <th></th>\n",
       "      <th>date</th>\n",
       "      <th>value</th>\n",
       "      <th>month</th>\n",
       "      <th>year</th>\n",
       "    </tr>\n",
       "  </thead>\n",
       "  <tbody>\n",
       "    <tr>\n",
       "      <th>0</th>\n",
       "      <td>2016-05-19</td>\n",
       "      <td>19736</td>\n",
       "      <td>May</td>\n",
       "      <td>2016</td>\n",
       "    </tr>\n",
       "    <tr>\n",
       "      <th>1</th>\n",
       "      <td>2016-05-26</td>\n",
       "      <td>18060</td>\n",
       "      <td>May</td>\n",
       "      <td>2016</td>\n",
       "    </tr>\n",
       "    <tr>\n",
       "      <th>2</th>\n",
       "      <td>2016-05-27</td>\n",
       "      <td>19997</td>\n",
       "      <td>May</td>\n",
       "      <td>2016</td>\n",
       "    </tr>\n",
       "    <tr>\n",
       "      <th>3</th>\n",
       "      <td>2016-05-28</td>\n",
       "      <td>19044</td>\n",
       "      <td>May</td>\n",
       "      <td>2016</td>\n",
       "    </tr>\n",
       "    <tr>\n",
       "      <th>4</th>\n",
       "      <td>2016-05-29</td>\n",
       "      <td>20325</td>\n",
       "      <td>May</td>\n",
       "      <td>2016</td>\n",
       "    </tr>\n",
       "  </tbody>\n",
       "</table>\n",
       "</div>"
      ],
      "text/plain": [
       "        date  value month  year\n",
       "0 2016-05-19  19736   May  2016\n",
       "1 2016-05-26  18060   May  2016\n",
       "2 2016-05-27  19997   May  2016\n",
       "3 2016-05-28  19044   May  2016\n",
       "4 2016-05-29  20325   May  2016"
      ]
     },
     "execution_count": 15,
     "metadata": {},
     "output_type": "execute_result"
    }
   ],
   "source": [
    "df_bar.head()"
   ]
  },
  {
   "cell_type": "code",
   "execution_count": 16,
   "id": "3283d339-9b4f-4e7f-9c97-7a64dd6de2df",
   "metadata": {},
   "outputs": [],
   "source": [
    "df_bar = df_bar.groupby(['year','month']).agg(mean_total_bill=(\"value\", 'mean'))\n",
    "df_bar = df_bar.reset_index()"
   ]
  },
  {
   "cell_type": "code",
   "execution_count": 17,
   "id": "582902c4-c2b8-48e6-bcc3-accdf5c8f2c2",
   "metadata": {},
   "outputs": [
    {
     "data": {
      "text/html": [
       "<div>\n",
       "<style scoped>\n",
       "    .dataframe tbody tr th:only-of-type {\n",
       "        vertical-align: middle;\n",
       "    }\n",
       "\n",
       "    .dataframe tbody tr th {\n",
       "        vertical-align: top;\n",
       "    }\n",
       "\n",
       "    .dataframe thead th {\n",
       "        text-align: right;\n",
       "    }\n",
       "</style>\n",
       "<table border=\"1\" class=\"dataframe\">\n",
       "  <thead>\n",
       "    <tr style=\"text-align: right;\">\n",
       "      <th></th>\n",
       "      <th>year</th>\n",
       "      <th>month</th>\n",
       "      <th>mean_total_bill</th>\n",
       "    </tr>\n",
       "  </thead>\n",
       "  <tbody>\n",
       "    <tr>\n",
       "      <th>0</th>\n",
       "      <td>2016</td>\n",
       "      <td>August</td>\n",
       "      <td>31049.193548</td>\n",
       "    </tr>\n",
       "    <tr>\n",
       "      <th>1</th>\n",
       "      <td>2016</td>\n",
       "      <td>December</td>\n",
       "      <td>27832.419355</td>\n",
       "    </tr>\n",
       "    <tr>\n",
       "      <th>2</th>\n",
       "      <td>2016</td>\n",
       "      <td>July</td>\n",
       "      <td>24109.678571</td>\n",
       "    </tr>\n",
       "    <tr>\n",
       "      <th>3</th>\n",
       "      <td>2016</td>\n",
       "      <td>June</td>\n",
       "      <td>21875.105263</td>\n",
       "    </tr>\n",
       "    <tr>\n",
       "      <th>4</th>\n",
       "      <td>2016</td>\n",
       "      <td>May</td>\n",
       "      <td>19432.400000</td>\n",
       "    </tr>\n",
       "  </tbody>\n",
       "</table>\n",
       "</div>"
      ],
      "text/plain": [
       "   year     month  mean_total_bill\n",
       "0  2016    August     31049.193548\n",
       "1  2016  December     27832.419355\n",
       "2  2016      July     24109.678571\n",
       "3  2016      June     21875.105263\n",
       "4  2016       May     19432.400000"
      ]
     },
     "execution_count": 17,
     "metadata": {},
     "output_type": "execute_result"
    }
   ],
   "source": [
    "df_bar.head()"
   ]
  },
  {
   "cell_type": "code",
   "execution_count": 18,
   "id": "63a1c22a-91c2-4952-a78a-5e830d5d09f1",
   "metadata": {},
   "outputs": [
    {
     "data": {
      "text/plain": [
       "<matplotlib.legend.Legend at 0x1ca62f37520>"
      ]
     },
     "execution_count": 18,
     "metadata": {},
     "output_type": "execute_result"
    },
    {
     "data": {
      "image/png": "[encoded data removed]",
      "text/plain": [
       "<Figure size 720x720 with 1 Axes>"
      ]
     },
     "metadata": {
      "needs_background": "light"
     },
     "output_type": "display_data"
    }
   ],
   "source": [
    "fig, ax = plt.subplots(figsize=(10,10))\n",
    "\n",
    "sns.barplot(x='year',\n",
    "            y='mean_total_bill',\n",
    "            hue='month',\n",
    "            hue_order = ['January', 'February', 'March', 'April', 'May', 'June', 'July',\n",
    "               'August', 'September', 'October', 'November', 'December'],\n",
    "            palette=\"bright\",\n",
    "            data=df_bar)\n",
    "ax.set_xlabel('Years')\n",
    "ax.set_ylabel('Average Page Views')\n",
    "ax.legend(loc='upper left')"
   ]
  },
  {
   "cell_type": "markdown",
   "id": "e72f3f83-4843-4e6f-baf5-db8fdc85ace9",
   "metadata": {},
   "source": [
    "#### Create a box plot"
   ]
  },
  {
   "cell_type": "code",
   "execution_count": 19,
   "id": "57c1072b-8a7a-4d1b-a036-0edc45da64e2",
   "metadata": {},
   "outputs": [],
   "source": [
    "df_box = df.copy()\n",
    "df_box.index = pd.to_datetime(df_box.index)\n",
    "df_box.reset_index(inplace=True)"
   ]
  },
  {
   "cell_type": "code",
   "execution_count": 20,
   "id": "2685b6f9-e7f1-46d1-89bb-6fee4e43a0e7",
   "metadata": {},
   "outputs": [],
   "source": [
    "df_box['year'] = [d.year for d in df_box.date]\n",
    "df_box['month'] = [d.strftime('%b') for d in df_box.date]"
   ]
  },
  {
   "cell_type": "code",
   "execution_count": 21,
   "id": "35a54b5b-26c9-4d44-bfa7-73b945a249a7",
   "metadata": {},
   "outputs": [
    {
     "data": {
      "text/html": [
       "<div>\n",
       "<style scoped>\n",
       "    .dataframe tbody tr th:only-of-type {\n",
       "        vertical-align: middle;\n",
       "    }\n",
       "\n",
       "    .dataframe tbody tr th {\n",
       "        vertical-align: top;\n",
       "    }\n",
       "\n",
       "    .dataframe thead th {\n",
       "        text-align: right;\n",
       "    }\n",
       "</style>\n",
       "<table border=\"1\" class=\"dataframe\">\n",
       "  <thead>\n",
       "    <tr style=\"text-align: right;\">\n",
       "      <th></th>\n",
       "      <th>date</th>\n",
       "      <th>value</th>\n",
       "      <th>year</th>\n",
       "      <th>month</th>\n",
       "    </tr>\n",
       "  </thead>\n",
       "  <tbody>\n",
       "    <tr>\n",
       "      <th>0</th>\n",
       "      <td>2016-05-19</td>\n",
       "      <td>19736</td>\n",
       "      <td>2016</td>\n",
       "      <td>May</td>\n",
       "    </tr>\n",
       "    <tr>\n",
       "      <th>1</th>\n",
       "      <td>2016-05-26</td>\n",
       "      <td>18060</td>\n",
       "      <td>2016</td>\n",
       "      <td>May</td>\n",
       "    </tr>\n",
       "    <tr>\n",
       "      <th>2</th>\n",
       "      <td>2016-05-27</td>\n",
       "      <td>19997</td>\n",
       "      <td>2016</td>\n",
       "      <td>May</td>\n",
       "    </tr>\n",
       "    <tr>\n",
       "      <th>3</th>\n",
       "      <td>2016-05-28</td>\n",
       "      <td>19044</td>\n",
       "      <td>2016</td>\n",
       "      <td>May</td>\n",
       "    </tr>\n",
       "    <tr>\n",
       "      <th>4</th>\n",
       "      <td>2016-05-29</td>\n",
       "      <td>20325</td>\n",
       "      <td>2016</td>\n",
       "      <td>May</td>\n",
       "    </tr>\n",
       "  </tbody>\n",
       "</table>\n",
       "</div>"
      ],
      "text/plain": [
       "        date  value  year month\n",
       "0 2016-05-19  19736  2016   May\n",
       "1 2016-05-26  18060  2016   May\n",
       "2 2016-05-27  19997  2016   May\n",
       "3 2016-05-28  19044  2016   May\n",
       "4 2016-05-29  20325  2016   May"
      ]
     },
     "execution_count": 21,
     "metadata": {},
     "output_type": "execute_result"
    }
   ],
   "source": [
    "df_box.head()"
   ]
  },
  {
   "cell_type": "code",
   "execution_count": 22,
   "id": "918eb044-9a0f-44ce-afef-02b6d5fb0c48",
   "metadata": {},
   "outputs": [],
   "source": [
    "months = ['Jan', 'Feb', 'Mar', 'Apr', 'May', 'Jun', 'Jul',\n",
    "               'Aug', 'Sep', 'Oct', 'Nov', 'Dec']"
   ]
  },
  {
   "cell_type": "code",
   "execution_count": 25,
   "id": "f0330b57-f4e9-4ec1-8656-04572d2fb88e",
   "metadata": {},
   "outputs": [
    {
     "data": {
      "text/plain": [
       "Text(0.5, 0, 'Month')"
      ]
     },
     "execution_count": 25,
     "metadata": {},
     "output_type": "execute_result"
    },
    {
     "data": {
      "image/png": "[encoded data removed]",
      "text/plain": [
       "<Figure size 1080x360 with 2 Axes>"
      ]
     },
     "metadata": {
      "needs_background": "light"
     },
     "output_type": "display_data"
    }
   ],
   "source": [
    "fig, axes = plt.subplots(nrows=1, ncols=2, figsize=(15,5))\n",
    "\n",
    "sns.boxplot(x=df_box['year'], y=df_box['value'], ax=axes[0])\n",
    "axes[0].set_title('Year-wise Box Plot (Trend)')\n",
    "axes[0].set_ylabel('Page Views')\n",
    "axes[0].set_xlabel('Year')\n",
    "\n",
    "sns.boxplot(x=df_box['month'],y=df_box['value'], order=months, ax=axes[1])\n",
    "axes[1].set_title('Month-wise Box Plot (Seasonality)')\n",
    "axes[1].set_ylabel('Page Views')\n",
    "axes[1].set_xlabel('Month')\n"
   ]
  },
  {
   "cell_type": "code",
   "execution_count": null,
   "id": "71b0851a-8e86-42d8-9d3d-f0031bfe38ed",
   "metadata": {},
   "outputs": [],
   "source": []
  },
  {
   "cell_type": "markdown",
   "id": "4c1b60f0-e34a-4705-aea1-d4dd673010bb",
   "metadata": {},
   "source": [
    "#### Notes\n",
    "For each chart make sure to use a copy of the dataframe"
   ]
  },
  {
   "cell_type": "code",
   "execution_count": null,
   "id": "0677c650-3681-41ea-9366-9458388ab7ba",
   "metadata": {},
   "outputs": [],
   "source": [
    "# Given:\n",
    "# df_box = df.copy()\n",
    "# df_box.reset_index(inplace=True)\n",
    "# df_box['year'] = [d.year for d in df_box.date]\n",
    "# df_box['month'] = [d.strftime('%b') for d in df_box.date]"
   ]
  },
  {
   "cell_type": "code",
   "execution_count": null,
   "id": "2d4539cf-8b79-4207-9efa-e87d8ba4f9e2",
   "metadata": {},
   "outputs": [],
   "source": []
  },
  {
   "cell_type": "code",
   "execution_count": null,
   "id": "89388d18-56e6-446d-abfd-d9eb9bb735ab",
   "metadata": {},
   "outputs": [],
   "source": []
  }
 ],
 "metadata": {
  "kernelspec": {
   "display_name": "Python 3 (ipykernel)",
   "language": "python",
   "name": "python3"
  },
  "language_info": {
   "codemirror_mode": {
    "name": "ipython",
    "version": 3
   },
   "file_extension": ".py",
   "mimetype": "text/x-python",
   "name": "python",
   "nbconvert_exporter": "python",
   "pygments_lexer": "ipython3",
   "version": "3.9.12"
  }
 },
 "nbformat": 4,
 "nbformat_minor": 5
}

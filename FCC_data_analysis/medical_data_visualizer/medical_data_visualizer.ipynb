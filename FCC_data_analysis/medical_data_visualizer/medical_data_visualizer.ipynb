{
 "cells": [
  {
   "cell_type": "markdown",
   "id": "013524f0-9115-47c4-b1fd-b0bd86508f10",
   "metadata": {},
   "source": [
    "Perry Fox 5/31/23\n",
    "\n",
    "# Medical Data Visualizer\n",
    "\"In this project, you will visualize and make calculations from medical examination data using matplotlib, seaborn, and pandas. The dataset values were collected during medical examinations.\"\n",
    "\n",
    "This notebook was created first and then adapted to the replit python file for unit testing and submission:\n",
    "https://replit.com/@Pyrus277/boilerplate-medical-data-visualizer#test_module.py"
   ]
  },
  {
   "cell_type": "markdown",
   "id": "dec1b3e2-f36e-4206-82f5-0720d5379717",
   "metadata": {},
   "source": [
    "### Data description: \n",
    "- Rows: Patients  \n",
    "- Cols: Medical measurements  \n",
    "\n",
    "### Purpose:\n",
    "Explore the relationship between cardiac disease (denoted by the `cardio` feature), body measurements, blood markers, and lifestyle choices."
   ]
  },
  {
   "cell_type": "markdown",
   "id": "0fd67bcc-76a3-470d-8588-ecdd1d7864fc",
   "metadata": {},
   "source": [
    "---"
   ]
  },
  {
   "cell_type": "code",
   "execution_count": 16,
   "id": "8429aaa6-a1d6-45e3-abfd-8b4a4c2734c7",
   "metadata": {},
   "outputs": [],
   "source": [
    "import pandas as pd\n",
    "import seaborn as sns\n",
    "import matplotlib.pyplot as plt\n",
    "import numpy as np"
   ]
  },
  {
   "cell_type": "code",
   "execution_count": 17,
   "id": "c1fc7f6f-af58-4802-ba7e-c0ff1e45fa21",
   "metadata": {},
   "outputs": [
    {
     "data": {
      "text/html": [
       "<div>\n",
       "<style scoped>\n",
       "    .dataframe tbody tr th:only-of-type {\n",
       "        vertical-align: middle;\n",
       "    }\n",
       "\n",
       "    .dataframe tbody tr th {\n",
       "        vertical-align: top;\n",
       "    }\n",
       "\n",
       "    .dataframe thead th {\n",
       "        text-align: right;\n",
       "    }\n",
       "</style>\n",
       "<table border=\"1\" class=\"dataframe\">\n",
       "  <thead>\n",
       "    <tr style=\"text-align: right;\">\n",
       "      <th></th>\n",
       "      <th>id</th>\n",
       "      <th>age</th>\n",
       "      <th>sex</th>\n",
       "      <th>height</th>\n",
       "      <th>weight</th>\n",
       "      <th>ap_hi</th>\n",
       "      <th>ap_lo</th>\n",
       "      <th>cholesterol</th>\n",
       "      <th>gluc</th>\n",
       "      <th>smoke</th>\n",
       "      <th>alco</th>\n",
       "      <th>active</th>\n",
       "      <th>cardio</th>\n",
       "    </tr>\n",
       "  </thead>\n",
       "  <tbody>\n",
       "    <tr>\n",
       "      <th>0</th>\n",
       "      <td>0</td>\n",
       "      <td>18393</td>\n",
       "      <td>2</td>\n",
       "      <td>168</td>\n",
       "      <td>62.0</td>\n",
       "      <td>110</td>\n",
       "      <td>80</td>\n",
       "      <td>1</td>\n",
       "      <td>1</td>\n",
       "      <td>0</td>\n",
       "      <td>0</td>\n",
       "      <td>1</td>\n",
       "      <td>0</td>\n",
       "    </tr>\n",
       "    <tr>\n",
       "      <th>1</th>\n",
       "      <td>1</td>\n",
       "      <td>20228</td>\n",
       "      <td>1</td>\n",
       "      <td>156</td>\n",
       "      <td>85.0</td>\n",
       "      <td>140</td>\n",
       "      <td>90</td>\n",
       "      <td>3</td>\n",
       "      <td>1</td>\n",
       "      <td>0</td>\n",
       "      <td>0</td>\n",
       "      <td>1</td>\n",
       "      <td>1</td>\n",
       "    </tr>\n",
       "    <tr>\n",
       "      <th>2</th>\n",
       "      <td>2</td>\n",
       "      <td>18857</td>\n",
       "      <td>1</td>\n",
       "      <td>165</td>\n",
       "      <td>64.0</td>\n",
       "      <td>130</td>\n",
       "      <td>70</td>\n",
       "      <td>3</td>\n",
       "      <td>1</td>\n",
       "      <td>0</td>\n",
       "      <td>0</td>\n",
       "      <td>0</td>\n",
       "      <td>1</td>\n",
       "    </tr>\n",
       "    <tr>\n",
       "      <th>3</th>\n",
       "      <td>3</td>\n",
       "      <td>17623</td>\n",
       "      <td>2</td>\n",
       "      <td>169</td>\n",
       "      <td>82.0</td>\n",
       "      <td>150</td>\n",
       "      <td>100</td>\n",
       "      <td>1</td>\n",
       "      <td>1</td>\n",
       "      <td>0</td>\n",
       "      <td>0</td>\n",
       "      <td>1</td>\n",
       "      <td>1</td>\n",
       "    </tr>\n",
       "    <tr>\n",
       "      <th>4</th>\n",
       "      <td>4</td>\n",
       "      <td>17474</td>\n",
       "      <td>1</td>\n",
       "      <td>156</td>\n",
       "      <td>56.0</td>\n",
       "      <td>100</td>\n",
       "      <td>60</td>\n",
       "      <td>1</td>\n",
       "      <td>1</td>\n",
       "      <td>0</td>\n",
       "      <td>0</td>\n",
       "      <td>0</td>\n",
       "      <td>0</td>\n",
       "    </tr>\n",
       "  </tbody>\n",
       "</table>\n",
       "</div>"
      ],
      "text/plain": [
       "   id    age  sex  height  weight  ap_hi  ap_lo  cholesterol  gluc  smoke  \\\n",
       "0   0  18393    2     168    62.0    110     80            1     1      0   \n",
       "1   1  20228    1     156    85.0    140     90            3     1      0   \n",
       "2   2  18857    1     165    64.0    130     70            3     1      0   \n",
       "3   3  17623    2     169    82.0    150    100            1     1      0   \n",
       "4   4  17474    1     156    56.0    100     60            1     1      0   \n",
       "\n",
       "   alco  active  cardio  \n",
       "0     0       1       0  \n",
       "1     0       1       1  \n",
       "2     0       0       1  \n",
       "3     0       1       1  \n",
       "4     0       0       0  "
      ]
     },
     "execution_count": 17,
     "metadata": {},
     "output_type": "execute_result"
    }
   ],
   "source": [
    "df = pd.read_csv(\"medical_examination.csv\")\n",
    "df.head()"
   ]
  },
  {
   "cell_type": "code",
   "execution_count": 18,
   "id": "93b991ea-0a2d-4d88-a6f5-0bea44304816",
   "metadata": {},
   "outputs": [
    {
     "name": "stdout",
     "output_type": "stream",
     "text": [
      "<class 'pandas.core.frame.DataFrame'>\n",
      "RangeIndex: 70000 entries, 0 to 69999\n",
      "Data columns (total 13 columns):\n",
      " #   Column       Non-Null Count  Dtype  \n",
      "---  ------       --------------  -----  \n",
      " 0   id           70000 non-null  int64  \n",
      " 1   age          70000 non-null  int64  \n",
      " 2   sex          70000 non-null  int64  \n",
      " 3   height       70000 non-null  int64  \n",
      " 4   weight       70000 non-null  float64\n",
      " 5   ap_hi        70000 non-null  int64  \n",
      " 6   ap_lo        70000 non-null  int64  \n",
      " 7   cholesterol  70000 non-null  int64  \n",
      " 8   gluc         70000 non-null  int64  \n",
      " 9   smoke        70000 non-null  int64  \n",
      " 10  alco         70000 non-null  int64  \n",
      " 11  active       70000 non-null  int64  \n",
      " 12  cardio       70000 non-null  int64  \n",
      "dtypes: float64(1), int64(12)\n",
      "memory usage: 6.9 MB\n"
     ]
    }
   ],
   "source": [
    "df.info()"
   ]
  },
  {
   "cell_type": "markdown",
   "id": "93a6e41a-e6de-40ff-93ca-45f0bff8db36",
   "metadata": {},
   "source": [
    "---"
   ]
  },
  {
   "cell_type": "markdown",
   "id": "f5f6a541-877c-4c9a-b63a-104435bad250",
   "metadata": {
    "tags": []
   },
   "source": [
    "#### Tasks:\n",
    "**Create a categorical chart**  \n",
    "- Add an `overweight` column\n",
    "- Normalize the data by making 0 always good, and 1 always bad\n",
    "- Convert the data into long form and create a chart using seaborn's catplot(). This is the step where you emulate Figure_1.\n",
    "**Clean the data**\n",
    "- See notes in prompt\n",
    "**Create a correlation matrix**\n",
    "- Use seaborn's heatmap(). Mask the upper triangle. Emulate example Figure_2."
   ]
  },
  {
   "cell_type": "markdown",
   "id": "aaa404d2-c13e-4963-99dd-8741c0979aca",
   "metadata": {},
   "source": [
    "---"
   ]
  },
  {
   "cell_type": "markdown",
   "id": "3670a4b8-c248-4c30-8867-84530d64bb49",
   "metadata": {},
   "source": [
    "### Create a Categorical chart"
   ]
  },
  {
   "cell_type": "markdown",
   "id": "756b5ba2-611c-47ec-9fb3-355aafaccae5",
   "metadata": {},
   "source": [
    "Add an overweight column to the data.   \n",
    "BMI = weight(kg) / height^2(m)  \n",
    "BMI > 25 is overweight  \n",
    "1 = overweight, 0 = Not overweight\n",
    "  \n",
    "In the data `weight` is already in kg.  `height` is in centimeters"
   ]
  },
  {
   "cell_type": "code",
   "execution_count": 19,
   "id": "a30150af-5c76-4074-8059-2591ea13f8f4",
   "metadata": {},
   "outputs": [
    {
     "data": {
      "text/plain": [
       "0    0\n",
       "1    1\n",
       "2    0\n",
       "3    1\n",
       "4    0\n",
       "dtype: int64"
      ]
     },
     "execution_count": 19,
     "metadata": {},
     "output_type": "execute_result"
    }
   ],
   "source": [
    "bmi = df.weight / (df.height/100)**2\n",
    "overweight = bmi.apply(lambda x: 1 if(x>25) else 0) \n",
    "overweight.head()"
   ]
  },
  {
   "cell_type": "code",
   "execution_count": 20,
   "id": "9a4d96ef-af05-4805-8887-8c4661f7b6fe",
   "metadata": {},
   "outputs": [],
   "source": [
    "df['overweight'] = overweight # add the new column\n",
    "# keep target variable cardio, at the end:\n",
    "df = df.reindex(columns = [col for col in df.columns if col != 'cardio'] + ['cardio'])"
   ]
  },
  {
   "cell_type": "code",
   "execution_count": 21,
   "id": "70c96736-9e36-44a3-b37b-dde4c3f99621",
   "metadata": {},
   "outputs": [
    {
     "data": {
      "text/html": [
       "<div>\n",
       "<style scoped>\n",
       "    .dataframe tbody tr th:only-of-type {\n",
       "        vertical-align: middle;\n",
       "    }\n",
       "\n",
       "    .dataframe tbody tr th {\n",
       "        vertical-align: top;\n",
       "    }\n",
       "\n",
       "    .dataframe thead th {\n",
       "        text-align: right;\n",
       "    }\n",
       "</style>\n",
       "<table border=\"1\" class=\"dataframe\">\n",
       "  <thead>\n",
       "    <tr style=\"text-align: right;\">\n",
       "      <th></th>\n",
       "      <th>id</th>\n",
       "      <th>age</th>\n",
       "      <th>sex</th>\n",
       "      <th>height</th>\n",
       "      <th>weight</th>\n",
       "      <th>ap_hi</th>\n",
       "      <th>ap_lo</th>\n",
       "      <th>cholesterol</th>\n",
       "      <th>gluc</th>\n",
       "      <th>smoke</th>\n",
       "      <th>alco</th>\n",
       "      <th>active</th>\n",
       "      <th>overweight</th>\n",
       "      <th>cardio</th>\n",
       "    </tr>\n",
       "  </thead>\n",
       "  <tbody>\n",
       "    <tr>\n",
       "      <th>0</th>\n",
       "      <td>0</td>\n",
       "      <td>18393</td>\n",
       "      <td>2</td>\n",
       "      <td>168</td>\n",
       "      <td>62.0</td>\n",
       "      <td>110</td>\n",
       "      <td>80</td>\n",
       "      <td>1</td>\n",
       "      <td>1</td>\n",
       "      <td>0</td>\n",
       "      <td>0</td>\n",
       "      <td>1</td>\n",
       "      <td>0</td>\n",
       "      <td>0</td>\n",
       "    </tr>\n",
       "    <tr>\n",
       "      <th>1</th>\n",
       "      <td>1</td>\n",
       "      <td>20228</td>\n",
       "      <td>1</td>\n",
       "      <td>156</td>\n",
       "      <td>85.0</td>\n",
       "      <td>140</td>\n",
       "      <td>90</td>\n",
       "      <td>3</td>\n",
       "      <td>1</td>\n",
       "      <td>0</td>\n",
       "      <td>0</td>\n",
       "      <td>1</td>\n",
       "      <td>1</td>\n",
       "      <td>1</td>\n",
       "    </tr>\n",
       "    <tr>\n",
       "      <th>2</th>\n",
       "      <td>2</td>\n",
       "      <td>18857</td>\n",
       "      <td>1</td>\n",
       "      <td>165</td>\n",
       "      <td>64.0</td>\n",
       "      <td>130</td>\n",
       "      <td>70</td>\n",
       "      <td>3</td>\n",
       "      <td>1</td>\n",
       "      <td>0</td>\n",
       "      <td>0</td>\n",
       "      <td>0</td>\n",
       "      <td>0</td>\n",
       "      <td>1</td>\n",
       "    </tr>\n",
       "    <tr>\n",
       "      <th>3</th>\n",
       "      <td>3</td>\n",
       "      <td>17623</td>\n",
       "      <td>2</td>\n",
       "      <td>169</td>\n",
       "      <td>82.0</td>\n",
       "      <td>150</td>\n",
       "      <td>100</td>\n",
       "      <td>1</td>\n",
       "      <td>1</td>\n",
       "      <td>0</td>\n",
       "      <td>0</td>\n",
       "      <td>1</td>\n",
       "      <td>1</td>\n",
       "      <td>1</td>\n",
       "    </tr>\n",
       "    <tr>\n",
       "      <th>4</th>\n",
       "      <td>4</td>\n",
       "      <td>17474</td>\n",
       "      <td>1</td>\n",
       "      <td>156</td>\n",
       "      <td>56.0</td>\n",
       "      <td>100</td>\n",
       "      <td>60</td>\n",
       "      <td>1</td>\n",
       "      <td>1</td>\n",
       "      <td>0</td>\n",
       "      <td>0</td>\n",
       "      <td>0</td>\n",
       "      <td>0</td>\n",
       "      <td>0</td>\n",
       "    </tr>\n",
       "  </tbody>\n",
       "</table>\n",
       "</div>"
      ],
      "text/plain": [
       "   id    age  sex  height  weight  ap_hi  ap_lo  cholesterol  gluc  smoke  \\\n",
       "0   0  18393    2     168    62.0    110     80            1     1      0   \n",
       "1   1  20228    1     156    85.0    140     90            3     1      0   \n",
       "2   2  18857    1     165    64.0    130     70            3     1      0   \n",
       "3   3  17623    2     169    82.0    150    100            1     1      0   \n",
       "4   4  17474    1     156    56.0    100     60            1     1      0   \n",
       "\n",
       "   alco  active  overweight  cardio  \n",
       "0     0       1           0       0  \n",
       "1     0       1           1       1  \n",
       "2     0       0           0       1  \n",
       "3     0       1           1       1  \n",
       "4     0       0           0       0  "
      ]
     },
     "execution_count": 21,
     "metadata": {},
     "output_type": "execute_result"
    }
   ],
   "source": [
    "df.head() #data1"
   ]
  },
  {
   "cell_type": "markdown",
   "id": "75e516e5-ac27-4793-a15c-21b811c49915",
   "metadata": {},
   "source": [
    "Need to convert `cholesterol` and `gluc` in the same way:\n",
    "1 --> 0 \"Good\"  \n",
    "\\>1 --> 1 \"Bad\"\n",
    "\n",
    "Turns out `active` does not need similar converting."
   ]
  },
  {
   "cell_type": "code",
   "execution_count": 22,
   "id": "c9d52723-b9bc-4486-b8ee-fed777e3a238",
   "metadata": {},
   "outputs": [],
   "source": [
    "df['cholesterol'] = df.cholesterol.apply(lambda x: 1 if(x > 1) else 0)\n",
    "df['gluc'] = df.gluc.apply(lambda x: 1 if(x > 1) else 0)\n",
    "#df['active'] = df.active.replace({0:1,1:0})"
   ]
  },
  {
   "cell_type": "code",
   "execution_count": 23,
   "id": "e01c03cd-0258-415c-aca0-141a227d2284",
   "metadata": {},
   "outputs": [
    {
     "data": {
      "text/html": [
       "<div>\n",
       "<style scoped>\n",
       "    .dataframe tbody tr th:only-of-type {\n",
       "        vertical-align: middle;\n",
       "    }\n",
       "\n",
       "    .dataframe tbody tr th {\n",
       "        vertical-align: top;\n",
       "    }\n",
       "\n",
       "    .dataframe thead th {\n",
       "        text-align: right;\n",
       "    }\n",
       "</style>\n",
       "<table border=\"1\" class=\"dataframe\">\n",
       "  <thead>\n",
       "    <tr style=\"text-align: right;\">\n",
       "      <th></th>\n",
       "      <th>id</th>\n",
       "      <th>age</th>\n",
       "      <th>sex</th>\n",
       "      <th>height</th>\n",
       "      <th>weight</th>\n",
       "      <th>ap_hi</th>\n",
       "      <th>ap_lo</th>\n",
       "      <th>cholesterol</th>\n",
       "      <th>gluc</th>\n",
       "      <th>smoke</th>\n",
       "      <th>alco</th>\n",
       "      <th>active</th>\n",
       "      <th>overweight</th>\n",
       "      <th>cardio</th>\n",
       "    </tr>\n",
       "  </thead>\n",
       "  <tbody>\n",
       "    <tr>\n",
       "      <th>0</th>\n",
       "      <td>0</td>\n",
       "      <td>18393</td>\n",
       "      <td>2</td>\n",
       "      <td>168</td>\n",
       "      <td>62.0</td>\n",
       "      <td>110</td>\n",
       "      <td>80</td>\n",
       "      <td>0</td>\n",
       "      <td>0</td>\n",
       "      <td>0</td>\n",
       "      <td>0</td>\n",
       "      <td>1</td>\n",
       "      <td>0</td>\n",
       "      <td>0</td>\n",
       "    </tr>\n",
       "    <tr>\n",
       "      <th>1</th>\n",
       "      <td>1</td>\n",
       "      <td>20228</td>\n",
       "      <td>1</td>\n",
       "      <td>156</td>\n",
       "      <td>85.0</td>\n",
       "      <td>140</td>\n",
       "      <td>90</td>\n",
       "      <td>1</td>\n",
       "      <td>0</td>\n",
       "      <td>0</td>\n",
       "      <td>0</td>\n",
       "      <td>1</td>\n",
       "      <td>1</td>\n",
       "      <td>1</td>\n",
       "    </tr>\n",
       "    <tr>\n",
       "      <th>2</th>\n",
       "      <td>2</td>\n",
       "      <td>18857</td>\n",
       "      <td>1</td>\n",
       "      <td>165</td>\n",
       "      <td>64.0</td>\n",
       "      <td>130</td>\n",
       "      <td>70</td>\n",
       "      <td>1</td>\n",
       "      <td>0</td>\n",
       "      <td>0</td>\n",
       "      <td>0</td>\n",
       "      <td>0</td>\n",
       "      <td>0</td>\n",
       "      <td>1</td>\n",
       "    </tr>\n",
       "    <tr>\n",
       "      <th>3</th>\n",
       "      <td>3</td>\n",
       "      <td>17623</td>\n",
       "      <td>2</td>\n",
       "      <td>169</td>\n",
       "      <td>82.0</td>\n",
       "      <td>150</td>\n",
       "      <td>100</td>\n",
       "      <td>0</td>\n",
       "      <td>0</td>\n",
       "      <td>0</td>\n",
       "      <td>0</td>\n",
       "      <td>1</td>\n",
       "      <td>1</td>\n",
       "      <td>1</td>\n",
       "    </tr>\n",
       "    <tr>\n",
       "      <th>4</th>\n",
       "      <td>4</td>\n",
       "      <td>17474</td>\n",
       "      <td>1</td>\n",
       "      <td>156</td>\n",
       "      <td>56.0</td>\n",
       "      <td>100</td>\n",
       "      <td>60</td>\n",
       "      <td>0</td>\n",
       "      <td>0</td>\n",
       "      <td>0</td>\n",
       "      <td>0</td>\n",
       "      <td>0</td>\n",
       "      <td>0</td>\n",
       "      <td>0</td>\n",
       "    </tr>\n",
       "  </tbody>\n",
       "</table>\n",
       "</div>"
      ],
      "text/plain": [
       "   id    age  sex  height  weight  ap_hi  ap_lo  cholesterol  gluc  smoke  \\\n",
       "0   0  18393    2     168    62.0    110     80            0     0      0   \n",
       "1   1  20228    1     156    85.0    140     90            1     0      0   \n",
       "2   2  18857    1     165    64.0    130     70            1     0      0   \n",
       "3   3  17623    2     169    82.0    150    100            0     0      0   \n",
       "4   4  17474    1     156    56.0    100     60            0     0      0   \n",
       "\n",
       "   alco  active  overweight  cardio  \n",
       "0     0       1           0       0  \n",
       "1     0       1           1       1  \n",
       "2     0       0           0       1  \n",
       "3     0       1           1       1  \n",
       "4     0       0           0       0  "
      ]
     },
     "execution_count": 23,
     "metadata": {},
     "output_type": "execute_result"
    }
   ],
   "source": [
    "df.head() #data2"
   ]
  },
  {
   "cell_type": "markdown",
   "id": "b6cbf0d2-049c-48fc-aa8a-bc0725a7cec6",
   "metadata": {},
   "source": [
    "Create a long format df with only the categoric variables `active`, `alco`, `cholesterol`, `gluc`, `overweight`, `smoke`, and `cardio`:"
   ]
  },
  {
   "cell_type": "code",
   "execution_count": 24,
   "id": "68dacc4e-c9be-40e4-9d8f-1d244bcaae32",
   "metadata": {},
   "outputs": [],
   "source": [
    "chart_df = df[['active', 'alco', 'cholesterol', 'gluc', 'overweight', 'smoke', 'cardio']]"
   ]
  },
  {
   "cell_type": "code",
   "execution_count": 25,
   "id": "0d22547b-7421-436c-acb2-0cb4fbb314d8",
   "metadata": {},
   "outputs": [
    {
     "data": {
      "text/html": [
       "<div>\n",
       "<style scoped>\n",
       "    .dataframe tbody tr th:only-of-type {\n",
       "        vertical-align: middle;\n",
       "    }\n",
       "\n",
       "    .dataframe tbody tr th {\n",
       "        vertical-align: top;\n",
       "    }\n",
       "\n",
       "    .dataframe thead th {\n",
       "        text-align: right;\n",
       "    }\n",
       "</style>\n",
       "<table border=\"1\" class=\"dataframe\">\n",
       "  <thead>\n",
       "    <tr style=\"text-align: right;\">\n",
       "      <th></th>\n",
       "      <th>active</th>\n",
       "      <th>alco</th>\n",
       "      <th>cholesterol</th>\n",
       "      <th>gluc</th>\n",
       "      <th>overweight</th>\n",
       "      <th>smoke</th>\n",
       "      <th>cardio</th>\n",
       "    </tr>\n",
       "  </thead>\n",
       "  <tbody>\n",
       "    <tr>\n",
       "      <th>0</th>\n",
       "      <td>1</td>\n",
       "      <td>0</td>\n",
       "      <td>0</td>\n",
       "      <td>0</td>\n",
       "      <td>0</td>\n",
       "      <td>0</td>\n",
       "      <td>0</td>\n",
       "    </tr>\n",
       "    <tr>\n",
       "      <th>1</th>\n",
       "      <td>1</td>\n",
       "      <td>0</td>\n",
       "      <td>1</td>\n",
       "      <td>0</td>\n",
       "      <td>1</td>\n",
       "      <td>0</td>\n",
       "      <td>1</td>\n",
       "    </tr>\n",
       "    <tr>\n",
       "      <th>2</th>\n",
       "      <td>0</td>\n",
       "      <td>0</td>\n",
       "      <td>1</td>\n",
       "      <td>0</td>\n",
       "      <td>0</td>\n",
       "      <td>0</td>\n",
       "      <td>1</td>\n",
       "    </tr>\n",
       "    <tr>\n",
       "      <th>3</th>\n",
       "      <td>1</td>\n",
       "      <td>0</td>\n",
       "      <td>0</td>\n",
       "      <td>0</td>\n",
       "      <td>1</td>\n",
       "      <td>0</td>\n",
       "      <td>1</td>\n",
       "    </tr>\n",
       "    <tr>\n",
       "      <th>4</th>\n",
       "      <td>0</td>\n",
       "      <td>0</td>\n",
       "      <td>0</td>\n",
       "      <td>0</td>\n",
       "      <td>0</td>\n",
       "      <td>0</td>\n",
       "      <td>0</td>\n",
       "    </tr>\n",
       "  </tbody>\n",
       "</table>\n",
       "</div>"
      ],
      "text/plain": [
       "   active  alco  cholesterol  gluc  overweight  smoke  cardio\n",
       "0       1     0            0     0           0      0       0\n",
       "1       1     0            1     0           1      0       1\n",
       "2       0     0            1     0           0      0       1\n",
       "3       1     0            0     0           1      0       1\n",
       "4       0     0            0     0           0      0       0"
      ]
     },
     "execution_count": 25,
     "metadata": {},
     "output_type": "execute_result"
    }
   ],
   "source": [
    "chart_df.head() #data3"
   ]
  },
  {
   "cell_type": "code",
   "execution_count": 26,
   "id": "8ca5d115-5308-43e2-99a4-111ee50d65d8",
   "metadata": {},
   "outputs": [
    {
     "data": {
      "text/html": [
       "<div>\n",
       "<style scoped>\n",
       "    .dataframe tbody tr th:only-of-type {\n",
       "        vertical-align: middle;\n",
       "    }\n",
       "\n",
       "    .dataframe tbody tr th {\n",
       "        vertical-align: top;\n",
       "    }\n",
       "\n",
       "    .dataframe thead th {\n",
       "        text-align: right;\n",
       "    }\n",
       "</style>\n",
       "<table border=\"1\" class=\"dataframe\">\n",
       "  <thead>\n",
       "    <tr style=\"text-align: right;\">\n",
       "      <th></th>\n",
       "      <th>cardio</th>\n",
       "      <th>variable</th>\n",
       "      <th>value</th>\n",
       "    </tr>\n",
       "  </thead>\n",
       "  <tbody>\n",
       "    <tr>\n",
       "      <th>0</th>\n",
       "      <td>0</td>\n",
       "      <td>active</td>\n",
       "      <td>1</td>\n",
       "    </tr>\n",
       "    <tr>\n",
       "      <th>1</th>\n",
       "      <td>1</td>\n",
       "      <td>active</td>\n",
       "      <td>1</td>\n",
       "    </tr>\n",
       "    <tr>\n",
       "      <th>2</th>\n",
       "      <td>1</td>\n",
       "      <td>active</td>\n",
       "      <td>0</td>\n",
       "    </tr>\n",
       "    <tr>\n",
       "      <th>3</th>\n",
       "      <td>1</td>\n",
       "      <td>active</td>\n",
       "      <td>1</td>\n",
       "    </tr>\n",
       "    <tr>\n",
       "      <th>4</th>\n",
       "      <td>0</td>\n",
       "      <td>active</td>\n",
       "      <td>0</td>\n",
       "    </tr>\n",
       "  </tbody>\n",
       "</table>\n",
       "</div>"
      ],
      "text/plain": [
       "   cardio variable  value\n",
       "0       0   active      1\n",
       "1       1   active      1\n",
       "2       1   active      0\n",
       "3       1   active      1\n",
       "4       0   active      0"
      ]
     },
     "execution_count": 26,
     "metadata": {},
     "output_type": "execute_result"
    }
   ],
   "source": [
    "# use pd.melt to wide --> long (https://www.geeksforgeeks.org/python-pandas-melt/)\n",
    "chart_df = pd.melt(chart_df, id_vars = ['cardio'], \n",
    "        value_vars=['active', 'alco', 'cholesterol', 'gluc', \n",
    "                    'overweight', 'smoke'])                  \n",
    "chart_df.head()"
   ]
  },
  {
   "cell_type": "markdown",
   "id": "16a80a67-a034-4bc6-b4a7-10a5ac6088a9",
   "metadata": {},
   "source": [
    "Create a chart that shows the **value counts** of the **categorical features** using sns.catplot().\n",
    "Split data by `Cardio` so there's one chart for each cardio value"
   ]
  },
  {
   "cell_type": "code",
   "execution_count": 29,
   "id": "6b5aef0e-dcb5-4afd-9435-8e7fe8279f49",
   "metadata": {},
   "outputs": [
    {
     "data": {
      "image/png": "[encoded data removed]",
      "text/plain": [
       "<Figure size 1058.88x500 with 2 Axes>"
      ]
     },
     "metadata": {},
     "output_type": "display_data"
    }
   ],
   "source": [
    "fig = sns.catplot(x='variable',\n",
    "                  col='cardio',\n",
    "                  hue='value',\n",
    "                  kind='count',\n",
    "                  data=chart_df)\n",
    "fig = fig.set(ylabel='total').fig\n",
    "# syntax correct, df appears wrong, we need the each variable to have a column"
   ]
  },
  {
   "cell_type": "markdown",
   "id": "92883128-6afd-4876-bb27-772962d234cc",
   "metadata": {},
   "source": [
    "Done!"
   ]
  },
  {
   "cell_type": "markdown",
   "id": "0ee17313-19a4-413f-9225-5fc2272adba7",
   "metadata": {},
   "source": [
    "### Clean the data and make a correlation matrix"
   ]
  },
  {
   "cell_type": "code",
   "execution_count": null,
   "id": "556f7ea6-dc9a-44d5-aed2-e4cb609b333e",
   "metadata": {},
   "outputs": [],
   "source": [
    "df.head()"
   ]
  },
  {
   "cell_type": "code",
   "execution_count": null,
   "id": "c03087fc-f021-4fb0-bf32-9bd7a30abc35",
   "metadata": {},
   "outputs": [],
   "source": [
    "df.shape"
   ]
  },
  {
   "cell_type": "markdown",
   "id": "8b82883b-799d-46b6-acc3-d67a20336622",
   "metadata": {},
   "source": [
    "#### Cleaning\n",
    "Filter out rows where diastolic pressure is higher than systolic:"
   ]
  },
  {
   "cell_type": "code",
   "execution_count": null,
   "id": "fa95bab9-abe1-48bd-a8bf-289bc0822188",
   "metadata": {},
   "outputs": [],
   "source": [
    "df_heat = df[df['ap_lo'] <= df['ap_hi']] # bool mask to identify correct rows"
   ]
  },
  {
   "cell_type": "code",
   "execution_count": null,
   "id": "7fcabecd-4d39-4e61-93bd-b82941f98e4d",
   "metadata": {},
   "outputs": [],
   "source": [
    "df.shape # continued sanity checks"
   ]
  },
  {
   "cell_type": "markdown",
   "id": "43ffa5b8-9ef2-4211-ad9b-da2e842ae135",
   "metadata": {},
   "source": [
    "Filter out rows where height is less than the 2.5th percentile (so, height >= that percentile) and \n",
    "where height is more than the 97.5th percentile (so, height <= that percentile)"
   ]
  },
  {
   "cell_type": "code",
   "execution_count": null,
   "id": "c745d697-2238-4d3d-9399-75da454132b9",
   "metadata": {},
   "outputs": [],
   "source": [
    "# It makes sense to do these simultaneously since breaking out the steps will change the percentile spread\n",
    "# after the first filter. But if you get an error, try breaking the steps out. OR investigate if this method\n",
    "# isn't simultaneous enough!\n",
    "df_heat = df_heat[(df_heat['height'] >= df_heat['height'].quantile(0.025)) & \n",
    "                  (df_heat['height'] <= df_heat['height'].quantile(0.975)) ]"
   ]
  },
  {
   "cell_type": "code",
   "execution_count": null,
   "id": "431b791c-2383-4db5-ba4d-3a94c1a39158",
   "metadata": {},
   "outputs": [],
   "source": [
    "df_heat.shape"
   ]
  },
  {
   "cell_type": "markdown",
   "id": "8580e329-e125-4004-a599-05a70d789a6a",
   "metadata": {},
   "source": [
    "Filter out rows where weight is less than the 2.5th percentile (so, weight >= that percentile and where height is more than the 97.5th percentile (so wight <= that percentile)"
   ]
  },
  {
   "cell_type": "code",
   "execution_count": null,
   "id": "8afbb78e-6afc-4177-9302-100623051d32",
   "metadata": {},
   "outputs": [],
   "source": [
    "df_heat = df_heat[(df_heat['weight'] >= df_heat['weight'].quantile(0.025)) &\n",
    "                  (df_heat['weight'] <= df_heat['weight'].quantile(0.975)) ]"
   ]
  },
  {
   "cell_type": "code",
   "execution_count": null,
   "id": "1de35df5-b594-4bfb-8810-475518852825",
   "metadata": {},
   "outputs": [],
   "source": [
    "df_heat.shape"
   ]
  },
  {
   "cell_type": "code",
   "execution_count": null,
   "id": "f7c2164e-60bb-4f4f-ad78-452b9c91da92",
   "metadata": {},
   "outputs": [],
   "source": [
    "df_heat.head()"
   ]
  },
  {
   "cell_type": "markdown",
   "id": "fa6fe108-98c8-4358-8a80-d3cb9cc4cfe3",
   "metadata": {},
   "source": [
    "#### Create a Correlation Matrix \n",
    "using `sns.heatmap()`\n",
    "\n",
    "But first, some precise formatting so I don't get any validation errors when I move this over to replit:"
   ]
  },
  {
   "cell_type": "code",
   "execution_count": null,
   "id": "65fbcc61-a20c-48c1-b799-1803f768c9cd",
   "metadata": {},
   "outputs": [],
   "source": [
    "# change 'sex' to 'gender'\n",
    "df_heat.rename(columns={'sex':'gender'}, inplace=True)\n",
    "# swap col positions of 'overweight' and 'cardio'\n",
    "df_heat = df_heat.iloc[:,list(range(0,12)) + [13, 12]]"
   ]
  },
  {
   "cell_type": "code",
   "execution_count": null,
   "id": "5acc8486-94d3-4715-9e29-0cbff9fa0d50",
   "metadata": {},
   "outputs": [],
   "source": [
    "df_heat.head()"
   ]
  },
  {
   "cell_type": "code",
   "execution_count": null,
   "id": "74d17a91-f2be-4b1a-b6a5-7272979fbe16",
   "metadata": {},
   "outputs": [],
   "source": [
    "# calculate a correlation matrix\n",
    "corr = df_heat.corr()\n",
    "\n",
    "# create a mask for the upper triangle\n",
    "mask = np.triu(corr)\n",
    "\n",
    "# visualize with a heatmap (mask argument = mask)\n",
    "fig, ax = plt.subplots(figsize=(8,7))\n",
    "sns.heatmap(corr.round(1),annot=True, mask=mask, vmin=-0.15, \n",
    "            vmax=0.3, center=0, linewidth=.03, \n",
    "            cbar_kws={\"shrink\": .5,\"ticks\": [-0.08, 0.00, 0.08, 0.16, 0.24]},\n",
    "            )"
   ]
  },
  {
   "cell_type": "markdown",
   "id": "841c3ab2-4f41-48be-90ba-492386d28359",
   "metadata": {},
   "source": [
    "-Some numbers are off by .1-- height:overweight, height:weight, ap_lo:colesterol, maybe a rounding thing, maybe it was an issue with the data cleaning.\n",
    "-cbar is kinda off?\n",
    "\n",
    "Try uploading!"
   ]
  },
  {
   "cell_type": "code",
   "execution_count": null,
   "id": "9f98f707-7ea4-42c4-88ad-0c900826c317",
   "metadata": {},
   "outputs": [],
   "source": []
  },
  {
   "cell_type": "markdown",
   "id": "091f2ba7-fbca-4684-8e8c-df5ccb345afd",
   "metadata": {},
   "source": [
    "Notes: \n",
    "- store the cleaned data in `df_heat`\n",
    "- Calculate the correlation matrix and store in `corr`\n",
    "- Generate a mask for the upper triangle and store in `mask`\n",
    "- Setup the matplotlib figre and store like `fig, ax = ...`\n",
    "- Draw the heatmap with `sns.heatmap()"
   ]
  },
  {
   "cell_type": "code",
   "execution_count": null,
   "id": "13923690-bb08-4b8c-b079-2816c0a00276",
   "metadata": {},
   "outputs": [],
   "source": []
  }
 ],
 "metadata": {
  "kernelspec": {
   "display_name": "Python 3 (ipykernel)",
   "language": "python",
   "name": "python3"
  },
  "language_info": {
   "codemirror_mode": {
    "name": "ipython",
    "version": 3
   },
   "file_extension": ".py",
   "mimetype": "text/x-python",
   "name": "python",
   "nbconvert_exporter": "python",
   "pygments_lexer": "ipython3",
   "version": "3.9.12"
  }
 },
 "nbformat": 4,
 "nbformat_minor": 5
}

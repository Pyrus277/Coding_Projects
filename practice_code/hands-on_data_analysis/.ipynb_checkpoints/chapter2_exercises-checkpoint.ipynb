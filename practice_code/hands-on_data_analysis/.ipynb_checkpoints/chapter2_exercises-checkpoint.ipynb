{
 "cells": [
  {
   "cell_type": "markdown",
   "id": "9ed936c2-c593-4cd4-90db-833e18b48e34",
   "metadata": {},
   "source": [
    "Hands-On Data Analysis with Pandas, Stefanie Molin\n",
    "# Chapter 2 Exercises\n",
    "5/16/21  \n",
    "Data: data/parsed.csv\n",
    "\n",
    "These exercises involve exploring some historic earthquake data sourced from the US Geological Survey (USGS)."
   ]
  },
  {
   "cell_type": "code",
   "execution_count": 1,
   "id": "e6c01f8c-cc06-4a48-83d3-7191be5225c8",
   "metadata": {},
   "outputs": [],
   "source": [
    "import numpy as np\n",
    "import pandas as pd"
   ]
  },
  {
   "cell_type": "markdown",
   "id": "287964d2-d2b5-4cac-a2cc-1c7156322779",
   "metadata": {},
   "source": [
    "## Initial look at the data"
   ]
  },
  {
   "cell_type": "code",
   "execution_count": 14,
   "id": "b06bd3fb-d4cf-4db4-8d2f-3dd2d7c53364",
   "metadata": {},
   "outputs": [],
   "source": [
    "df = pd.read_csv('data/parsed.csv')"
   ]
  },
  {
   "cell_type": "code",
   "execution_count": 15,
   "id": "48d4863f-7c4d-4c4d-846e-011b360aaac6",
   "metadata": {},
   "outputs": [
    {
     "data": {
      "text/html": [
       "<div>\n",
       "<style scoped>\n",
       "    .dataframe tbody tr th:only-of-type {\n",
       "        vertical-align: middle;\n",
       "    }\n",
       "\n",
       "    .dataframe tbody tr th {\n",
       "        vertical-align: top;\n",
       "    }\n",
       "\n",
       "    .dataframe thead th {\n",
       "        text-align: right;\n",
       "    }\n",
       "</style>\n",
       "<table border=\"1\" class=\"dataframe\">\n",
       "  <thead>\n",
       "    <tr style=\"text-align: right;\">\n",
       "      <th></th>\n",
       "      <th>alert</th>\n",
       "      <th>cdi</th>\n",
       "      <th>code</th>\n",
       "      <th>detail</th>\n",
       "      <th>dmin</th>\n",
       "      <th>felt</th>\n",
       "      <th>gap</th>\n",
       "      <th>ids</th>\n",
       "      <th>mag</th>\n",
       "      <th>magType</th>\n",
       "      <th>...</th>\n",
       "      <th>status</th>\n",
       "      <th>time</th>\n",
       "      <th>title</th>\n",
       "      <th>tsunami</th>\n",
       "      <th>type</th>\n",
       "      <th>types</th>\n",
       "      <th>tz</th>\n",
       "      <th>updated</th>\n",
       "      <th>url</th>\n",
       "      <th>parsed_place</th>\n",
       "    </tr>\n",
       "  </thead>\n",
       "  <tbody>\n",
       "    <tr>\n",
       "      <th>0</th>\n",
       "      <td>NaN</td>\n",
       "      <td>NaN</td>\n",
       "      <td>37389218</td>\n",
       "      <td>https://earthquake.usgs.gov/fdsnws/event/1/que...</td>\n",
       "      <td>0.008693</td>\n",
       "      <td>NaN</td>\n",
       "      <td>85.0</td>\n",
       "      <td>,ci37389218,</td>\n",
       "      <td>1.35</td>\n",
       "      <td>ml</td>\n",
       "      <td>...</td>\n",
       "      <td>automatic</td>\n",
       "      <td>1539475168010</td>\n",
       "      <td>M 1.4 - 9km NE of Aguanga, CA</td>\n",
       "      <td>0</td>\n",
       "      <td>earthquake</td>\n",
       "      <td>,geoserve,nearby-cities,origin,phase-data,</td>\n",
       "      <td>-480.0</td>\n",
       "      <td>1539475395144</td>\n",
       "      <td>https://earthquake.usgs.gov/earthquakes/eventp...</td>\n",
       "      <td>California</td>\n",
       "    </tr>\n",
       "    <tr>\n",
       "      <th>1</th>\n",
       "      <td>NaN</td>\n",
       "      <td>NaN</td>\n",
       "      <td>37389202</td>\n",
       "      <td>https://earthquake.usgs.gov/fdsnws/event/1/que...</td>\n",
       "      <td>0.020030</td>\n",
       "      <td>NaN</td>\n",
       "      <td>79.0</td>\n",
       "      <td>,ci37389202,</td>\n",
       "      <td>1.29</td>\n",
       "      <td>ml</td>\n",
       "      <td>...</td>\n",
       "      <td>automatic</td>\n",
       "      <td>1539475129610</td>\n",
       "      <td>M 1.3 - 9km NE of Aguanga, CA</td>\n",
       "      <td>0</td>\n",
       "      <td>earthquake</td>\n",
       "      <td>,geoserve,nearby-cities,origin,phase-data,</td>\n",
       "      <td>-480.0</td>\n",
       "      <td>1539475253925</td>\n",
       "      <td>https://earthquake.usgs.gov/earthquakes/eventp...</td>\n",
       "      <td>California</td>\n",
       "    </tr>\n",
       "    <tr>\n",
       "      <th>2</th>\n",
       "      <td>NaN</td>\n",
       "      <td>4.4</td>\n",
       "      <td>37389194</td>\n",
       "      <td>https://earthquake.usgs.gov/fdsnws/event/1/que...</td>\n",
       "      <td>0.021370</td>\n",
       "      <td>28.0</td>\n",
       "      <td>21.0</td>\n",
       "      <td>,ci37389194,</td>\n",
       "      <td>3.42</td>\n",
       "      <td>ml</td>\n",
       "      <td>...</td>\n",
       "      <td>automatic</td>\n",
       "      <td>1539475062610</td>\n",
       "      <td>M 3.4 - 8km NE of Aguanga, CA</td>\n",
       "      <td>0</td>\n",
       "      <td>earthquake</td>\n",
       "      <td>,dyfi,focal-mechanism,geoserve,nearby-cities,o...</td>\n",
       "      <td>-480.0</td>\n",
       "      <td>1539536756176</td>\n",
       "      <td>https://earthquake.usgs.gov/earthquakes/eventp...</td>\n",
       "      <td>California</td>\n",
       "    </tr>\n",
       "  </tbody>\n",
       "</table>\n",
       "<p>3 rows × 27 columns</p>\n",
       "</div>"
      ],
      "text/plain": [
       "  alert  cdi      code                                             detail  \\\n",
       "0   NaN  NaN  37389218  https://earthquake.usgs.gov/fdsnws/event/1/que...   \n",
       "1   NaN  NaN  37389202  https://earthquake.usgs.gov/fdsnws/event/1/que...   \n",
       "2   NaN  4.4  37389194  https://earthquake.usgs.gov/fdsnws/event/1/que...   \n",
       "\n",
       "       dmin  felt   gap           ids   mag magType  ...     status  \\\n",
       "0  0.008693   NaN  85.0  ,ci37389218,  1.35      ml  ...  automatic   \n",
       "1  0.020030   NaN  79.0  ,ci37389202,  1.29      ml  ...  automatic   \n",
       "2  0.021370  28.0  21.0  ,ci37389194,  3.42      ml  ...  automatic   \n",
       "\n",
       "            time                          title tsunami        type  \\\n",
       "0  1539475168010  M 1.4 - 9km NE of Aguanga, CA       0  earthquake   \n",
       "1  1539475129610  M 1.3 - 9km NE of Aguanga, CA       0  earthquake   \n",
       "2  1539475062610  M 3.4 - 8km NE of Aguanga, CA       0  earthquake   \n",
       "\n",
       "                                               types     tz        updated  \\\n",
       "0         ,geoserve,nearby-cities,origin,phase-data, -480.0  1539475395144   \n",
       "1         ,geoserve,nearby-cities,origin,phase-data, -480.0  1539475253925   \n",
       "2  ,dyfi,focal-mechanism,geoserve,nearby-cities,o... -480.0  1539536756176   \n",
       "\n",
       "                                                 url parsed_place  \n",
       "0  https://earthquake.usgs.gov/earthquakes/eventp...   California  \n",
       "1  https://earthquake.usgs.gov/earthquakes/eventp...   California  \n",
       "2  https://earthquake.usgs.gov/earthquakes/eventp...   California  \n",
       "\n",
       "[3 rows x 27 columns]"
      ]
     },
     "execution_count": 15,
     "metadata": {},
     "output_type": "execute_result"
    }
   ],
   "source": [
    "df.head(3)"
   ]
  },
  {
   "cell_type": "code",
   "execution_count": 16,
   "id": "d044aea4-3dfd-4a2c-a021-f9e8c280986d",
   "metadata": {},
   "outputs": [
    {
     "name": "stdout",
     "output_type": "stream",
     "text": [
      "<class 'pandas.core.frame.DataFrame'>\n",
      "RangeIndex: 9332 entries, 0 to 9331\n",
      "Data columns (total 27 columns):\n",
      " #   Column        Non-Null Count  Dtype  \n",
      "---  ------        --------------  -----  \n",
      " 0   alert         59 non-null     object \n",
      " 1   cdi           329 non-null    float64\n",
      " 2   code          9332 non-null   object \n",
      " 3   detail        9332 non-null   object \n",
      " 4   dmin          6139 non-null   float64\n",
      " 5   felt          329 non-null    float64\n",
      " 6   gap           6164 non-null   float64\n",
      " 7   ids           9332 non-null   object \n",
      " 8   mag           9331 non-null   float64\n",
      " 9   magType       9331 non-null   object \n",
      " 10  mmi           93 non-null     float64\n",
      " 11  net           9332 non-null   object \n",
      " 12  nst           5364 non-null   float64\n",
      " 13  place         9332 non-null   object \n",
      " 14  rms           9332 non-null   float64\n",
      " 15  sig           9332 non-null   int64  \n",
      " 16  sources       9332 non-null   object \n",
      " 17  status        9332 non-null   object \n",
      " 18  time          9332 non-null   int64  \n",
      " 19  title         9332 non-null   object \n",
      " 20  tsunami       9332 non-null   int64  \n",
      " 21  type          9332 non-null   object \n",
      " 22  types         9332 non-null   object \n",
      " 23  tz            9331 non-null   float64\n",
      " 24  updated       9332 non-null   int64  \n",
      " 25  url           9332 non-null   object \n",
      " 26  parsed_place  9332 non-null   object \n",
      "dtypes: float64(9), int64(4), object(14)\n",
      "memory usage: 1.9+ MB\n"
     ]
    }
   ],
   "source": [
    "df.info()"
   ]
  },
  {
   "cell_type": "code",
   "execution_count": 17,
   "id": "aca084d1-5962-4805-a226-9f5ffab268e9",
   "metadata": {},
   "outputs": [
    {
     "data": {
      "text/plain": [
       "10"
      ]
     },
     "execution_count": 17,
     "metadata": {},
     "output_type": "execute_result"
    }
   ],
   "source": [
    "df.magType.nunique()"
   ]
  },
  {
   "cell_type": "code",
   "execution_count": 18,
   "id": "3b8ed9be-4eb8-41b2-a518-1b5322bd3a71",
   "metadata": {},
   "outputs": [
    {
     "data": {
      "text/plain": [
       "ml       6803\n",
       "md       1796\n",
       "mb        601\n",
       "mww        68\n",
       "mb_lg      30\n",
       "mwr        14\n",
       "mh         12\n",
       "mw          4\n",
       "mwb         2\n",
       "ms_20       1\n",
       "Name: magType, dtype: int64"
      ]
     },
     "execution_count": 18,
     "metadata": {},
     "output_type": "execute_result"
    }
   ],
   "source": [
    "df.magType.value_counts()"
   ]
  },
  {
   "cell_type": "markdown",
   "id": "7808c180-23ec-46af-9941-1bb62c3f5499",
   "metadata": {},
   "source": [
    "### Questions"
   ]
  },
  {
   "cell_type": "markdown",
   "id": "03caf638-61c9-4687-9e08-5c1e4880b132",
   "metadata": {},
   "source": [
    "#### 1. Find the 95th percentile of earthquake magnitude in Japan using the mb magnitude typs."
   ]
  },
  {
   "cell_type": "code",
   "execution_count": 109,
   "id": "f1495501-e4b5-4587-ad47-ab3b73a37867",
   "metadata": {},
   "outputs": [],
   "source": [
    "mb_df = df[(df['magType'] == 'mb') & (df['parsed_place']=='Japan')]"
   ]
  },
  {
   "cell_type": "code",
   "execution_count": 110,
   "id": "f14b0547-e910-459f-878e-50c97a249bb0",
   "metadata": {},
   "outputs": [
    {
     "data": {
      "text/plain": [
       "mb    50\n",
       "Name: magType, dtype: int64"
      ]
     },
     "execution_count": 110,
     "metadata": {},
     "output_type": "execute_result"
    }
   ],
   "source": [
    "mb_df.magType.value_counts() # sanity check to confirm with value_counts on the complete df above. It checks out. "
   ]
  },
  {
   "cell_type": "code",
   "execution_count": 111,
   "id": "70dd6a43-a249-4069-a44e-176cb28d075f",
   "metadata": {},
   "outputs": [
    {
     "data": {
      "text/html": [
       "<div>\n",
       "<style scoped>\n",
       "    .dataframe tbody tr th:only-of-type {\n",
       "        vertical-align: middle;\n",
       "    }\n",
       "\n",
       "    .dataframe tbody tr th {\n",
       "        vertical-align: top;\n",
       "    }\n",
       "\n",
       "    .dataframe thead th {\n",
       "        text-align: right;\n",
       "    }\n",
       "</style>\n",
       "<table border=\"1\" class=\"dataframe\">\n",
       "  <thead>\n",
       "    <tr style=\"text-align: right;\">\n",
       "      <th></th>\n",
       "      <th>alert</th>\n",
       "      <th>cdi</th>\n",
       "      <th>code</th>\n",
       "      <th>detail</th>\n",
       "      <th>dmin</th>\n",
       "      <th>felt</th>\n",
       "      <th>gap</th>\n",
       "      <th>ids</th>\n",
       "      <th>mag</th>\n",
       "      <th>magType</th>\n",
       "      <th>...</th>\n",
       "      <th>time</th>\n",
       "      <th>title</th>\n",
       "      <th>tsunami</th>\n",
       "      <th>type</th>\n",
       "      <th>types</th>\n",
       "      <th>tz</th>\n",
       "      <th>updated</th>\n",
       "      <th>url</th>\n",
       "      <th>parsed_place</th>\n",
       "      <th>in_ROF</th>\n",
       "    </tr>\n",
       "  </thead>\n",
       "  <tbody>\n",
       "    <tr>\n",
       "      <th>67</th>\n",
       "      <td>NaN</td>\n",
       "      <td>NaN</td>\n",
       "      <td>1000hbqa</td>\n",
       "      <td>https://earthquake.usgs.gov/fdsnws/event/1/que...</td>\n",
       "      <td>1.415</td>\n",
       "      <td>NaN</td>\n",
       "      <td>72.0</td>\n",
       "      <td>,us1000hbqa,</td>\n",
       "      <td>4.6</td>\n",
       "      <td>mb</td>\n",
       "      <td>...</td>\n",
       "      <td>1539448501800</td>\n",
       "      <td>M 4.6 - 160km NNW of Nago, Japan</td>\n",
       "      <td>0</td>\n",
       "      <td>earthquake</td>\n",
       "      <td>,geoserve,origin,phase-data,</td>\n",
       "      <td>480.0</td>\n",
       "      <td>1539449501040</td>\n",
       "      <td>https://earthquake.usgs.gov/earthquakes/eventp...</td>\n",
       "      <td>Japan</td>\n",
       "      <td>True</td>\n",
       "    </tr>\n",
       "    <tr>\n",
       "      <th>713</th>\n",
       "      <td>NaN</td>\n",
       "      <td>NaN</td>\n",
       "      <td>1000hah8</td>\n",
       "      <td>https://earthquake.usgs.gov/fdsnws/event/1/que...</td>\n",
       "      <td>1.141</td>\n",
       "      <td>NaN</td>\n",
       "      <td>82.0</td>\n",
       "      <td>,us1000hah8,</td>\n",
       "      <td>4.7</td>\n",
       "      <td>mb</td>\n",
       "      <td>...</td>\n",
       "      <td>1539238726290</td>\n",
       "      <td>M 4.7 - 139km WSW of Naze, Japan</td>\n",
       "      <td>0</td>\n",
       "      <td>earthquake</td>\n",
       "      <td>,geoserve,origin,phase-data,</td>\n",
       "      <td>540.0</td>\n",
       "      <td>1539240344040</td>\n",
       "      <td>https://earthquake.usgs.gov/earthquakes/eventp...</td>\n",
       "      <td>Japan</td>\n",
       "      <td>True</td>\n",
       "    </tr>\n",
       "    <tr>\n",
       "      <th>1124</th>\n",
       "      <td>NaN</td>\n",
       "      <td>NaN</td>\n",
       "      <td>1000h9la</td>\n",
       "      <td>https://earthquake.usgs.gov/fdsnws/event/1/que...</td>\n",
       "      <td>1.737</td>\n",
       "      <td>NaN</td>\n",
       "      <td>135.0</td>\n",
       "      <td>,us1000h9la,</td>\n",
       "      <td>4.6</td>\n",
       "      <td>mb</td>\n",
       "      <td>...</td>\n",
       "      <td>1539115120470</td>\n",
       "      <td>M 4.6 - 53km ESE of Kamaishi, Japan</td>\n",
       "      <td>0</td>\n",
       "      <td>earthquake</td>\n",
       "      <td>,geoserve,origin,phase-data,</td>\n",
       "      <td>540.0</td>\n",
       "      <td>1539119067040</td>\n",
       "      <td>https://earthquake.usgs.gov/earthquakes/eventp...</td>\n",
       "      <td>Japan</td>\n",
       "      <td>True</td>\n",
       "    </tr>\n",
       "  </tbody>\n",
       "</table>\n",
       "<p>3 rows × 28 columns</p>\n",
       "</div>"
      ],
      "text/plain": [
       "     alert  cdi      code                                             detail  \\\n",
       "67     NaN  NaN  1000hbqa  https://earthquake.usgs.gov/fdsnws/event/1/que...   \n",
       "713    NaN  NaN  1000hah8  https://earthquake.usgs.gov/fdsnws/event/1/que...   \n",
       "1124   NaN  NaN  1000h9la  https://earthquake.usgs.gov/fdsnws/event/1/que...   \n",
       "\n",
       "       dmin  felt    gap           ids  mag magType  ...           time  \\\n",
       "67    1.415   NaN   72.0  ,us1000hbqa,  4.6      mb  ...  1539448501800   \n",
       "713   1.141   NaN   82.0  ,us1000hah8,  4.7      mb  ...  1539238726290   \n",
       "1124  1.737   NaN  135.0  ,us1000h9la,  4.6      mb  ...  1539115120470   \n",
       "\n",
       "                                    title  tsunami        type  \\\n",
       "67       M 4.6 - 160km NNW of Nago, Japan        0  earthquake   \n",
       "713      M 4.7 - 139km WSW of Naze, Japan        0  earthquake   \n",
       "1124  M 4.6 - 53km ESE of Kamaishi, Japan        0  earthquake   \n",
       "\n",
       "                             types     tz        updated  \\\n",
       "67    ,geoserve,origin,phase-data,  480.0  1539449501040   \n",
       "713   ,geoserve,origin,phase-data,  540.0  1539240344040   \n",
       "1124  ,geoserve,origin,phase-data,  540.0  1539119067040   \n",
       "\n",
       "                                                    url  parsed_place in_ROF  \n",
       "67    https://earthquake.usgs.gov/earthquakes/eventp...         Japan   True  \n",
       "713   https://earthquake.usgs.gov/earthquakes/eventp...         Japan   True  \n",
       "1124  https://earthquake.usgs.gov/earthquakes/eventp...         Japan   True  \n",
       "\n",
       "[3 rows x 28 columns]"
      ]
     },
     "execution_count": 111,
     "metadata": {},
     "output_type": "execute_result"
    }
   ],
   "source": [
    "mb_df.head(3)"
   ]
  },
  {
   "cell_type": "code",
   "execution_count": 112,
   "id": "f2aeeb56-ed9f-4573-8d60-20a042f01a18",
   "metadata": {},
   "outputs": [
    {
     "data": {
      "text/plain": [
       "4.9"
      ]
     },
     "execution_count": 112,
     "metadata": {},
     "output_type": "execute_result"
    }
   ],
   "source": [
    "mb_df.mag.quantile(.95)"
   ]
  },
  {
   "cell_type": "code",
   "execution_count": 46,
   "id": "8d2a61a8-44b8-4a15-bebf-0b27304d2b2a",
   "metadata": {},
   "outputs": [
    {
     "data": {
      "text/plain": [
       "count    601.000000\n",
       "mean       4.563894\n",
       "std        0.354134\n",
       "min        3.600000\n",
       "50%        4.500000\n",
       "95%        5.200000\n",
       "max        6.100000\n",
       "Name: mag, dtype: float64"
      ]
     },
     "execution_count": 46,
     "metadata": {},
     "output_type": "execute_result"
    }
   ],
   "source": [
    "# alternatively\n",
    "mb_df.mag.describe(percentiles=[.95])"
   ]
  },
  {
   "cell_type": "markdown",
   "id": "7d978ff4-45cf-4418-bec9-3b581ac613f1",
   "metadata": {},
   "source": [
    "#### The 95th percentile earthquake in Japan of mb magnitude type is 4.9"
   ]
  },
  {
   "cell_type": "markdown",
   "id": "2a048403-14bd-417b-85cf-5af84beba702",
   "metadata": {},
   "source": [
    "---"
   ]
  },
  {
   "cell_type": "markdown",
   "id": "e296e06b-106d-431d-b34f-21a1029b02a1",
   "metadata": {},
   "source": [
    "#### 2. Find the percentage of earthquakes in Indonesia that were coupled with tsunamis."
   ]
  },
  {
   "cell_type": "markdown",
   "id": "652ae838-e807-4d65-b525-fe782615a088",
   "metadata": {},
   "source": [
    "1. Isolate the rows that report Indonesia"
   ]
  },
  {
   "cell_type": "code",
   "execution_count": 52,
   "id": "5e8f297c-ebe7-4b4e-94c9-13305573e743",
   "metadata": {
    "collapsed": true,
    "jupyter": {
     "outputs_hidden": true
    },
    "tags": []
   },
   "outputs": [
    {
     "data": {
      "text/plain": [
       "Afghanistan                                    6\n",
       "Alaska                                      3665\n",
       "Argentina                                     11\n",
       "Arizona                                        2\n",
       "Arkansas                                       3\n",
       "Ascension Island                               2\n",
       "Australia                                      1\n",
       "Azerbaijan                                     2\n",
       "Balleny Islands                                1\n",
       "Barbuda                                        1\n",
       "Bolivia                                        4\n",
       "British Virgin Islands                        21\n",
       "Burma                                          2\n",
       "California                                  2861\n",
       "Canada                                        55\n",
       "Carlsberg Ridge                                2\n",
       "Central East Pacific Rise                      1\n",
       "Central Mid-Atlantic Ridge                     1\n",
       "Chile                                         31\n",
       "China                                          8\n",
       "Christmas Island                               1\n",
       "Colombia                                       8\n",
       "Colorado                                       1\n",
       "Costa Rica                                     1\n",
       "Dominican Republic                            57\n",
       "East Timor                                     3\n",
       "Ecuador                                        3\n",
       "El Salvador                                    2\n",
       "Fiji                                          61\n",
       "Greece                                         8\n",
       "Greenland                                      1\n",
       "Guam                                           3\n",
       "Guatemala                                      2\n",
       "Haiti                                          3\n",
       "Hawaii                                       367\n",
       "Honduras                                       1\n",
       "Idaho                                         71\n",
       "Illinois                                       1\n",
       "India                                          2\n",
       "Indian Ocean Triple Junction                  16\n",
       "Indonesia                                    147\n",
       "Iran                                          16\n",
       "Iraq                                           1\n",
       "Italy                                          3\n",
       "Jamaica                                        1\n",
       "Japan                                         57\n",
       "Kansas                                        23\n",
       "Kentucky                                       2\n",
       "Kermadec Islands                               2\n",
       "Kuril Islands                                  4\n",
       "Kyrgyzstan                                     1\n",
       "Martinique                                     1\n",
       "Mauritius                                      1\n",
       "Mayotte                                        2\n",
       "Mexico                                        38\n",
       "Mid-Indian Ridge                               2\n",
       "Missouri                                      11\n",
       "Montana                                      204\n",
       "Nevada                                       681\n",
       "New Caledonia                                  9\n",
       "New Hampshire                                  1\n",
       "New Mexico                                     1\n",
       "New Zealand                                   13\n",
       "Nicaragua                                      4\n",
       "North Carolina                                 1\n",
       "Northern East Pacific Rise                     2\n",
       "Northern Mariana Islands                       4\n",
       "Northern Mid-Atlantic Ridge                    2\n",
       "Oklahoma                                      37\n",
       "Oregon                                        27\n",
       "Pacific-Antarctic Ridge                        3\n",
       "Pakistan                                       2\n",
       "Papua New Guinea                              34\n",
       "Peru                                          14\n",
       "Philippines                                   21\n",
       "Prince Edward Islands                          1\n",
       "Puerto Rico                                  216\n",
       "Queen Charlotte Islands                        1\n",
       "Romania                                        1\n",
       "Russia                                        33\n",
       "Saint Eustatius and Saba                       1\n",
       "Saint Helena                                   3\n",
       "Socotra                                        1\n",
       "Solomon Islands                                9\n",
       "Somalia                                        1\n",
       "South Africa                                   2\n",
       "South Carolina                                 1\n",
       "South Georgia and South Sandwich Islands       5\n",
       "South Sandwich Islands                         6\n",
       "Southeast Indian Ridge                         1\n",
       "Southern East Pacific Rise                     2\n",
       "Southern Mid-Atlantic Ridge                    3\n",
       "Southwest Indian Ridge                         5\n",
       "Sumatra                                        1\n",
       "Taiwan                                         2\n",
       "Tajikistan                                     4\n",
       "Tennessee                                     30\n",
       "Texas                                          1\n",
       "Tonga                                         17\n",
       "Turkey                                         2\n",
       "U.S. Virgin Islands                           31\n",
       "Utah                                          67\n",
       "Uzbekistan                                     1\n",
       "Vanuatu                                       17\n",
       "Vermont                                        1\n",
       "Washington                                   157\n",
       "Western Indian-Antarctic Ridge                 1\n",
       "Western Xizang                                 1\n",
       "Wyoming                                       42\n",
       "Yemen                                          1\n",
       "Name: parsed_place, dtype: int64"
      ]
     },
     "execution_count": 52,
     "metadata": {},
     "output_type": "execute_result"
    }
   ],
   "source": [
    "pd.options.display.max_rows=110\n",
    "df.parsed_place.value_counts().sort_index()"
   ]
  },
  {
   "cell_type": "markdown",
   "id": "2b9613cd-c054-4298-9b02-e8ccdd9b9edc",
   "metadata": {},
   "source": [
    "From the output above, it looks like Indonesia has been isolated by parsed_place and has 147 records."
   ]
  },
  {
   "cell_type": "markdown",
   "id": "2cf6b6c1-0ac9-45f0-a500-e621389ac2be",
   "metadata": {},
   "source": [
    "2. Run avg on the tsunami column."
   ]
  },
  {
   "cell_type": "code",
   "execution_count": 97,
   "id": "26b08724-b1be-4ced-9229-b6580b9181a9",
   "metadata": {},
   "outputs": [
    {
     "data": {
      "text/plain": [
       "0.2313"
      ]
     },
     "execution_count": 97,
     "metadata": {},
     "output_type": "execute_result"
    }
   ],
   "source": [
    "round(df[df['parsed_place']=='Indonesia'].tsunami.mean(), 4)"
   ]
  },
  {
   "cell_type": "markdown",
   "id": "f3615e9a-2122-4620-a0a4-f874fa6ddb9a",
   "metadata": {},
   "source": [
    "#### 23.13% of earthquakes in Indonesia are coupled with a tsunami. "
   ]
  },
  {
   "cell_type": "markdown",
   "id": "b88a0004-9f20-4f93-ada5-29b774295335",
   "metadata": {},
   "source": [
    "---"
   ]
  },
  {
   "cell_type": "markdown",
   "id": "ae4b239d-46f6-4d6e-b345-42cf13bb04ac",
   "metadata": {},
   "source": [
    "#### 3. Calculate summary stats for earthquakes in Nevada"
   ]
  },
  {
   "cell_type": "code",
   "execution_count": 61,
   "id": "05316bb0-f1b6-479d-b0dc-1a47f02dc6c3",
   "metadata": {},
   "outputs": [
    {
     "data": {
      "text/html": [
       "<div>\n",
       "<style scoped>\n",
       "    .dataframe tbody tr th:only-of-type {\n",
       "        vertical-align: middle;\n",
       "    }\n",
       "\n",
       "    .dataframe tbody tr th {\n",
       "        vertical-align: top;\n",
       "    }\n",
       "\n",
       "    .dataframe thead th {\n",
       "        text-align: right;\n",
       "    }\n",
       "</style>\n",
       "<table border=\"1\" class=\"dataframe\">\n",
       "  <thead>\n",
       "    <tr style=\"text-align: right;\">\n",
       "      <th></th>\n",
       "      <th>cdi</th>\n",
       "      <th>dmin</th>\n",
       "      <th>felt</th>\n",
       "      <th>gap</th>\n",
       "      <th>mag</th>\n",
       "      <th>mmi</th>\n",
       "      <th>nst</th>\n",
       "      <th>rms</th>\n",
       "      <th>sig</th>\n",
       "      <th>time</th>\n",
       "      <th>tsunami</th>\n",
       "      <th>tz</th>\n",
       "      <th>updated</th>\n",
       "    </tr>\n",
       "  </thead>\n",
       "  <tbody>\n",
       "    <tr>\n",
       "      <th>count</th>\n",
       "      <td>15.000000</td>\n",
       "      <td>681.000000</td>\n",
       "      <td>15.000000</td>\n",
       "      <td>681.000000</td>\n",
       "      <td>681.000000</td>\n",
       "      <td>1.00</td>\n",
       "      <td>681.000000</td>\n",
       "      <td>681.000000</td>\n",
       "      <td>681.000000</td>\n",
       "      <td>6.810000e+02</td>\n",
       "      <td>681.0</td>\n",
       "      <td>681.0</td>\n",
       "      <td>6.810000e+02</td>\n",
       "    </tr>\n",
       "    <tr>\n",
       "      <th>mean</th>\n",
       "      <td>2.440000</td>\n",
       "      <td>0.166199</td>\n",
       "      <td>2.400000</td>\n",
       "      <td>153.668120</td>\n",
       "      <td>0.500073</td>\n",
       "      <td>2.84</td>\n",
       "      <td>12.618209</td>\n",
       "      <td>0.151986</td>\n",
       "      <td>10.970631</td>\n",
       "      <td>1.538314e+12</td>\n",
       "      <td>0.0</td>\n",
       "      <td>-480.0</td>\n",
       "      <td>1.538402e+12</td>\n",
       "    </tr>\n",
       "    <tr>\n",
       "      <th>std</th>\n",
       "      <td>0.501142</td>\n",
       "      <td>0.166228</td>\n",
       "      <td>4.626013</td>\n",
       "      <td>68.735302</td>\n",
       "      <td>0.696710</td>\n",
       "      <td>NaN</td>\n",
       "      <td>9.866963</td>\n",
       "      <td>0.084662</td>\n",
       "      <td>19.607150</td>\n",
       "      <td>5.965637e+08</td>\n",
       "      <td>0.0</td>\n",
       "      <td>0.0</td>\n",
       "      <td>6.010951e+08</td>\n",
       "    </tr>\n",
       "    <tr>\n",
       "      <th>min</th>\n",
       "      <td>2.000000</td>\n",
       "      <td>0.001000</td>\n",
       "      <td>1.000000</td>\n",
       "      <td>29.140000</td>\n",
       "      <td>-0.500000</td>\n",
       "      <td>2.84</td>\n",
       "      <td>3.000000</td>\n",
       "      <td>0.000500</td>\n",
       "      <td>0.000000</td>\n",
       "      <td>1.537247e+12</td>\n",
       "      <td>0.0</td>\n",
       "      <td>-480.0</td>\n",
       "      <td>1.537307e+12</td>\n",
       "    </tr>\n",
       "    <tr>\n",
       "      <th>25%</th>\n",
       "      <td>2.000000</td>\n",
       "      <td>0.053000</td>\n",
       "      <td>1.000000</td>\n",
       "      <td>97.380000</td>\n",
       "      <td>-0.100000</td>\n",
       "      <td>2.84</td>\n",
       "      <td>6.000000</td>\n",
       "      <td>0.106900</td>\n",
       "      <td>0.000000</td>\n",
       "      <td>1.537854e+12</td>\n",
       "      <td>0.0</td>\n",
       "      <td>-480.0</td>\n",
       "      <td>1.537928e+12</td>\n",
       "    </tr>\n",
       "    <tr>\n",
       "      <th>50%</th>\n",
       "      <td>2.200000</td>\n",
       "      <td>0.112000</td>\n",
       "      <td>1.000000</td>\n",
       "      <td>149.140000</td>\n",
       "      <td>0.400000</td>\n",
       "      <td>2.84</td>\n",
       "      <td>10.000000</td>\n",
       "      <td>0.146300</td>\n",
       "      <td>2.000000</td>\n",
       "      <td>1.538280e+12</td>\n",
       "      <td>0.0</td>\n",
       "      <td>-480.0</td>\n",
       "      <td>1.538428e+12</td>\n",
       "    </tr>\n",
       "    <tr>\n",
       "      <th>75%</th>\n",
       "      <td>2.900000</td>\n",
       "      <td>0.233000</td>\n",
       "      <td>1.000000</td>\n",
       "      <td>199.720000</td>\n",
       "      <td>0.900000</td>\n",
       "      <td>2.84</td>\n",
       "      <td>16.000000</td>\n",
       "      <td>0.187100</td>\n",
       "      <td>12.000000</td>\n",
       "      <td>1.538821e+12</td>\n",
       "      <td>0.0</td>\n",
       "      <td>-480.0</td>\n",
       "      <td>1.538878e+12</td>\n",
       "    </tr>\n",
       "    <tr>\n",
       "      <th>max</th>\n",
       "      <td>3.300000</td>\n",
       "      <td>1.414000</td>\n",
       "      <td>19.000000</td>\n",
       "      <td>355.910000</td>\n",
       "      <td>2.900000</td>\n",
       "      <td>2.84</td>\n",
       "      <td>61.000000</td>\n",
       "      <td>0.863400</td>\n",
       "      <td>129.000000</td>\n",
       "      <td>1.539461e+12</td>\n",
       "      <td>0.0</td>\n",
       "      <td>-480.0</td>\n",
       "      <td>1.539483e+12</td>\n",
       "    </tr>\n",
       "  </tbody>\n",
       "</table>\n",
       "</div>"
      ],
      "text/plain": [
       "             cdi        dmin       felt         gap         mag   mmi  \\\n",
       "count  15.000000  681.000000  15.000000  681.000000  681.000000  1.00   \n",
       "mean    2.440000    0.166199   2.400000  153.668120    0.500073  2.84   \n",
       "std     0.501142    0.166228   4.626013   68.735302    0.696710   NaN   \n",
       "min     2.000000    0.001000   1.000000   29.140000   -0.500000  2.84   \n",
       "25%     2.000000    0.053000   1.000000   97.380000   -0.100000  2.84   \n",
       "50%     2.200000    0.112000   1.000000  149.140000    0.400000  2.84   \n",
       "75%     2.900000    0.233000   1.000000  199.720000    0.900000  2.84   \n",
       "max     3.300000    1.414000  19.000000  355.910000    2.900000  2.84   \n",
       "\n",
       "              nst         rms         sig          time  tsunami     tz  \\\n",
       "count  681.000000  681.000000  681.000000  6.810000e+02    681.0  681.0   \n",
       "mean    12.618209    0.151986   10.970631  1.538314e+12      0.0 -480.0   \n",
       "std      9.866963    0.084662   19.607150  5.965637e+08      0.0    0.0   \n",
       "min      3.000000    0.000500    0.000000  1.537247e+12      0.0 -480.0   \n",
       "25%      6.000000    0.106900    0.000000  1.537854e+12      0.0 -480.0   \n",
       "50%     10.000000    0.146300    2.000000  1.538280e+12      0.0 -480.0   \n",
       "75%     16.000000    0.187100   12.000000  1.538821e+12      0.0 -480.0   \n",
       "max     61.000000    0.863400  129.000000  1.539461e+12      0.0 -480.0   \n",
       "\n",
       "            updated  \n",
       "count  6.810000e+02  \n",
       "mean   1.538402e+12  \n",
       "std    6.010951e+08  \n",
       "min    1.537307e+12  \n",
       "25%    1.537928e+12  \n",
       "50%    1.538428e+12  \n",
       "75%    1.538878e+12  \n",
       "max    1.539483e+12  "
      ]
     },
     "execution_count": 61,
     "metadata": {},
     "output_type": "execute_result"
    }
   ],
   "source": [
    "df[df['parsed_place']==\"Nevada\"].describe()"
   ]
  },
  {
   "cell_type": "markdown",
   "id": "359f792c-7326-4b56-ae38-6866291e456a",
   "metadata": {},
   "source": [
    "---"
   ]
  },
  {
   "cell_type": "markdown",
   "id": "4123b65d-ab32-4394-9a53-e111281540dd",
   "metadata": {},
   "source": [
    "#### 4. Add a column indicating whether the quake happened in a country or US state that is on the Ring of Fire. \n",
    "Use Alaska, Antarctica (look for Antarctic), Bolivia,\n",
    "California, Canada, Chile, Costa Rica, Ecuador, Fiji, Guatemala, Indonesia, Japan,\n",
    "Kermadec Islands, Mexico (be careful not to select New Mexico), New Zealand,\n",
    "Peru, Philippines, Russia, Taiwan, Tonga, and Washington."
   ]
  },
  {
   "cell_type": "code",
   "execution_count": 83,
   "id": "57b2ecb5-9818-4f3b-9b7b-022ea23d1838",
   "metadata": {},
   "outputs": [],
   "source": [
    "# manipulate the text of the prompt to make a boolean mask:\n",
    "str = 'Alaska, Pacific-Antarctic Ridge, Western Indian-Antarctic Ridge, Bolivia, California, Canada, Chile, Costa Rica, Ecuador, Fiji, Guatemala, Indonesia, Japan, Kermadec Islands, Mexico, New Zealand, Peru, Philippines, Russia, Taiwan, Tonga, Washington'"
   ]
  },
  {
   "cell_type": "code",
   "execution_count": 103,
   "id": "7bdb8fa3-9d1f-4524-ac7b-3b9207edfd62",
   "metadata": {},
   "outputs": [
    {
     "data": {
      "text/plain": [
       "['Alaska',\n",
       " 'Pacific-Antarctic Ridge',\n",
       " 'Western Indian-Antarctic Ridge',\n",
       " 'Bolivia',\n",
       " 'California',\n",
       " 'Canada',\n",
       " 'Chile',\n",
       " 'Costa Rica',\n",
       " 'Ecuador',\n",
       " 'Fiji',\n",
       " 'Guatemala',\n",
       " 'Indonesia',\n",
       " 'Japan',\n",
       " 'Kermadec Islands',\n",
       " 'Mexico',\n",
       " 'New Zealand',\n",
       " 'Peru',\n",
       " 'Philippines',\n",
       " 'Russia',\n",
       " 'Taiwan',\n",
       " 'Tonga',\n",
       " 'Washington']"
      ]
     },
     "execution_count": 103,
     "metadata": {},
     "output_type": "execute_result"
    }
   ],
   "source": [
    "# split by comma in the above string, and remove the leading space if there\n",
    "rof = [s[1:] if s[0]==' ' else s for s in str.split(',')]\n",
    "rof"
   ]
  },
  {
   "cell_type": "code",
   "execution_count": 104,
   "id": "c5996b85-ec0a-4fda-87d5-7dcd8a5ee611",
   "metadata": {},
   "outputs": [
    {
     "data": {
      "text/plain": [
       "Alaska                            3665\n",
       "California                        2861\n",
       "Washington                         157\n",
       "Indonesia                          147\n",
       "Fiji                                61\n",
       "Japan                               57\n",
       "Canada                              55\n",
       "Mexico                              38\n",
       "Russia                              33\n",
       "Chile                               31\n",
       "Philippines                         21\n",
       "Tonga                               17\n",
       "Peru                                14\n",
       "New Zealand                         13\n",
       "Bolivia                              4\n",
       "Pacific-Antarctic Ridge              3\n",
       "Ecuador                              3\n",
       "Taiwan                               2\n",
       "Guatemala                            2\n",
       "Kermadec Islands                     2\n",
       "Costa Rica                           1\n",
       "Western Indian-Antarctic Ridge       1\n",
       "Name: parsed_place, dtype: int64"
      ]
     },
     "execution_count": 104,
     "metadata": {},
     "output_type": "execute_result"
    }
   ],
   "source": [
    "# Sanity check:\n",
    "df[df['parsed_place'].isin(rof)].parsed_place.value_counts() # sanity check"
   ]
  },
  {
   "cell_type": "code",
   "execution_count": 105,
   "id": "e0f3881b-ffcc-4364-94ee-525ce0bf18ac",
   "metadata": {},
   "outputs": [],
   "source": [
    "# Finally, add a new column:\n",
    "df['in_ROF'] = df['parsed_place'].isin(rof)"
   ]
  },
  {
   "cell_type": "code",
   "execution_count": 106,
   "id": "aed6789c-3ddc-41ce-bce1-6edea4df9d8a",
   "metadata": {},
   "outputs": [
    {
     "data": {
      "text/html": [
       "<div>\n",
       "<style scoped>\n",
       "    .dataframe tbody tr th:only-of-type {\n",
       "        vertical-align: middle;\n",
       "    }\n",
       "\n",
       "    .dataframe tbody tr th {\n",
       "        vertical-align: top;\n",
       "    }\n",
       "\n",
       "    .dataframe thead th {\n",
       "        text-align: right;\n",
       "    }\n",
       "</style>\n",
       "<table border=\"1\" class=\"dataframe\">\n",
       "  <thead>\n",
       "    <tr style=\"text-align: right;\">\n",
       "      <th></th>\n",
       "      <th>alert</th>\n",
       "      <th>cdi</th>\n",
       "      <th>code</th>\n",
       "      <th>detail</th>\n",
       "      <th>dmin</th>\n",
       "      <th>felt</th>\n",
       "      <th>gap</th>\n",
       "      <th>ids</th>\n",
       "      <th>mag</th>\n",
       "      <th>magType</th>\n",
       "      <th>...</th>\n",
       "      <th>time</th>\n",
       "      <th>title</th>\n",
       "      <th>tsunami</th>\n",
       "      <th>type</th>\n",
       "      <th>types</th>\n",
       "      <th>tz</th>\n",
       "      <th>updated</th>\n",
       "      <th>url</th>\n",
       "      <th>parsed_place</th>\n",
       "      <th>in_ROF</th>\n",
       "    </tr>\n",
       "  </thead>\n",
       "  <tbody>\n",
       "    <tr>\n",
       "      <th>0</th>\n",
       "      <td>NaN</td>\n",
       "      <td>NaN</td>\n",
       "      <td>37389218</td>\n",
       "      <td>https://earthquake.usgs.gov/fdsnws/event/1/que...</td>\n",
       "      <td>0.008693</td>\n",
       "      <td>NaN</td>\n",
       "      <td>85.0</td>\n",
       "      <td>,ci37389218,</td>\n",
       "      <td>1.35</td>\n",
       "      <td>ml</td>\n",
       "      <td>...</td>\n",
       "      <td>1539475168010</td>\n",
       "      <td>M 1.4 - 9km NE of Aguanga, CA</td>\n",
       "      <td>0</td>\n",
       "      <td>earthquake</td>\n",
       "      <td>,geoserve,nearby-cities,origin,phase-data,</td>\n",
       "      <td>-480.0</td>\n",
       "      <td>1539475395144</td>\n",
       "      <td>https://earthquake.usgs.gov/earthquakes/eventp...</td>\n",
       "      <td>California</td>\n",
       "      <td>True</td>\n",
       "    </tr>\n",
       "    <tr>\n",
       "      <th>1</th>\n",
       "      <td>NaN</td>\n",
       "      <td>NaN</td>\n",
       "      <td>37389202</td>\n",
       "      <td>https://earthquake.usgs.gov/fdsnws/event/1/que...</td>\n",
       "      <td>0.020030</td>\n",
       "      <td>NaN</td>\n",
       "      <td>79.0</td>\n",
       "      <td>,ci37389202,</td>\n",
       "      <td>1.29</td>\n",
       "      <td>ml</td>\n",
       "      <td>...</td>\n",
       "      <td>1539475129610</td>\n",
       "      <td>M 1.3 - 9km NE of Aguanga, CA</td>\n",
       "      <td>0</td>\n",
       "      <td>earthquake</td>\n",
       "      <td>,geoserve,nearby-cities,origin,phase-data,</td>\n",
       "      <td>-480.0</td>\n",
       "      <td>1539475253925</td>\n",
       "      <td>https://earthquake.usgs.gov/earthquakes/eventp...</td>\n",
       "      <td>California</td>\n",
       "      <td>True</td>\n",
       "    </tr>\n",
       "    <tr>\n",
       "      <th>2</th>\n",
       "      <td>NaN</td>\n",
       "      <td>4.4</td>\n",
       "      <td>37389194</td>\n",
       "      <td>https://earthquake.usgs.gov/fdsnws/event/1/que...</td>\n",
       "      <td>0.021370</td>\n",
       "      <td>28.0</td>\n",
       "      <td>21.0</td>\n",
       "      <td>,ci37389194,</td>\n",
       "      <td>3.42</td>\n",
       "      <td>ml</td>\n",
       "      <td>...</td>\n",
       "      <td>1539475062610</td>\n",
       "      <td>M 3.4 - 8km NE of Aguanga, CA</td>\n",
       "      <td>0</td>\n",
       "      <td>earthquake</td>\n",
       "      <td>,dyfi,focal-mechanism,geoserve,nearby-cities,o...</td>\n",
       "      <td>-480.0</td>\n",
       "      <td>1539536756176</td>\n",
       "      <td>https://earthquake.usgs.gov/earthquakes/eventp...</td>\n",
       "      <td>California</td>\n",
       "      <td>True</td>\n",
       "    </tr>\n",
       "  </tbody>\n",
       "</table>\n",
       "<p>3 rows × 28 columns</p>\n",
       "</div>"
      ],
      "text/plain": [
       "  alert  cdi      code                                             detail  \\\n",
       "0   NaN  NaN  37389218  https://earthquake.usgs.gov/fdsnws/event/1/que...   \n",
       "1   NaN  NaN  37389202  https://earthquake.usgs.gov/fdsnws/event/1/que...   \n",
       "2   NaN  4.4  37389194  https://earthquake.usgs.gov/fdsnws/event/1/que...   \n",
       "\n",
       "       dmin  felt   gap           ids   mag magType  ...           time  \\\n",
       "0  0.008693   NaN  85.0  ,ci37389218,  1.35      ml  ...  1539475168010   \n",
       "1  0.020030   NaN  79.0  ,ci37389202,  1.29      ml  ...  1539475129610   \n",
       "2  0.021370  28.0  21.0  ,ci37389194,  3.42      ml  ...  1539475062610   \n",
       "\n",
       "                           title  tsunami        type  \\\n",
       "0  M 1.4 - 9km NE of Aguanga, CA        0  earthquake   \n",
       "1  M 1.3 - 9km NE of Aguanga, CA        0  earthquake   \n",
       "2  M 3.4 - 8km NE of Aguanga, CA        0  earthquake   \n",
       "\n",
       "                                               types     tz        updated  \\\n",
       "0         ,geoserve,nearby-cities,origin,phase-data, -480.0  1539475395144   \n",
       "1         ,geoserve,nearby-cities,origin,phase-data, -480.0  1539475253925   \n",
       "2  ,dyfi,focal-mechanism,geoserve,nearby-cities,o... -480.0  1539536756176   \n",
       "\n",
       "                                                 url  parsed_place in_ROF  \n",
       "0  https://earthquake.usgs.gov/earthquakes/eventp...    California   True  \n",
       "1  https://earthquake.usgs.gov/earthquakes/eventp...    California   True  \n",
       "2  https://earthquake.usgs.gov/earthquakes/eventp...    California   True  \n",
       "\n",
       "[3 rows x 28 columns]"
      ]
     },
     "execution_count": 106,
     "metadata": {},
     "output_type": "execute_result"
    }
   ],
   "source": [
    "df.head(3)"
   ]
  },
  {
   "cell_type": "markdown",
   "id": "e6322bbe-a838-421b-a061-9c7c0863db8d",
   "metadata": {},
   "source": [
    "---"
   ]
  },
  {
   "cell_type": "markdown",
   "id": "6d8c92c7-0239-4173-9564-6d8ce0bed81f",
   "metadata": {},
   "source": [
    "#### 5. Calculate the number of earthquakes in the Ring of Fire locations and the number outside of them."
   ]
  },
  {
   "cell_type": "code",
   "execution_count": 107,
   "id": "08085025-5f6e-4e1c-ba69-af1afb78a14f",
   "metadata": {},
   "outputs": [
    {
     "data": {
      "text/plain": [
       "True     7188\n",
       "False    2144\n",
       "Name: in_ROF, dtype: int64"
      ]
     },
     "execution_count": 107,
     "metadata": {},
     "output_type": "execute_result"
    }
   ],
   "source": [
    "df.in_ROF.value_counts()"
   ]
  },
  {
   "cell_type": "markdown",
   "id": "2c710403-978f-402d-9983-d6745855dfca",
   "metadata": {},
   "source": [
    "#### The data records 7,188 earthquakes within the Ring of Fire, and 2,144 outside of it. "
   ]
  },
  {
   "cell_type": "markdown",
   "id": "ef769d68-fa96-4214-ad80-b515f678b5f7",
   "metadata": {},
   "source": [
    "---"
   ]
  },
  {
   "cell_type": "markdown",
   "id": "0cc717b7-8083-4223-b4dd-0c5465f973e5",
   "metadata": {},
   "source": [
    "#### 6. Find the tsunami count along the Ring of Fire."
   ]
  },
  {
   "cell_type": "code",
   "execution_count": 108,
   "id": "c862c75b-7d63-4cbd-be28-90a518147bbb",
   "metadata": {},
   "outputs": [
    {
     "data": {
      "text/plain": [
       "45"
      ]
     },
     "execution_count": 108,
     "metadata": {},
     "output_type": "execute_result"
    }
   ],
   "source": [
    "df[df['in_ROF'] == True].tsunami.sum()"
   ]
  },
  {
   "cell_type": "markdown",
   "id": "c201d507-ea48-4b5e-ba82-e2f46029521f",
   "metadata": {},
   "source": [
    "#### The data shows 45 tsunamis along the Ring of Fire. "
   ]
  }
 ],
 "metadata": {
  "kernelspec": {
   "display_name": "Python 3 (ipykernel)",
   "language": "python",
   "name": "python3"
  },
  "language_info": {
   "codemirror_mode": {
    "name": "ipython",
    "version": 3
   },
   "file_extension": ".py",
   "mimetype": "text/x-python",
   "name": "python",
   "nbconvert_exporter": "python",
   "pygments_lexer": "ipython3",
   "version": "3.9.12"
  }
 },
 "nbformat": 4,
 "nbformat_minor": 5
}

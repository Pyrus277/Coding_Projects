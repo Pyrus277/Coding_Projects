{
 "cells": [
  {
   "cell_type": "markdown",
   "id": "1e9f9fa6-c046-4623-af9a-b783cfba204a",
   "metadata": {},
   "source": [
    "Hands-On Machine Learning With Scikit-Learn, Keras, and Tensorflow  \n",
    "Code from Chapter 1"
   ]
  },
  {
   "cell_type": "markdown",
   "id": "df03fede-f982-4b25-bbe7-c07deac1a523",
   "metadata": {},
   "source": [
    "## Linear Regression"
   ]
  },
  {
   "cell_type": "code",
   "execution_count": null,
   "id": "a3a5346e-8186-4b48-bfc4-366d4cc9f461",
   "metadata": {},
   "outputs": [],
   "source": []
  },
  {
   "cell_type": "code",
   "execution_count": null,
   "id": "2005f419-485a-49e7-8c75-112f001a4c8e",
   "metadata": {},
   "outputs": [],
   "source": []
  }
 ],
 "metadata": {
  "kernelspec": {
   "display_name": "Python 3 (ipykernel)",
   "language": "python",
   "name": "python3"
  },
  "language_info": {
   "codemirror_mode": {
    "name": "ipython",
    "version": 3
   },
   "file_extension": ".py",
   "mimetype": "text/x-python",
   "name": "python",
   "nbconvert_exporter": "python",
   "pygments_lexer": "ipython3",
   "version": "3.9.12"
  }
 },
 "nbformat": 4,
 "nbformat_minor": 5
}

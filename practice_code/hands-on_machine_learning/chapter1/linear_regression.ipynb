{
 "cells": [
  {
   "cell_type": "markdown",
   "id": "1e9f9fa6-c046-4623-af9a-b783cfba204a",
   "metadata": {},
   "source": [
    "Hands-On Machine Learning With Scikit-Learn, Keras, and Tensorflow by Auelien Geron \n",
    "Code from Chapter 1"
   ]
  },
  {
   "cell_type": "markdown",
   "id": "df03fede-f982-4b25-bbe7-c07deac1a523",
   "metadata": {},
   "source": [
    "## Linear Regression"
   ]
  },
  {
   "cell_type": "markdown",
   "id": "6033b44c-c377-4642-8a9f-3ef707687f44",
   "metadata": {},
   "source": [
    "## Question: Does money make people happy?\n",
    "\n",
    "### Data:\n",
    "- Better Life Index, [OECD Website](https://www.oecdbetterlifeindex.org/)\n",
    "- Per capita GDP, [World Bank stats](https://ourworldindata.org/)\n",
    "\n",
    "#### Specifically, is thee a relationship between **life satisfaction** and **GDP per capita (usd)** ?"
   ]
  },
  {
   "cell_type": "code",
   "execution_count": 1,
   "id": "2005f419-485a-49e7-8c75-112f001a4c8e",
   "metadata": {},
   "outputs": [],
   "source": [
    "import matplotlib.pyplot as plt\n",
    "import numpy as np\n",
    "import pandas as pd\n",
    "from sklearn.linear_model import LinearRegression"
   ]
  },
  {
   "cell_type": "markdown",
   "id": "19915001-915a-4198-b77a-7deb2fdf8f0b",
   "metadata": {},
   "source": [
    "#### Download and prep the data"
   ]
  },
  {
   "cell_type": "code",
   "execution_count": 2,
   "id": "e6c9877a-28d9-4a64-8b73-f96ceba9b593",
   "metadata": {},
   "outputs": [],
   "source": [
    "data_root = 'https://github.com/ageron/data/raw/main/'\n",
    "lifesat = pd.read_csv(data_root + \"/lifesat/lifesat.csv\")"
   ]
  },
  {
   "cell_type": "code",
   "execution_count": 8,
   "id": "9fd98f3e-f04e-49a1-a5a0-4ac6ff9155c4",
   "metadata": {},
   "outputs": [
    {
     "data": {
      "text/html": [
       "<div>\n",
       "<style scoped>\n",
       "    .dataframe tbody tr th:only-of-type {\n",
       "        vertical-align: middle;\n",
       "    }\n",
       "\n",
       "    .dataframe tbody tr th {\n",
       "        vertical-align: top;\n",
       "    }\n",
       "\n",
       "    .dataframe thead th {\n",
       "        text-align: right;\n",
       "    }\n",
       "</style>\n",
       "<table border=\"1\" class=\"dataframe\">\n",
       "  <thead>\n",
       "    <tr style=\"text-align: right;\">\n",
       "      <th></th>\n",
       "      <th>Country</th>\n",
       "      <th>GDP per capita (USD)</th>\n",
       "      <th>Life satisfaction</th>\n",
       "    </tr>\n",
       "  </thead>\n",
       "  <tbody>\n",
       "    <tr>\n",
       "      <th>0</th>\n",
       "      <td>Russia</td>\n",
       "      <td>26456.387938</td>\n",
       "      <td>5.8</td>\n",
       "    </tr>\n",
       "    <tr>\n",
       "      <th>1</th>\n",
       "      <td>Greece</td>\n",
       "      <td>27287.083401</td>\n",
       "      <td>5.4</td>\n",
       "    </tr>\n",
       "    <tr>\n",
       "      <th>2</th>\n",
       "      <td>Turkey</td>\n",
       "      <td>28384.987785</td>\n",
       "      <td>5.5</td>\n",
       "    </tr>\n",
       "    <tr>\n",
       "      <th>3</th>\n",
       "      <td>Latvia</td>\n",
       "      <td>29932.493910</td>\n",
       "      <td>5.9</td>\n",
       "    </tr>\n",
       "    <tr>\n",
       "      <th>4</th>\n",
       "      <td>Hungary</td>\n",
       "      <td>31007.768407</td>\n",
       "      <td>5.6</td>\n",
       "    </tr>\n",
       "  </tbody>\n",
       "</table>\n",
       "</div>"
      ],
      "text/plain": [
       "   Country  GDP per capita (USD)  Life satisfaction\n",
       "0   Russia          26456.387938                5.8\n",
       "1   Greece          27287.083401                5.4\n",
       "2   Turkey          28384.987785                5.5\n",
       "3   Latvia          29932.493910                5.9\n",
       "4  Hungary          31007.768407                5.6"
      ]
     },
     "execution_count": 8,
     "metadata": {},
     "output_type": "execute_result"
    }
   ],
   "source": [
    "lifesat.head()"
   ]
  },
  {
   "cell_type": "code",
   "execution_count": 9,
   "id": "d3ce4a0a-e81a-4d89-ad6e-09583443c00b",
   "metadata": {},
   "outputs": [],
   "source": [
    "# Set the axes\n",
    "X = lifesat[[\"GDP per capita (USD)\"]].values\n",
    "y = lifesat[[\"Life satisfaction\"]].values"
   ]
  },
  {
   "cell_type": "code",
   "execution_count": 10,
   "id": "4f410793-15e7-45ce-b9ce-0ca1fcf3557f",
   "metadata": {},
   "outputs": [],
   "source": [
    "#### Visualize the data"
   ]
  },
  {
   "cell_type": "code",
   "execution_count": 32,
   "id": "a95aa0f3-4b71-4d96-866f-f7be494246ab",
   "metadata": {},
   "outputs": [
    {
     "data": {
      "image/png": "[encoded data removed]",
      "text/plain": [
       "<Figure size 432x288 with 1 Axes>"
      ]
     },
     "metadata": {
      "needs_background": "light"
     },
     "output_type": "display_data"
    }
   ],
   "source": [
    "lifesat.plot(kind='scatter', grid=True,\n",
    "             x=\"GDP per capita (USD)\", y=\"Life satisfaction\")\n",
    "plt.axis([23500, 62500, 4, 9])\n",
    "plt.title('Life Satis. By Per Capita GDP', c='black')\n",
    "plt.show()"
   ]
  },
  {
   "cell_type": "markdown",
   "id": "ed3d8ba5-80fe-4335-bb55-747bfadc4d70",
   "metadata": {},
   "source": [
    "#### Modeling"
   ]
  },
  {
   "cell_type": "code",
   "execution_count": 26,
   "id": "c7dd495a-3bab-42fb-ad94-67c8c057d966",
   "metadata": {},
   "outputs": [],
   "source": [
    "# linear \n",
    "model = LinearRegression()"
   ]
  },
  {
   "cell_type": "code",
   "execution_count": 27,
   "id": "9490f8fd-bbd5-4912-9f4a-7910dab1d53f",
   "metadata": {},
   "outputs": [
    {
     "data": {
      "text/plain": [
       "LinearRegression()"
      ]
     },
     "execution_count": 27,
     "metadata": {},
     "output_type": "execute_result"
    }
   ],
   "source": [
    "# train the model\n",
    "model.fit(X, y)"
   ]
  },
  {
   "cell_type": "markdown",
   "id": "e9e50069-8c9c-4184-964c-2cc1d9899efc",
   "metadata": {},
   "source": [
    "#### Use the model to make a prediction\n",
    "If we know the GDP per capita for Cyprus in 2020 is $37,655, what is their expected satisfaction, based on this model?\n"
   ]
  },
  {
   "cell_type": "code",
   "execution_count": 41,
   "id": "ffca71ba-07f1-4ae6-b1d1-adce0521d26e",
   "metadata": {},
   "outputs": [
    {
     "name": "stdout",
     "output_type": "stream",
     "text": [
      "Predicted life satisfaction of Cyprus in 2022: 6.302.\n"
     ]
    }
   ],
   "source": [
    "X_new = [[37655.2]]\n",
    "pred = round(model.predict(X_new)[0][0],3)\n",
    "print(f'Predicted life satisfaction of Cyprus in 2022: {pred}.')"
   ]
  },
  {
   "cell_type": "markdown",
   "id": "7f76332c-a5a8-4c95-9ee5-981e87a40e96",
   "metadata": {},
   "source": [
    "#### Conclusion\n",
    "Of course, we're making a prediction based on a single feature, GDP. If we had further features like employment rate, health, pollution stats, etc, more and better data, and a more powerful model, we could expect to get a better prediction.  "
   ]
  },
  {
   "cell_type": "code",
   "execution_count": null,
   "id": "49b0be04-d148-48cc-a64b-bd497fc45fe6",
   "metadata": {},
   "outputs": [],
   "source": []
  },
  {
   "cell_type": "code",
   "execution_count": null,
   "id": "cd5c8547-f3d5-4363-948e-79162bfc7a35",
   "metadata": {},
   "outputs": [],
   "source": []
  },
  {
   "cell_type": "code",
   "execution_count": null,
   "id": "1ef73343-b0fe-4b2a-ad16-5e0038d750d9",
   "metadata": {},
   "outputs": [],
   "source": []
  }
 ],
 "metadata": {
  "kernelspec": {
   "display_name": "Python 3 (ipykernel)",
   "language": "python",
   "name": "python3"
  },
  "language_info": {
   "codemirror_mode": {
    "name": "ipython",
    "version": 3
   },
   "file_extension": ".py",
   "mimetype": "text/x-python",
   "name": "python",
   "nbconvert_exporter": "python",
   "pygments_lexer": "ipython3",
   "version": "3.9.12"
  }
 },
 "nbformat": 4,
 "nbformat_minor": 5
}

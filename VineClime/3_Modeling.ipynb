{
 "cells": [
  {
   "cell_type": "markdown",
   "id": "e4f30a0f-bb08-4cdb-9293-c93fd851ac1f",
   "metadata": {},
   "source": [
    "**Perry Fox  \n",
    "Capstone Notebook 3  \n",
    "pyrus277@gmail.com  \n",
    "December 12, 2022** "
   ]
  },
  {
   "cell_type": "markdown",
   "id": "06258223-bd44-4249-95cc-9b58814e7f1d",
   "metadata": {},
   "source": [
    "---"
   ]
  },
  {
   "cell_type": "markdown",
   "id": "23b111cf-b9a2-4683-97a6-17c3a8cee1d0",
   "metadata": {},
   "source": [
    "# Climate and Qualitative Trends in the California Wine Industry\n",
    "## Part 3: Modeling"
   ]
  },
  {
   "cell_type": "markdown",
   "id": "c8fc2599-027f-443b-aaee-5ecad8e4a1cf",
   "metadata": {},
   "source": [
    "---"
   ]
  },
  {
   "cell_type": "markdown",
   "id": "5bccfbe9-3290-4355-be48-37568767bb1e",
   "metadata": {},
   "source": [
    "### Contents: \n",
    "1. [Purpose](#p)\n",
    "1. [Most Pronounced and Statistically Significant Climate Trends](#ss)\n",
    "1. [Forecasting Future Production Metrics](#fp)\n",
    "1. [Review Scores and Flavor Descriptors](#pts)\n"
   ]
  },
  {
   "cell_type": "markdown",
   "id": "ea603364-9a4b-4da3-bbc6-78a210a2daf5",
   "metadata": {
    "tags": []
   },
   "source": [
    "---"
   ]
  },
  {
   "cell_type": "markdown",
   "id": "dbd4062f-32d1-4a8b-abf8-d3b49c878282",
   "metadata": {},
   "source": [
    "<a id=\"p\"></a>\n",
    "## 1. Purpose"
   ]
  },
  {
   "cell_type": "markdown",
   "id": "a0a96506-88bd-4a9f-ae87-7e84e2fe3039",
   "metadata": {},
   "source": [
    "When exploring which climate features had the greatest effect wine production and value, the correlation matrices we saw for the data as a whole were not very interesting.  \n",
    "However, for some counties, certain features did hold a distinct weight.  \n",
    "\n",
    "In this notebook I'll first take a more statistical approach to the climate trends explored in the previous notebook to see which are most significant. \n",
    "\n",
    "Next, I'll see if these climate trends can be used to predict the production and volume for individual counties, with a focus on the ones we determined to be more sensitive to climate features.\n",
    "\n",
    "Last, we aim to use the tokenized flavor desriptors we isolated to see if we can predict if a wine will score a high review."
   ]
  },
  {
   "cell_type": "code",
   "execution_count": 5,
   "id": "a82d00b4-1e44-47fc-8caa-91e8909e5d27",
   "metadata": {},
   "outputs": [],
   "source": [
    "import numpy as np\n",
    "import pandas as pd\n",
    "import shelve\n",
    "import matplotlib.pyplot as plt\n",
    "import seaborn as sns\n",
    "import statsmodels.api as sm\n",
    "\n",
    "from sklearn.model_selection import train_test_split\n",
    "from sklearn.preprocessing import StandardScaler\n",
    "from sklearn.linear_model import LinearRegression\n",
    "from sklearn.model_selection import cross_val_score\n",
    "from sklearn.decomposition import PCA\n",
    "from sklearn.pipeline import Pipeline"
   ]
  },
  {
   "cell_type": "code",
   "execution_count": 6,
   "id": "fb00acf9-a443-490e-9571-08e600163d8f",
   "metadata": {},
   "outputs": [],
   "source": [
    "# Note- it's no longer called fbprophet. Guess they dropped the fb when they changed to Meta. \n",
    "from prophet import Prophet "
   ]
  },
  {
   "cell_type": "code",
   "execution_count": 7,
   "id": "cc623d06-0840-4375-a26b-ba2d6a3ad84e",
   "metadata": {},
   "outputs": [],
   "source": [
    "# Bring in the wrangled and cleaned data\n",
    "with shelve.open('capstone_dataframes') as shelfFile:\n",
    "    cwp = shelfFile['cwp2']\n",
    "    acc = shelfFile['all_county_climates']\n",
    "    rev = shelfFile['reviews']"
   ]
  },
  {
   "cell_type": "markdown",
   "id": "0bce905e-c458-46cc-bcfc-a428ae930064",
   "metadata": {},
   "source": [
    "---"
   ]
  },
  {
   "cell_type": "markdown",
   "id": "a403a8e4-427f-4051-988f-afe211eae640",
   "metadata": {
    "tags": []
   },
   "source": [
    "<a id=\"ss\"></a>\n",
    "### 2. Which climate trends are most pronounced and statistically significant?"
   ]
  },
  {
   "cell_type": "code",
   "execution_count": 8,
   "id": "11b52051-22c1-4289-be61-e9e8e8099ce9",
   "metadata": {},
   "outputs": [],
   "source": [
    "# Pull the counties that have at least 25 years of production\n",
    "counties = cwp.groupby(['county']).count()['year']\n",
    "counties = counties[counties >= 25]\n",
    "counties = list(counties.index)"
   ]
  },
  {
   "cell_type": "markdown",
   "id": "468be5b5-8fb8-4773-8dd2-700da0567a39",
   "metadata": {},
   "source": [
    "Here, we'll run a linear regression model on the various climate features to examine their strength and significance. "
   ]
  },
  {
   "cell_type": "code",
   "execution_count": 9,
   "id": "3f61ab60-38c6-4bb1-b548-63c797ecf9b7",
   "metadata": {},
   "outputs": [],
   "source": [
    "# Initialize statistic lists to use to make a dataframe\n",
    "feature = []\n",
    "coef = []\n",
    "pval = []\n",
    "R_sq = []\n",
    "\n",
    "# Collect the statistics for each climate feature\n",
    "for col in acc.columns[2:]:\n",
    "    X_withconstant = sm.add_constant(acc['year'])\n",
    "    y = acc[col]\n",
    "    \n",
    "    # Instantiate Linear regression model\n",
    "    myregression = sm.OLS(y, X_withconstant)\n",
    "    # Fit the model\n",
    "    myregression_results = myregression.fit()\n",
    "    # collect metrics\n",
    "    feature.append(col)\n",
    "    coef.append(myregression_results.params[1])\n",
    "    pval.append(round(myregression_results.pvalues[1],4))\n",
    "    R_sq.append(myregression_results.rsquared)\n",
    "\n",
    "# myregression_results.summary()"
   ]
  },
  {
   "cell_type": "code",
   "execution_count": 10,
   "id": "68783242-87d8-4510-8c9a-59d5eefcca44",
   "metadata": {},
   "outputs": [],
   "source": [
    "# Put it in a dataframe so we can summarize\n",
    "data = {'Feature Over Time': feature,\n",
    "        'Coefficient': coef,\n",
    "        'P-Value': pval,\n",
    "        'R-Squared': R_sq}\n",
    "climate_stats = pd.DataFrame(data)"
   ]
  },
  {
   "cell_type": "markdown",
   "id": "5068852e-4215-484a-a038-01342023cc4e",
   "metadata": {},
   "source": [
    "#### Here are the most pronounced climate trends for California's vineyard land area:"
   ]
  },
  {
   "cell_type": "code",
   "execution_count": 11,
   "id": "03206109-21b6-45de-975e-b2cf62004a5c",
   "metadata": {},
   "outputs": [
    {
     "data": {
      "text/html": [
       "<div>\n",
       "<style scoped>\n",
       "    .dataframe tbody tr th:only-of-type {\n",
       "        vertical-align: middle;\n",
       "    }\n",
       "\n",
       "    .dataframe tbody tr th {\n",
       "        vertical-align: top;\n",
       "    }\n",
       "\n",
       "    .dataframe thead th {\n",
       "        text-align: right;\n",
       "    }\n",
       "</style>\n",
       "<table border=\"1\" class=\"dataframe\">\n",
       "  <thead>\n",
       "    <tr style=\"text-align: right;\">\n",
       "      <th></th>\n",
       "      <th>Feature Over Time</th>\n",
       "      <th>Coefficient</th>\n",
       "      <th>P-Value</th>\n",
       "      <th>R-Squared</th>\n",
       "    </tr>\n",
       "  </thead>\n",
       "  <tbody>\n",
       "    <tr>\n",
       "      <th>16</th>\n",
       "      <td>winter_surface_moisture</td>\n",
       "      <td>-0.001489</td>\n",
       "      <td>0.0000</td>\n",
       "      <td>0.022379</td>\n",
       "    </tr>\n",
       "    <tr>\n",
       "      <th>5</th>\n",
       "      <td>annual_temperature</td>\n",
       "      <td>0.025518</td>\n",
       "      <td>0.0000</td>\n",
       "      <td>0.018032</td>\n",
       "    </tr>\n",
       "    <tr>\n",
       "      <th>11</th>\n",
       "      <td>summer_humidity</td>\n",
       "      <td>0.011095</td>\n",
       "      <td>0.0000</td>\n",
       "      <td>0.016530</td>\n",
       "    </tr>\n",
       "    <tr>\n",
       "      <th>19</th>\n",
       "      <td>winter_temperature</td>\n",
       "      <td>0.028089</td>\n",
       "      <td>0.0000</td>\n",
       "      <td>0.015777</td>\n",
       "    </tr>\n",
       "    <tr>\n",
       "      <th>17</th>\n",
       "      <td>winter_precipitation</td>\n",
       "      <td>-0.016591</td>\n",
       "      <td>0.0000</td>\n",
       "      <td>0.013417</td>\n",
       "    </tr>\n",
       "    <tr>\n",
       "      <th>2</th>\n",
       "      <td>annual_surface_moisture</td>\n",
       "      <td>-0.000996</td>\n",
       "      <td>0.0000</td>\n",
       "      <td>0.012270</td>\n",
       "    </tr>\n",
       "    <tr>\n",
       "      <th>3</th>\n",
       "      <td>annual_precipitation</td>\n",
       "      <td>-0.008811</td>\n",
       "      <td>0.0000</td>\n",
       "      <td>0.011683</td>\n",
       "    </tr>\n",
       "    <tr>\n",
       "      <th>12</th>\n",
       "      <td>summer_temperature</td>\n",
       "      <td>0.022918</td>\n",
       "      <td>0.0001</td>\n",
       "      <td>0.009755</td>\n",
       "    </tr>\n",
       "    <tr>\n",
       "      <th>15</th>\n",
       "      <td>winter_root_moisture</td>\n",
       "      <td>-0.000833</td>\n",
       "      <td>0.0001</td>\n",
       "      <td>0.009153</td>\n",
       "    </tr>\n",
       "    <tr>\n",
       "      <th>14</th>\n",
       "      <td>winter_profile_moisture</td>\n",
       "      <td>-0.000765</td>\n",
       "      <td>0.0002</td>\n",
       "      <td>0.008595</td>\n",
       "    </tr>\n",
       "  </tbody>\n",
       "</table>\n",
       "</div>"
      ],
      "text/plain": [
       "          Feature Over Time  Coefficient  P-Value  R-Squared\n",
       "16  winter_surface_moisture    -0.001489   0.0000   0.022379\n",
       "5        annual_temperature     0.025518   0.0000   0.018032\n",
       "11          summer_humidity     0.011095   0.0000   0.016530\n",
       "19       winter_temperature     0.028089   0.0000   0.015777\n",
       "17     winter_precipitation    -0.016591   0.0000   0.013417\n",
       "2   annual_surface_moisture    -0.000996   0.0000   0.012270\n",
       "3      annual_precipitation    -0.008811   0.0000   0.011683\n",
       "12       summer_temperature     0.022918   0.0001   0.009755\n",
       "15     winter_root_moisture    -0.000833   0.0001   0.009153\n",
       "14  winter_profile_moisture    -0.000765   0.0002   0.008595"
      ]
     },
     "execution_count": 11,
     "metadata": {},
     "output_type": "execute_result"
    }
   ],
   "source": [
    "climate_stats.sort_values('R-Squared', ascending=False).head(10)"
   ]
  },
  {
   "cell_type": "markdown",
   "id": "e8fc3a96-a3f2-4240-bf9b-944f002d4c83",
   "metadata": {},
   "source": [
    "For the heck of it, I'll throw everything into Scikit-Learn's model to try a multiple linear regression and see if anything interesting comes out when we ask:  \n",
    "#### What is the relationship between production in tons and annual climate measures?"
   ]
  },
  {
   "cell_type": "code",
   "execution_count": 12,
   "id": "45c17496-4e8e-4e55-bdb6-a4d137bf31f4",
   "metadata": {},
   "outputs": [],
   "source": [
    "# Merge the climate and production dataframes by year and county\n",
    "cwp_acc = cwp.merge(acc, on = ['year','county'], how = 'inner')\n",
    "# grab the county list\n",
    "counties = cwp.county.unique()\n",
    "# As we saw in the Wrangling notebook, there's a few null values in the production df-- drop those rows \n",
    "cwp_acc.dropna(how='any', axis=0, inplace=True)"
   ]
  },
  {
   "cell_type": "code",
   "execution_count": 13,
   "id": "24667d85-53f5-423a-a43d-c97158795e78",
   "metadata": {},
   "outputs": [],
   "source": [
    "## saving the cwp_acc so we can use it in the streamlit file\n",
    "# with shelve.open('capstone_dataframes') as shelfFile:\n",
    "#     shelfFile['cwp_acc'] = cwp_acc"
   ]
  },
  {
   "cell_type": "code",
   "execution_count": 13,
   "id": "f6b79177-6212-4062-b261-654df40180c6",
   "metadata": {},
   "outputs": [],
   "source": [
    "y = cwp_acc.production\n",
    "X = cwp_acc.loc[:,'annual_profile_moisture':] # select all the climate features"
   ]
  },
  {
   "cell_type": "code",
   "execution_count": 14,
   "id": "4c006fe1-1265-4844-9128-410be3ed8bf5",
   "metadata": {},
   "outputs": [
    {
     "data": {
      "text/plain": [
       "((1244, 21), (1244,))"
      ]
     },
     "execution_count": 14,
     "metadata": {},
     "output_type": "execute_result"
    }
   ],
   "source": [
    "# confirm shape\n",
    "X.shape, y.shape"
   ]
  },
  {
   "cell_type": "code",
   "execution_count": 15,
   "id": "dca4fe77-1e75-4ff7-a4e4-11d5f965f505",
   "metadata": {},
   "outputs": [],
   "source": [
    "# Test train split\n",
    "X_train, X_test, y_train, y_test = train_test_split(X, y, test_size=.2) "
   ]
  },
  {
   "cell_type": "markdown",
   "id": "4e6d1676-e85f-4349-a336-f48fe87fdb0c",
   "metadata": {},
   "source": [
    "Try a linear regression model with all the climate features"
   ]
  },
  {
   "cell_type": "code",
   "execution_count": 16,
   "id": "6571870b-1f58-4989-9455-5c43b54b09f8",
   "metadata": {},
   "outputs": [],
   "source": [
    "# Scale the data\n",
    "scaler = StandardScaler()\n",
    "scaler.fit(X_train)\n",
    "X_scaled_train = scaler.transform(X_train)\n",
    "X_scaled_test = scaler.transform(X_test)\n",
    "# Instantiate the model\n",
    "linreg = LinearRegression()"
   ]
  },
  {
   "cell_type": "code",
   "execution_count": 17,
   "id": "7f3e4e78-ad7e-4c99-a726-aa94f62e316d",
   "metadata": {},
   "outputs": [
    {
     "data": {
      "text/plain": [
       "0.15792210632981984"
      ]
     },
     "execution_count": 17,
     "metadata": {},
     "output_type": "execute_result"
    }
   ],
   "source": [
    "linreg = LinearRegression() # Instantiate\n",
    "linreg.fit(X_scaled_train, y_train)\n",
    "linreg.score(X_scaled_test, y_test)"
   ]
  },
  {
   "cell_type": "markdown",
   "id": "d7cb3a64-9e6d-4238-9c77-c71513f80922",
   "metadata": {},
   "source": [
    "As expected, all the weather features together don't give a great score or provide any explanation. "
   ]
  },
  {
   "cell_type": "markdown",
   "id": "f645bd3c-4366-4ced-b900-b1ee60042976",
   "metadata": {},
   "source": [
    "---"
   ]
  },
  {
   "cell_type": "markdown",
   "id": "7c4727de-d3b8-4b5c-a224-2382cb5f3969",
   "metadata": {},
   "source": [
    "<a id=\"fp\"></a>\n",
    "### 3. Looking at the counties that appear most sensitive to climate change, can we forecast the production measure in the future given the trend of a climate feature?"
   ]
  },
  {
   "cell_type": "code",
   "execution_count": 18,
   "id": "63e0ec3d-78cd-4003-82cf-918280dee4d9",
   "metadata": {},
   "outputs": [
    {
     "data": {
      "text/html": [
       "<div>\n",
       "<style scoped>\n",
       "    .dataframe tbody tr th:only-of-type {\n",
       "        vertical-align: middle;\n",
       "    }\n",
       "\n",
       "    .dataframe tbody tr th {\n",
       "        vertical-align: top;\n",
       "    }\n",
       "\n",
       "    .dataframe thead th {\n",
       "        text-align: right;\n",
       "    }\n",
       "</style>\n",
       "<table border=\"1\" class=\"dataframe\">\n",
       "  <thead>\n",
       "    <tr style=\"text-align: right;\">\n",
       "      <th></th>\n",
       "      <th>year</th>\n",
       "      <th>county</th>\n",
       "      <th>harvested_acres</th>\n",
       "      <th>yield</th>\n",
       "      <th>production</th>\n",
       "      <th>price</th>\n",
       "      <th>value</th>\n",
       "      <th>lat</th>\n",
       "      <th>lon</th>\n",
       "      <th>fips</th>\n",
       "      <th>...</th>\n",
       "      <th>summer_humidity</th>\n",
       "      <th>summer_temperature</th>\n",
       "      <th>summer_wind_speed</th>\n",
       "      <th>winter_profile_moisture</th>\n",
       "      <th>winter_root_moisture</th>\n",
       "      <th>winter_surface_moisture</th>\n",
       "      <th>winter_precipitation</th>\n",
       "      <th>winter_humidity</th>\n",
       "      <th>winter_temperature</th>\n",
       "      <th>winter_wind_speed</th>\n",
       "    </tr>\n",
       "  </thead>\n",
       "  <tbody>\n",
       "    <tr>\n",
       "      <th>5</th>\n",
       "      <td>2020</td>\n",
       "      <td>ElDorado</td>\n",
       "      <td>2620.0</td>\n",
       "      <td>2.38</td>\n",
       "      <td>6240.0</td>\n",
       "      <td>1548.56</td>\n",
       "      <td>9663000</td>\n",
       "      <td>38.7426</td>\n",
       "      <td>-120.4358</td>\n",
       "      <td>06017</td>\n",
       "      <td>...</td>\n",
       "      <td>5.81</td>\n",
       "      <td>20.37</td>\n",
       "      <td>1.09</td>\n",
       "      <td>0.58</td>\n",
       "      <td>0.59</td>\n",
       "      <td>0.53</td>\n",
       "      <td>1.73</td>\n",
       "      <td>4.15</td>\n",
       "      <td>9.24</td>\n",
       "      <td>1.01</td>\n",
       "    </tr>\n",
       "    <tr>\n",
       "      <th>41</th>\n",
       "      <td>2019</td>\n",
       "      <td>ElDorado</td>\n",
       "      <td>2640.0</td>\n",
       "      <td>2.66</td>\n",
       "      <td>7020.0</td>\n",
       "      <td>1722.51</td>\n",
       "      <td>12092000</td>\n",
       "      <td>38.7426</td>\n",
       "      <td>-120.4358</td>\n",
       "      <td>06017</td>\n",
       "      <td>...</td>\n",
       "      <td>6.56</td>\n",
       "      <td>18.69</td>\n",
       "      <td>1.06</td>\n",
       "      <td>0.70</td>\n",
       "      <td>0.72</td>\n",
       "      <td>0.65</td>\n",
       "      <td>5.14</td>\n",
       "      <td>4.40</td>\n",
       "      <td>7.67</td>\n",
       "      <td>1.25</td>\n",
       "    </tr>\n",
       "    <tr>\n",
       "      <th>79</th>\n",
       "      <td>2018</td>\n",
       "      <td>ElDorado</td>\n",
       "      <td>2670.0</td>\n",
       "      <td>2.57</td>\n",
       "      <td>6850.0</td>\n",
       "      <td>1630.51</td>\n",
       "      <td>11169000</td>\n",
       "      <td>38.7426</td>\n",
       "      <td>-120.4358</td>\n",
       "      <td>06017</td>\n",
       "      <td>...</td>\n",
       "      <td>5.67</td>\n",
       "      <td>19.52</td>\n",
       "      <td>1.04</td>\n",
       "      <td>0.62</td>\n",
       "      <td>0.63</td>\n",
       "      <td>0.60</td>\n",
       "      <td>3.62</td>\n",
       "      <td>4.53</td>\n",
       "      <td>8.68</td>\n",
       "      <td>1.06</td>\n",
       "    </tr>\n",
       "    <tr>\n",
       "      <th>116</th>\n",
       "      <td>2017</td>\n",
       "      <td>ElDorado</td>\n",
       "      <td>2340.0</td>\n",
       "      <td>2.53</td>\n",
       "      <td>5930.0</td>\n",
       "      <td>1503.20</td>\n",
       "      <td>8914000</td>\n",
       "      <td>38.7426</td>\n",
       "      <td>-120.4358</td>\n",
       "      <td>06017</td>\n",
       "      <td>...</td>\n",
       "      <td>6.67</td>\n",
       "      <td>19.61</td>\n",
       "      <td>1.07</td>\n",
       "      <td>0.75</td>\n",
       "      <td>0.77</td>\n",
       "      <td>0.73</td>\n",
       "      <td>6.50</td>\n",
       "      <td>4.87</td>\n",
       "      <td>8.42</td>\n",
       "      <td>1.18</td>\n",
       "    </tr>\n",
       "    <tr>\n",
       "      <th>152</th>\n",
       "      <td>2016</td>\n",
       "      <td>ElDorado</td>\n",
       "      <td>2340.0</td>\n",
       "      <td>2.58</td>\n",
       "      <td>6030.0</td>\n",
       "      <td>1449.59</td>\n",
       "      <td>8741000</td>\n",
       "      <td>38.7426</td>\n",
       "      <td>-120.4358</td>\n",
       "      <td>06017</td>\n",
       "      <td>...</td>\n",
       "      <td>5.69</td>\n",
       "      <td>19.30</td>\n",
       "      <td>1.08</td>\n",
       "      <td>0.76</td>\n",
       "      <td>0.79</td>\n",
       "      <td>0.77</td>\n",
       "      <td>5.12</td>\n",
       "      <td>5.47</td>\n",
       "      <td>8.25</td>\n",
       "      <td>1.10</td>\n",
       "    </tr>\n",
       "  </tbody>\n",
       "</table>\n",
       "<p>5 rows × 31 columns</p>\n",
       "</div>"
      ],
      "text/plain": [
       "     year    county  harvested_acres  yield  production    price     value  \\\n",
       "5    2020  ElDorado           2620.0   2.38      6240.0  1548.56   9663000   \n",
       "41   2019  ElDorado           2640.0   2.66      7020.0  1722.51  12092000   \n",
       "79   2018  ElDorado           2670.0   2.57      6850.0  1630.51  11169000   \n",
       "116  2017  ElDorado           2340.0   2.53      5930.0  1503.20   8914000   \n",
       "152  2016  ElDorado           2340.0   2.58      6030.0  1449.59   8741000   \n",
       "\n",
       "         lat       lon   fips  ...  summer_humidity  summer_temperature  \\\n",
       "5    38.7426 -120.4358  06017  ...             5.81               20.37   \n",
       "41   38.7426 -120.4358  06017  ...             6.56               18.69   \n",
       "79   38.7426 -120.4358  06017  ...             5.67               19.52   \n",
       "116  38.7426 -120.4358  06017  ...             6.67               19.61   \n",
       "152  38.7426 -120.4358  06017  ...             5.69               19.30   \n",
       "\n",
       "     summer_wind_speed  winter_profile_moisture  winter_root_moisture  \\\n",
       "5                 1.09                     0.58                  0.59   \n",
       "41                1.06                     0.70                  0.72   \n",
       "79                1.04                     0.62                  0.63   \n",
       "116               1.07                     0.75                  0.77   \n",
       "152               1.08                     0.76                  0.79   \n",
       "\n",
       "     winter_surface_moisture  winter_precipitation  winter_humidity  \\\n",
       "5                       0.53                  1.73             4.15   \n",
       "41                      0.65                  5.14             4.40   \n",
       "79                      0.60                  3.62             4.53   \n",
       "116                     0.73                  6.50             4.87   \n",
       "152                     0.77                  5.12             5.47   \n",
       "\n",
       "     winter_temperature  winter_wind_speed  \n",
       "5                  9.24               1.01  \n",
       "41                 7.67               1.25  \n",
       "79                 8.68               1.06  \n",
       "116                8.42               1.18  \n",
       "152                8.25               1.10  \n",
       "\n",
       "[5 rows x 31 columns]"
      ]
     },
     "execution_count": 18,
     "metadata": {},
     "output_type": "execute_result"
    }
   ],
   "source": [
    "# Create a dataframe with just the El Dorodo county info - This county ranked high as being sensitive to mean average temperature with regard to its price per\n",
    "# ton metric, and mean average temperature is also a climate feature with a more pronounced upwards trend.\n",
    "eld_df = cwp_acc.loc[cwp_acc['county'] == 'ElDorado']\n",
    "eld_df.head()"
   ]
  },
  {
   "cell_type": "code",
   "execution_count": 19,
   "id": "ee8f1357-0fc0-44ca-87fd-be080c1cd193",
   "metadata": {},
   "outputs": [],
   "source": [
    "# Prepare a dataframe for the prophet time series model. \n",
    "# Isolate price per ton (what we're trying to predict), time (independent variable), and \n",
    "# annual temperature (an additional regressor in the model). \n",
    "eld_df = eld_df[['year', 'price', 'annual_temperature']]\n",
    "eld_df['year'] = pd.to_datetime(eld_df['year'], format='%Y')\n",
    "eld_df.rename(columns={'year':'ds', 'price':'y'}, inplace=True)"
   ]
  },
  {
   "cell_type": "code",
   "execution_count": 20,
   "id": "6fb42ed2-f578-4ecc-b2de-22ed0070dddf",
   "metadata": {},
   "outputs": [
    {
     "data": {
      "text/html": [
       "<div>\n",
       "<style scoped>\n",
       "    .dataframe tbody tr th:only-of-type {\n",
       "        vertical-align: middle;\n",
       "    }\n",
       "\n",
       "    .dataframe tbody tr th {\n",
       "        vertical-align: top;\n",
       "    }\n",
       "\n",
       "    .dataframe thead th {\n",
       "        text-align: right;\n",
       "    }\n",
       "</style>\n",
       "<table border=\"1\" class=\"dataframe\">\n",
       "  <thead>\n",
       "    <tr style=\"text-align: right;\">\n",
       "      <th></th>\n",
       "      <th>ds</th>\n",
       "      <th>y</th>\n",
       "      <th>annual_temperature</th>\n",
       "    </tr>\n",
       "  </thead>\n",
       "  <tbody>\n",
       "    <tr>\n",
       "      <th>5</th>\n",
       "      <td>2020-01-01</td>\n",
       "      <td>1548.56</td>\n",
       "      <td>14.83</td>\n",
       "    </tr>\n",
       "    <tr>\n",
       "      <th>41</th>\n",
       "      <td>2019-01-01</td>\n",
       "      <td>1722.51</td>\n",
       "      <td>13.25</td>\n",
       "    </tr>\n",
       "    <tr>\n",
       "      <th>79</th>\n",
       "      <td>2018-01-01</td>\n",
       "      <td>1630.51</td>\n",
       "      <td>14.15</td>\n",
       "    </tr>\n",
       "    <tr>\n",
       "      <th>116</th>\n",
       "      <td>2017-01-01</td>\n",
       "      <td>1503.20</td>\n",
       "      <td>14.08</td>\n",
       "    </tr>\n",
       "    <tr>\n",
       "      <th>152</th>\n",
       "      <td>2016-01-01</td>\n",
       "      <td>1449.59</td>\n",
       "      <td>13.78</td>\n",
       "    </tr>\n",
       "  </tbody>\n",
       "</table>\n",
       "</div>"
      ],
      "text/plain": [
       "            ds        y  annual_temperature\n",
       "5   2020-01-01  1548.56               14.83\n",
       "41  2019-01-01  1722.51               13.25\n",
       "79  2018-01-01  1630.51               14.15\n",
       "116 2017-01-01  1503.20               14.08\n",
       "152 2016-01-01  1449.59               13.78"
      ]
     },
     "execution_count": 20,
     "metadata": {},
     "output_type": "execute_result"
    }
   ],
   "source": [
    "eld_df.head(5)"
   ]
  },
  {
   "cell_type": "code",
   "execution_count": 21,
   "id": "08d8e7f7-e030-489c-aabd-725f07a9e0d9",
   "metadata": {},
   "outputs": [],
   "source": [
    "# Test Train Split: All the years up to 2013 will be the training data\n",
    "train = eld_df.loc[eld_df.ds < '2014']\n",
    "test = eld_df.loc[eld_df.ds >= '2014']"
   ]
  },
  {
   "cell_type": "code",
   "execution_count": 22,
   "id": "1f124286-1eba-46bb-8238-f96446821916",
   "metadata": {},
   "outputs": [
    {
     "data": {
      "text/plain": [
       "((26, 3), (7, 3))"
      ]
     },
     "execution_count": 22,
     "metadata": {},
     "output_type": "execute_result"
    }
   ],
   "source": [
    "train.shape, test.shape"
   ]
  },
  {
   "cell_type": "code",
   "execution_count": 23,
   "id": "f3cf823a-cbde-4370-879c-ae9150a764bb",
   "metadata": {},
   "outputs": [
    {
     "name": "stderr",
     "output_type": "stream",
     "text": [
      "19:11:52 - cmdstanpy - INFO - Chain [1] start processing\n",
      "19:11:52 - cmdstanpy - INFO - Chain [1] done processing\n"
     ]
    },
    {
     "data": {
      "text/plain": [
       "<prophet.forecaster.Prophet at 0x20b8ad44cd0>"
      ]
     },
     "execution_count": 23,
     "metadata": {},
     "output_type": "execute_result"
    }
   ],
   "source": [
    "# instantiate prophet model\n",
    "model = Prophet() # default is 80% confidence interval\n",
    "# add in temperature data\n",
    "model.add_regressor('annual_temperature', standardize=True) \n",
    "# fit training set\n",
    "model.fit(train)"
   ]
  },
  {
   "cell_type": "code",
   "execution_count": 24,
   "id": "c9c48373-4d05-4948-8331-4ace14721943",
   "metadata": {},
   "outputs": [],
   "source": [
    "# Set up a dataframe for the testing time segment so it includes 2014 onwards\n",
    "test_period = model.make_future_dataframe(periods=7, freq='Y')\n",
    "# update future df with column for the regressor amount-- annual_temperature\n",
    "test_period = test_period.merge(eld_df[['ds','annual_temperature']], on = ['ds'], how = 'right')"
   ]
  },
  {
   "cell_type": "code",
   "execution_count": 25,
   "id": "53e1bc06-6df4-41cd-b0ea-998084830261",
   "metadata": {},
   "outputs": [
    {
     "data": {
      "text/html": [
       "<div>\n",
       "<style scoped>\n",
       "    .dataframe tbody tr th:only-of-type {\n",
       "        vertical-align: middle;\n",
       "    }\n",
       "\n",
       "    .dataframe tbody tr th {\n",
       "        vertical-align: top;\n",
       "    }\n",
       "\n",
       "    .dataframe thead th {\n",
       "        text-align: right;\n",
       "    }\n",
       "</style>\n",
       "<table border=\"1\" class=\"dataframe\">\n",
       "  <thead>\n",
       "    <tr style=\"text-align: right;\">\n",
       "      <th></th>\n",
       "      <th>ds</th>\n",
       "      <th>annual_temperature</th>\n",
       "    </tr>\n",
       "  </thead>\n",
       "  <tbody>\n",
       "    <tr>\n",
       "      <th>0</th>\n",
       "      <td>2020-01-01</td>\n",
       "      <td>14.83</td>\n",
       "    </tr>\n",
       "    <tr>\n",
       "      <th>1</th>\n",
       "      <td>2019-01-01</td>\n",
       "      <td>13.25</td>\n",
       "    </tr>\n",
       "    <tr>\n",
       "      <th>2</th>\n",
       "      <td>2018-01-01</td>\n",
       "      <td>14.15</td>\n",
       "    </tr>\n",
       "    <tr>\n",
       "      <th>3</th>\n",
       "      <td>2017-01-01</td>\n",
       "      <td>14.08</td>\n",
       "    </tr>\n",
       "    <tr>\n",
       "      <th>4</th>\n",
       "      <td>2016-01-01</td>\n",
       "      <td>13.78</td>\n",
       "    </tr>\n",
       "  </tbody>\n",
       "</table>\n",
       "</div>"
      ],
      "text/plain": [
       "          ds  annual_temperature\n",
       "0 2020-01-01               14.83\n",
       "1 2019-01-01               13.25\n",
       "2 2018-01-01               14.15\n",
       "3 2017-01-01               14.08\n",
       "4 2016-01-01               13.78"
      ]
     },
     "execution_count": 25,
     "metadata": {},
     "output_type": "execute_result"
    }
   ],
   "source": [
    "test_period.head()"
   ]
  },
  {
   "cell_type": "code",
   "execution_count": 26,
   "id": "49452ec2-d6fd-4ed6-8934-e1ad9c2dc898",
   "metadata": {},
   "outputs": [],
   "source": [
    "# Predict off the training data, along with the lower and upper confidence intervals\n",
    "forecast = model.predict(test_period)"
   ]
  },
  {
   "cell_type": "code",
   "execution_count": 27,
   "id": "70ae1bbd-4b6b-4681-afc7-7b4b11ad928a",
   "metadata": {},
   "outputs": [
    {
     "data": {
      "text/html": [
       "<div>\n",
       "<style scoped>\n",
       "    .dataframe tbody tr th:only-of-type {\n",
       "        vertical-align: middle;\n",
       "    }\n",
       "\n",
       "    .dataframe tbody tr th {\n",
       "        vertical-align: top;\n",
       "    }\n",
       "\n",
       "    .dataframe thead th {\n",
       "        text-align: right;\n",
       "    }\n",
       "</style>\n",
       "<table border=\"1\" class=\"dataframe\">\n",
       "  <thead>\n",
       "    <tr style=\"text-align: right;\">\n",
       "      <th></th>\n",
       "      <th>ds</th>\n",
       "      <th>yhat</th>\n",
       "      <th>yhat_lower</th>\n",
       "      <th>yhat_upper</th>\n",
       "    </tr>\n",
       "  </thead>\n",
       "  <tbody>\n",
       "    <tr>\n",
       "      <th>26</th>\n",
       "      <td>2014-01-01</td>\n",
       "      <td>1471.349163</td>\n",
       "      <td>1322.472687</td>\n",
       "      <td>1627.332104</td>\n",
       "    </tr>\n",
       "    <tr>\n",
       "      <th>27</th>\n",
       "      <td>2015-01-01</td>\n",
       "      <td>1455.422240</td>\n",
       "      <td>1295.698958</td>\n",
       "      <td>1610.392297</td>\n",
       "    </tr>\n",
       "    <tr>\n",
       "      <th>28</th>\n",
       "      <td>2016-01-01</td>\n",
       "      <td>1428.420121</td>\n",
       "      <td>1264.662157</td>\n",
       "      <td>1567.119967</td>\n",
       "    </tr>\n",
       "    <tr>\n",
       "      <th>29</th>\n",
       "      <td>2017-01-01</td>\n",
       "      <td>1522.504290</td>\n",
       "      <td>1371.749367</td>\n",
       "      <td>1668.536056</td>\n",
       "    </tr>\n",
       "    <tr>\n",
       "      <th>30</th>\n",
       "      <td>2018-01-01</td>\n",
       "      <td>1526.762740</td>\n",
       "      <td>1374.740323</td>\n",
       "      <td>1685.978833</td>\n",
       "    </tr>\n",
       "    <tr>\n",
       "      <th>31</th>\n",
       "      <td>2019-01-01</td>\n",
       "      <td>1477.072144</td>\n",
       "      <td>1341.228115</td>\n",
       "      <td>1633.916348</td>\n",
       "    </tr>\n",
       "    <tr>\n",
       "      <th>32</th>\n",
       "      <td>2020-01-01</td>\n",
       "      <td>1597.461439</td>\n",
       "      <td>1447.266899</td>\n",
       "      <td>1759.101850</td>\n",
       "    </tr>\n",
       "  </tbody>\n",
       "</table>\n",
       "</div>"
      ],
      "text/plain": [
       "           ds         yhat   yhat_lower   yhat_upper\n",
       "26 2014-01-01  1471.349163  1322.472687  1627.332104\n",
       "27 2015-01-01  1455.422240  1295.698958  1610.392297\n",
       "28 2016-01-01  1428.420121  1264.662157  1567.119967\n",
       "29 2017-01-01  1522.504290  1371.749367  1668.536056\n",
       "30 2018-01-01  1526.762740  1374.740323  1685.978833\n",
       "31 2019-01-01  1477.072144  1341.228115  1633.916348\n",
       "32 2020-01-01  1597.461439  1447.266899  1759.101850"
      ]
     },
     "execution_count": 27,
     "metadata": {},
     "output_type": "execute_result"
    }
   ],
   "source": [
    "# Here's what the model predicts going forward to 2020 based on the training data which goes to 2013!\n",
    "forecast[['ds','yhat','yhat_lower','yhat_upper']].tail(7)"
   ]
  },
  {
   "cell_type": "code",
   "execution_count": 28,
   "id": "112884a3-ea11-4bba-bb75-5544869217b4",
   "metadata": {},
   "outputs": [
    {
     "data": {
      "text/plain": [
       "Text(0.5, 1.0, 'Winegrape Value per Tom as a Function of Time and Average Temperature Trend for El Dorado County, Ca')"
      ]
     },
     "execution_count": 28,
     "metadata": {},
     "output_type": "execute_result"
    },
    {
     "data": {
      "image/png": "[encoded data removed]",
      "text/plain": [
       "<Figure size 720x432 with 1 Axes>"
      ]
     },
     "metadata": {},
     "output_type": "display_data"
    }
   ],
   "source": [
    "# Now to plot the testing segment on the test chart\n",
    "model.plot(forecast, xlabel='Year', ylabel='Value (USD)')\n",
    "plt.scatter(test['ds'], test['y'], c = 'red', label=\"Observed Test Points\")\n",
    "plt.legend()\n",
    "plt.title('Winegrape Value per Tom as a Function of Time and Average Temperature Trend for El Dorado County, Ca')"
   ]
  },
  {
   "cell_type": "markdown",
   "id": "9cc82bc8-8a90-43d2-91b0-8992d46d1b27",
   "metadata": {},
   "source": [
    "The confidence onterval caught most of our test set data points.  \n",
    "Now Let's predict into the future!"
   ]
  },
  {
   "cell_type": "markdown",
   "id": "60af87eb-a6e2-4ade-83d9-f50d9d0c3fb2",
   "metadata": {},
   "source": [
    "If using a regressor variable, like we are here with 'annual temperature', Prophet requires estimated values for\n",
    "these to make a future prediction. We'll use the Stats Models to linearly predict the next five years annual mean\n",
    "temperature values to provide this. "
   ]
  },
  {
   "cell_type": "code",
   "execution_count": 29,
   "id": "12555b7a-f29e-4827-880b-e0e01e09e34a",
   "metadata": {},
   "outputs": [],
   "source": [
    "# Make a fresh eldorado df (Statsmodels didn't like how we left the data column in eld_df)\n",
    "eldorado_df = acc.loc[acc['county']=='ElDorado']\n",
    "# Set a constant\n",
    "X_withconstant = sm.add_constant(eldorado_df['year'])\n",
    "y = eldorado_df['annual_temperature']\n",
    "    \n",
    "# Instantiate Linear regression model\n",
    "myregression = sm.OLS(y, X_withconstant)\n",
    "# Fit the model\n",
    "myregression_results = myregression.fit()\n",
    "\n",
    "# Predict the next five years onwards from 2020\n",
    "years = np.array([2021, 2022, 2023, 2024, 2025])\n",
    "future_years = sm.add_constant(years)\n",
    "future_years = myregression_results.predict(future_years)\n",
    "\n",
    "# Package this into a dataframe to append on to the Prophet forcast df\n",
    "future_df = pd.DataFrame({'ds': years, \n",
    "              'annual_temperature': future_years})\n",
    "future_df['ds'] = pd.to_datetime(future_df['ds'], format='%Y')\n",
    "\n",
    "# Sort the dataframe just in case to the concat stacks in order\n",
    "train_test_period_df = test_period.sort_values('ds')\n",
    "forecast_df = pd.concat([train_test_period_df, future_df])"
   ]
  },
  {
   "cell_type": "code",
   "execution_count": 30,
   "id": "e382b727-112f-4d0e-a915-16e63c24fddc",
   "metadata": {},
   "outputs": [
    {
     "data": {
      "text/html": [
       "<div>\n",
       "<style scoped>\n",
       "    .dataframe tbody tr th:only-of-type {\n",
       "        vertical-align: middle;\n",
       "    }\n",
       "\n",
       "    .dataframe tbody tr th {\n",
       "        vertical-align: top;\n",
       "    }\n",
       "\n",
       "    .dataframe thead th {\n",
       "        text-align: right;\n",
       "    }\n",
       "</style>\n",
       "<table border=\"1\" class=\"dataframe\">\n",
       "  <thead>\n",
       "    <tr style=\"text-align: right;\">\n",
       "      <th></th>\n",
       "      <th>ds</th>\n",
       "      <th>annual_temperature</th>\n",
       "    </tr>\n",
       "  </thead>\n",
       "  <tbody>\n",
       "    <tr>\n",
       "      <th>4</th>\n",
       "      <td>2016-01-01</td>\n",
       "      <td>13.780000</td>\n",
       "    </tr>\n",
       "    <tr>\n",
       "      <th>3</th>\n",
       "      <td>2017-01-01</td>\n",
       "      <td>14.080000</td>\n",
       "    </tr>\n",
       "    <tr>\n",
       "      <th>2</th>\n",
       "      <td>2018-01-01</td>\n",
       "      <td>14.150000</td>\n",
       "    </tr>\n",
       "    <tr>\n",
       "      <th>1</th>\n",
       "      <td>2019-01-01</td>\n",
       "      <td>13.250000</td>\n",
       "    </tr>\n",
       "    <tr>\n",
       "      <th>0</th>\n",
       "      <td>2020-01-01</td>\n",
       "      <td>14.830000</td>\n",
       "    </tr>\n",
       "    <tr>\n",
       "      <th>0</th>\n",
       "      <td>2021-01-01</td>\n",
       "      <td>13.977115</td>\n",
       "    </tr>\n",
       "    <tr>\n",
       "      <th>1</th>\n",
       "      <td>2022-01-01</td>\n",
       "      <td>14.006182</td>\n",
       "    </tr>\n",
       "    <tr>\n",
       "      <th>2</th>\n",
       "      <td>2023-01-01</td>\n",
       "      <td>14.035249</td>\n",
       "    </tr>\n",
       "    <tr>\n",
       "      <th>3</th>\n",
       "      <td>2024-01-01</td>\n",
       "      <td>14.064315</td>\n",
       "    </tr>\n",
       "    <tr>\n",
       "      <th>4</th>\n",
       "      <td>2025-01-01</td>\n",
       "      <td>14.093382</td>\n",
       "    </tr>\n",
       "  </tbody>\n",
       "</table>\n",
       "</div>"
      ],
      "text/plain": [
       "          ds  annual_temperature\n",
       "4 2016-01-01           13.780000\n",
       "3 2017-01-01           14.080000\n",
       "2 2018-01-01           14.150000\n",
       "1 2019-01-01           13.250000\n",
       "0 2020-01-01           14.830000\n",
       "0 2021-01-01           13.977115\n",
       "1 2022-01-01           14.006182\n",
       "2 2023-01-01           14.035249\n",
       "3 2024-01-01           14.064315\n",
       "4 2025-01-01           14.093382"
      ]
     },
     "execution_count": 30,
     "metadata": {},
     "output_type": "execute_result"
    }
   ],
   "source": [
    "forecast_df.tail(10)"
   ]
  },
  {
   "cell_type": "markdown",
   "id": "926da9c8-bfe7-470b-8683-da26eee5d529",
   "metadata": {},
   "source": [
    "Awesome. We're all set up to forcast El Dorodo's wine value by ton to 2025"
   ]
  },
  {
   "cell_type": "code",
   "execution_count": 31,
   "id": "c56626e5-4de1-46d2-9f55-e1c00bfef676",
   "metadata": {},
   "outputs": [
    {
     "data": {
      "text/plain": [
       "<function matplotlib.pyplot.show(close=None, block=None)>"
      ]
     },
     "execution_count": 31,
     "metadata": {},
     "output_type": "execute_result"
    },
    {
     "data": {
      "image/png": "[encoded data removed]",
      "text/plain": [
       "<Figure size 720x432 with 1 Axes>"
      ]
     },
     "metadata": {},
     "output_type": "display_data"
    }
   ],
   "source": [
    "# Fire up our trained model\n",
    "forecast = model.predict(forecast_df)\n",
    "# Plot\n",
    "fig2 = model.plot(forecast)\n",
    "fig1 = plt.scatter(test['ds'], test['y'], c = 'red', label=\"Observed Test Points\")\n",
    "plt.legend()\n",
    "plt.title('Winegrape Production in Tons as a Function of Time and Average Temperature Trend for El Dorado County, Ca')\n",
    "plt.show"
   ]
  },
  {
   "cell_type": "markdown",
   "id": "ee51840e-f599-4647-8855-ac14693893a7",
   "metadata": {},
   "source": [
    "All else held constant, with time and average temperature trends, it looks like the price per ton for El Dorado Winegrapes will climb. Is this just the effect of inflation? That's a question for further analysis. "
   ]
  },
  {
   "cell_type": "code",
   "execution_count": null,
   "id": "09b3379d-31b5-4935-9b73-766159e914ce",
   "metadata": {},
   "outputs": [],
   "source": []
  },
  {
   "cell_type": "markdown",
   "id": "b5b5b8b7-471d-4378-a6a5-8085b7a07767",
   "metadata": {},
   "source": [
    "Get this into a function were we can just punch in the county, and additional regressor variable to generate these prediction charts:"
   ]
  },
  {
   "cell_type": "code",
   "execution_count": 45,
   "id": "cc3e7576-ffb3-425d-8e0d-e6af112afee4",
   "metadata": {},
   "outputs": [],
   "source": [
    "def visualize_wine_trend(county, climate_feat, dep_var):\n",
    "    '''\n",
    "    Input:\n",
    "        county: One of the wine producing counties in the cwp dataset\n",
    "        climate_feature: One of the climate featue column headers in the acc dataset\n",
    "        dep_var: either \"production\" for tons of winegrapes produced in a given year\n",
    "            or \"price\" for price value per ton of wine grapes for a given year\n",
    "    \n",
    "    Output: \n",
    "        a Prophet chart showing the relevant known datapoints in black, known test-set\n",
    "        datapoints in red, and a prediction line running through to 2025, surrounded by\n",
    "        a 80% error margin. \n",
    "    '''\n",
    "    # String formatting for the chart title\n",
    "    if dep_var == 'production':\n",
    "        title_str = 'production in tons'\n",
    "    elif dep_var == 'price':\n",
    "        title_str = 'value per ton (usd)'\n",
    "    \n",
    "    ## Isolate the production and climate data for the selected county\n",
    "    county_df = cwp_acc.loc[cwp_acc['county'] == county]\n",
    "\n",
    "    # Format for Prophet\n",
    "    county_df = county_df[['year', dep_var, climate_feat]]\n",
    "    county_df['year'] = pd.to_datetime(county_df['year'], format='%Y')\n",
    "    county_df.rename(columns={'year':'ds', dep_var:'y'}, inplace=True)\n",
    "\n",
    "    # Test train split\n",
    "    train = county_df.loc[county_df.ds < '2014']\n",
    "    test = county_df.loc[county_df.ds >= '2014']\n",
    "\n",
    "    # Train Prophet model\n",
    "    model = Prophet() \n",
    "    model.add_regressor(climate_feat, standardize=True) \n",
    "    model.fit(train)\n",
    "\n",
    "    # Construct the train_test_period_df\n",
    "    # Set up a dataframe for the testing time segment so it includes 2014 onwards\n",
    "    train_test_period = model.make_future_dataframe(periods=7, freq='Y')\n",
    "    # update future df with column for the regressor amount-- annual_temperature\n",
    "    train_test_period = train_test_period.merge(county_df[['ds', climate_feat]], on = ['ds'], how = 'right')\n",
    "\n",
    "    ## Extend the dataframe to predict out to 2025\n",
    "    # Set up a new dataframe to in a linear model prediction on the chosen \n",
    "    # climate feature\n",
    "    county_df = cwp_acc.loc[cwp_acc['county'] == county]\n",
    "    X_withconstant = sm.add_constant(county_df['year'])\n",
    "    y = county_df[climate_feat]\n",
    "\n",
    "    # Setup linreg\n",
    "    myregression = sm.OLS(y, X_withconstant)\n",
    "    # Fit the model\n",
    "    myregression_results = myregression.fit()\n",
    "    # predict the next five years onwards from 2020\n",
    "    years = np.array([2021, 2022, 2023, 2024, 2025])\n",
    "    future_years = sm.add_constant(years)\n",
    "    future_years = myregression_results.predict(future_years)\n",
    "\n",
    "    #package this into a dataframe to append on to the Prophet forcast df\n",
    "    future_df = pd.DataFrame({'ds': years, \n",
    "                  climate_feat: future_years})\n",
    "    future_df['ds'] = pd.to_datetime(future_df['ds'], format='%Y')\n",
    "\n",
    "    # sort the dataframe just in case to the concat stacks in order\n",
    "    train_test_period = train_test_period.sort_values('ds')\n",
    "\n",
    "    # Concat the new forcast df segment onto the train_test_period df\n",
    "    forecast_df = pd.concat([train_test_period, future_df])\n",
    "\n",
    "\n",
    "    # Fire up the trained Prophet model\n",
    "    forecast = model.predict(forecast_df)\n",
    "\n",
    "    # Plot the output\n",
    "    fig2 = model.plot(forecast, xlabel='YEAR', ylabel = dep_var.upper())\n",
    "    fig1 = plt.scatter(test['ds'], test['y'], c = 'red', label=\"Observed Test Points\")\n",
    "    plt.legend(loc='upper left')\n",
    "    plt.title(f'Winegrape {title_str} as a function of time and {climate_feat.replace(\"_\",\" \")} for {county} County, Ca')"
   ]
  },
  {
   "cell_type": "markdown",
   "id": "90c1b0bc-cb7f-49fe-9d85-2ecbd0e1a9f5",
   "metadata": {},
   "source": [
    "Solano county's production volume is sensitive to average summer wind speed, so I'll use the model to do a time series forecast, factoring in that climate trend:"
   ]
  },
  {
   "cell_type": "code",
   "execution_count": null,
   "id": "23bca0ba-f81f-4036-bd60-43a51f355a5f",
   "metadata": {},
   "outputs": [],
   "source": [
    "# Make selections:\n",
    "county = 'Solano'\n",
    "climate_feat = 'summer_wind_speed'\n",
    "dep_var = 'production'\n",
    "\n",
    "visualize_wine_trend(county, climate_feat, dep_var)"
   ]
  },
  {
   "cell_type": "markdown",
   "id": "f05897ab-3daf-4a4b-83e3-d4f61c290caa",
   "metadata": {},
   "source": [
    "Likewise, we identified the production value of Alameda county to be sensitive to summer humidity, so let's also forecast that:"
   ]
  },
  {
   "cell_type": "code",
   "execution_count": 47,
   "id": "1d6ad58d-ffe9-4c9c-8cf5-1a2ef82f3ac4",
   "metadata": {},
   "outputs": [
    {
     "name": "stderr",
     "output_type": "stream",
     "text": [
      "19:23:08 - cmdstanpy - INFO - Chain [1] start processing\n",
      "19:23:08 - cmdstanpy - INFO - Chain [1] done processing\n"
     ]
    },
    {
     "data": {
      "image/png": "[encoded data removed]",
      "text/plain": [
       "<Figure size 720x432 with 1 Axes>"
      ]
     },
     "metadata": {},
     "output_type": "display_data"
    }
   ],
   "source": [
    "# Make selections\n",
    "county = 'Alameda'\n",
    "climate_feat = 'summer_humidity'\n",
    "dep_var = 'price'\n",
    "\n",
    "visualize_wine_trend(county, climate_feat, dep_var)"
   ]
  },
  {
   "cell_type": "code",
   "execution_count": null,
   "id": "b156dd3b-d265-45a9-b78c-7168041e4c17",
   "metadata": {},
   "outputs": [],
   "source": []
  },
  {
   "cell_type": "code",
   "execution_count": null,
   "id": "0301e7d7-657e-4fd9-ab41-549db4d13eb0",
   "metadata": {},
   "outputs": [],
   "source": []
  },
  {
   "cell_type": "markdown",
   "id": "2e5aa509-078c-4b9c-985d-f1c071af6b16",
   "metadata": {},
   "source": [
    "<a id=\"pts\"></a>\n",
    "### 4. Can we use flavor descriptor word tokens to predict if a review is going to be over 90pts?"
   ]
  },
  {
   "cell_type": "markdown",
   "id": "419ee323-43f0-41ab-9936-16fa5f204809",
   "metadata": {},
   "source": [
    "In this section we use the tokenized words from the EDA notebook to create a model to predict if a wine will get a good review (above 90pts) just based on the presence of certain tokens. "
   ]
  },
  {
   "cell_type": "code",
   "execution_count": null,
   "id": "c9aed311-bbaa-4113-9c02-3dfbba62b02b",
   "metadata": {},
   "outputs": [],
   "source": []
  },
  {
   "cell_type": "code",
   "execution_count": null,
   "id": "f51578d7-5320-4a96-90dc-f3ff8a01ebf9",
   "metadata": {},
   "outputs": [],
   "source": []
  }
 ],
 "metadata": {
  "kernelspec": {
   "display_name": "Python 3 (ipykernel)",
   "language": "python",
   "name": "python3"
  },
  "language_info": {
   "codemirror_mode": {
    "name": "ipython",
    "version": 3
   },
   "file_extension": ".py",
   "mimetype": "text/x-python",
   "name": "python",
   "nbconvert_exporter": "python",
   "pygments_lexer": "ipython3",
   "version": "3.9.12"
  }
 },
 "nbformat": 4,
 "nbformat_minor": 5
}

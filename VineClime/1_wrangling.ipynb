{
 "cells": [
  {
   "cell_type": "markdown",
   "id": "64ce02a8-8010-4b41-96bc-7d6de985661f",
   "metadata": {},
   "source": [
    "**Perry Fox  \n",
    "Capstone Notebook 1  \n",
    "pyrus277@gmail.com  \n",
    "December 12, 2022** "
   ]
  },
  {
   "cell_type": "markdown",
   "id": "88a2ac3e-4230-4939-853d-cc7ed60fc33b",
   "metadata": {},
   "source": [
    "---"
   ]
  },
  {
   "cell_type": "markdown",
   "id": "d27c5355-e4ee-467d-83a6-fac332e24311",
   "metadata": {},
   "source": [
    "# VineClime - Climate and Qualitative Trends in the California Wine Industry\n",
    "## Part 1: Data Wrangling & Simple EDA"
   ]
  },
  {
   "cell_type": "markdown",
   "id": "71f538fc-0611-41e5-bc12-e5a18907e484",
   "metadata": {},
   "source": [
    "---"
   ]
  },
  {
   "cell_type": "markdown",
   "id": "57f7e810-a702-4a03-9303-26194010f00a",
   "metadata": {},
   "source": [
    "### Contents:\n",
    "\n",
    "1. [Data source overview](#overview)\n",
    "1. [Preparing the core dataset](#core)\n",
    "1. [Gathering and Preparing the Climate Data](#climate)\n",
    "1. [Preparing the Wine Reviews Data](#reviews)\n",
    "1. [Next Steps](#next)"
   ]
  },
  {
   "cell_type": "markdown",
   "id": "db61efed-9182-49a7-bdab-326ecf2fdbd6",
   "metadata": {},
   "source": [
    "---"
   ]
  },
  {
   "cell_type": "markdown",
   "id": "abf6ea2b-368d-4db9-8335-7d8036a3cc52",
   "metadata": {},
   "source": [
    "<a id=\"overview\"></a>\n",
    "### 1. Data Source Overview:\n",
    "#### [California Wine Production 1980-2020](https://www.kaggle.com/datasets/jarredpriester/california-wine-production-19802020)\n",
    "- This is the core dataset and it's from Kaggle. It describes total grapewine production volume, along with production value in USD in California over 40 years, broken out by 42 different counties.   \n",
    "\n",
    "#### [NASA POWER Project - Climate Data](https://power.larc.nasa.gov/data-access-viewer/)\n",
    "- This resource was used to append climate features to the core dataset.\n",
    "\n",
    "#### [Wine Reviews](https://www.kaggle.com/datasets/zynicide/wine-reviews) and [Expansion Data](https://www.kaggle.com/datasets/icaram/wine-reviews)\n",
    "- These datasets were used to append the all-important subjective quality features to the dataset in the form of ratings and professional tasting notes."
   ]
  },
  {
   "cell_type": "markdown",
   "id": "0bea9f77-e27d-4d72-be9e-a91bd9d4fb53",
   "metadata": {},
   "source": [
    "---"
   ]
  },
  {
   "cell_type": "markdown",
   "id": "a2fcaa2e-9de9-4481-8503-36efd91ebfe4",
   "metadata": {},
   "source": [
    "<a id=\"core\"></a>\n",
    "### 2. Preparing the Core Dataset"
   ]
  },
  {
   "cell_type": "code",
   "execution_count": 2,
   "id": "18c72e2a-35ed-49ec-bc07-547b79fa28a6",
   "metadata": {},
   "outputs": [],
   "source": [
    "# import packages\n",
    "import numpy as np\n",
    "import pandas as pd\n",
    "import plotly.express as px"
   ]
  },
  {
   "cell_type": "code",
   "execution_count": 3,
   "id": "6c16fccc-e7e4-4b58-84de-b0a79e7e3d97",
   "metadata": {},
   "outputs": [],
   "source": [
    "# Read csv data\n",
    "cwp = pd.read_csv('data/Californa_Wine_Production_1980_2020.csv')"
   ]
  },
  {
   "cell_type": "code",
   "execution_count": 4,
   "id": "f55579cd-33fe-4580-88d6-fd78777191fb",
   "metadata": {},
   "outputs": [
    {
     "data": {
      "text/html": [
       "<div>\n",
       "<style scoped>\n",
       "    .dataframe tbody tr th:only-of-type {\n",
       "        vertical-align: middle;\n",
       "    }\n",
       "\n",
       "    .dataframe tbody tr th {\n",
       "        vertical-align: top;\n",
       "    }\n",
       "\n",
       "    .dataframe thead th {\n",
       "        text-align: right;\n",
       "    }\n",
       "</style>\n",
       "<table border=\"1\" class=\"dataframe\">\n",
       "  <thead>\n",
       "    <tr style=\"text-align: right;\">\n",
       "      <th></th>\n",
       "      <th>Year</th>\n",
       "      <th>CommodityCode</th>\n",
       "      <th>CropName</th>\n",
       "      <th>CountyCode</th>\n",
       "      <th>County</th>\n",
       "      <th>HarvestedAcres</th>\n",
       "      <th>Yield(Unit/Acre)</th>\n",
       "      <th>Production</th>\n",
       "      <th>Price(Dollars/Unit)</th>\n",
       "      <th>Unit</th>\n",
       "      <th>Value(Dollars)</th>\n",
       "    </tr>\n",
       "  </thead>\n",
       "  <tbody>\n",
       "  </tbody>\n",
       "</table>\n",
       "</div>"
      ],
      "text/plain": [
       "Empty DataFrame\n",
       "Columns: [Year, CommodityCode, CropName, CountyCode, County, HarvestedAcres, Yield(Unit/Acre), Production, Price(Dollars/Unit), Unit, Value(Dollars)]\n",
       "Index: []"
      ]
     },
     "execution_count": 4,
     "metadata": {},
     "output_type": "execute_result"
    }
   ],
   "source": [
    "# confirm no duplicate rows\n",
    "cwp.loc[cwp.duplicated()]"
   ]
  },
  {
   "cell_type": "code",
   "execution_count": 5,
   "id": "91b9e184-f472-4134-968d-15ec185b7a23",
   "metadata": {},
   "outputs": [],
   "source": [
    "# Add the latitude and longitude into the dataframe\n",
    "ll_dict = {'Alameda': [37.6017, -121.7195],\n",
    " 'Merced': [37.201, -120.712],\n",
    " 'Yolo': [38.7646,-121.9018],\n",
    " 'Tulare': [36.1342,-118.8597],\n",
    " 'Sonoma': [38.578,-122.9888],\n",
    " 'Solano': [38.3105,-121.9018],\n",
    " 'SanJoaquin': [37.9176,-121.171],\n",
    " 'SanDiego': [32.7157,-117.1611],\n",
    " 'SanBenito': [36.5761,-120.9876],\n",
    " 'Sacramento': [38.4747,-121.3542],\n",
    " 'Riverside': [33.9533,-117.3961],\n",
    " 'Napa': [38.5025, -122.2654],\n",
    " 'SanBernardino': [34.9592,-116.4194],\n",
    " 'Fresno': [36.9859,-119.2321],\n",
    " 'Madera': [37.2519,-119.6963],\n",
    " 'Lake': [39.084,-122.8084],\n",
    " 'Kings': [35.4937,-118.8597],\n",
    " 'Kern': [35.4937,-118.8597],\n",
    " 'Calaveras': [38.196, -120.6805],\n",
    " 'Mendocino': [39.55, -123.4384],\n",
    " 'Amador': [38.3489, -120.7741],\n",
    " 'Nevada': [39.1347, -121.171],\n",
    " 'SanLuisObispo': [35.3102, -120.4358],\n",
    " 'SantaClara': [37.3337, -121.8907],\n",
    " 'SantaBarbara': [34.4208, -119.6982],\n",
    " 'Monterey': [36.3136, -121.3542],\n",
    " 'SantaCruz': [37.0454, -121.958],\n",
    " 'ElDorado': [38.7426, -120.4358],\n",
    " 'Mariposa': [37.4894, -119.9679],\n",
    " 'Placer': [39.0916, -120.8039],\n",
    " 'SanMateo': [37.4337, -122.4014],\n",
    " 'Marin': [38.0834, -122.7633],\n",
    " 'Stanislaus': [37.5091, -120.9876],\n",
    " 'Trinity': [40.6329, -123.0623],\n",
    " 'Yuba': [39.2547, -121.3999],\n",
    " 'Shasta': [40.7909, -121.8474],\n",
    " 'ContraCosta': [37.8534, -121.9018],\n",
    " 'Colusa': [39.1041, -122.2654],\n",
    " 'Mono': [37.9219, -118.9529],\n",
    " 'Tehama': [40.0982, -122.1746],\n",
    " 'Glenn': [39.6438, -122.4467]}\n",
    "\n",
    "cwp.insert(loc = 11,\n",
    "               column = 'lat',\n",
    "               value = cwp['County'].apply(lambda x: ll_dict[x][0]))\n",
    "cwp.insert(loc = 12,\n",
    "               column = 'lon',\n",
    "               value = cwp['County'].apply(lambda x: ll_dict[x][1]))\n"
   ]
  },
  {
   "cell_type": "code",
   "execution_count": 6,
   "id": "2c95b8c2-3cdf-4d9e-b27e-0b5d6c5601e0",
   "metadata": {},
   "outputs": [
    {
     "data": {
      "text/html": [
       "<div>\n",
       "<style scoped>\n",
       "    .dataframe tbody tr th:only-of-type {\n",
       "        vertical-align: middle;\n",
       "    }\n",
       "\n",
       "    .dataframe tbody tr th {\n",
       "        vertical-align: top;\n",
       "    }\n",
       "\n",
       "    .dataframe thead th {\n",
       "        text-align: right;\n",
       "    }\n",
       "</style>\n",
       "<table border=\"1\" class=\"dataframe\">\n",
       "  <thead>\n",
       "    <tr style=\"text-align: right;\">\n",
       "      <th></th>\n",
       "      <th>Year</th>\n",
       "      <th>CommodityCode</th>\n",
       "      <th>CropName</th>\n",
       "      <th>CountyCode</th>\n",
       "      <th>County</th>\n",
       "      <th>HarvestedAcres</th>\n",
       "      <th>Yield(Unit/Acre)</th>\n",
       "      <th>Production</th>\n",
       "      <th>Price(Dollars/Unit)</th>\n",
       "      <th>Unit</th>\n",
       "      <th>Value(Dollars)</th>\n",
       "      <th>lat</th>\n",
       "      <th>lon</th>\n",
       "    </tr>\n",
       "  </thead>\n",
       "  <tbody>\n",
       "    <tr>\n",
       "      <th>0</th>\n",
       "      <td>2020</td>\n",
       "      <td>216299</td>\n",
       "      <td>GRAPESWINE</td>\n",
       "      <td>1</td>\n",
       "      <td>Alameda</td>\n",
       "      <td>2530.0</td>\n",
       "      <td>5.14</td>\n",
       "      <td>13000.0</td>\n",
       "      <td>1497.69</td>\n",
       "      <td>Tons</td>\n",
       "      <td>19470000</td>\n",
       "      <td>37.6017</td>\n",
       "      <td>-121.7195</td>\n",
       "    </tr>\n",
       "    <tr>\n",
       "      <th>1</th>\n",
       "      <td>2020</td>\n",
       "      <td>216299</td>\n",
       "      <td>GRAPESWINE</td>\n",
       "      <td>5</td>\n",
       "      <td>Amador</td>\n",
       "      <td>5360.0</td>\n",
       "      <td>2.31</td>\n",
       "      <td>12400.0</td>\n",
       "      <td>1318.31</td>\n",
       "      <td>Tons</td>\n",
       "      <td>16347000</td>\n",
       "      <td>38.3489</td>\n",
       "      <td>-120.7741</td>\n",
       "    </tr>\n",
       "    <tr>\n",
       "      <th>2</th>\n",
       "      <td>2020</td>\n",
       "      <td>216299</td>\n",
       "      <td>GRAPESWINE</td>\n",
       "      <td>9</td>\n",
       "      <td>Calaveras</td>\n",
       "      <td>579.0</td>\n",
       "      <td>3.06</td>\n",
       "      <td>1770.0</td>\n",
       "      <td>1325.99</td>\n",
       "      <td>Tons</td>\n",
       "      <td>2347000</td>\n",
       "      <td>38.1960</td>\n",
       "      <td>-120.6805</td>\n",
       "    </tr>\n",
       "    <tr>\n",
       "      <th>3</th>\n",
       "      <td>2020</td>\n",
       "      <td>216299</td>\n",
       "      <td>GRAPESWINE</td>\n",
       "      <td>11</td>\n",
       "      <td>Colusa</td>\n",
       "      <td>747.0</td>\n",
       "      <td>6.02</td>\n",
       "      <td>4500.0</td>\n",
       "      <td>684.67</td>\n",
       "      <td>Tons</td>\n",
       "      <td>3081000</td>\n",
       "      <td>39.1041</td>\n",
       "      <td>-122.2654</td>\n",
       "    </tr>\n",
       "    <tr>\n",
       "      <th>4</th>\n",
       "      <td>2020</td>\n",
       "      <td>216299</td>\n",
       "      <td>GRAPESWINE</td>\n",
       "      <td>13</td>\n",
       "      <td>ContraCosta</td>\n",
       "      <td>1940.0</td>\n",
       "      <td>4.69</td>\n",
       "      <td>9090.0</td>\n",
       "      <td>751.27</td>\n",
       "      <td>Tons</td>\n",
       "      <td>6829000</td>\n",
       "      <td>37.8534</td>\n",
       "      <td>-121.9018</td>\n",
       "    </tr>\n",
       "    <tr>\n",
       "      <th>5</th>\n",
       "      <td>2020</td>\n",
       "      <td>216299</td>\n",
       "      <td>GRAPESWINE</td>\n",
       "      <td>17</td>\n",
       "      <td>ElDorado</td>\n",
       "      <td>2620.0</td>\n",
       "      <td>2.38</td>\n",
       "      <td>6240.0</td>\n",
       "      <td>1548.56</td>\n",
       "      <td>Tons</td>\n",
       "      <td>9663000</td>\n",
       "      <td>38.7426</td>\n",
       "      <td>-120.4358</td>\n",
       "    </tr>\n",
       "    <tr>\n",
       "      <th>6</th>\n",
       "      <td>2020</td>\n",
       "      <td>216299</td>\n",
       "      <td>GRAPESWINE</td>\n",
       "      <td>19</td>\n",
       "      <td>Fresno</td>\n",
       "      <td>56900.0</td>\n",
       "      <td>12.13</td>\n",
       "      <td>690000.0</td>\n",
       "      <td>362.14</td>\n",
       "      <td>Tons</td>\n",
       "      <td>249877000</td>\n",
       "      <td>36.9859</td>\n",
       "      <td>-119.2321</td>\n",
       "    </tr>\n",
       "    <tr>\n",
       "      <th>7</th>\n",
       "      <td>2020</td>\n",
       "      <td>216299</td>\n",
       "      <td>GRAPESWINE</td>\n",
       "      <td>29</td>\n",
       "      <td>Kern</td>\n",
       "      <td>25200.0</td>\n",
       "      <td>7.54</td>\n",
       "      <td>190000.0</td>\n",
       "      <td>314.04</td>\n",
       "      <td>Tons</td>\n",
       "      <td>59668000</td>\n",
       "      <td>35.4937</td>\n",
       "      <td>-118.8597</td>\n",
       "    </tr>\n",
       "    <tr>\n",
       "      <th>8</th>\n",
       "      <td>2020</td>\n",
       "      <td>216299</td>\n",
       "      <td>GRAPESWINE</td>\n",
       "      <td>31</td>\n",
       "      <td>Kings</td>\n",
       "      <td>3590.0</td>\n",
       "      <td>16.46</td>\n",
       "      <td>59100.0</td>\n",
       "      <td>286.87</td>\n",
       "      <td>Tons</td>\n",
       "      <td>16954000</td>\n",
       "      <td>35.4937</td>\n",
       "      <td>-118.8597</td>\n",
       "    </tr>\n",
       "    <tr>\n",
       "      <th>9</th>\n",
       "      <td>2020</td>\n",
       "      <td>216299</td>\n",
       "      <td>GRAPESWINE</td>\n",
       "      <td>33</td>\n",
       "      <td>Lake</td>\n",
       "      <td>9580.0</td>\n",
       "      <td>4.12</td>\n",
       "      <td>39500.0</td>\n",
       "      <td>1329.37</td>\n",
       "      <td>Tons</td>\n",
       "      <td>52510000</td>\n",
       "      <td>39.0840</td>\n",
       "      <td>-122.8084</td>\n",
       "    </tr>\n",
       "  </tbody>\n",
       "</table>\n",
       "</div>"
      ],
      "text/plain": [
       "   Year  CommodityCode    CropName  CountyCode       County  HarvestedAcres  \\\n",
       "0  2020         216299  GRAPESWINE           1      Alameda          2530.0   \n",
       "1  2020         216299  GRAPESWINE           5       Amador          5360.0   \n",
       "2  2020         216299  GRAPESWINE           9    Calaveras           579.0   \n",
       "3  2020         216299  GRAPESWINE          11       Colusa           747.0   \n",
       "4  2020         216299  GRAPESWINE          13  ContraCosta          1940.0   \n",
       "5  2020         216299  GRAPESWINE          17     ElDorado          2620.0   \n",
       "6  2020         216299  GRAPESWINE          19       Fresno         56900.0   \n",
       "7  2020         216299  GRAPESWINE          29         Kern         25200.0   \n",
       "8  2020         216299  GRAPESWINE          31        Kings          3590.0   \n",
       "9  2020         216299  GRAPESWINE          33         Lake          9580.0   \n",
       "\n",
       "   Yield(Unit/Acre)  Production  Price(Dollars/Unit)  Unit  Value(Dollars)  \\\n",
       "0              5.14     13000.0              1497.69  Tons        19470000   \n",
       "1              2.31     12400.0              1318.31  Tons        16347000   \n",
       "2              3.06      1770.0              1325.99  Tons         2347000   \n",
       "3              6.02      4500.0               684.67  Tons         3081000   \n",
       "4              4.69      9090.0               751.27  Tons         6829000   \n",
       "5              2.38      6240.0              1548.56  Tons         9663000   \n",
       "6             12.13    690000.0               362.14  Tons       249877000   \n",
       "7              7.54    190000.0               314.04  Tons        59668000   \n",
       "8             16.46     59100.0               286.87  Tons        16954000   \n",
       "9              4.12     39500.0              1329.37  Tons        52510000   \n",
       "\n",
       "       lat       lon  \n",
       "0  37.6017 -121.7195  \n",
       "1  38.3489 -120.7741  \n",
       "2  38.1960 -120.6805  \n",
       "3  39.1041 -122.2654  \n",
       "4  37.8534 -121.9018  \n",
       "5  38.7426 -120.4358  \n",
       "6  36.9859 -119.2321  \n",
       "7  35.4937 -118.8597  \n",
       "8  35.4937 -118.8597  \n",
       "9  39.0840 -122.8084  "
      ]
     },
     "execution_count": 6,
     "metadata": {},
     "output_type": "execute_result"
    }
   ],
   "source": [
    "cwp.head(10)"
   ]
  },
  {
   "cell_type": "code",
   "execution_count": 7,
   "id": "ab152db8-e8c6-4e91-b7a2-3fca2b137977",
   "metadata": {},
   "outputs": [
    {
     "name": "stdout",
     "output_type": "stream",
     "text": [
      "<class 'pandas.core.frame.DataFrame'>\n",
      "RangeIndex: 1315 entries, 0 to 1314\n",
      "Data columns (total 13 columns):\n",
      " #   Column               Non-Null Count  Dtype  \n",
      "---  ------               --------------  -----  \n",
      " 0   Year                 1315 non-null   int64  \n",
      " 1   CommodityCode        1315 non-null   int64  \n",
      " 2   CropName             1315 non-null   object \n",
      " 3   CountyCode           1315 non-null   int64  \n",
      " 4   County               1315 non-null   object \n",
      " 5   HarvestedAcres       1302 non-null   float64\n",
      " 6   Yield(Unit/Acre)     1266 non-null   float64\n",
      " 7   Production           1278 non-null   float64\n",
      " 8   Price(Dollars/Unit)  1278 non-null   float64\n",
      " 9   Unit                 1279 non-null   object \n",
      " 10  Value(Dollars)       1315 non-null   int64  \n",
      " 11  lat                  1315 non-null   float64\n",
      " 12  lon                  1315 non-null   float64\n",
      "dtypes: float64(6), int64(4), object(3)\n",
      "memory usage: 133.7+ KB\n"
     ]
    }
   ],
   "source": [
    "cwp.info()"
   ]
  },
  {
   "cell_type": "code",
   "execution_count": 8,
   "id": "992b665b-2f23-4fa1-9abf-f8abab6c630a",
   "metadata": {},
   "outputs": [
    {
     "name": "stdout",
     "output_type": "stream",
     "text": [
      "Counties Represented: 41\n"
     ]
    }
   ],
   "source": [
    "print(f'Counties Represented: {len(cwp.County.unique())}')"
   ]
  },
  {
   "cell_type": "code",
   "execution_count": 9,
   "id": "e9140b4b-6f7e-4d6f-a749-1e828da9036f",
   "metadata": {},
   "outputs": [
    {
     "name": "stdout",
     "output_type": "stream",
     "text": [
      "Earliest year: 1980\n",
      "Latest year: 2020\n"
     ]
    }
   ],
   "source": [
    "print(f'Earliest year: {cwp.Year.min()}')\n",
    "print(f'Latest year: {cwp.Year.max()}')"
   ]
  },
  {
   "cell_type": "markdown",
   "id": "6f13d931-09e9-491b-b702-2a661f10027d",
   "metadata": {},
   "source": [
    "The California Wine Production dataset gives us the following:\n",
    "- 1315 rows with 11 features\n",
    "- Production volume across from 42 different counties\n",
    "- A timeframe of 41 years from 1980 to 2020\n",
    "- For each county that produced in a given year, we see\n",
    "    - Harvested acres\n",
    "    - Unit per acre\n",
    "    - Production volume in tons\n",
    "    - Production value in USD\n",
    "\n",
    "Next, we'll take a look at how complete the data is, and spin up some exploratory visualizaions."
   ]
  },
  {
   "cell_type": "code",
   "execution_count": 10,
   "id": "3f0e724b-4466-432f-8778-d9f9a0066241",
   "metadata": {},
   "outputs": [
    {
     "name": "stdout",
     "output_type": "stream",
     "text": [
      "GRAPESWINE    1315\n",
      "Name: CropName, dtype: int64\n",
      "216299    1315\n",
      "Name: CommodityCode, dtype: int64\n",
      "TONS    651\n",
      "Tons    380\n",
      "TON     211\n",
      "tons     36\n",
      "ACRE      1\n",
      "Name: Unit, dtype: int64\n"
     ]
    }
   ],
   "source": [
    "print(cwp.CropName.value_counts())\n",
    "print(cwp.CommodityCode.value_counts())\n",
    "print(cwp.Unit.value_counts())"
   ]
  },
  {
   "cell_type": "markdown",
   "id": "3ca4345f-933c-47d7-9ec1-6ff6b404dc77",
   "metadata": {},
   "source": [
    "`CropName`, `CommodityCode`, and `Unit` are the same all the way down. `CountyCode` is also redundant with `Count`, so we'll drop these"
   ]
  },
  {
   "cell_type": "code",
   "execution_count": 11,
   "id": "5b213a20-9495-44f4-bba0-18cba4b94ac2",
   "metadata": {},
   "outputs": [],
   "source": [
    "cwp.drop(['CommodityCode', 'CropName', 'Unit', 'CountyCode'], axis=1, inplace=True)"
   ]
  },
  {
   "cell_type": "code",
   "execution_count": 12,
   "id": "f3de3a2c-5c2a-4fdb-b80e-1be627be157e",
   "metadata": {},
   "outputs": [
    {
     "data": {
      "text/plain": [
       "Year                    0\n",
       "County                  0\n",
       "HarvestedAcres         13\n",
       "Yield(Unit/Acre)       49\n",
       "Production             37\n",
       "Price(Dollars/Unit)    37\n",
       "Value(Dollars)          0\n",
       "lat                     0\n",
       "lon                     0\n",
       "dtype: int64"
      ]
     },
     "execution_count": 12,
     "metadata": {},
     "output_type": "execute_result"
    }
   ],
   "source": [
    "# find null counts by feature:\n",
    "cwp.isnull().sum()"
   ]
  },
  {
   "cell_type": "code",
   "execution_count": 13,
   "id": "ab8236ab-5a8e-4133-9210-2844c09ab195",
   "metadata": {},
   "outputs": [
    {
     "data": {
      "text/plain": [
       "Year                    0\n",
       "County                  0\n",
       "HarvestedAcres         13\n",
       "Yield(Unit/Acre)       49\n",
       "Production             37\n",
       "Price(Dollars/Unit)    37\n",
       "Value(Dollars)          0\n",
       "lat                     0\n",
       "lon                     0\n",
       "dtype: int64"
      ]
     },
     "execution_count": 13,
     "metadata": {},
     "output_type": "execute_result"
    }
   ],
   "source": [
    "# create a datafrome of only the rows where the Yield values is null. Run the counts again to see if this captures all the other nulls:\n",
    "null_yield_df = cwp[cwp['Yield(Unit/Acre)'].isnull()]\n",
    "null_yield_df.isnull().sum()"
   ]
  },
  {
   "cell_type": "markdown",
   "id": "fc55521d-212f-4e3d-9f6e-55d93d8ffaef",
   "metadata": {},
   "source": [
    "We see that all the null values overlap the largest null category, `Yield(Unit/Acre)`.   \n",
    "Since there is still useful data in the rows containing null values, I'll hold on to all the rows in the `cwp_df` dataframe, and drop them as needed in the future depending on the model or analysis.   "
   ]
  },
  {
   "cell_type": "markdown",
   "id": "0679bbd2-5cfc-4093-a938-03680aaf43c4",
   "metadata": {},
   "source": [
    "Here we take a look at which counties are active over time:"
   ]
  },
  {
   "cell_type": "code",
   "execution_count": 14,
   "id": "004814f2-da16-4a9c-9ecb-5be47ace4da9",
   "metadata": {},
   "outputs": [
    {
     "data": {
      "text/plain": [
       "Alameda          41\n",
       "Merced           41\n",
       "Yolo             41\n",
       "Tulare           41\n",
       "Sonoma           41\n",
       "Solano           41\n",
       "SanJoaquin       41\n",
       "SanDiego         41\n",
       "SanBernardino    41\n",
       "Sacramento       41\n",
       "Riverside        41\n",
       "Napa             41\n",
       "SanBenito        41\n",
       "Fresno           41\n",
       "Madera           41\n",
       "Lake             41\n",
       "Kings            41\n",
       "Kern             41\n",
       "Calaveras        40\n",
       "Mendocino        39\n",
       "Amador           39\n",
       "Nevada           38\n",
       "SanLuisObispo    38\n",
       "SantaClara       37\n",
       "SantaBarbara     36\n",
       "Monterey         36\n",
       "SantaCruz        36\n",
       "ElDorado         33\n",
       "Mariposa         30\n",
       "Placer           28\n",
       "SanMateo         28\n",
       "Marin            22\n",
       "Stanislaus       21\n",
       "Trinity          20\n",
       "Yuba             14\n",
       "Shasta           12\n",
       "ContraCosta      11\n",
       "Colusa           10\n",
       "Mono              4\n",
       "Tehama            3\n",
       "Glenn             2\n",
       "Name: County, dtype: int64"
      ]
     },
     "execution_count": 14,
     "metadata": {},
     "output_type": "execute_result"
    }
   ],
   "source": [
    "cwp.County.value_counts()"
   ]
  },
  {
   "cell_type": "markdown",
   "id": "2f9c9f13-d3b5-44eb-b3f6-33a47db95fa2",
   "metadata": {},
   "source": [
    "About half of all counties were active for the full time frame"
   ]
  },
  {
   "cell_type": "markdown",
   "id": "b2c23774-eae3-454c-99ab-b5f473a7d545",
   "metadata": {},
   "source": [
    "---"
   ]
  },
  {
   "cell_type": "markdown",
   "id": "c2e3d219-385f-4d2d-936c-5fb663065bcb",
   "metadata": {},
   "source": [
    "<a id=\"climate\"></a>\n",
    "### 3. Gathering and Preparing the Climate Data"
   ]
  },
  {
   "cell_type": "markdown",
   "id": "940b99b5-d396-4340-b6aa-52e0904b2220",
   "metadata": {},
   "source": [
    "Above we saw that 41 counties were included in the wine production dataset. In this section, I will import climate data from 1981 to 2020 for each of these counties. This data comes from The NASA POWER Project website. To produce a climate data csv, this site requires single point details for each location, and the selection from a wide range of climate data parameters:  \n",
    "\n",
    "- The Single Point details specified are:\n",
    "    - User Community: Agroclimatology\n",
    "    - Temporal Average: Monthly & Annual\n",
    "    - Latitude and Longitude (Supplied from Google Maps)\n",
    "    - Output File Format: CSV  \n",
    "  \n",
    "- The climate data parameters selected are:\n",
    "    - T2M - Temperature\n",
    "    - QV2M - Humidity \n",
    "    - WS2M - Wind Speed \n",
    "    - GWETTOP - Surface Soil Wetness \n",
    "    - GWETPROF - Profile Soil Wetness \n",
    "    - GWETROOT - Root Zone Soil Wetness\n",
    "    - PRECTOTCORR - Precipitation\n",
    "    - UV index data was also requested, but this returned as very incomplete, so we'll drop those columns.\n"
   ]
  },
  {
   "cell_type": "markdown",
   "id": "963fd737-2100-4ad8-876d-b1f6c588398a",
   "metadata": {},
   "source": [
    "Performing these queries resulted in a directory with 41 csv files.  \n",
    "The procedure to wrangle this data and get it combined into one useful dataframe are as follows:"
   ]
  },
  {
   "cell_type": "code",
   "execution_count": 31,
   "id": "0e05ce48-7c1c-47d0-a4f2-fd9881a31bb4",
   "metadata": {},
   "outputs": [],
   "source": [
    "# Make a list of the counties to iterate thru\n",
    "county_list = list(cwp.County.unique())"
   ]
  },
  {
   "cell_type": "code",
   "execution_count": 32,
   "id": "ed5e6e99-6f54-4588-bbc6-0b48779c1c1d",
   "metadata": {},
   "outputs": [
    {
     "name": "stdout",
     "output_type": "stream",
     "text": [
      "41 {360, 14}\n"
     ]
    }
   ],
   "source": [
    "# Each of the CSV files has a substantial header section, so in this cell \n",
    "# I confirm all 41 files are read in and that they all share the same shape\n",
    "count = 0\n",
    "shape = set()\n",
    "# confirm all 41 county items are read in and the shape for each is consistent.\n",
    "for county in county_list:\n",
    "    df = pd.read_csv(f'data/county_climate/{county}.csv', skiprows=17, index_col='YEAR')\n",
    "    #print(f'{x}, {df.shape}')\n",
    "    count += 1\n",
    "    shape.add(df.shape[0])\n",
    "    shape.add(df.shape[1])\n",
    "print(count, shape)"
   ]
  },
  {
   "cell_type": "markdown",
   "id": "040b5d5d-1d7d-467a-9362-d574d745cdb6",
   "metadata": {},
   "source": [
    "Now I'll perform some manipulations and pivots to get them all together"
   ]
  },
  {
   "cell_type": "code",
   "execution_count": 33,
   "id": "f69ed57f-29e5-4a42-bb38-c58751de5a27",
   "metadata": {},
   "outputs": [],
   "source": [
    "# Instantiate a blank dataframe\n",
    "all_county_climates = pd.DataFrame()\n",
    "\n",
    "# Iterate thru all the county names, create a df for each, and append to the main df\n",
    "for county in county_list:\n",
    "    # read in the corresponding CSV:\n",
    "    df = pd.read_csv(f'data/county_climate/{county}.csv', skiprows=17, index_col='YEAR')\n",
    "    \n",
    "    # Move the `County` and `Year` columns to the front\n",
    "    df.insert(loc = 1, \n",
    "               column = 'County', \n",
    "               value = f'{county}')\n",
    "    df.insert(loc = 2,\n",
    "               column = 'Year',\n",
    "               value = df.index)\n",
    "    \n",
    "    # Insert summer and winter average columns at the end\n",
    "    df['winter_avg'] = df[['JAN', 'FEB', 'MAR', 'OCT', 'NOV', 'DEC']].mean(axis=1).round(2)\n",
    "    df['summer_avg'] = df[['APR', 'MAY', 'JUN', 'JUL', 'AUG', 'SEP']].mean(axis=1).round(2)\n",
    "    \n",
    "    # Simplify by dropping the individual months: index 4 to 15\n",
    "    df.drop(df.columns[3:15], axis=1, inplace=True)\n",
    "  \n",
    "    # Reset the index\n",
    "    df.reset_index(inplace=True)\n",
    "\n",
    "    # Pivot the table so we have the climate parameters as columns\n",
    "    df = df.pivot(index='Year', columns='PARAMETER', values = ['ANN', 'summer_avg', 'winter_avg'])\n",
    "    \n",
    "    # Add back in the county name column\n",
    "    df.insert(loc = 0, \n",
    "               column = 'county', \n",
    "               value = f'{county}')\n",
    "    \n",
    "    all_county_climates = pd.concat([all_county_climates, df])"
   ]
  },
  {
   "cell_type": "markdown",
   "id": "6ed91284-eeec-40f9-90ab-786739cbeba2",
   "metadata": {},
   "source": [
    "#### Note - I feature engineered summer and winter average columns based on the monthly data because the comparative intensities between the hot and cold months of the year can have significant effects on wine grape production and quality"
   ]
  },
  {
   "cell_type": "code",
   "execution_count": 34,
   "id": "e638e4ec-c5d1-4dba-a62d-1863118579c6",
   "metadata": {},
   "outputs": [
    {
     "data": {
      "text/html": [
       "<div>\n",
       "<style scoped>\n",
       "    .dataframe tbody tr th:only-of-type {\n",
       "        vertical-align: middle;\n",
       "    }\n",
       "\n",
       "    .dataframe tbody tr th {\n",
       "        vertical-align: top;\n",
       "    }\n",
       "\n",
       "    .dataframe thead tr th {\n",
       "        text-align: left;\n",
       "    }\n",
       "\n",
       "    .dataframe thead tr:last-of-type th {\n",
       "        text-align: right;\n",
       "    }\n",
       "</style>\n",
       "<table border=\"1\" class=\"dataframe\">\n",
       "  <thead>\n",
       "    <tr>\n",
       "      <th></th>\n",
       "      <th>county</th>\n",
       "      <th colspan=\"9\" halign=\"left\">ANN</th>\n",
       "      <th>...</th>\n",
       "      <th>summer_avg</th>\n",
       "      <th colspan=\"9\" halign=\"left\">winter_avg</th>\n",
       "    </tr>\n",
       "    <tr>\n",
       "      <th>PARAMETER</th>\n",
       "      <th></th>\n",
       "      <th>ALLSKY_SFC_PAR_TOT</th>\n",
       "      <th>ALLSKY_SFC_UV_INDEX</th>\n",
       "      <th>GWETPROF</th>\n",
       "      <th>GWETROOT</th>\n",
       "      <th>GWETTOP</th>\n",
       "      <th>PRECTOTCORR</th>\n",
       "      <th>QV2M</th>\n",
       "      <th>T2M</th>\n",
       "      <th>WS2M</th>\n",
       "      <th>...</th>\n",
       "      <th>WS2M</th>\n",
       "      <th>ALLSKY_SFC_PAR_TOT</th>\n",
       "      <th>ALLSKY_SFC_UV_INDEX</th>\n",
       "      <th>GWETPROF</th>\n",
       "      <th>GWETROOT</th>\n",
       "      <th>GWETTOP</th>\n",
       "      <th>PRECTOTCORR</th>\n",
       "      <th>QV2M</th>\n",
       "      <th>T2M</th>\n",
       "      <th>WS2M</th>\n",
       "    </tr>\n",
       "    <tr>\n",
       "      <th>Year</th>\n",
       "      <th></th>\n",
       "      <th></th>\n",
       "      <th></th>\n",
       "      <th></th>\n",
       "      <th></th>\n",
       "      <th></th>\n",
       "      <th></th>\n",
       "      <th></th>\n",
       "      <th></th>\n",
       "      <th></th>\n",
       "      <th></th>\n",
       "      <th></th>\n",
       "      <th></th>\n",
       "      <th></th>\n",
       "      <th></th>\n",
       "      <th></th>\n",
       "      <th></th>\n",
       "      <th></th>\n",
       "      <th></th>\n",
       "      <th></th>\n",
       "      <th></th>\n",
       "    </tr>\n",
       "  </thead>\n",
       "  <tbody>\n",
       "    <tr>\n",
       "      <th>1981</th>\n",
       "      <td>Alameda</td>\n",
       "      <td>-999.00</td>\n",
       "      <td>-999.0</td>\n",
       "      <td>0.55</td>\n",
       "      <td>0.56</td>\n",
       "      <td>0.47</td>\n",
       "      <td>1.74</td>\n",
       "      <td>6.53</td>\n",
       "      <td>14.22</td>\n",
       "      <td>2.16</td>\n",
       "      <td>...</td>\n",
       "      <td>2.51</td>\n",
       "      <td>-999.00</td>\n",
       "      <td>-999.0</td>\n",
       "      <td>0.61</td>\n",
       "      <td>0.63</td>\n",
       "      <td>0.63</td>\n",
       "      <td>3.35</td>\n",
       "      <td>6.26</td>\n",
       "      <td>10.68</td>\n",
       "      <td>1.82</td>\n",
       "    </tr>\n",
       "    <tr>\n",
       "      <th>1982</th>\n",
       "      <td>Alameda</td>\n",
       "      <td>-999.00</td>\n",
       "      <td>-999.0</td>\n",
       "      <td>0.67</td>\n",
       "      <td>0.69</td>\n",
       "      <td>0.63</td>\n",
       "      <td>2.50</td>\n",
       "      <td>6.53</td>\n",
       "      <td>12.56</td>\n",
       "      <td>2.08</td>\n",
       "      <td>...</td>\n",
       "      <td>2.32</td>\n",
       "      <td>-999.00</td>\n",
       "      <td>-999.0</td>\n",
       "      <td>0.74</td>\n",
       "      <td>0.78</td>\n",
       "      <td>0.76</td>\n",
       "      <td>4.31</td>\n",
       "      <td>5.83</td>\n",
       "      <td>9.08</td>\n",
       "      <td>1.82</td>\n",
       "    </tr>\n",
       "    <tr>\n",
       "      <th>1983</th>\n",
       "      <td>Alameda</td>\n",
       "      <td>-999.00</td>\n",
       "      <td>-999.0</td>\n",
       "      <td>0.69</td>\n",
       "      <td>0.70</td>\n",
       "      <td>0.66</td>\n",
       "      <td>3.10</td>\n",
       "      <td>7.20</td>\n",
       "      <td>13.63</td>\n",
       "      <td>2.16</td>\n",
       "      <td>...</td>\n",
       "      <td>2.30</td>\n",
       "      <td>-999.00</td>\n",
       "      <td>-999.0</td>\n",
       "      <td>0.76</td>\n",
       "      <td>0.78</td>\n",
       "      <td>0.76</td>\n",
       "      <td>5.46</td>\n",
       "      <td>6.74</td>\n",
       "      <td>10.79</td>\n",
       "      <td>2.02</td>\n",
       "    </tr>\n",
       "    <tr>\n",
       "      <th>1984</th>\n",
       "      <td>Alameda</td>\n",
       "      <td>-999.00</td>\n",
       "      <td>-999.0</td>\n",
       "      <td>0.60</td>\n",
       "      <td>0.61</td>\n",
       "      <td>0.52</td>\n",
       "      <td>1.09</td>\n",
       "      <td>6.41</td>\n",
       "      <td>13.83</td>\n",
       "      <td>2.18</td>\n",
       "      <td>...</td>\n",
       "      <td>2.50</td>\n",
       "      <td>-999.00</td>\n",
       "      <td>-999.0</td>\n",
       "      <td>0.70</td>\n",
       "      <td>0.72</td>\n",
       "      <td>0.71</td>\n",
       "      <td>2.02</td>\n",
       "      <td>6.16</td>\n",
       "      <td>9.52</td>\n",
       "      <td>1.86</td>\n",
       "    </tr>\n",
       "    <tr>\n",
       "      <th>1985</th>\n",
       "      <td>Alameda</td>\n",
       "      <td>-999.00</td>\n",
       "      <td>-999.0</td>\n",
       "      <td>0.56</td>\n",
       "      <td>0.57</td>\n",
       "      <td>0.48</td>\n",
       "      <td>1.08</td>\n",
       "      <td>6.10</td>\n",
       "      <td>13.32</td>\n",
       "      <td>2.02</td>\n",
       "      <td>...</td>\n",
       "      <td>2.34</td>\n",
       "      <td>-999.00</td>\n",
       "      <td>-999.0</td>\n",
       "      <td>0.62</td>\n",
       "      <td>0.64</td>\n",
       "      <td>0.62</td>\n",
       "      <td>2.00</td>\n",
       "      <td>5.40</td>\n",
       "      <td>9.04</td>\n",
       "      <td>1.69</td>\n",
       "    </tr>\n",
       "    <tr>\n",
       "      <th>...</th>\n",
       "      <td>...</td>\n",
       "      <td>...</td>\n",
       "      <td>...</td>\n",
       "      <td>...</td>\n",
       "      <td>...</td>\n",
       "      <td>...</td>\n",
       "      <td>...</td>\n",
       "      <td>...</td>\n",
       "      <td>...</td>\n",
       "      <td>...</td>\n",
       "      <td>...</td>\n",
       "      <td>...</td>\n",
       "      <td>...</td>\n",
       "      <td>...</td>\n",
       "      <td>...</td>\n",
       "      <td>...</td>\n",
       "      <td>...</td>\n",
       "      <td>...</td>\n",
       "      <td>...</td>\n",
       "      <td>...</td>\n",
       "      <td>...</td>\n",
       "    </tr>\n",
       "    <tr>\n",
       "      <th>2016</th>\n",
       "      <td>Glenn</td>\n",
       "      <td>92.89</td>\n",
       "      <td>-999.0</td>\n",
       "      <td>0.64</td>\n",
       "      <td>0.66</td>\n",
       "      <td>0.55</td>\n",
       "      <td>2.57</td>\n",
       "      <td>5.86</td>\n",
       "      <td>16.14</td>\n",
       "      <td>1.70</td>\n",
       "      <td>...</td>\n",
       "      <td>1.69</td>\n",
       "      <td>53.19</td>\n",
       "      <td>-999.0</td>\n",
       "      <td>0.75</td>\n",
       "      <td>0.78</td>\n",
       "      <td>0.75</td>\n",
       "      <td>4.73</td>\n",
       "      <td>6.00</td>\n",
       "      <td>9.62</td>\n",
       "      <td>1.71</td>\n",
       "    </tr>\n",
       "    <tr>\n",
       "      <th>2017</th>\n",
       "      <td>Glenn</td>\n",
       "      <td>93.31</td>\n",
       "      <td>-999.0</td>\n",
       "      <td>0.64</td>\n",
       "      <td>0.66</td>\n",
       "      <td>0.53</td>\n",
       "      <td>2.49</td>\n",
       "      <td>5.68</td>\n",
       "      <td>16.44</td>\n",
       "      <td>1.82</td>\n",
       "      <td>...</td>\n",
       "      <td>1.74</td>\n",
       "      <td>55.67</td>\n",
       "      <td>-999.0</td>\n",
       "      <td>0.74</td>\n",
       "      <td>0.75</td>\n",
       "      <td>0.69</td>\n",
       "      <td>4.50</td>\n",
       "      <td>5.29</td>\n",
       "      <td>9.76</td>\n",
       "      <td>1.90</td>\n",
       "    </tr>\n",
       "    <tr>\n",
       "      <th>2018</th>\n",
       "      <td>Glenn</td>\n",
       "      <td>94.71</td>\n",
       "      <td>-999.0</td>\n",
       "      <td>0.55</td>\n",
       "      <td>0.55</td>\n",
       "      <td>0.43</td>\n",
       "      <td>1.53</td>\n",
       "      <td>5.19</td>\n",
       "      <td>16.65</td>\n",
       "      <td>1.77</td>\n",
       "      <td>...</td>\n",
       "      <td>1.67</td>\n",
       "      <td>57.49</td>\n",
       "      <td>-999.0</td>\n",
       "      <td>0.59</td>\n",
       "      <td>0.60</td>\n",
       "      <td>0.56</td>\n",
       "      <td>2.47</td>\n",
       "      <td>5.00</td>\n",
       "      <td>10.29</td>\n",
       "      <td>1.87</td>\n",
       "    </tr>\n",
       "    <tr>\n",
       "      <th>2019</th>\n",
       "      <td>Glenn</td>\n",
       "      <td>93.52</td>\n",
       "      <td>-999.0</td>\n",
       "      <td>0.64</td>\n",
       "      <td>0.66</td>\n",
       "      <td>0.54</td>\n",
       "      <td>2.89</td>\n",
       "      <td>5.80</td>\n",
       "      <td>15.90</td>\n",
       "      <td>1.79</td>\n",
       "      <td>...</td>\n",
       "      <td>1.76</td>\n",
       "      <td>54.86</td>\n",
       "      <td>-999.0</td>\n",
       "      <td>0.71</td>\n",
       "      <td>0.73</td>\n",
       "      <td>0.64</td>\n",
       "      <td>5.14</td>\n",
       "      <td>4.93</td>\n",
       "      <td>9.53</td>\n",
       "      <td>1.84</td>\n",
       "    </tr>\n",
       "    <tr>\n",
       "      <th>2020</th>\n",
       "      <td>Glenn</td>\n",
       "      <td>94.92</td>\n",
       "      <td>-999.0</td>\n",
       "      <td>0.52</td>\n",
       "      <td>0.53</td>\n",
       "      <td>0.39</td>\n",
       "      <td>0.71</td>\n",
       "      <td>5.19</td>\n",
       "      <td>17.15</td>\n",
       "      <td>1.75</td>\n",
       "      <td>...</td>\n",
       "      <td>1.68</td>\n",
       "      <td>60.95</td>\n",
       "      <td>-999.0</td>\n",
       "      <td>0.57</td>\n",
       "      <td>0.59</td>\n",
       "      <td>0.51</td>\n",
       "      <td>1.04</td>\n",
       "      <td>4.62</td>\n",
       "      <td>10.68</td>\n",
       "      <td>1.83</td>\n",
       "    </tr>\n",
       "  </tbody>\n",
       "</table>\n",
       "<p>1640 rows × 28 columns</p>\n",
       "</div>"
      ],
      "text/plain": [
       "            county                ANN                                        \\\n",
       "PARAMETER          ALLSKY_SFC_PAR_TOT ALLSKY_SFC_UV_INDEX GWETPROF GWETROOT   \n",
       "Year                                                                          \n",
       "1981       Alameda            -999.00              -999.0     0.55     0.56   \n",
       "1982       Alameda            -999.00              -999.0     0.67     0.69   \n",
       "1983       Alameda            -999.00              -999.0     0.69     0.70   \n",
       "1984       Alameda            -999.00              -999.0     0.60     0.61   \n",
       "1985       Alameda            -999.00              -999.0     0.56     0.57   \n",
       "...            ...                ...                 ...      ...      ...   \n",
       "2016         Glenn              92.89              -999.0     0.64     0.66   \n",
       "2017         Glenn              93.31              -999.0     0.64     0.66   \n",
       "2018         Glenn              94.71              -999.0     0.55     0.55   \n",
       "2019         Glenn              93.52              -999.0     0.64     0.66   \n",
       "2020         Glenn              94.92              -999.0     0.52     0.53   \n",
       "\n",
       "                                                  ... summer_avg  \\\n",
       "PARAMETER GWETTOP PRECTOTCORR  QV2M    T2M  WS2M  ...       WS2M   \n",
       "Year                                              ...              \n",
       "1981         0.47        1.74  6.53  14.22  2.16  ...       2.51   \n",
       "1982         0.63        2.50  6.53  12.56  2.08  ...       2.32   \n",
       "1983         0.66        3.10  7.20  13.63  2.16  ...       2.30   \n",
       "1984         0.52        1.09  6.41  13.83  2.18  ...       2.50   \n",
       "1985         0.48        1.08  6.10  13.32  2.02  ...       2.34   \n",
       "...           ...         ...   ...    ...   ...  ...        ...   \n",
       "2016         0.55        2.57  5.86  16.14  1.70  ...       1.69   \n",
       "2017         0.53        2.49  5.68  16.44  1.82  ...       1.74   \n",
       "2018         0.43        1.53  5.19  16.65  1.77  ...       1.67   \n",
       "2019         0.54        2.89  5.80  15.90  1.79  ...       1.76   \n",
       "2020         0.39        0.71  5.19  17.15  1.75  ...       1.68   \n",
       "\n",
       "                  winter_avg                                                \\\n",
       "PARAMETER ALLSKY_SFC_PAR_TOT ALLSKY_SFC_UV_INDEX GWETPROF GWETROOT GWETTOP   \n",
       "Year                                                                         \n",
       "1981                 -999.00              -999.0     0.61     0.63    0.63   \n",
       "1982                 -999.00              -999.0     0.74     0.78    0.76   \n",
       "1983                 -999.00              -999.0     0.76     0.78    0.76   \n",
       "1984                 -999.00              -999.0     0.70     0.72    0.71   \n",
       "1985                 -999.00              -999.0     0.62     0.64    0.62   \n",
       "...                      ...                 ...      ...      ...     ...   \n",
       "2016                   53.19              -999.0     0.75     0.78    0.75   \n",
       "2017                   55.67              -999.0     0.74     0.75    0.69   \n",
       "2018                   57.49              -999.0     0.59     0.60    0.56   \n",
       "2019                   54.86              -999.0     0.71     0.73    0.64   \n",
       "2020                   60.95              -999.0     0.57     0.59    0.51   \n",
       "\n",
       "                                          \n",
       "PARAMETER PRECTOTCORR  QV2M    T2M  WS2M  \n",
       "Year                                      \n",
       "1981             3.35  6.26  10.68  1.82  \n",
       "1982             4.31  5.83   9.08  1.82  \n",
       "1983             5.46  6.74  10.79  2.02  \n",
       "1984             2.02  6.16   9.52  1.86  \n",
       "1985             2.00  5.40   9.04  1.69  \n",
       "...               ...   ...    ...   ...  \n",
       "2016             4.73  6.00   9.62  1.71  \n",
       "2017             4.50  5.29   9.76  1.90  \n",
       "2018             2.47  5.00  10.29  1.87  \n",
       "2019             5.14  4.93   9.53  1.84  \n",
       "2020             1.04  4.62  10.68  1.83  \n",
       "\n",
       "[1640 rows x 28 columns]"
      ]
     },
     "execution_count": 34,
     "metadata": {},
     "output_type": "execute_result"
    }
   ],
   "source": [
    "all_county_climates"
   ]
  },
  {
   "cell_type": "code",
   "execution_count": 35,
   "id": "b47e8d18-ed1f-44a0-b23b-8d0399a8d407",
   "metadata": {},
   "outputs": [
    {
     "name": "stdout",
     "output_type": "stream",
     "text": [
      "<class 'pandas.core.frame.DataFrame'>\n",
      "Int64Index: 1640 entries, 1981 to 2020\n",
      "Data columns (total 28 columns):\n",
      " #   Column                             Non-Null Count  Dtype  \n",
      "---  ------                             --------------  -----  \n",
      " 0   (county, )                         1640 non-null   object \n",
      " 1   (ANN, ALLSKY_SFC_PAR_TOT)          1640 non-null   float64\n",
      " 2   (ANN, ALLSKY_SFC_UV_INDEX)         1640 non-null   float64\n",
      " 3   (ANN, GWETPROF)                    1640 non-null   float64\n",
      " 4   (ANN, GWETROOT)                    1640 non-null   float64\n",
      " 5   (ANN, GWETTOP)                     1640 non-null   float64\n",
      " 6   (ANN, PRECTOTCORR)                 1640 non-null   float64\n",
      " 7   (ANN, QV2M)                        1640 non-null   float64\n",
      " 8   (ANN, T2M)                         1640 non-null   float64\n",
      " 9   (ANN, WS2M)                        1640 non-null   float64\n",
      " 10  (summer_avg, ALLSKY_SFC_PAR_TOT)   1640 non-null   float64\n",
      " 11  (summer_avg, ALLSKY_SFC_UV_INDEX)  1640 non-null   float64\n",
      " 12  (summer_avg, GWETPROF)             1640 non-null   float64\n",
      " 13  (summer_avg, GWETROOT)             1640 non-null   float64\n",
      " 14  (summer_avg, GWETTOP)              1640 non-null   float64\n",
      " 15  (summer_avg, PRECTOTCORR)          1640 non-null   float64\n",
      " 16  (summer_avg, QV2M)                 1640 non-null   float64\n",
      " 17  (summer_avg, T2M)                  1640 non-null   float64\n",
      " 18  (summer_avg, WS2M)                 1640 non-null   float64\n",
      " 19  (winter_avg, ALLSKY_SFC_PAR_TOT)   1640 non-null   float64\n",
      " 20  (winter_avg, ALLSKY_SFC_UV_INDEX)  1640 non-null   float64\n",
      " 21  (winter_avg, GWETPROF)             1640 non-null   float64\n",
      " 22  (winter_avg, GWETROOT)             1640 non-null   float64\n",
      " 23  (winter_avg, GWETTOP)              1640 non-null   float64\n",
      " 24  (winter_avg, PRECTOTCORR)          1640 non-null   float64\n",
      " 25  (winter_avg, QV2M)                 1640 non-null   float64\n",
      " 26  (winter_avg, T2M)                  1640 non-null   float64\n",
      " 27  (winter_avg, WS2M)                 1640 non-null   float64\n",
      "dtypes: float64(27), object(1)\n",
      "memory usage: 371.6+ KB\n"
     ]
    }
   ],
   "source": [
    "all_county_climates.info()"
   ]
  },
  {
   "cell_type": "code",
   "execution_count": 36,
   "id": "9a425dde-fe3c-4d64-a426-14bcbd8fd100",
   "metadata": {},
   "outputs": [],
   "source": [
    "# collapse the unweildy multi level column names\n",
    "all_county_climates.columns = [' '.join(col).strip() for col in all_county_climates.columns.values]"
   ]
  },
  {
   "cell_type": "code",
   "execution_count": 37,
   "id": "5fe2e3bc-3dc0-4143-85d5-cf25adae2872",
   "metadata": {},
   "outputs": [],
   "source": [
    "# Dropping the UV related columns since they came back with many effective Null values\n",
    "all_county_climates.drop(['ANN ALLSKY_SFC_PAR_TOT', 'ANN ALLSKY_SFC_UV_INDEX', 'summer_avg ALLSKY_SFC_PAR_TOT', \n",
    "              'summer_avg ALLSKY_SFC_UV_INDEX', 'winter_avg ALLSKY_SFC_PAR_TOT', 'winter_avg ALLSKY_SFC_UV_INDEX'], axis=1, inplace=True)"
   ]
  },
  {
   "cell_type": "code",
   "execution_count": 38,
   "id": "dfc4cee1-cd87-46bb-b0e2-b132f9fda944",
   "metadata": {},
   "outputs": [
    {
     "name": "stdout",
     "output_type": "stream",
     "text": [
      "<class 'pandas.core.frame.DataFrame'>\n",
      "Int64Index: 1640 entries, 1981 to 2020\n",
      "Data columns (total 22 columns):\n",
      " #   Column                  Non-Null Count  Dtype  \n",
      "---  ------                  --------------  -----  \n",
      " 0   county                  1640 non-null   object \n",
      " 1   ANN GWETPROF            1640 non-null   float64\n",
      " 2   ANN GWETROOT            1640 non-null   float64\n",
      " 3   ANN GWETTOP             1640 non-null   float64\n",
      " 4   ANN PRECTOTCORR         1640 non-null   float64\n",
      " 5   ANN QV2M                1640 non-null   float64\n",
      " 6   ANN T2M                 1640 non-null   float64\n",
      " 7   ANN WS2M                1640 non-null   float64\n",
      " 8   summer_avg GWETPROF     1640 non-null   float64\n",
      " 9   summer_avg GWETROOT     1640 non-null   float64\n",
      " 10  summer_avg GWETTOP      1640 non-null   float64\n",
      " 11  summer_avg PRECTOTCORR  1640 non-null   float64\n",
      " 12  summer_avg QV2M         1640 non-null   float64\n",
      " 13  summer_avg T2M          1640 non-null   float64\n",
      " 14  summer_avg WS2M         1640 non-null   float64\n",
      " 15  winter_avg GWETPROF     1640 non-null   float64\n",
      " 16  winter_avg GWETROOT     1640 non-null   float64\n",
      " 17  winter_avg GWETTOP      1640 non-null   float64\n",
      " 18  winter_avg PRECTOTCORR  1640 non-null   float64\n",
      " 19  winter_avg QV2M         1640 non-null   float64\n",
      " 20  winter_avg T2M          1640 non-null   float64\n",
      " 21  winter_avg WS2M         1640 non-null   float64\n",
      "dtypes: float64(21), object(1)\n",
      "memory usage: 294.7+ KB\n"
     ]
    }
   ],
   "source": [
    "# Confirm changes\n",
    "all_county_climates.info()"
   ]
  },
  {
   "cell_type": "markdown",
   "id": "43504890-85ba-4a28-a718-51f6f2df797c",
   "metadata": {},
   "source": [
    "Finally, rename the columns to remove spaces and be more descriptive at a glance:"
   ]
  },
  {
   "cell_type": "code",
   "execution_count": 39,
   "id": "bc2e2bf3-629d-4ee7-a742-47e183c60c99",
   "metadata": {},
   "outputs": [],
   "source": [
    "all_county_climates = all_county_climates.rename({'ANN GWETPROF': 'annual_profile_moisture', \n",
    "                                               'ANN GWETROOT': 'annual_root_moisture', \n",
    "                                               'ANN GWETTOP': 'annual_surface_moisture',\n",
    "                                               'ANN PRECTOTCORR': 'annual_precipitation', \n",
    "                                               'ANN QV2M': 'annual_humidity', \n",
    "                                               'ANN T2M': 'annual_temperature', \n",
    "                                               'ANN WS2M': 'annual_wind_speed',\n",
    "                                               'summer_avg GWETPROF': 'summer_profile_moisture', \n",
    "                                               'summer_avg GWETROOT': 'summer_root_moisture', \n",
    "                                               'summer_avg GWETTOP': 'summer_surface_moisture',\n",
    "                                               'summer_avg PRECTOTCORR': 'summer_precipitation', \n",
    "                                               'summer_avg QV2M': 'summer_humidity', \n",
    "                                               'summer_avg T2M': 'summer_temperature',\n",
    "                                               'summer_avg WS2M': 'summer_wind_speed', \n",
    "                                               'winter_avg GWETPROF': 'winter_profile_moisture', \n",
    "                                               'winter_avg GWETROOT': 'winter_root_moisture',\n",
    "                                               'winter_avg GWETTOP': 'winter_surface_moisture', \n",
    "                                               'winter_avg PRECTOTCORR': 'winter_precipitation', \n",
    "                                               'winter_avg QV2M': 'winter_humidity',\n",
    "                                               'winter_avg T2M': 'winter_temperature', \n",
    "                                               'winter_avg WS2M': 'winter_wind_speed'},\n",
    "                                               axis = 'columns')\n",
    "    \n",
    "    \n",
    "    "
   ]
  },
  {
   "cell_type": "code",
   "execution_count": 40,
   "id": "16031385-e551-4dab-aac9-b421bc20459a",
   "metadata": {},
   "outputs": [
    {
     "data": {
      "text/plain": [
       "county                     0\n",
       "annual_profile_moisture    0\n",
       "annual_root_moisture       0\n",
       "annual_surface_moisture    0\n",
       "annual_precipitation       0\n",
       "annual_humidity            0\n",
       "annual_temperature         0\n",
       "annual_wind_speed          0\n",
       "summer_profile_moisture    0\n",
       "summer_root_moisture       0\n",
       "summer_surface_moisture    0\n",
       "summer_precipitation       0\n",
       "summer_humidity            0\n",
       "summer_temperature         0\n",
       "summer_wind_speed          0\n",
       "winter_profile_moisture    0\n",
       "winter_root_moisture       0\n",
       "winter_surface_moisture    0\n",
       "winter_precipitation       0\n",
       "winter_humidity            0\n",
       "winter_temperature         0\n",
       "winter_wind_speed          0\n",
       "dtype: int64"
      ]
     },
     "execution_count": 40,
     "metadata": {},
     "output_type": "execute_result"
    }
   ],
   "source": [
    "# Confirm change and check for null:s\n",
    "all_county_climates.isnull().sum()"
   ]
  },
  {
   "cell_type": "code",
   "execution_count": 41,
   "id": "58208184-1340-4e14-8793-58cc35c58c0b",
   "metadata": {},
   "outputs": [
    {
     "data": {
      "text/html": [
       "<div>\n",
       "<style scoped>\n",
       "    .dataframe tbody tr th:only-of-type {\n",
       "        vertical-align: middle;\n",
       "    }\n",
       "\n",
       "    .dataframe tbody tr th {\n",
       "        vertical-align: top;\n",
       "    }\n",
       "\n",
       "    .dataframe thead th {\n",
       "        text-align: right;\n",
       "    }\n",
       "</style>\n",
       "<table border=\"1\" class=\"dataframe\">\n",
       "  <thead>\n",
       "    <tr style=\"text-align: right;\">\n",
       "      <th></th>\n",
       "      <th>county</th>\n",
       "      <th>annual_profile_moisture</th>\n",
       "      <th>annual_root_moisture</th>\n",
       "      <th>annual_surface_moisture</th>\n",
       "      <th>annual_precipitation</th>\n",
       "      <th>annual_humidity</th>\n",
       "      <th>annual_temperature</th>\n",
       "      <th>annual_wind_speed</th>\n",
       "      <th>summer_profile_moisture</th>\n",
       "      <th>summer_root_moisture</th>\n",
       "      <th>...</th>\n",
       "      <th>summer_humidity</th>\n",
       "      <th>summer_temperature</th>\n",
       "      <th>summer_wind_speed</th>\n",
       "      <th>winter_profile_moisture</th>\n",
       "      <th>winter_root_moisture</th>\n",
       "      <th>winter_surface_moisture</th>\n",
       "      <th>winter_precipitation</th>\n",
       "      <th>winter_humidity</th>\n",
       "      <th>winter_temperature</th>\n",
       "      <th>winter_wind_speed</th>\n",
       "    </tr>\n",
       "    <tr>\n",
       "      <th>Year</th>\n",
       "      <th></th>\n",
       "      <th></th>\n",
       "      <th></th>\n",
       "      <th></th>\n",
       "      <th></th>\n",
       "      <th></th>\n",
       "      <th></th>\n",
       "      <th></th>\n",
       "      <th></th>\n",
       "      <th></th>\n",
       "      <th></th>\n",
       "      <th></th>\n",
       "      <th></th>\n",
       "      <th></th>\n",
       "      <th></th>\n",
       "      <th></th>\n",
       "      <th></th>\n",
       "      <th></th>\n",
       "      <th></th>\n",
       "      <th></th>\n",
       "      <th></th>\n",
       "    </tr>\n",
       "  </thead>\n",
       "  <tbody>\n",
       "  </tbody>\n",
       "</table>\n",
       "<p>0 rows × 22 columns</p>\n",
       "</div>"
      ],
      "text/plain": [
       "Empty DataFrame\n",
       "Columns: [county, annual_profile_moisture, annual_root_moisture, annual_surface_moisture, annual_precipitation, annual_humidity, annual_temperature, annual_wind_speed, summer_profile_moisture, summer_root_moisture, summer_surface_moisture, summer_precipitation, summer_humidity, summer_temperature, summer_wind_speed, winter_profile_moisture, winter_root_moisture, winter_surface_moisture, winter_precipitation, winter_humidity, winter_temperature, winter_wind_speed]\n",
       "Index: []\n",
       "\n",
       "[0 rows x 22 columns]"
      ]
     },
     "execution_count": 41,
     "metadata": {},
     "output_type": "execute_result"
    }
   ],
   "source": [
    "# confirm no duplicate rows\n",
    "all_county_climates.loc[all_county_climates.duplicated()]"
   ]
  },
  {
   "cell_type": "code",
   "execution_count": 42,
   "id": "e4402743-6c87-4233-9f88-ad912292006c",
   "metadata": {},
   "outputs": [
    {
     "data": {
      "text/plain": [
       "array(['Alameda', 'Amador', 'Calaveras', 'Colusa', 'ContraCosta',\n",
       "       'ElDorado', 'Fresno', 'Kern', 'Kings', 'Lake', 'Madera', 'Marin',\n",
       "       'Mendocino', 'Merced', 'Monterey', 'Napa', 'Nevada', 'Placer',\n",
       "       'Riverside', 'Sacramento', 'SanBenito', 'SanBernardino',\n",
       "       'SanDiego', 'SanJoaquin', 'SanLuisObispo', 'SanMateo',\n",
       "       'SantaBarbara', 'SantaClara', 'SantaCruz', 'Shasta', 'Solano',\n",
       "       'Sonoma', 'Stanislaus', 'Tehama', 'Tulare', 'Yolo', 'Mariposa',\n",
       "       'Trinity', 'Mono', 'Yuba', 'Glenn'], dtype=object)"
      ]
     },
     "execution_count": 42,
     "metadata": {},
     "output_type": "execute_result"
    }
   ],
   "source": [
    "all_county_climates.county.unique()"
   ]
  },
  {
   "cell_type": "code",
   "execution_count": 44,
   "id": "a9ae698f-aa47-404e-9fa6-37e9996711f0",
   "metadata": {},
   "outputs": [],
   "source": [
    "# Extra formatting so this dataset meshes well with the others on merge operations:\n",
    "all_county_climates.index.names = ['year'] # lowercase year column name\n",
    "all_county_climates.reset_index(inplace=True) # make year into a column"
   ]
  },
  {
   "cell_type": "markdown",
   "id": "d2d07f52-97a6-4b7a-b5ab-504c7ce726ff",
   "metadata": {},
   "source": [
    "---"
   ]
  },
  {
   "cell_type": "markdown",
   "id": "88054078-87a4-40cf-aa15-98d11db80cd8",
   "metadata": {},
   "source": [
    "<a id=\"reviews\"></a>\n",
    "### 4. Preparing the Wine Reviews Data"
   ]
  },
  {
   "cell_type": "code",
   "execution_count": 52,
   "id": "54843177-b9a9-47e7-90e5-4c0fd7e092fc",
   "metadata": {},
   "outputs": [],
   "source": [
    "import re\n",
    "import time\n",
    "import shelve"
   ]
  },
  {
   "cell_type": "code",
   "execution_count": 53,
   "id": "e2c3dab9-2d41-4d73-9246-203ccfe61262",
   "metadata": {},
   "outputs": [],
   "source": [
    "# Pulling the reviews dataset and the expansion to it. \n",
    "reviews = pd.read_csv('data/winemag-data-130k-v2.csv', index_col=0)\n",
    "reviews_expansion = pd.read_csv('data/winemag-data-2017-2020.csv')"
   ]
  },
  {
   "cell_type": "code",
   "execution_count": 54,
   "id": "4f269515-3e4a-4cf0-9435-423175037834",
   "metadata": {},
   "outputs": [
    {
     "data": {
      "text/html": [
       "<div>\n",
       "<style scoped>\n",
       "    .dataframe tbody tr th:only-of-type {\n",
       "        vertical-align: middle;\n",
       "    }\n",
       "\n",
       "    .dataframe tbody tr th {\n",
       "        vertical-align: top;\n",
       "    }\n",
       "\n",
       "    .dataframe thead th {\n",
       "        text-align: right;\n",
       "    }\n",
       "</style>\n",
       "<table border=\"1\" class=\"dataframe\">\n",
       "  <thead>\n",
       "    <tr style=\"text-align: right;\">\n",
       "      <th></th>\n",
       "      <th>country</th>\n",
       "      <th>description</th>\n",
       "      <th>designation</th>\n",
       "      <th>points</th>\n",
       "      <th>price</th>\n",
       "      <th>province</th>\n",
       "      <th>region_1</th>\n",
       "      <th>region_2</th>\n",
       "      <th>taster_name</th>\n",
       "      <th>taster_twitter_handle</th>\n",
       "      <th>title</th>\n",
       "      <th>variety</th>\n",
       "      <th>winery</th>\n",
       "    </tr>\n",
       "  </thead>\n",
       "  <tbody>\n",
       "    <tr>\n",
       "      <th>0</th>\n",
       "      <td>Italy</td>\n",
       "      <td>Aromas include tropical fruit, broom, brimston...</td>\n",
       "      <td>Vulkà Bianco</td>\n",
       "      <td>87</td>\n",
       "      <td>NaN</td>\n",
       "      <td>Sicily &amp; Sardinia</td>\n",
       "      <td>Etna</td>\n",
       "      <td>NaN</td>\n",
       "      <td>Kerin O’Keefe</td>\n",
       "      <td>@kerinokeefe</td>\n",
       "      <td>Nicosia 2013 Vulkà Bianco  (Etna)</td>\n",
       "      <td>White Blend</td>\n",
       "      <td>Nicosia</td>\n",
       "    </tr>\n",
       "    <tr>\n",
       "      <th>1</th>\n",
       "      <td>Portugal</td>\n",
       "      <td>This is ripe and fruity, a wine that is smooth...</td>\n",
       "      <td>Avidagos</td>\n",
       "      <td>87</td>\n",
       "      <td>15.0</td>\n",
       "      <td>Douro</td>\n",
       "      <td>NaN</td>\n",
       "      <td>NaN</td>\n",
       "      <td>Roger Voss</td>\n",
       "      <td>@vossroger</td>\n",
       "      <td>Quinta dos Avidagos 2011 Avidagos Red (Douro)</td>\n",
       "      <td>Portuguese Red</td>\n",
       "      <td>Quinta dos Avidagos</td>\n",
       "    </tr>\n",
       "    <tr>\n",
       "      <th>2</th>\n",
       "      <td>US</td>\n",
       "      <td>Tart and snappy, the flavors of lime flesh and...</td>\n",
       "      <td>NaN</td>\n",
       "      <td>87</td>\n",
       "      <td>14.0</td>\n",
       "      <td>Oregon</td>\n",
       "      <td>Willamette Valley</td>\n",
       "      <td>Willamette Valley</td>\n",
       "      <td>Paul Gregutt</td>\n",
       "      <td>@paulgwine</td>\n",
       "      <td>Rainstorm 2013 Pinot Gris (Willamette Valley)</td>\n",
       "      <td>Pinot Gris</td>\n",
       "      <td>Rainstorm</td>\n",
       "    </tr>\n",
       "  </tbody>\n",
       "</table>\n",
       "</div>"
      ],
      "text/plain": [
       "    country                                        description   designation  \\\n",
       "0     Italy  Aromas include tropical fruit, broom, brimston...  Vulkà Bianco   \n",
       "1  Portugal  This is ripe and fruity, a wine that is smooth...      Avidagos   \n",
       "2        US  Tart and snappy, the flavors of lime flesh and...           NaN   \n",
       "\n",
       "   points  price           province           region_1           region_2  \\\n",
       "0      87    NaN  Sicily & Sardinia               Etna                NaN   \n",
       "1      87   15.0              Douro                NaN                NaN   \n",
       "2      87   14.0             Oregon  Willamette Valley  Willamette Valley   \n",
       "\n",
       "     taster_name taster_twitter_handle  \\\n",
       "0  Kerin O’Keefe          @kerinokeefe   \n",
       "1     Roger Voss            @vossroger   \n",
       "2   Paul Gregutt           @paulgwine    \n",
       "\n",
       "                                           title         variety  \\\n",
       "0              Nicosia 2013 Vulkà Bianco  (Etna)     White Blend   \n",
       "1  Quinta dos Avidagos 2011 Avidagos Red (Douro)  Portuguese Red   \n",
       "2  Rainstorm 2013 Pinot Gris (Willamette Valley)      Pinot Gris   \n",
       "\n",
       "                winery  \n",
       "0              Nicosia  \n",
       "1  Quinta dos Avidagos  \n",
       "2            Rainstorm  "
      ]
     },
     "execution_count": 54,
     "metadata": {},
     "output_type": "execute_result"
    }
   ],
   "source": [
    "reviews.head(3)"
   ]
  },
  {
   "cell_type": "code",
   "execution_count": 55,
   "id": "7db08bd3-d02a-456b-8bc7-bdd615f91888",
   "metadata": {},
   "outputs": [
    {
     "data": {
      "text/html": [
       "<div>\n",
       "<style scoped>\n",
       "    .dataframe tbody tr th:only-of-type {\n",
       "        vertical-align: middle;\n",
       "    }\n",
       "\n",
       "    .dataframe tbody tr th {\n",
       "        vertical-align: top;\n",
       "    }\n",
       "\n",
       "    .dataframe thead th {\n",
       "        text-align: right;\n",
       "    }\n",
       "</style>\n",
       "<table border=\"1\" class=\"dataframe\">\n",
       "  <thead>\n",
       "    <tr style=\"text-align: right;\">\n",
       "      <th></th>\n",
       "      <th>country</th>\n",
       "      <th>description</th>\n",
       "      <th>designation</th>\n",
       "      <th>points</th>\n",
       "      <th>price</th>\n",
       "      <th>province</th>\n",
       "      <th>region_1</th>\n",
       "      <th>region_2</th>\n",
       "      <th>taster_name</th>\n",
       "      <th>taster_photo</th>\n",
       "      <th>taster_twitter_handle</th>\n",
       "      <th>title</th>\n",
       "      <th>variety</th>\n",
       "      <th>vintage</th>\n",
       "      <th>winery</th>\n",
       "    </tr>\n",
       "  </thead>\n",
       "  <tbody>\n",
       "    <tr>\n",
       "      <th>0</th>\n",
       "      <td>Portugal</td>\n",
       "      <td>This is a deliciously creamy wine with light w...</td>\n",
       "      <td>Assobio Branco</td>\n",
       "      <td>87</td>\n",
       "      <td>14.0</td>\n",
       "      <td>Douro</td>\n",
       "      <td>NaN</td>\n",
       "      <td>NaN</td>\n",
       "      <td>Roger Voss</td>\n",
       "      <td>https://253qv1sx4ey389p9wtpp9sj0-wpengine.netd...</td>\n",
       "      <td>@vossroger</td>\n",
       "      <td>Quinta dos Murças 2016 Assobio Branco White (D...</td>\n",
       "      <td>Portuguese White</td>\n",
       "      <td>2016</td>\n",
       "      <td>Quinta dos Murças</td>\n",
       "    </tr>\n",
       "    <tr>\n",
       "      <th>1</th>\n",
       "      <td>US</td>\n",
       "      <td>Black plum juice, black pepper, caramel and sm...</td>\n",
       "      <td>NaN</td>\n",
       "      <td>87</td>\n",
       "      <td>25.0</td>\n",
       "      <td>California</td>\n",
       "      <td>Paso Robles</td>\n",
       "      <td>Central Coast</td>\n",
       "      <td>Matt Kettmann</td>\n",
       "      <td>https://253qv1sx4ey389p9wtpp9sj0-wpengine.netd...</td>\n",
       "      <td>@mattkettmann</td>\n",
       "      <td>Western Slope 2014 Cabernet Sauvignon (Paso Ro...</td>\n",
       "      <td>Cabernet Sauvignon</td>\n",
       "      <td>2014</td>\n",
       "      <td>Western Slope</td>\n",
       "    </tr>\n",
       "    <tr>\n",
       "      <th>2</th>\n",
       "      <td>Georgia</td>\n",
       "      <td>Aromas of green apple and white flowers prepar...</td>\n",
       "      <td>NaN</td>\n",
       "      <td>87</td>\n",
       "      <td>14.0</td>\n",
       "      <td>Lechkhumi</td>\n",
       "      <td>NaN</td>\n",
       "      <td>NaN</td>\n",
       "      <td>Mike DeSimone</td>\n",
       "      <td>https://253qv1sx4ey389p9wtpp9sj0-wpengine.netd...</td>\n",
       "      <td>@worldwineguys</td>\n",
       "      <td>Teliani Valley 2015 Tsolikouri (Lechkhumi)</td>\n",
       "      <td>Tsolikouri</td>\n",
       "      <td>2015</td>\n",
       "      <td>Teliani Valley</td>\n",
       "    </tr>\n",
       "  </tbody>\n",
       "</table>\n",
       "</div>"
      ],
      "text/plain": [
       "    country                                        description  \\\n",
       "0  Portugal  This is a deliciously creamy wine with light w...   \n",
       "1        US  Black plum juice, black pepper, caramel and sm...   \n",
       "2   Georgia  Aromas of green apple and white flowers prepar...   \n",
       "\n",
       "      designation  points  price    province     region_1       region_2  \\\n",
       "0  Assobio Branco      87   14.0       Douro          NaN            NaN   \n",
       "1             NaN      87   25.0  California  Paso Robles  Central Coast   \n",
       "2             NaN      87   14.0   Lechkhumi          NaN            NaN   \n",
       "\n",
       "     taster_name                                       taster_photo  \\\n",
       "0     Roger Voss  https://253qv1sx4ey389p9wtpp9sj0-wpengine.netd...   \n",
       "1  Matt Kettmann  https://253qv1sx4ey389p9wtpp9sj0-wpengine.netd...   \n",
       "2  Mike DeSimone  https://253qv1sx4ey389p9wtpp9sj0-wpengine.netd...   \n",
       "\n",
       "  taster_twitter_handle                                              title  \\\n",
       "0            @vossroger  Quinta dos Murças 2016 Assobio Branco White (D...   \n",
       "1         @mattkettmann  Western Slope 2014 Cabernet Sauvignon (Paso Ro...   \n",
       "2        @worldwineguys         Teliani Valley 2015 Tsolikouri (Lechkhumi)   \n",
       "\n",
       "              variety vintage             winery  \n",
       "0    Portuguese White    2016  Quinta dos Murças  \n",
       "1  Cabernet Sauvignon    2014      Western Slope  \n",
       "2          Tsolikouri    2015     Teliani Valley  "
      ]
     },
     "execution_count": 55,
     "metadata": {},
     "output_type": "execute_result"
    }
   ],
   "source": [
    "reviews_expansion.head(3)"
   ]
  },
  {
   "cell_type": "markdown",
   "id": "51dc57d1-6aa1-4639-89b8-ce976b38749f",
   "metadata": {},
   "source": [
    "These two datasets don't quite align, but we need to combine them:\n",
    "- `reviews_expansion` data comes with a taster photo column, while `reviews` does not, so this will be dropped  \n",
    "- `reviews_expansion` also comes with a vintage column, which the `reviews` does not have. Luckly I can derive that column from the title column before concatenating the dataframes"
   ]
  },
  {
   "cell_type": "code",
   "execution_count": 56,
   "id": "ef399593-8857-47e6-a9a2-9d57b3d1507d",
   "metadata": {},
   "outputs": [],
   "source": [
    "# Drop the tastser_photo column\n",
    "reviews_expansion.drop('taster_photo',axis=1, inplace=True)\n",
    "\n",
    "# Add a vintage column to the reviews dataset, and add it so it lines up with the reviews_expansion df\n",
    "def pull_year(x): \n",
    "    try: \n",
    "        return int(re.search(r'\\d{4}', x).group(0))\n",
    "    except AttributeError:\n",
    "        return 9999\n",
    "\n",
    "# Extract the year from the title column and put that in a new col:\n",
    "# reviews['vintage'] = reviews['title'].apply(pull_year)\n",
    "\n",
    "reviews.insert(loc = 12,\n",
    "               column = 'vintage',\n",
    "               value = reviews['title'].apply(pull_year))\n",
    "               "
   ]
  },
  {
   "cell_type": "code",
   "execution_count": 57,
   "id": "c414d05e-d671-47b0-b504-7ef65a37e6f3",
   "metadata": {},
   "outputs": [
    {
     "data": {
      "text/plain": [
       "((129971, 14), (81115, 14))"
      ]
     },
     "execution_count": 57,
     "metadata": {},
     "output_type": "execute_result"
    }
   ],
   "source": [
    "# Confirm the shapes align\n",
    "reviews.shape, reviews_expansion.shape"
   ]
  },
  {
   "cell_type": "markdown",
   "id": "7b6965f0-688f-4105-805f-701a830f42a0",
   "metadata": {},
   "source": [
    "#### Combine the two dataframes into one called `reviews`:"
   ]
  },
  {
   "cell_type": "code",
   "execution_count": 60,
   "id": "b79933e4-9a09-4423-be2f-a268c3a83f8d",
   "metadata": {},
   "outputs": [],
   "source": [
    "frames = [reviews, reviews_expansion]\n",
    "reviews = pd.concat(frames)"
   ]
  },
  {
   "cell_type": "code",
   "execution_count": 61,
   "id": "9b18dd6e-151f-44fd-830c-7864cef7da3b",
   "metadata": {},
   "outputs": [
    {
     "name": "stdout",
     "output_type": "stream",
     "text": [
      "<class 'pandas.core.frame.DataFrame'>\n",
      "Int64Index: 292201 entries, 0 to 81114\n",
      "Data columns (total 14 columns):\n",
      " #   Column                 Non-Null Count   Dtype  \n",
      "---  ------                 --------------   -----  \n",
      " 0   country                292128 non-null  object \n",
      " 1   description            292201 non-null  object \n",
      " 2   designation            212098 non-null  object \n",
      " 3   points                 292201 non-null  int64  \n",
      " 4   price                  273911 non-null  float64\n",
      " 5   province               292128 non-null  object \n",
      " 6   region_1               245128 non-null  object \n",
      " 7   region_2               112953 non-null  object \n",
      " 8   taster_name            265657 non-null  object \n",
      " 9   taster_twitter_handle  258836 non-null  object \n",
      " 10  title                  292201 non-null  object \n",
      " 11  variety                292200 non-null  object \n",
      " 12  vintage                292201 non-null  object \n",
      " 13  winery                 292201 non-null  object \n",
      "dtypes: float64(1), int64(1), object(12)\n",
      "memory usage: 33.4+ MB\n"
     ]
    }
   ],
   "source": [
    "reviews.info()"
   ]
  },
  {
   "cell_type": "markdown",
   "id": "44cd57e7-fc41-4ebf-8e01-c14435517cdd",
   "metadata": {},
   "source": [
    "Contained within this dataset are 130k+ reviews from wineries all over the world. This analysis is concerned with California wineries limited to the counties and time frame I have climate data for-- 1981-2020. To get the the proper time frame, the year column first needs to be converted to an integer data type so comparison operators can be used."
   ]
  },
  {
   "cell_type": "code",
   "execution_count": 62,
   "id": "a55fc77a-0191-4bd7-b5bb-5eb6e1d39fc4",
   "metadata": {},
   "outputs": [],
   "source": [
    "reviews['vintage'] = pd.to_numeric(reviews['vintage'], errors='coerce').fillna(9999).astype('Int64')"
   ]
  },
  {
   "cell_type": "markdown",
   "id": "c8d20887-ac13-44f8-bbaa-7cfa96af3b63",
   "metadata": {},
   "source": [
    "#### Grab all the California listings from the earliest year (1981) to present:"
   ]
  },
  {
   "cell_type": "code",
   "execution_count": 63,
   "id": "089fcb2b-47d1-47df-a120-581cfd1853ff",
   "metadata": {},
   "outputs": [],
   "source": [
    "reviews = reviews[(reviews['country'] == 'US') & \n",
    "            (reviews['province'] == 'California') &\n",
    "            (reviews['vintage'] > 1980) &\n",
    "            (reviews['vintage'] < 2021)] "
   ]
  },
  {
   "cell_type": "code",
   "execution_count": 64,
   "id": "bfc2fbc6-9190-4371-8b6f-47eddae755c7",
   "metadata": {},
   "outputs": [
    {
     "data": {
      "text/plain": [
       "1985        1\n",
       "1986        1\n",
       "1987        1\n",
       "1989        1\n",
       "1990        3\n",
       "1991        3\n",
       "1992        5\n",
       "1993        1\n",
       "1994       11\n",
       "1995       11\n",
       "1996       14\n",
       "1997      202\n",
       "1998      211\n",
       "1999      223\n",
       "2000      235\n",
       "2001      176\n",
       "2002       32\n",
       "2003       70\n",
       "2004      441\n",
       "2005     1130\n",
       "2006     1780\n",
       "2007     2072\n",
       "2008     2104\n",
       "2009     2944\n",
       "2010     3590\n",
       "2011     3208\n",
       "2012     5750\n",
       "2013     8550\n",
       "2014    12184\n",
       "2015    11380\n",
       "2016    11571\n",
       "2017     7304\n",
       "2018     2760\n",
       "2019       80\n",
       "Name: vintage, dtype: Int64"
      ]
     },
     "execution_count": 64,
     "metadata": {},
     "output_type": "execute_result"
    }
   ],
   "source": [
    "# Review Count by Year\n",
    "revct_by_yr = reviews['vintage'].value_counts().sort_index()\n",
    "revct_by_yr"
   ]
  },
  {
   "cell_type": "markdown",
   "id": "73ef082a-826f-433f-883c-6b6d3cbc0c37",
   "metadata": {},
   "source": [
    "Unfortunately, the reviews become a little sparse going back past the late 90s, so the scope of modeling might have to pick up in the mid 90's instead of 1981."
   ]
  },
  {
   "cell_type": "markdown",
   "id": "dfceb4d2-4576-4030-9163-8cd0082032f4",
   "metadata": {},
   "source": [
    "#### Web Scraping"
   ]
  },
  {
   "cell_type": "markdown",
   "id": "8c7a8dfd-75dd-4e68-8e10-efdba77e64d5",
   "metadata": {},
   "source": [
    "In order to tie this review data in with the `Climate` and `California Wine Production` dataframes, I need to aggregate rows and join by county and year. It looks like I might be able to use the region columns for this, but unfortunately, wine regions here do not tie 1:1 with the state defined counties. The only way to bridge this gap is to investigate the `winery` column and find the physical address for each. This required some web scraping.  \n",
    "  \n",
    "In order to pull the county information I wrote two webscrapers.\n",
    "- `scraper_google.py` takes a list of the unique winery names and perfroms Google searches on each, first finding the physical address of the winery, and then performing a search on the city name to get the county. \n",
    "- `scraper_winery_sage.py` scrapes the website www.winery-sage.com which has tables listing wineries and county  information, among other things for vineyards across California, Oregon, and Washington.\n",
    "- After running both of these I ran the Google scraper again, adjusting the search term format to try to fill in a few more of the missing gaps. \n",
    "\n",
    "This scraping effort resulted in general success. As we'll see below, I was able to fill in a majority of the county names (58%). This is actually in the neighborhood of what would be expected, because not every California winery grows their own grapes--many are blenders that actually buy wines from growers to combine in a way to create a desired profile. If we are concerned with how climate affects the wines from a known location, we actually would not want to include blenders who are not required to disclose the sources of their wines. Therefore, dropping the rows with unknown counties would be desirable."
   ]
  },
  {
   "cell_type": "code",
   "execution_count": 31,
   "id": "2c24cc5d-7b5e-41c5-a551-a7cc9fd65582",
   "metadata": {},
   "outputs": [
    {
     "data": {
      "text/plain": [
       "4646"
      ]
     },
     "execution_count": 31,
     "metadata": {},
     "output_type": "execute_result"
    }
   ],
   "source": [
    "# First, get a list of unique wineries to pass along to the scraper. I'll use the `shelve` library to pass things back and forth.\n",
    "wineries = list(reviews.winery.unique())\n",
    "len(wineries)"
   ]
  },
  {
   "cell_type": "code",
   "execution_count": null,
   "id": "b966d6ae-54d1-41ee-893a-08b965c38161",
   "metadata": {},
   "outputs": [],
   "source": [
    "## Don't run this cell again ##\n",
    "## There are 4,646 wineries to scrape-- I'll Shelve this list for scraper_google.py:\n",
    "\n",
    "# with shelve.open('wineries') as shelfFile:\n",
    "#     shelfFile['wineries'] = wineries\n",
    "\n",
    "## I'll also instantiate an empty variable for the scraper to populate with tuples-- (winery name, county)\n",
    "\n",
    "# with shelve.open('wineries') as shelfFile:\n",
    "#     ##shelfFile['with_counties'] = [] #especially don't run this again"
   ]
  },
  {
   "cell_type": "markdown",
   "id": "b16096d9-d900-419d-8104-4fb3b2f05a9f",
   "metadata": {},
   "source": [
    "Okay, I ran a scraper and filled in some counties. Next, I'll bring in the results list, and isolate the wineries we couldn't find counties for, and adjust the scraping strategy for those, i.e. altering the Google search text and using the second scraper. "
   ]
  },
  {
   "cell_type": "code",
   "execution_count": 53,
   "id": "96a16d3c-8da5-4fca-af54-f50fb4849850",
   "metadata": {},
   "outputs": [],
   "source": [
    "with shelve.open('wineries') as shelfFile:\n",
    "    with_counties = shelfFile['with_counties']"
   ]
  },
  {
   "cell_type": "code",
   "execution_count": 57,
   "id": "efaabd9e-3b5c-4bfc-9b6a-b75a8ceef20f",
   "metadata": {},
   "outputs": [
    {
     "data": {
      "text/plain": [
       "4646"
      ]
     },
     "execution_count": 57,
     "metadata": {},
     "output_type": "execute_result"
    }
   ],
   "source": [
    "len(with_counties) # with_counties has all the wineries, and county names from the FIRST SCRAPE"
   ]
  },
  {
   "cell_type": "markdown",
   "id": "e4f00fb6-a4b9-4b2c-9e99-2b555e97730e",
   "metadata": {},
   "source": [
    "Now I'll convert `with_counties` into a dictionary, `with_counties_dict2`, and update this dictionary as I uncover more counties. A dictionary will be easier to use to populate the county column in the dataframe above.   "
   ]
  },
  {
   "cell_type": "code",
   "execution_count": 59,
   "id": "8bf2e321-2077-42cc-9e0e-04fcfd170c23",
   "metadata": {},
   "outputs": [],
   "source": [
    "# Start rebuilding with_counties_dict as with_counties_dict2:\n",
    "# turn with_counties2 into a dict\n",
    "with_counties_dict2 = {}\n",
    "for i in with_counties:\n",
    "    with_counties_dict2[i[0]] = i[1] \n"
   ]
  },
  {
   "cell_type": "markdown",
   "id": "ca437b2f-3c0e-4153-a5a8-0b7de0ad9015",
   "metadata": {},
   "source": [
    "Also, let's see what percentage of unique wineries we have counties for:"
   ]
  },
  {
   "cell_type": "code",
   "execution_count": 71,
   "id": "8255daef-d0f7-4463-8bd0-29a69142cb49",
   "metadata": {},
   "outputs": [
    {
     "name": "stdout",
     "output_type": "stream",
     "text": [
      "62.79% of the total wineries do not have a county listed\n"
     ]
    }
   ],
   "source": [
    "na_lst = []\n",
    "for winery, county in with_counties_dict2.items():\n",
    "    if county == 'NA':\n",
    "        na_lst.append(winery)\n",
    "print(f'{round((len(na_lst)/len(with_counties_dict2)),4)*100}% of the total wineries do not have a county listed') "
   ]
  },
  {
   "cell_type": "markdown",
   "id": "dcdb2cd0-2fbc-45c2-b3a4-65684f02e03e",
   "metadata": {},
   "source": [
    "#### Let's see if this can be improved. The website [winery sage](#https://www.winery-sage.com/) looks promising.\n",
    "I'll feed `scraper_winery_sage.py` the `nalst` just created, and see if it can pick up counties that the Google scraper couldn't.  \n",
    "This scraper returns a new list of tuples, `with_counties_update`, and this can be used to update `with_counties_dict2`:"
   ]
  },
  {
   "cell_type": "code",
   "execution_count": null,
   "id": "be9c1fd8-d26b-4ac2-be63-2a99a066f4f0",
   "metadata": {},
   "outputs": [],
   "source": [
    "with shelve.open('wineries') as shelfFile:\n",
    "    shelfFile['na_lst'] = na_lst"
   ]
  },
  {
   "cell_type": "code",
   "execution_count": 72,
   "id": "f1cb82c2-8095-45ad-964c-17d45b3e4f35",
   "metadata": {},
   "outputs": [],
   "source": [
    "with shelve.open('wineries') as shelfFile:\n",
    "    with_counties_update = shelfFile['with_counties_update']"
   ]
  },
  {
   "cell_type": "code",
   "execution_count": 73,
   "id": "3d5b62f5-7424-4e6d-a7e2-a6f8cf00babc",
   "metadata": {},
   "outputs": [],
   "source": [
    "# Turn with_counties_update into a dictionary\n",
    "with_counties_update_dict = {}\n",
    "for tup in with_counties_update:\n",
    "    with_counties_update_dict[tup[0]] = tup[1] \n",
    "\n",
    "# Replace the ' ' values in with_counties_update_dict with 'NA'\n",
    "for k,v in with_counties_update_dict.items():\n",
    "    if v == ' ':\n",
    "        with_counties_update_dict[k] = 'NA'"
   ]
  },
  {
   "cell_type": "code",
   "execution_count": 74,
   "id": "71364006-8b5d-4a4a-bc7d-701c7824ab1b",
   "metadata": {},
   "outputs": [],
   "source": [
    "# Finally,update with_counties_dict2.\n",
    "# As opposed to the Google scraper, where the winery names inputted are just returned back out, \n",
    "# the winerey names returned from winery-sage might have a different format than what was used in the nalst input\n",
    "# so I have to do some text manipulation to align the scraper result winery names with what we have in our \n",
    "# running dictionary, with_counties_dict2:\n",
    "\n",
    "for winery, county in with_counties_dict2.items():\n",
    "    # transform the winery-- remove hyphens, and change '&' to 'and'\n",
    "    winery_mod = winery.replace('&', 'and')\n",
    "    winery_mod = winery_mod.replace('-', ' ')\n",
    "    if county == 'NA':\n",
    "        try:\n",
    "            for key, value in with_counties_update_dict.items():\n",
    "                if winery_mod in key:\n",
    "                    with_counties_dict2[winery] = value       \n",
    "        except KeyError:\n",
    "            continue"
   ]
  },
  {
   "cell_type": "code",
   "execution_count": 78,
   "id": "9c17f34b-e4e1-4304-a345-2352543fe4b4",
   "metadata": {},
   "outputs": [
    {
     "name": "stdout",
     "output_type": "stream",
     "text": [
      "52.73% of the total wineries listed are still null\n"
     ]
    }
   ],
   "source": [
    "# okay, moment of truth.. how many NAs remain....\n",
    "na_lst = []\n",
    "for winery, county in with_counties_dict2.items():\n",
    "    if county == 'NA':\n",
    "        na_lst.append(winery)\n",
    "print(f'{round((len(na_lst)/len(with_counties_dict2)),4)*100}% of the total wineries listed are still null')    "
   ]
  },
  {
   "cell_type": "markdown",
   "id": "093bcc26-a215-4ac2-847d-e64b9afe4e52",
   "metadata": {},
   "source": [
    "Great, got about 10% more of the county names filled in.    \n",
    "Now I'll give the Google scraper another run with the remaining wineries lacking a county, but change up the search strategy a little by updating the search string."
   ]
  },
  {
   "cell_type": "code",
   "execution_count": null,
   "id": "b5eb9fe6-1e27-4fcd-8591-f38daca6ffe9",
   "metadata": {},
   "outputs": [],
   "source": [
    "# Update and reshelve na_lst\n",
    "with shelve.open('wineries') as shelfFile:\n",
    "    shelfFile['na_lst'] = na_lst"
   ]
  },
  {
   "cell_type": "code",
   "execution_count": 79,
   "id": "0488aacb-167a-43d0-a669-3ad076d61edc",
   "metadata": {},
   "outputs": [],
   "source": [
    "# Bring in the tuple list from the most recent scrape-- with_counites_3\n",
    "with shelve.open('wineries') as shelfFile:\n",
    "    with_counties3 = shelfFile['with_counties3']"
   ]
  },
  {
   "cell_type": "code",
   "execution_count": 80,
   "id": "fc8cca92-d573-4f44-812d-32ccac3dcd81",
   "metadata": {},
   "outputs": [],
   "source": [
    "# Turn with_counties3 into a dictionary\n",
    "with_counties_update_dict3 = {}\n",
    "for i in with_counties3:\n",
    "    with_counties_update_dict3[i[0]] = i[1] "
   ]
  },
  {
   "cell_type": "code",
   "execution_count": 81,
   "id": "6352f196-a87f-4770-b916-dccecc13eb78",
   "metadata": {},
   "outputs": [],
   "source": [
    "# Update with_counties_dict2 yet again\n",
    "for winery, county in with_counties_dict2.items():\n",
    "    if county == 'NA':\n",
    "        try:\n",
    "            for key, value in with_counties_update_dict3.items():\n",
    "                if winery == key:\n",
    "                    with_counties_dict2[winery] = value       \n",
    "        except KeyError:\n",
    "            continue"
   ]
  },
  {
   "cell_type": "code",
   "execution_count": 83,
   "id": "c32e4ce3-1380-4978-a408-06c503ddcbc7",
   "metadata": {},
   "outputs": [
    {
     "name": "stdout",
     "output_type": "stream",
     "text": [
      "41.71% of the total wineries listed are still null\n"
     ]
    }
   ],
   "source": [
    "# Second moment of truth-- how many more counties did we fill in?\n",
    "na_lst = []\n",
    "for winery, county in with_counties_dict2.items():\n",
    "    if county == 'NA':\n",
    "        na_lst.append(winery)\n",
    "print(f'{round((len(na_lst)/len(with_counties_dict2)),4)*100}% of the total wineries listed are still null') "
   ]
  },
  {
   "cell_type": "markdown",
   "id": "5703cb82-c187-438f-a5b7-4a45e6e1f102",
   "metadata": {},
   "source": [
    "41.71%. I think this is the best we're gonna do for now. It could be that the majority of the remainders are wine blenders, as discussed above. \n",
    "Further efforts can be made to fill in the county info, but for now we'll roll with this.   \n",
    "Next I'll perform a little more cleanup, and then shelve the final `with_counties_dict2` and use this to engineer the county column in the reviews dataframe."
   ]
  },
  {
   "cell_type": "code",
   "execution_count": 88,
   "id": "79b6d898-c8e2-4d46-8e45-9e9bf5db2f4c",
   "metadata": {},
   "outputs": [],
   "source": [
    "# Trim ' county' off the county names\n",
    "for winery, county in with_counties_dict2.items():\n",
    "    county = county.split(' ')\n",
    "    if county[-1] == 'County':\n",
    "        with_counties_dict2[winery] = (' ').join(county[:-1])        "
   ]
  },
  {
   "cell_type": "code",
   "execution_count": 91,
   "id": "9addc5d5-5637-45db-9790-b39f47000a86",
   "metadata": {},
   "outputs": [
    {
     "name": "stdout",
     "output_type": "stream",
     "text": [
      "{'Santa Cruz', 'Jackson', 'Yountville', 'Stanislaus', 'San Francisco', 'Riverside', 'Maricopa', 'Orange', 'Buncombe', 'Mariposa', 'Greenfield', 'Mendocino', 'Humboldt', 'Sonoma', 'Butte', 'Kern', 'Chelan', '93926', 'Sutter', 'Contra Costa', 'San Diego', 'Oakland', 'Mississauga', 'Fredericksburg', 'See results about', 'San Mateo', 'Tulare', 'Angwin', 'Lake', 'Santa Barbara', 'Ventura', 'Polk', 'Merriweather Coffee + Kitchen', 'Bassett Park', 'Spokane', 'San Benito', 'Modesto', 'San Luis Obispo', 'North County Joint Union School', 'Temecula', 'Coos', '95037', 'Sierra', 'Hollister', 'Lewis', 'West 4th Ave At North 12th St', 'Toms River', 'Marin', 'Murphys', 'Santa Clara', 'Point Richmond', 'Clearlake', 'King', 'Amador', 'El Dorado', 'Snohomish', 'Oceanside', 'Trinity', '95637', 'Jack London Village', 'Plumas', 'San Bernardino', 'Florence', 'Los Angeles', 'Newhall', 'Shasta', 'Napa', 'Lodi', 'Monterey', 'San Joaquin', 'Merced', 'Douglas', 'Chico', 'Siskiyou', 'Calaveras', '94573', 'Loudoun', 'Pleasanton', 'Lancaster', 'Stockton', 'Meadowcroft wines', 'Modoc', 'Mecklenburg', 'Benton', 'Yolo', 'B&B Klinec', 'Kitsap', 'Whitman', 'Alameda', '93022', 'Cavaletti Vineyards', 'Berkeley', 'Grant', 'Sacramento', 'Jefferson', 'NA', 'Grand Bend', 'Richmond', 'Solvang', 'Westfield World Trade Center', 'Walla Walla', 'Robert Mondavi Winery', 'Placer', 'Fresno', 'Nevada', 'Tehama', 'Larimer', 'Forestville', 'United States', 'Solano', 'Columbia', 'Yuba', 'Yamhill', 'Tuolumne', 'Davis', 'Madera', '95441'}\n"
     ]
    }
   ],
   "source": [
    "# Some of the county names we scraped are definitely not counties, so idendify these errors and replace with 'NA'\n",
    "counties_set = set()\n",
    "for winery, county in with_counties_dict2.items():\n",
    "    counties_set.add(county)\n",
    "print(counties_set)\n"
   ]
  },
  {
   "cell_type": "code",
   "execution_count": 98,
   "id": "2b10ef9d-68a7-4907-8df0-f1fc2b694abf",
   "metadata": {},
   "outputs": [],
   "source": [
    "not_counties = ['93926', 'See results about', 'Merriweather Coffee + Kitchen', 'North County Joint Union School', \n",
    "                'Coos', '95037', 'West 4th Ave At North 12th St', '95637', 'Meadowcroft wines', '94573', 'Walla Walla',\n",
    "                'Robert Mondavi Winery', 'Cavaletti Vineyards', 'Westfield World Trade Center', 'United States','95441']\n",
    "                \n",
    "for winery, county in with_counties_dict2.items():\n",
    "    if county in not_counties:\n",
    "        with_counties_dict2[winery] = 'NA'"
   ]
  },
  {
   "cell_type": "code",
   "execution_count": 100,
   "id": "03b87bd9-f907-41e6-a860-5274350380ab",
   "metadata": {},
   "outputs": [],
   "source": [
    "# Shelve this dictionary to lock in the modifications. \n",
    "with shelve.open('wineries') as shelfFile:\n",
    "    shelfFile['with_counties_dict2'] = with_counties_dict2"
   ]
  },
  {
   "cell_type": "markdown",
   "id": "db1041d3-e838-4aa3-8e06-69d45cae4809",
   "metadata": {},
   "source": [
    "Finally, we can now add in the county column to the `reviews` dataframe!"
   ]
  },
  {
   "cell_type": "code",
   "execution_count": 103,
   "id": "c8a94d62-c4e2-42ec-b271-8836f2290332",
   "metadata": {},
   "outputs": [],
   "source": [
    "def add_county(x): \n",
    "    return with_counties_dict2[x]\n",
    "\n",
    "reviews.insert(loc = 14,\n",
    "               column = 'county',\n",
    "               value = reviews['winery'].apply(add_county))"
   ]
  },
  {
   "cell_type": "code",
   "execution_count": 104,
   "id": "634484f5-852f-436f-b6bc-ef17a66615c2",
   "metadata": {},
   "outputs": [
    {
     "data": {
      "text/html": [
       "<div>\n",
       "<style scoped>\n",
       "    .dataframe tbody tr th:only-of-type {\n",
       "        vertical-align: middle;\n",
       "    }\n",
       "\n",
       "    .dataframe tbody tr th {\n",
       "        vertical-align: top;\n",
       "    }\n",
       "\n",
       "    .dataframe thead th {\n",
       "        text-align: right;\n",
       "    }\n",
       "</style>\n",
       "<table border=\"1\" class=\"dataframe\">\n",
       "  <thead>\n",
       "    <tr style=\"text-align: right;\">\n",
       "      <th></th>\n",
       "      <th>country</th>\n",
       "      <th>description</th>\n",
       "      <th>designation</th>\n",
       "      <th>points</th>\n",
       "      <th>price</th>\n",
       "      <th>province</th>\n",
       "      <th>region_1</th>\n",
       "      <th>region_2</th>\n",
       "      <th>taster_name</th>\n",
       "      <th>taster_twitter_handle</th>\n",
       "      <th>title</th>\n",
       "      <th>variety</th>\n",
       "      <th>vintage</th>\n",
       "      <th>winery</th>\n",
       "      <th>county</th>\n",
       "    </tr>\n",
       "  </thead>\n",
       "  <tbody>\n",
       "    <tr>\n",
       "      <th>10</th>\n",
       "      <td>US</td>\n",
       "      <td>Soft, supple plum envelopes an oaky structure ...</td>\n",
       "      <td>Mountain Cuvée</td>\n",
       "      <td>87</td>\n",
       "      <td>19.0</td>\n",
       "      <td>California</td>\n",
       "      <td>Napa Valley</td>\n",
       "      <td>Napa</td>\n",
       "      <td>Virginie Boone</td>\n",
       "      <td>@vboone</td>\n",
       "      <td>Kirkland Signature 2011 Mountain Cuvée Caberne...</td>\n",
       "      <td>Cabernet Sauvignon</td>\n",
       "      <td>2011</td>\n",
       "      <td>Kirkland Signature</td>\n",
       "      <td>NA</td>\n",
       "    </tr>\n",
       "    <tr>\n",
       "      <th>12</th>\n",
       "      <td>US</td>\n",
       "      <td>Slightly reduced, this wine offers a chalky, t...</td>\n",
       "      <td>NaN</td>\n",
       "      <td>87</td>\n",
       "      <td>34.0</td>\n",
       "      <td>California</td>\n",
       "      <td>Alexander Valley</td>\n",
       "      <td>Sonoma</td>\n",
       "      <td>Virginie Boone</td>\n",
       "      <td>@vboone</td>\n",
       "      <td>Louis M. Martini 2012 Cabernet Sauvignon (Alex...</td>\n",
       "      <td>Cabernet Sauvignon</td>\n",
       "      <td>2012</td>\n",
       "      <td>Louis M. Martini</td>\n",
       "      <td>Napa</td>\n",
       "    </tr>\n",
       "    <tr>\n",
       "      <th>14</th>\n",
       "      <td>US</td>\n",
       "      <td>Building on 150 years and six generations of w...</td>\n",
       "      <td>NaN</td>\n",
       "      <td>87</td>\n",
       "      <td>12.0</td>\n",
       "      <td>California</td>\n",
       "      <td>Central Coast</td>\n",
       "      <td>Central Coast</td>\n",
       "      <td>Matt Kettmann</td>\n",
       "      <td>@mattkettmann</td>\n",
       "      <td>Mirassou 2012 Chardonnay (Central Coast)</td>\n",
       "      <td>Chardonnay</td>\n",
       "      <td>2012</td>\n",
       "      <td>Mirassou</td>\n",
       "      <td>Santa Clara</td>\n",
       "    </tr>\n",
       "    <tr>\n",
       "      <th>23</th>\n",
       "      <td>US</td>\n",
       "      <td>This wine from the Geneseo district offers aro...</td>\n",
       "      <td>Signature Selection</td>\n",
       "      <td>87</td>\n",
       "      <td>22.0</td>\n",
       "      <td>California</td>\n",
       "      <td>Paso Robles</td>\n",
       "      <td>Central Coast</td>\n",
       "      <td>Matt Kettmann</td>\n",
       "      <td>@mattkettmann</td>\n",
       "      <td>Bianchi 2011 Signature Selection Merlot (Paso ...</td>\n",
       "      <td>Merlot</td>\n",
       "      <td>2011</td>\n",
       "      <td>Bianchi</td>\n",
       "      <td>San Luis Obispo</td>\n",
       "    </tr>\n",
       "    <tr>\n",
       "      <th>25</th>\n",
       "      <td>US</td>\n",
       "      <td>Oak and earth intermingle around robust aromas...</td>\n",
       "      <td>King Ridge Vineyard</td>\n",
       "      <td>87</td>\n",
       "      <td>69.0</td>\n",
       "      <td>California</td>\n",
       "      <td>Sonoma Coast</td>\n",
       "      <td>Sonoma</td>\n",
       "      <td>Virginie Boone</td>\n",
       "      <td>@vboone</td>\n",
       "      <td>Castello di Amorosa 2011 King Ridge Vineyard P...</td>\n",
       "      <td>Pinot Noir</td>\n",
       "      <td>2011</td>\n",
       "      <td>Castello di Amorosa</td>\n",
       "      <td>Napa</td>\n",
       "    </tr>\n",
       "  </tbody>\n",
       "</table>\n",
       "</div>"
      ],
      "text/plain": [
       "   country                                        description  \\\n",
       "10      US  Soft, supple plum envelopes an oaky structure ...   \n",
       "12      US  Slightly reduced, this wine offers a chalky, t...   \n",
       "14      US  Building on 150 years and six generations of w...   \n",
       "23      US  This wine from the Geneseo district offers aro...   \n",
       "25      US  Oak and earth intermingle around robust aromas...   \n",
       "\n",
       "            designation  points  price    province          region_1  \\\n",
       "10       Mountain Cuvée      87   19.0  California       Napa Valley   \n",
       "12                  NaN      87   34.0  California  Alexander Valley   \n",
       "14                  NaN      87   12.0  California     Central Coast   \n",
       "23  Signature Selection      87   22.0  California       Paso Robles   \n",
       "25  King Ridge Vineyard      87   69.0  California      Sonoma Coast   \n",
       "\n",
       "         region_2     taster_name taster_twitter_handle  \\\n",
       "10           Napa  Virginie Boone               @vboone   \n",
       "12         Sonoma  Virginie Boone               @vboone   \n",
       "14  Central Coast   Matt Kettmann         @mattkettmann   \n",
       "23  Central Coast   Matt Kettmann         @mattkettmann   \n",
       "25         Sonoma  Virginie Boone               @vboone   \n",
       "\n",
       "                                                title             variety  \\\n",
       "10  Kirkland Signature 2011 Mountain Cuvée Caberne...  Cabernet Sauvignon   \n",
       "12  Louis M. Martini 2012 Cabernet Sauvignon (Alex...  Cabernet Sauvignon   \n",
       "14           Mirassou 2012 Chardonnay (Central Coast)          Chardonnay   \n",
       "23  Bianchi 2011 Signature Selection Merlot (Paso ...              Merlot   \n",
       "25  Castello di Amorosa 2011 King Ridge Vineyard P...          Pinot Noir   \n",
       "\n",
       "    vintage               winery           county  \n",
       "10     2011   Kirkland Signature               NA  \n",
       "12     2012     Louis M. Martini             Napa  \n",
       "14     2012             Mirassou      Santa Clara  \n",
       "23     2011              Bianchi  San Luis Obispo  \n",
       "25     2011  Castello di Amorosa             Napa  "
      ]
     },
     "execution_count": 104,
     "metadata": {},
     "output_type": "execute_result"
    }
   ],
   "source": [
    "reviews.head()"
   ]
  },
  {
   "cell_type": "code",
   "execution_count": 114,
   "id": "b256eb25-861c-4c8a-bceb-a47dc76c3824",
   "metadata": {},
   "outputs": [
    {
     "data": {
      "text/plain": [
       "19.0"
      ]
     },
     "execution_count": 114,
     "metadata": {},
     "output_type": "execute_result"
    }
   ],
   "source": [
    "round(len(reviews[reviews['county'] == 'NA'])/len(reviews.county),2)*100"
   ]
  },
  {
   "cell_type": "markdown",
   "id": "1cc8b1b8-0bb9-43a7-a197-6f530bf9d7d4",
   "metadata": {},
   "source": [
    "While 41% of the unique wineries lacked a county name, only 19% of the rows in total lack a county name!  \n",
    "Let's investigate how complete the rest of the data is for the other features:"
   ]
  },
  {
   "cell_type": "code",
   "execution_count": 115,
   "id": "13fd1f02-cca5-467a-89cb-44d4a03b509b",
   "metadata": {},
   "outputs": [
    {
     "data": {
      "text/plain": [
       "country                      0\n",
       "description                  0\n",
       "designation              18180\n",
       "points                       0\n",
       "price                      334\n",
       "province                     0\n",
       "region_1                     2\n",
       "region_2                  2118\n",
       "taster_name              15756\n",
       "taster_twitter_handle    15756\n",
       "title                        0\n",
       "variety                      0\n",
       "vintage                      0\n",
       "winery                       0\n",
       "county                       0\n",
       "dtype: int64"
      ]
     },
     "execution_count": 115,
     "metadata": {},
     "output_type": "execute_result"
    }
   ],
   "source": [
    "reviews.isnull().sum()"
   ]
  },
  {
   "cell_type": "markdown",
   "id": "6fdcec5f-9675-4ca0-aa68-68a97c6391d0",
   "metadata": {},
   "source": [
    "`designation`, `region_1`, `region_2`, and the twitter information are not features we are concerned with. As for the price nulls, 334 rows account for a very small percentage of the total, so I'm okay with dropping these rows.  "
   ]
  },
  {
   "cell_type": "code",
   "execution_count": 116,
   "id": "0d6629bf-6647-4d18-ba90-0058e8c0e4a2",
   "metadata": {},
   "outputs": [],
   "source": [
    "reviews.drop(['designation', 'region_1', 'region_2', 'taster_name', 'taster_twitter_handle'], axis=1, inplace=True)"
   ]
  },
  {
   "cell_type": "code",
   "execution_count": 121,
   "id": "13799ec5-a5aa-425b-b1fc-a3f6d6a55505",
   "metadata": {},
   "outputs": [],
   "source": [
    "reviews = reviews.dropna()"
   ]
  },
  {
   "cell_type": "code",
   "execution_count": 122,
   "id": "847870a2-1929-4adf-a14d-d3d131a26c1e",
   "metadata": {},
   "outputs": [
    {
     "data": {
      "text/plain": [
       "country        0\n",
       "description    0\n",
       "points         0\n",
       "price          0\n",
       "province       0\n",
       "title          0\n",
       "variety        0\n",
       "vintage        0\n",
       "winery         0\n",
       "county         0\n",
       "dtype: int64"
      ]
     },
     "execution_count": 122,
     "metadata": {},
     "output_type": "execute_result"
    }
   ],
   "source": [
    "reviews.isnull().sum()"
   ]
  },
  {
   "cell_type": "markdown",
   "id": "c22f5225-8823-4136-9441-037c13e107a2",
   "metadata": {},
   "source": [
    "Nice. \n",
    "\n",
    "Now with this dataframe cleaned up, we're going to do two things with it. We'll keep reviews as is, with all the California information currently there to do a NLP analysis on flavor words. \n",
    "\n",
    "We'll also make a version that can be combined with the climate and production datasets, so the data here can be incorporated into a climate oriented time series analysis.  This will mean dropping the rows with counties that cannot be tied to counties featured in the climate data, and aggregating the remaining rows by county and year. I'll set these up in the following section."
   ]
  },
  {
   "cell_type": "code",
   "execution_count": 107,
   "id": "33b0b5fd-5499-4a86-8db9-74c67fe1eab4",
   "metadata": {},
   "outputs": [],
   "source": [
    "# remove the spaces in the county column so it matches up with the other dataframes\n",
    "reviews['county'] = reviews['county'].apply(lambda x : x.replace(' ', ''))"
   ]
  },
  {
   "cell_type": "code",
   "execution_count": 70,
   "id": "9f91a926-5178-41c0-ac05-a657c724be1e",
   "metadata": {},
   "outputs": [],
   "source": [
    "# About 2500 rows out of 56,000 here turned out to be duplicates. So we'll drop these:\n",
    "reviews = reviews.drop_duplicates()"
   ]
  },
  {
   "cell_type": "markdown",
   "id": "66ec9163-ec4a-45b0-8c75-15c1f3f33d33",
   "metadata": {},
   "source": [
    "---"
   ]
  },
  {
   "cell_type": "markdown",
   "id": "64211491-4594-44b5-9060-251b5f0c85ca",
   "metadata": {
    "tags": []
   },
   "source": [
    "<a id=\"next\"></a>\n",
    "### 5. Next Steps"
   ]
  },
  {
   "cell_type": "markdown",
   "id": "1b93a31c-400c-4561-8bde-a810b9dbe02b",
   "metadata": {},
   "source": [
    "This notebook has yielded 3 dataframes \n",
    "- `cwp` - Californa Wine Production \n",
    "- `all_county_climates` - Climate data\n",
    "- `reviews` - Wine reviews"
   ]
  },
  {
   "cell_type": "markdown",
   "id": "0461f07e-fe17-45d0-9726-3e6949c22fc2",
   "metadata": {},
   "source": [
    "I'll shelve these and carry them over into the second notebook where I'll combine these dataframes for further exploratory analysis and modeling. The goals there will be:\n",
    "- To investigate trends between climate, wine production, and wine quality in California over the past 40 years.\n",
    "- To reveal correlations between the features collected in this notebook.\n",
    "- To see if the data has any predictive value when models are applied to it-- including predictions for production volume and also what factors make for a highly rated wine."
   ]
  },
  {
   "cell_type": "code",
   "execution_count": 101,
   "id": "523455ad-6b36-40c4-9e95-30d3534db184",
   "metadata": {},
   "outputs": [],
   "source": [
    "# Don't run this cell again unless you're sure of any updates made!\n",
    "\n",
    "# with shelve.open('capstone_dataframes') as shelfFile:\n",
    "#     shelfFile['cwp'] = cwp\n",
    "#     shelfFile['all_county_climates'] = all_county_climates\n",
    "#     shelfFile['reviews'] = reviews"
   ]
  },
  {
   "cell_type": "markdown",
   "id": "c1cc2b8e-3481-48e6-8c4b-6c9c120fafb5",
   "metadata": {},
   "source": [
    "---"
   ]
  }
 ],
 "metadata": {
  "kernelspec": {
   "display_name": "Python 3 (ipykernel)",
   "language": "python",
   "name": "python3"
  },
  "language_info": {
   "codemirror_mode": {
    "name": "ipython",
    "version": 3
   },
   "file_extension": ".py",
   "mimetype": "text/x-python",
   "name": "python",
   "nbconvert_exporter": "python",
   "pygments_lexer": "ipython3",
   "version": "3.9.12"
  }
 },
 "nbformat": 4,
 "nbformat_minor": 5
}

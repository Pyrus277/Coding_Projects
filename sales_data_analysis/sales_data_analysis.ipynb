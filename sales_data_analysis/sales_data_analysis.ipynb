{
 "cells": [
  {
   "cell_type": "markdown",
   "id": "976833f8-555d-4870-86ff-e1cbd263d153",
   "metadata": {},
   "source": [
    "Perry Fox 2023-12-08  \n",
    "https://platform.stratascratch.com/data-projects/sales-data-analysis\n",
    "# Project - Sales Data Analysis\n",
    "  \n",
    "## Data Description\n",
    "`datasets/` contains 50 CSV files, one per week, of timestamped sales data, two columns in each:  \n",
    "- `sales_time` - Timestamp on which the sale was made\n",
    "- `purchaser_gender` - The gender of person who purchased (m or f)\n",
    "\n",
    "## Objective\n",
    "Using the data files:\n",
    "\n",
    "- [Plot daily sales for all 50 weeks](#plot)\n",
    "- [It looks like there has been a sudden change in daily sales. What date did it occur?](#change)\n",
    "- [Is the change in daily sales at the date you selected statistically significant? What is the p-value?](#stats)\n",
    "- [Does the data suggest that the change in daily sales is due to a shift in the proportion of male-vs-female customers? Use plots to support this answer.](#plot)\n",
    "- [Assume a given day is divided into four parts. What is the percentage of sales in each daypart over all 50 weeks?](#day)"
   ]
  },
  {
   "cell_type": "markdown",
   "id": "18151f60-950a-4014-9289-3fa27bccc8f5",
   "metadata": {},
   "source": [
    "---"
   ]
  },
  {
   "cell_type": "code",
   "execution_count": 1,
   "id": "e171e253-a824-4fdb-a6ed-6ded305a989a",
   "metadata": {},
   "outputs": [],
   "source": [
    "import os\n",
    "import pandas as pd\n",
    "import matplotlib.pyplot as plt\n",
    "import scipy.stats as stats"
   ]
  },
  {
   "cell_type": "markdown",
   "id": "eb2b6f24-4095-4d84-aee7-9800c2919265",
   "metadata": {},
   "source": [
    "## Bring in the sales data"
   ]
  },
  {
   "cell_type": "code",
   "execution_count": 2,
   "id": "6135a79f-a4bd-49db-bdfd-377d77c6fcc1",
   "metadata": {},
   "outputs": [
    {
     "data": {
      "text/html": [
       "<div>\n",
       "<style scoped>\n",
       "    .dataframe tbody tr th:only-of-type {\n",
       "        vertical-align: middle;\n",
       "    }\n",
       "\n",
       "    .dataframe tbody tr th {\n",
       "        vertical-align: top;\n",
       "    }\n",
       "\n",
       "    .dataframe thead th {\n",
       "        text-align: right;\n",
       "    }\n",
       "</style>\n",
       "<table border=\"1\" class=\"dataframe\">\n",
       "  <thead>\n",
       "    <tr style=\"text-align: right;\">\n",
       "      <th></th>\n",
       "      <th>sale_time</th>\n",
       "      <th>purchaser_gender</th>\n",
       "    </tr>\n",
       "  </thead>\n",
       "  <tbody>\n",
       "    <tr>\n",
       "      <th>0</th>\n",
       "      <td>2012-10-01 01:42:22</td>\n",
       "      <td>female</td>\n",
       "    </tr>\n",
       "    <tr>\n",
       "      <th>1</th>\n",
       "      <td>2012-10-01 02:24:53</td>\n",
       "      <td>female</td>\n",
       "    </tr>\n",
       "    <tr>\n",
       "      <th>2</th>\n",
       "      <td>2012-10-01 02:25:40</td>\n",
       "      <td>female</td>\n",
       "    </tr>\n",
       "    <tr>\n",
       "      <th>3</th>\n",
       "      <td>2012-10-01 02:30:42</td>\n",
       "      <td>female</td>\n",
       "    </tr>\n",
       "    <tr>\n",
       "      <th>4</th>\n",
       "      <td>2012-10-01 02:51:32</td>\n",
       "      <td>male</td>\n",
       "    </tr>\n",
       "  </tbody>\n",
       "</table>\n",
       "</div>"
      ],
      "text/plain": [
       "             sale_time purchaser_gender\n",
       "0  2012-10-01 01:42:22           female\n",
       "1  2012-10-01 02:24:53           female\n",
       "2  2012-10-01 02:25:40           female\n",
       "3  2012-10-01 02:30:42           female\n",
       "4  2012-10-01 02:51:32             male"
      ]
     },
     "execution_count": 2,
     "metadata": {},
     "output_type": "execute_result"
    }
   ],
   "source": [
    "# see what one of the files looks like:\n",
    "pd.read_csv('datasets/sales_week_starting_2012-10-01.csv').head()\n",
    "# parse_dates=True, index_col='sale_time'"
   ]
  },
  {
   "cell_type": "markdown",
   "id": "344df3ad-c841-410c-8db2-e3b171add0c7",
   "metadata": {},
   "source": [
    "ok, we can set up a datetime index below when we read in the CSVs from the sale_time column.  "
   ]
  },
  {
   "cell_type": "code",
   "execution_count": 3,
   "id": "dbd08584-97e4-4688-b279-d8989eaa1c86",
   "metadata": {},
   "outputs": [],
   "source": [
    "# list out the files\n",
    "all_files = [file for file in os.listdir('datasets') if file.endswith('.csv')]\n",
    "\n",
    "# initialize an empty dataframe for these to populate\n",
    "sales_data = pd.DataFrame()\n",
    "\n",
    "# loop thru the csv files and concat\n",
    "for file in all_files:\n",
    "    file_path = os.path.join('datasets', file) # useful to use OS library here so code works on a different OS\n",
    "    df = pd.read_csv(file_path, parse_dates=True, index_col='sale_time')\n",
    "    sales_data = pd.concat([sales_data, df])"
   ]
  },
  {
   "cell_type": "markdown",
   "id": "451c0085-57b7-46eb-86cd-03014a62f93c",
   "metadata": {},
   "source": [
    "Sanity check:"
   ]
  },
  {
   "cell_type": "code",
   "execution_count": 119,
   "id": "10fdedcb-9557-478b-8d1e-86679233e7d3",
   "metadata": {},
   "outputs": [
    {
     "name": "stdout",
     "output_type": "stream",
     "text": [
      "<class 'pandas.core.frame.DataFrame'>\n",
      "DatetimeIndex: 204329 entries, 2012-10-01 01:42:22 to 2013-09-15 23:48:47\n",
      "Data columns (total 1 columns):\n",
      " #   Column            Non-Null Count   Dtype \n",
      "---  ------            --------------   ----- \n",
      " 0   purchaser_gender  204329 non-null  object\n",
      "dtypes: object(1)\n",
      "memory usage: 3.1+ MB\n"
     ]
    }
   ],
   "source": [
    "sales_data.info()"
   ]
  },
  {
   "cell_type": "markdown",
   "id": "eb513ec3-e7e6-40bc-90fe-20eb997d01e6",
   "metadata": {},
   "source": [
    "Looks good! We also see there are no null values to deal with."
   ]
  },
  {
   "cell_type": "markdown",
   "id": "d41d8a43-1b4e-48b9-9975-0485b9878298",
   "metadata": {},
   "source": [
    "---"
   ]
  },
  {
   "cell_type": "markdown",
   "id": "ba91d4ae-db3e-460d-8a96-a8465d99da53",
   "metadata": {},
   "source": [
    "## a) Plot Daily Sales for All 50 Weeks"
   ]
  },
  {
   "cell_type": "code",
   "execution_count": 78,
   "id": "a8994e1e-2208-493a-b537-365810f3f710",
   "metadata": {},
   "outputs": [
    {
     "data": {
      "text/html": [
       "<div>\n",
       "<style scoped>\n",
       "    .dataframe tbody tr th:only-of-type {\n",
       "        vertical-align: middle;\n",
       "    }\n",
       "\n",
       "    .dataframe tbody tr th {\n",
       "        vertical-align: top;\n",
       "    }\n",
       "\n",
       "    .dataframe thead th {\n",
       "        text-align: right;\n",
       "    }\n",
       "</style>\n",
       "<table border=\"1\" class=\"dataframe\">\n",
       "  <thead>\n",
       "    <tr style=\"text-align: right;\">\n",
       "      <th></th>\n",
       "      <th>purchaser_gender</th>\n",
       "    </tr>\n",
       "    <tr>\n",
       "      <th>sale_time</th>\n",
       "      <th></th>\n",
       "    </tr>\n",
       "  </thead>\n",
       "  <tbody>\n",
       "    <tr>\n",
       "      <th>2012-10-01 01:42:22</th>\n",
       "      <td>female</td>\n",
       "    </tr>\n",
       "    <tr>\n",
       "      <th>2012-10-01 02:24:53</th>\n",
       "      <td>female</td>\n",
       "    </tr>\n",
       "    <tr>\n",
       "      <th>2012-10-01 02:25:40</th>\n",
       "      <td>female</td>\n",
       "    </tr>\n",
       "    <tr>\n",
       "      <th>2012-10-01 02:30:42</th>\n",
       "      <td>female</td>\n",
       "    </tr>\n",
       "    <tr>\n",
       "      <th>2012-10-01 02:51:32</th>\n",
       "      <td>male</td>\n",
       "    </tr>\n",
       "  </tbody>\n",
       "</table>\n",
       "</div>"
      ],
      "text/plain": [
       "                    purchaser_gender\n",
       "sale_time                           \n",
       "2012-10-01 01:42:22           female\n",
       "2012-10-01 02:24:53           female\n",
       "2012-10-01 02:25:40           female\n",
       "2012-10-01 02:30:42           female\n",
       "2012-10-01 02:51:32             male"
      ]
     },
     "execution_count": 78,
     "metadata": {},
     "output_type": "execute_result"
    }
   ],
   "source": [
    "sales_data.head()"
   ]
  },
  {
   "cell_type": "code",
   "execution_count": 90,
   "id": "ad0756a6-518e-4494-98c7-25238328aa8b",
   "metadata": {},
   "outputs": [],
   "source": [
    "# resample to daily granularity, get daily sales, and counts by gender (for use below)\n",
    "sales_breakdown = sales_data.resample('D').agg(\n",
    "    ['count', lambda x: x.value_counts().get('female'), lambda x: x.value_counts().get('male')])\n",
    "# tidy it up a little\n",
    "sales_breakdown = sales_breakdown.purchaser_gender.rename(\n",
    "    columns = {'count': 'daily_sales', '<lambda_0>': 'female_sales', '<lambda_1>': 'male_sales'})"
   ]
  },
  {
   "cell_type": "code",
   "execution_count": 91,
   "id": "014c285a-e103-4516-ae2c-dbb94557e087",
   "metadata": {},
   "outputs": [
    {
     "data": {
      "text/html": [
       "<div>\n",
       "<style scoped>\n",
       "    .dataframe tbody tr th:only-of-type {\n",
       "        vertical-align: middle;\n",
       "    }\n",
       "\n",
       "    .dataframe tbody tr th {\n",
       "        vertical-align: top;\n",
       "    }\n",
       "\n",
       "    .dataframe thead th {\n",
       "        text-align: right;\n",
       "    }\n",
       "</style>\n",
       "<table border=\"1\" class=\"dataframe\">\n",
       "  <thead>\n",
       "    <tr style=\"text-align: right;\">\n",
       "      <th></th>\n",
       "      <th>daily_sales</th>\n",
       "      <th>female_sales</th>\n",
       "      <th>male_sales</th>\n",
       "    </tr>\n",
       "    <tr>\n",
       "      <th>sale_time</th>\n",
       "      <th></th>\n",
       "      <th></th>\n",
       "      <th></th>\n",
       "    </tr>\n",
       "  </thead>\n",
       "  <tbody>\n",
       "    <tr>\n",
       "      <th>2012-10-01</th>\n",
       "      <td>514</td>\n",
       "      <td>413</td>\n",
       "      <td>101</td>\n",
       "    </tr>\n",
       "    <tr>\n",
       "      <th>2012-10-02</th>\n",
       "      <td>482</td>\n",
       "      <td>379</td>\n",
       "      <td>103</td>\n",
       "    </tr>\n",
       "    <tr>\n",
       "      <th>2012-10-03</th>\n",
       "      <td>499</td>\n",
       "      <td>386</td>\n",
       "      <td>113</td>\n",
       "    </tr>\n",
       "    <tr>\n",
       "      <th>2012-10-04</th>\n",
       "      <td>546</td>\n",
       "      <td>432</td>\n",
       "      <td>114</td>\n",
       "    </tr>\n",
       "    <tr>\n",
       "      <th>2012-10-05</th>\n",
       "      <td>476</td>\n",
       "      <td>368</td>\n",
       "      <td>108</td>\n",
       "    </tr>\n",
       "  </tbody>\n",
       "</table>\n",
       "</div>"
      ],
      "text/plain": [
       "            daily_sales  female_sales  male_sales\n",
       "sale_time                                        \n",
       "2012-10-01          514           413         101\n",
       "2012-10-02          482           379         103\n",
       "2012-10-03          499           386         113\n",
       "2012-10-04          546           432         114\n",
       "2012-10-05          476           368         108"
      ]
     },
     "execution_count": 91,
     "metadata": {},
     "output_type": "execute_result"
    }
   ],
   "source": [
    "sales_breakdown.head()"
   ]
  },
  {
   "cell_type": "code",
   "execution_count": 92,
   "id": "e70e2298-7002-4aa7-abc8-d08ddcfd7b0b",
   "metadata": {},
   "outputs": [
    {
     "data": {
      "image/png": "[encoded data removed]",
      "text/plain": [
       "<Figure size 720x432 with 1 Axes>"
      ]
     },
     "metadata": {
      "needs_background": "light"
     },
     "output_type": "display_data"
    }
   ],
   "source": [
    "# make a line chart\n",
    "plt.figure(figsize=(10,6))\n",
    "plt.plot(sales_breakdown.index, sales_breakdown.daily_sales, color='blue')\n",
    "plt.title('Daily Sales Nov 1, 2012 to Sep 15, 2013')\n",
    "plt.xlabel('Date')\n",
    "plt.ylabel('Number of Sales')\n",
    "plt.grid()"
   ]
  },
  {
   "cell_type": "markdown",
   "id": "d49b12af-7c18-43d7-8a8d-ab46acb019c5",
   "metadata": {},
   "source": [
    "## b) It looks like there has been a sudden change in daily sales. What date did it occur?"
   ]
  },
  {
   "cell_type": "code",
   "execution_count": 95,
   "id": "97e83d46-f5c1-4ff1-a133-310ecce63d1a",
   "metadata": {},
   "outputs": [
    {
     "data": {
      "text/plain": [
       "sale_time\n",
       "2013-04-29    274.0\n",
       "Name: daily_sales, dtype: float64"
      ]
     },
     "execution_count": 95,
     "metadata": {},
     "output_type": "execute_result"
    }
   ],
   "source": [
    "# grab the daily changes for daily_sales\n",
    "daily_sales_diff = sales_breakdown.daily_sales.diff()\n",
    "daily_sales_diff.nlargest(1)"
   ]
  },
  {
   "cell_type": "markdown",
   "id": "7d849b84-ed29-47fe-a344-cbbb995eff02",
   "metadata": {},
   "source": [
    "We see that the sudden change took place on April 29th, with a jump from the prior day of 274 sales."
   ]
  },
  {
   "cell_type": "markdown",
   "id": "1d77a09f-919b-4729-b310-30b75634ce6d",
   "metadata": {},
   "source": [
    "## c) Is the change in daily sales at the date you selected statistically significant? What's the p-value?"
   ]
  },
  {
   "cell_type": "markdown",
   "id": "d9189156-718c-4006-9e55-556b0e04a7e7",
   "metadata": {},
   "source": [
    "In the visualization above, the jump we see on April 29 seems to divide two periods of very different mean sales numbers. To establish the statistical significance of this change, we'll perform a t-test on the means of these two groups. The difference is visually striking, and I imagine there will be no problem setting the critical value to 99%. \n",
    "\n",
    "$ H_0 $ = There is no difference between the average sales number prior to and after the observed jump.  \n",
    "$ H_1 $ = There is a difference. "
   ]
  },
  {
   "cell_type": "code",
   "execution_count": 98,
   "id": "0e5150ca-08c3-48a3-8a9c-766acd21cfd9",
   "metadata": {},
   "outputs": [
    {
     "data": {
      "text/plain": [
       "Timestamp('2013-04-29 00:00:00')"
      ]
     },
     "execution_count": 98,
     "metadata": {},
     "output_type": "execute_result"
    }
   ],
   "source": [
    "date_sudden_change = daily_sales_diff.nlargest(1).index[0]\n",
    "date_sudden_change"
   ]
  },
  {
   "cell_type": "code",
   "execution_count": 129,
   "id": "d8f94628-7f39-48c5-aabb-976cb38c6776",
   "metadata": {},
   "outputs": [
    {
     "name": "stdout",
     "output_type": "stream",
     "text": [
      "We have a p_val of 2.27287631770394e-149\n"
     ]
    }
   ],
   "source": [
    "# establish the two sales periods\n",
    "#     lower sales counts series\n",
    "sales_before_jump = \\\n",
    "    sales_breakdown.loc[sales_breakdown.index < date_sudden_change]\n",
    "#     higher sales counts series\n",
    "sales_after_jump = \\\n",
    "    sales_breakdown.loc[sales_breakdown.index >= date_sudden_change]\n",
    "\n",
    "# t-test\n",
    "t_stat, p_val = stats.ttest_ind(sales_before_jump.daily_sales, sales_after_jump.daily_sales) \n",
    "print(f'We have a p_val of {p_val}')"
   ]
  },
  {
   "cell_type": "markdown",
   "id": "36fb258a-6aa2-4601-b656-7f461373bd1f",
   "metadata": {},
   "source": [
    "Okay, that number is minuscule. We can interpret this by saying, **yes** the difference of the mean sales between the two periods is statistically significant. The probability of random chance accounting for this difference is close to 0.  \n",
    "It might also be appropriate to look at the change itself, and its statistical significance to the mean of the other sales changes we see in the dataset. This will be done with a One Sample T-test, and we'll be comparing the highest observed change we see of 274 to the mean of all the changes in this time period."
   ]
  },
  {
   "cell_type": "code",
   "execution_count": 126,
   "id": "07a7b8d1-7a2a-4683-be27-b5c3a6dc830e",
   "metadata": {},
   "outputs": [
    {
     "data": {
      "text/plain": [
       "Ttest_1sampResult(statistic=-88.84860321865489, pvalue=3.0520000042500664e-241)"
      ]
     },
     "execution_count": 126,
     "metadata": {},
     "output_type": "execute_result"
    }
   ],
   "source": [
    "# clipping the first element from daily_sales_diff because test can't take nulls\n",
    "stats.ttest_1samp(daily_sales_diff[1:], daily_sales_diff.nlargest(1)[0])"
   ]
  },
  {
   "cell_type": "markdown",
   "id": "8f77ec8f-5f78-473e-bda1-ae669826eb3c",
   "metadata": {},
   "source": [
    "And again, a super small p-value. The change the price jump represents is in no way similar to the average change observed. "
   ]
  },
  {
   "cell_type": "markdown",
   "id": "40607f11-f386-4ff6-98b8-39399b20f9c8",
   "metadata": {},
   "source": [
    "## d) Does the data suggest that the change in daily sales is due to a shift in the proportion of male-vs-female customers? Use plots to support this answer."
   ]
  },
  {
   "cell_type": "code",
   "execution_count": 131,
   "id": "afa3bb2b-d43f-4cec-b20e-85cce92365c5",
   "metadata": {},
   "outputs": [
    {
     "data": {
      "text/html": [
       "<div>\n",
       "<style scoped>\n",
       "    .dataframe tbody tr th:only-of-type {\n",
       "        vertical-align: middle;\n",
       "    }\n",
       "\n",
       "    .dataframe tbody tr th {\n",
       "        vertical-align: top;\n",
       "    }\n",
       "\n",
       "    .dataframe thead th {\n",
       "        text-align: right;\n",
       "    }\n",
       "</style>\n",
       "<table border=\"1\" class=\"dataframe\">\n",
       "  <thead>\n",
       "    <tr style=\"text-align: right;\">\n",
       "      <th></th>\n",
       "      <th>daily_sales</th>\n",
       "      <th>female_sales</th>\n",
       "      <th>male_sales</th>\n",
       "    </tr>\n",
       "    <tr>\n",
       "      <th>sale_time</th>\n",
       "      <th></th>\n",
       "      <th></th>\n",
       "      <th></th>\n",
       "    </tr>\n",
       "  </thead>\n",
       "  <tbody>\n",
       "    <tr>\n",
       "      <th>2012-10-01</th>\n",
       "      <td>514</td>\n",
       "      <td>413</td>\n",
       "      <td>101</td>\n",
       "    </tr>\n",
       "    <tr>\n",
       "      <th>2012-10-02</th>\n",
       "      <td>482</td>\n",
       "      <td>379</td>\n",
       "      <td>103</td>\n",
       "    </tr>\n",
       "    <tr>\n",
       "      <th>2012-10-03</th>\n",
       "      <td>499</td>\n",
       "      <td>386</td>\n",
       "      <td>113</td>\n",
       "    </tr>\n",
       "    <tr>\n",
       "      <th>2012-10-04</th>\n",
       "      <td>546</td>\n",
       "      <td>432</td>\n",
       "      <td>114</td>\n",
       "    </tr>\n",
       "    <tr>\n",
       "      <th>2012-10-05</th>\n",
       "      <td>476</td>\n",
       "      <td>368</td>\n",
       "      <td>108</td>\n",
       "    </tr>\n",
       "  </tbody>\n",
       "</table>\n",
       "</div>"
      ],
      "text/plain": [
       "            daily_sales  female_sales  male_sales\n",
       "sale_time                                        \n",
       "2012-10-01          514           413         101\n",
       "2012-10-02          482           379         103\n",
       "2012-10-03          499           386         113\n",
       "2012-10-04          546           432         114\n",
       "2012-10-05          476           368         108"
      ]
     },
     "execution_count": 131,
     "metadata": {},
     "output_type": "execute_result"
    }
   ],
   "source": [
    "sales_before_jump.head()"
   ]
  },
  {
   "cell_type": "code",
   "execution_count": 138,
   "id": "1ee6d6a1-9412-4f32-abe5-7abc639d9e75",
   "metadata": {},
   "outputs": [
    {
     "data": {
      "text/plain": [
       "[Text(0, 0, 'female'), Text(1, 0, 'male')]"
      ]
     },
     "execution_count": 138,
     "metadata": {},
     "output_type": "execute_result"
    },
    {
     "data": {
      "image/png": "[encoded data removed]",
      "text/plain": [
       "<Figure size 720x288 with 2 Axes>"
      ]
     },
     "metadata": {
      "needs_background": "light"
     },
     "output_type": "display_data"
    }
   ],
   "source": [
    "fig, axes = plt.subplots(1, 2, figsize=(10,4))\n",
    "# Plot the data\n",
    "sales_before_jump[['female_sales','male_sales']].sum().plot(kind='bar', ax=axes[0])\n",
    "sales_after_jump[['female_sales','male_sales']].sum().plot(kind='bar', ax=axes[1])\n",
    "\n",
    "# Make it more presentable\n",
    "# Ensure consistent x-axis range for both subplots\n",
    "fig.suptitle('Gender breakdowns before and after the price jump', y=1.05)\n",
    "axes[0].set_title('Before Sales Jump')\n",
    "axes[0].set_xticklabels(['female', 'male'], rotation=0)\n",
    "axes[0].set_ylabel('Number Sales')\n",
    "\n",
    "axes[1].set_title('After Sales Jump')\n",
    "axes[1].set_xticklabels(['female', 'male'], rotation=0)"
   ]
  },
  {
   "cell_type": "code",
   "execution_count": 149,
   "id": "e2ead55f-962e-418c-97cd-3aa1b94bbe2c",
   "metadata": {},
   "outputs": [
    {
     "data": {
      "text/plain": [
       "daily_sales     105924\n",
       "female_sales     68589\n",
       "male_sales       37335\n",
       "dtype: int64"
      ]
     },
     "execution_count": 149,
     "metadata": {},
     "output_type": "execute_result"
    }
   ],
   "source": [
    "# for quick index reference in the cell below\n",
    "sales_before_jump.sum()"
   ]
  },
  {
   "cell_type": "code",
   "execution_count": 150,
   "id": "9bc7c282-af45-4a28-8c1b-9e4d2a313637",
   "metadata": {},
   "outputs": [
    {
     "name": "stdout",
     "output_type": "stream",
     "text": [
      "Gender breakdown before jump was 64.75% female and 35.25% male.\n"
     ]
    }
   ],
   "source": [
    "before_pct_female = round(100*\\\n",
    "    (sales_before_jump.sum()[1] / sales_before_jump.sum()[0]), 2)\n",
    "before_pct_male = 100 - before_pct_female\n",
    "print(f'Gender breakdown before jump was {before_pct_female}% female and \\\n",
    "{before_pct_male}% male.')"
   ]
  },
  {
   "cell_type": "code",
   "execution_count": 152,
   "id": "5dc608e7-b906-4139-b923-d39a38613e56",
   "metadata": {},
   "outputs": [
    {
     "name": "stdout",
     "output_type": "stream",
     "text": [
      "Gender breakdown after jump was 39.79% female and 60.21% male.\n"
     ]
    }
   ],
   "source": [
    "after_pct_female = round(100*\\\n",
    "    (sales_after_jump.sum()[1] / sales_after_jump.sum()[0]), 2)\n",
    "after_pct_male = 100 - after_pct_female\n",
    "print(f'Gender breakdown after jump was {after_pct_female}% female and \\\n",
    "{after_pct_male}% male.')"
   ]
  },
  {
   "cell_type": "markdown",
   "id": "a1ca58c0-2190-48c4-99c1-3c66ca8520bf",
   "metadata": {},
   "source": [
    "It's interesting to see that the gender ratios effectively swapped post-jump, but it's hard to say this is what caused the jump. It might be revealing to see how sudden or gradual this gender ratio swap was: "
   ]
  },
  {
   "cell_type": "code",
   "execution_count": 156,
   "id": "7c3daba3-45f6-4181-8720-b3daaa6971fb",
   "metadata": {},
   "outputs": [
    {
     "data": {
      "text/html": [
       "<div>\n",
       "<style scoped>\n",
       "    .dataframe tbody tr th:only-of-type {\n",
       "        vertical-align: middle;\n",
       "    }\n",
       "\n",
       "    .dataframe tbody tr th {\n",
       "        vertical-align: top;\n",
       "    }\n",
       "\n",
       "    .dataframe thead th {\n",
       "        text-align: right;\n",
       "    }\n",
       "</style>\n",
       "<table border=\"1\" class=\"dataframe\">\n",
       "  <thead>\n",
       "    <tr style=\"text-align: right;\">\n",
       "      <th></th>\n",
       "      <th>daily_sales</th>\n",
       "      <th>female_sales</th>\n",
       "      <th>male_sales</th>\n",
       "    </tr>\n",
       "    <tr>\n",
       "      <th>sale_time</th>\n",
       "      <th></th>\n",
       "      <th></th>\n",
       "      <th></th>\n",
       "    </tr>\n",
       "  </thead>\n",
       "  <tbody>\n",
       "    <tr>\n",
       "      <th>2012-10-01</th>\n",
       "      <td>514</td>\n",
       "      <td>413</td>\n",
       "      <td>101</td>\n",
       "    </tr>\n",
       "    <tr>\n",
       "      <th>2012-10-02</th>\n",
       "      <td>482</td>\n",
       "      <td>379</td>\n",
       "      <td>103</td>\n",
       "    </tr>\n",
       "    <tr>\n",
       "      <th>2012-10-03</th>\n",
       "      <td>499</td>\n",
       "      <td>386</td>\n",
       "      <td>113</td>\n",
       "    </tr>\n",
       "    <tr>\n",
       "      <th>2012-10-04</th>\n",
       "      <td>546</td>\n",
       "      <td>432</td>\n",
       "      <td>114</td>\n",
       "    </tr>\n",
       "    <tr>\n",
       "      <th>2012-10-05</th>\n",
       "      <td>476</td>\n",
       "      <td>368</td>\n",
       "      <td>108</td>\n",
       "    </tr>\n",
       "  </tbody>\n",
       "</table>\n",
       "</div>"
      ],
      "text/plain": [
       "            daily_sales  female_sales  male_sales\n",
       "sale_time                                        \n",
       "2012-10-01          514           413         101\n",
       "2012-10-02          482           379         103\n",
       "2012-10-03          499           386         113\n",
       "2012-10-04          546           432         114\n",
       "2012-10-05          476           368         108"
      ]
     },
     "execution_count": 156,
     "metadata": {},
     "output_type": "execute_result"
    }
   ],
   "source": [
    "sales_breakdown.head()"
   ]
  },
  {
   "cell_type": "code",
   "execution_count": 169,
   "id": "e49bf9d2-5ffc-43d6-888c-07862303d1b9",
   "metadata": {},
   "outputs": [
    {
     "data": {
      "image/png": "[encoded data removed]",
      "text/plain": [
       "<Figure size 720x432 with 2 Axes>"
      ]
     },
     "metadata": {},
     "output_type": "display_data"
    }
   ],
   "source": [
    "fig, ax1 = plt.subplots(figsize=(10, 6))\n",
    "\n",
    "# plot the daily sales on the left y-axis\n",
    "ax1.plot(sales_breakdown.index, sales_breakdown.daily_sales, color='blue', label='Daily Sales')\n",
    "ax1.set_xlabel('Date')\n",
    "ax1.set_ylabel('Number of Sales')\n",
    "ax1.tick_params(axis='y', labelcolor='blue')\n",
    "ax1.grid()\n",
    "\n",
    "# create a second y-axis on the right side\n",
    "ax2 = ax1.twinx()\n",
    "\n",
    "# plot the gender ratio, f/m\n",
    "ax2.plot(sales_breakdown.male_sales / sales_breakdown.female_sales, color='orange', label='Gender Ratio')\n",
    "# ax2.plot(sales_breakdown.index, sales_breakdown.male_sales / sales_breakdown.female_sales, color='orange', label='Gender Ratio')\n",
    "ax2.set_ylabel('Gender Ratio')\n",
    "ax2.tick_params(axis='y', labelcolor='orange')\n",
    "\n",
    "plt.title('Daily Sales and Gender Ratio (Nov 1, 2012 to Sep 15, 2013)', fontsize=16)\n",
    "fig.tight_layout()\n",
    "fig.legend(loc='upper left', bbox_to_anchor=(0.1, 0.9))\n",
    "fig.set_facecolor('white')"
   ]
  },
  {
   "cell_type": "markdown",
   "id": "1c7cf08b-e824-4904-9f26-611a1ef0c443",
   "metadata": {},
   "source": [
    "Okay, that answers our question. Nothing special appear to happen with the gender ratio around the time of the sales jump. It's a gradual increase. The reason for the jump must be something else. More data needed."
   ]
  },
  {
   "cell_type": "markdown",
   "id": "1f42fa9e-47e3-4545-bcbc-c345808ebd73",
   "metadata": {},
   "source": [
    "## e) Assume a given day is divided into four parts. What is the percentage of sales in each daypart over all 50 weeks?"
   ]
  },
  {
   "cell_type": "code",
   "execution_count": 218,
   "id": "0a1bdadb-13af-40b3-be3b-3b7acfafdbf3",
   "metadata": {},
   "outputs": [
    {
     "data": {
      "text/html": [
       "<div>\n",
       "<style scoped>\n",
       "    .dataframe tbody tr th:only-of-type {\n",
       "        vertical-align: middle;\n",
       "    }\n",
       "\n",
       "    .dataframe tbody tr th {\n",
       "        vertical-align: top;\n",
       "    }\n",
       "\n",
       "    .dataframe thead th {\n",
       "        text-align: right;\n",
       "    }\n",
       "</style>\n",
       "<table border=\"1\" class=\"dataframe\">\n",
       "  <thead>\n",
       "    <tr style=\"text-align: right;\">\n",
       "      <th></th>\n",
       "      <th>purchaser_gender</th>\n",
       "    </tr>\n",
       "    <tr>\n",
       "      <th>sale_time</th>\n",
       "      <th></th>\n",
       "    </tr>\n",
       "  </thead>\n",
       "  <tbody>\n",
       "    <tr>\n",
       "      <th>2012-10-01 01:42:22</th>\n",
       "      <td>female</td>\n",
       "    </tr>\n",
       "    <tr>\n",
       "      <th>2012-10-01 02:24:53</th>\n",
       "      <td>female</td>\n",
       "    </tr>\n",
       "    <tr>\n",
       "      <th>2012-10-01 02:25:40</th>\n",
       "      <td>female</td>\n",
       "    </tr>\n",
       "    <tr>\n",
       "      <th>2012-10-01 02:30:42</th>\n",
       "      <td>female</td>\n",
       "    </tr>\n",
       "    <tr>\n",
       "      <th>2012-10-01 02:51:32</th>\n",
       "      <td>male</td>\n",
       "    </tr>\n",
       "  </tbody>\n",
       "</table>\n",
       "</div>"
      ],
      "text/plain": [
       "                    purchaser_gender\n",
       "sale_time                           \n",
       "2012-10-01 01:42:22           female\n",
       "2012-10-01 02:24:53           female\n",
       "2012-10-01 02:25:40           female\n",
       "2012-10-01 02:30:42           female\n",
       "2012-10-01 02:51:32             male"
      ]
     },
     "execution_count": 218,
     "metadata": {},
     "output_type": "execute_result"
    }
   ],
   "source": [
    "# sales_data is our original dataframe\n",
    "sales_data.head()"
   ]
  },
  {
   "cell_type": "code",
   "execution_count": 219,
   "id": "49975265-38fd-40a8-8b5c-96b396b60a02",
   "metadata": {},
   "outputs": [
    {
     "data": {
      "text/html": [
       "<div>\n",
       "<style scoped>\n",
       "    .dataframe tbody tr th:only-of-type {\n",
       "        vertical-align: middle;\n",
       "    }\n",
       "\n",
       "    .dataframe tbody tr th {\n",
       "        vertical-align: top;\n",
       "    }\n",
       "\n",
       "    .dataframe thead th {\n",
       "        text-align: right;\n",
       "    }\n",
       "</style>\n",
       "<table border=\"1\" class=\"dataframe\">\n",
       "  <thead>\n",
       "    <tr style=\"text-align: right;\">\n",
       "      <th></th>\n",
       "      <th>sales_count</th>\n",
       "    </tr>\n",
       "    <tr>\n",
       "      <th>sale_time</th>\n",
       "      <th></th>\n",
       "    </tr>\n",
       "  </thead>\n",
       "  <tbody>\n",
       "    <tr>\n",
       "      <th>2012-10-01 00:00:00</th>\n",
       "      <td>44</td>\n",
       "    </tr>\n",
       "    <tr>\n",
       "      <th>2012-10-01 06:00:00</th>\n",
       "      <td>155</td>\n",
       "    </tr>\n",
       "    <tr>\n",
       "      <th>2012-10-01 12:00:00</th>\n",
       "      <td>202</td>\n",
       "    </tr>\n",
       "    <tr>\n",
       "      <th>2012-10-01 18:00:00</th>\n",
       "      <td>113</td>\n",
       "    </tr>\n",
       "    <tr>\n",
       "      <th>2012-10-02 00:00:00</th>\n",
       "      <td>46</td>\n",
       "    </tr>\n",
       "  </tbody>\n",
       "</table>\n",
       "</div>"
      ],
      "text/plain": [
       "                     sales_count\n",
       "sale_time                       \n",
       "2012-10-01 00:00:00           44\n",
       "2012-10-01 06:00:00          155\n",
       "2012-10-01 12:00:00          202\n",
       "2012-10-01 18:00:00          113\n",
       "2012-10-02 00:00:00           46"
      ]
     },
     "execution_count": 219,
     "metadata": {},
     "output_type": "execute_result"
    }
   ],
   "source": [
    "# resample to equal daily periods\n",
    "sales_daypart_df = \\\n",
    "    sales_data.resample('6H').count().rename(columns={'purchaser_gender':'sales_count'})\n",
    "\n",
    "sales_daypart_df.head()"
   ]
  },
  {
   "cell_type": "code",
   "execution_count": 220,
   "id": "769d4e5e-92d1-4aa7-a412-516fdea74ec2",
   "metadata": {},
   "outputs": [
    {
     "data": {
      "text/html": [
       "<div>\n",
       "<style scoped>\n",
       "    .dataframe tbody tr th:only-of-type {\n",
       "        vertical-align: middle;\n",
       "    }\n",
       "\n",
       "    .dataframe tbody tr th {\n",
       "        vertical-align: top;\n",
       "    }\n",
       "\n",
       "    .dataframe thead th {\n",
       "        text-align: right;\n",
       "    }\n",
       "</style>\n",
       "<table border=\"1\" class=\"dataframe\">\n",
       "  <thead>\n",
       "    <tr style=\"text-align: right;\">\n",
       "      <th></th>\n",
       "      <th>sales_count</th>\n",
       "    </tr>\n",
       "  </thead>\n",
       "  <tbody>\n",
       "    <tr>\n",
       "      <th>00:00:00</th>\n",
       "      <td>18306</td>\n",
       "    </tr>\n",
       "    <tr>\n",
       "      <th>06:00:00</th>\n",
       "      <td>62870</td>\n",
       "    </tr>\n",
       "    <tr>\n",
       "      <th>12:00:00</th>\n",
       "      <td>80533</td>\n",
       "    </tr>\n",
       "    <tr>\n",
       "      <th>18:00:00</th>\n",
       "      <td>42620</td>\n",
       "    </tr>\n",
       "  </tbody>\n",
       "</table>\n",
       "</div>"
      ],
      "text/plain": [
       "          sales_count\n",
       "00:00:00        18306\n",
       "06:00:00        62870\n",
       "12:00:00        80533\n",
       "18:00:00        42620"
      ]
     },
     "execution_count": 220,
     "metadata": {},
     "output_type": "execute_result"
    }
   ],
   "source": [
    "# get total sales, our denominator for the percentage calculation\n",
    "total_sales = sales_data.shape[0]\n",
    "\n",
    "# group by the hour groups we set up, the numerators\n",
    "sales_daypart_df = sales_daypart_df.groupby(sales_daypart_df.index.time).sum()\n",
    "sales_daypart_df"
   ]
  },
  {
   "cell_type": "code",
   "execution_count": 222,
   "id": "92a5bc39-074f-4efb-8bdf-d0bfb645eb20",
   "metadata": {},
   "outputs": [
    {
     "data": {
      "text/html": [
       "<div>\n",
       "<style scoped>\n",
       "    .dataframe tbody tr th:only-of-type {\n",
       "        vertical-align: middle;\n",
       "    }\n",
       "\n",
       "    .dataframe tbody tr th {\n",
       "        vertical-align: top;\n",
       "    }\n",
       "\n",
       "    .dataframe thead th {\n",
       "        text-align: right;\n",
       "    }\n",
       "</style>\n",
       "<table border=\"1\" class=\"dataframe\">\n",
       "  <thead>\n",
       "    <tr style=\"text-align: right;\">\n",
       "      <th></th>\n",
       "      <th>sales_count</th>\n",
       "      <th>percentage</th>\n",
       "      <th>day_part</th>\n",
       "    </tr>\n",
       "    <tr>\n",
       "      <th>Time</th>\n",
       "      <th></th>\n",
       "      <th></th>\n",
       "      <th></th>\n",
       "    </tr>\n",
       "  </thead>\n",
       "  <tbody>\n",
       "    <tr>\n",
       "      <th>00:00:00</th>\n",
       "      <td>18306</td>\n",
       "      <td>8.96%</td>\n",
       "      <td>night</td>\n",
       "    </tr>\n",
       "    <tr>\n",
       "      <th>06:00:00</th>\n",
       "      <td>62870</td>\n",
       "      <td>30.77%</td>\n",
       "      <td>morning</td>\n",
       "    </tr>\n",
       "    <tr>\n",
       "      <th>12:00:00</th>\n",
       "      <td>80533</td>\n",
       "      <td>39.41%</td>\n",
       "      <td>afternoon</td>\n",
       "    </tr>\n",
       "    <tr>\n",
       "      <th>18:00:00</th>\n",
       "      <td>42620</td>\n",
       "      <td>20.86%</td>\n",
       "      <td>evening</td>\n",
       "    </tr>\n",
       "  </tbody>\n",
       "</table>\n",
       "</div>"
      ],
      "text/plain": [
       "          sales_count percentage   day_part\n",
       "Time                                       \n",
       "00:00:00        18306      8.96%      night\n",
       "06:00:00        62870     30.77%    morning\n",
       "12:00:00        80533     39.41%  afternoon\n",
       "18:00:00        42620     20.86%    evening"
      ]
     },
     "execution_count": 222,
     "metadata": {},
     "output_type": "execute_result"
    }
   ],
   "source": [
    "sales_daypart_df['percentage'] = (sales_daypart_df.sales_count / total_sales*100).map(\"{:.2f}%\".format)\n",
    "sales_daypart_df['day_part'] = ['night','morning', 'afternoon','evening']\n",
    "sales_daypart_df.rename_axis('Time')"
   ]
  }
 ],
 "metadata": {
  "kernelspec": {
   "display_name": "Python 3 (ipykernel)",
   "language": "python",
   "name": "python3"
  },
  "language_info": {
   "codemirror_mode": {
    "name": "ipython",
    "version": 3
   },
   "file_extension": ".py",
   "mimetype": "text/x-python",
   "name": "python",
   "nbconvert_exporter": "python",
   "pygments_lexer": "ipython3",
   "version": "3.9.12"
  }
 },
 "nbformat": 4,
 "nbformat_minor": 5
}
